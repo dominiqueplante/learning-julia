{
 "cells": [
  {
   "cell_type": "markdown",
   "metadata": {},
   "source": [
    "# Schelling’s Segregation Model\n",
    "(https://www.suz.uzh.ch/dam/jcr:00000000-68cb-72db-ffff-ffffff8071db/04.02_schelling_71.pdf)"
   ]
  },
  {
   "cell_type": "markdown",
   "metadata": {},
   "source": [
    "### Installing additional packages"
   ]
  },
  {
   "cell_type": "code",
   "execution_count": 1,
   "metadata": {},
   "outputs": [],
   "source": [
    "using Revise \n",
    "using Parameters, LinearAlgebra, Statistics, StatsPlots, DataFrames\n",
    "using StatsBase: sample, countmap\n",
    "using DataStructures: OrderedDict"
   ]
  },
  {
   "cell_type": "markdown",
   "metadata": {},
   "source": [
    "ArgumentError: Package `Revise` not found in current path:\n",
    "- Run `import Pkg; Pkg.add(\"Revise\")` to install the absd package;\n",
    "- Or go into the package manager in the REPL by typing `]` and adding the package with `add Revise`"
   ]
  },
  {
   "cell_type": "markdown",
   "metadata": {},
   "source": [
    "## Linear Model\n",
    "### Setup\n",
    "- Agents\n",
    "    - kind of agent (stars or circle)\n",
    "    - location\n",
    "    - preferences (conditions which agent is satisfied)\n",
    "    \n",
    "- Neighborhood\n",
    "    - Agents\n",
    "    - location\n",
    "    - size"
   ]
  },
  {
   "cell_type": "markdown",
   "metadata": {},
   "source": [
    "### Struct\n",
    "Structs are basically a collection of named fields - we can use them to define a collection of interest  \n",
    "The `@Base.kwdef` macro allows us to use keywords to define the struct"
   ]
  },
  {
   "cell_type": "code",
   "execution_count": 2,
   "metadata": {},
   "outputs": [],
   "source": [
    "mutable struct Agent\n",
    "   id\n",
    "   kind\n",
    "   location\n",
    "   neighborhood_size   # Max neighborhood distance to consider to determine share preference\n",
    "   preference          # Preference ratio for the Agent to be happy\n",
    "end"
   ]
  },
  {
   "cell_type": "code",
   "execution_count": 3,
   "metadata": {},
   "outputs": [
    {
     "data": {
      "text/plain": [
       "Neighborhood"
      ]
     },
     "execution_count": 3,
     "metadata": {},
     "output_type": "execute_result"
    }
   ],
   "source": [
    "@Base.kwdef mutable struct Neighborhood\n",
    "   agents\n",
    "   locations\n",
    "   size\n",
    "end"
   ]
  },
  {
   "cell_type": "code",
   "execution_count": 4,
   "metadata": {},
   "outputs": [
    {
     "data": {
      "text/plain": [
       "Agent(2, \"Circle\", 3, 4, 0.5)"
      ]
     },
     "execution_count": 4,
     "metadata": {},
     "output_type": "execute_result"
    }
   ],
   "source": [
    "a1 = Agent(1, \"Stars\", 2, 4, 0.5)\n",
    "a2 = Agent(2, \"Circle\", 3, 4, 0.5)"
   ]
  },
  {
   "cell_type": "code",
   "execution_count": 5,
   "metadata": {},
   "outputs": [
    {
     "data": {
      "text/plain": [
       "Neighborhood(Agent[Agent(1, \"Stars\", 2, 4, 0.5), Agent(2, \"Circle\", 3, 4, 0.5)], Dict{Agent,Int64}(Agent(1, \"Stars\", 2, 4, 0.5) => 2,Agent(2, \"Circle\", 3, 4, 0.5) => 3), 2)"
      ]
     },
     "execution_count": 5,
     "metadata": {},
     "output_type": "execute_result"
    }
   ],
   "source": [
    "nh1 = Neighborhood(agents=[a1, a2], locations=Dict(a1 => 2, a2 => 3), size=2)"
   ]
  },
  {
   "cell_type": "code",
   "execution_count": 6,
   "metadata": {},
   "outputs": [
    {
     "data": {
      "text/plain": [
       "init_neighborhood"
      ]
     },
     "execution_count": 6,
     "metadata": {},
     "output_type": "execute_result"
    }
   ],
   "source": [
    "# Docstring in Julia is written above the function as shown below\n",
    "\n",
    "\"Initializes the neigbourhood by mapping a dictionary of agent types to population size.\"\n",
    "function init_neighborhood(population_dict, neighborhood_size, preference)\n",
    "    \n",
    "    # Pipe operator |>, equivalent to: sum(collect(values(agent_number)))\n",
    "    # Similar to R's %>%\n",
    "    n = population_dict |> values |> collect |> sum \n",
    "    location_dict = Dict()\n",
    "\n",
    "    # Create a list of agents\n",
    "    pos = sample(1:n, n, replace=false)\n",
    "    agents = []\n",
    "    counter = 0\n",
    "    for (key, value) in population_dict\n",
    "        for i in 1:value\n",
    "            id = i + counter\n",
    "            new_agent = Agent(id, key, pos[id], neighborhood_size, preference)\n",
    "            \n",
    "            # Julia has a convention where functions ending with ! modifies their arguments\n",
    "            # In this case we are inserting a new_agent into the agents list\n",
    "            push!(agents, new_agent) \n",
    "            location_dict[pos[id]] = new_agent\n",
    "        end\n",
    "        counter += value\n",
    "    end\n",
    "    return Neighborhood(agents=agents, locations=location_dict, size=n)\n",
    "end"
   ]
  },
  {
   "cell_type": "markdown",
   "metadata": {},
   "source": [
    "### Need help?\n",
    "Use the '?' sign to get information about a function or an object. Similar to R"
   ]
  },
  {
   "cell_type": "code",
   "execution_count": 7,
   "metadata": {},
   "outputs": [
    {
     "name": "stdout",
     "output_type": "stream",
     "text": [
      "search: \u001b[0m\u001b[1mi\u001b[22m\u001b[0m\u001b[1mn\u001b[22m\u001b[0m\u001b[1mi\u001b[22m\u001b[0m\u001b[1mt\u001b[22m\u001b[0m\u001b[1m_\u001b[22m\u001b[0m\u001b[1mn\u001b[22m\u001b[0m\u001b[1me\u001b[22m\u001b[0m\u001b[1mi\u001b[22m\u001b[0m\u001b[1mg\u001b[22m\u001b[0m\u001b[1mh\u001b[22m\u001b[0m\u001b[1mb\u001b[22m\u001b[0m\u001b[1mo\u001b[22m\u001b[0m\u001b[1mr\u001b[22m\u001b[0m\u001b[1mh\u001b[22m\u001b[0m\u001b[1mo\u001b[22m\u001b[0m\u001b[1mo\u001b[22m\u001b[0m\u001b[1md\u001b[22m\n",
      "\n"
     ]
    },
    {
     "data": {
      "text/latex": [
       "Initializes the neigbourhood by mapping a dictionary of agent types to population size.\n",
       "\n"
      ],
      "text/markdown": [
       "Initializes the neigbourhood by mapping a dictionary of agent types to population size.\n"
      ],
      "text/plain": [
       "  Initializes the neigbourhood by mapping a dictionary of agent types to\n",
       "  population size."
      ]
     },
     "execution_count": 7,
     "metadata": {},
     "output_type": "execute_result"
    }
   ],
   "source": [
    "?init_neighborhood"
   ]
  },
  {
   "cell_type": "code",
   "execution_count": 8,
   "metadata": {},
   "outputs": [
    {
     "name": "stdout",
     "output_type": "stream",
     "text": [
      "search:\n",
      "\n"
     ]
    },
    {
     "data": {
      "text/latex": [
       "\\begin{verbatim}\n",
       "countmap(x; alg = :auto)\n",
       "\\end{verbatim}\n",
       "Return a dictionary mapping each unique value in \\texttt{x} to its number of occurrences.\n",
       "\n",
       "\\begin{itemize}\n",
       "\\item \\texttt{:auto} (default): if \\texttt{StatsBase.radixsort\\_safe(eltype(x)) == true} then use                    \\texttt{:radixsort}, otherwise use \\texttt{:dict}.\n",
       "\n",
       "\n",
       "\\item \\texttt{:radixsort}:      if \\texttt{radixsort\\_safe(eltype(x)) == true} then use the                    \\href{https://en.wikipedia.org/wiki/Radix_sort}{radix sort}                    algorithm to sort the input vector which will generally lead to                    shorter running time. However the radix sort algorithm creates a                    copy of the input vector and hence uses more RAM. Choose \\texttt{:dict}                    if the amount of available RAM is a limitation.\n",
       "\n",
       "\n",
       "\\item \\texttt{:dict}:           use \\texttt{Dict}-based method which is generally slower but uses less                    RAM and is safe for any data type.\n",
       "\n",
       "\\end{itemize}\n"
      ],
      "text/markdown": [
       "```\n",
       "countmap(x; alg = :auto)\n",
       "```\n",
       "\n",
       "Return a dictionary mapping each unique value in `x` to its number of occurrences.\n",
       "\n",
       "  * `:auto` (default): if `StatsBase.radixsort_safe(eltype(x)) == true` then use                    `:radixsort`, otherwise use `:dict`.\n",
       "  * `:radixsort`:      if `radixsort_safe(eltype(x)) == true` then use the                    [radix sort](https://en.wikipedia.org/wiki/Radix_sort)                    algorithm to sort the input vector which will generally lead to                    shorter running time. However the radix sort algorithm creates a                    copy of the input vector and hence uses more RAM. Choose `:dict`                    if the amount of available RAM is a limitation.\n",
       "  * `:dict`:           use `Dict`-based method which is generally slower but uses less                    RAM and is safe for any data type.\n"
      ],
      "text/plain": [
       "\u001b[36m  countmap(x; alg = :auto)\u001b[39m\n",
       "\n",
       "  Return a dictionary mapping each unique value in \u001b[36mx\u001b[39m to its number of\n",
       "  occurrences.\n",
       "\n",
       "    •    \u001b[36m:auto\u001b[39m (default): if \u001b[36mStatsBase.radixsort_safe(eltype(x)) == true\u001b[39m\n",
       "        then use \u001b[36m:radixsort\u001b[39m, otherwise use \u001b[36m:dict\u001b[39m.\n",
       "\n",
       "    •    \u001b[36m:radixsort\u001b[39m: if \u001b[36mradixsort_safe(eltype(x)) == true\u001b[39m then use the\n",
       "        radix sort (https://en.wikipedia.org/wiki/Radix_sort) algorithm to\n",
       "        sort the input vector which will generally lead to shorter running\n",
       "        time. However the radix sort algorithm creates a copy of the input\n",
       "        vector and hence uses more RAM. Choose \u001b[36m:dict\u001b[39m if the amount of\n",
       "        available RAM is a limitation.\n",
       "\n",
       "    •    \u001b[36m:dict\u001b[39m: use \u001b[36mDict\u001b[39m-based method which is generally slower but uses\n",
       "        less RAM and is safe for any data type."
      ]
     },
     "execution_count": 8,
     "metadata": {},
     "output_type": "execute_result"
    }
   ],
   "source": [
    "?countmap"
   ]
  },
  {
   "cell_type": "code",
   "execution_count": 9,
   "metadata": {},
   "outputs": [
    {
     "data": {
      "text/plain": [
       "Neighborhood(Any[Agent(1, \"Stars\", 3, 4, 0.5), Agent(2, \"Stars\", 4, 4, 0.5), Agent(3, \"Circle\", 1, 4, 0.5), Agent(4, \"Circle\", 2, 4, 0.5)], Dict{Any,Any}(4 => Agent(2, \"Stars\", 4, 4, 0.5),2 => Agent(4, \"Circle\", 2, 4, 0.5),3 => Agent(1, \"Stars\", 3, 4, 0.5),1 => Agent(3, \"Circle\", 1, 4, 0.5)), 4)"
      ]
     },
     "execution_count": 9,
     "metadata": {},
     "output_type": "execute_result"
    }
   ],
   "source": [
    "population_dict = Dict(\"Stars\"=>2, \"Circle\"=>2)\n",
    "nh = init_neighborhood(population_dict, 4, 0.5)"
   ]
  },
  {
   "cell_type": "code",
   "execution_count": 10,
   "metadata": {},
   "outputs": [],
   "source": [
    "# Suppress output with the semicolon;\n",
    "nh = init_neighborhood(Dict(\"Stars\"=>35, \"Circle\"=>35), 4, 0.5);"
   ]
  },
  {
   "cell_type": "markdown",
   "metadata": {},
   "source": [
    "### Iteration steps\n",
    "1) Mark out unhappy actors  \n",
    "2) Use rule to decide how they move  \n",
    "3) Move agents  \n",
    "4) Repeat till everyone is happy / system converged"
   ]
  },
  {
   "cell_type": "markdown",
   "metadata": {},
   "source": [
    "__Schelling's rules__  \n",
    "- Wants at least half of the neighbors to be of same type\n",
    "- Dissatisfied member move to the nearest point which he is satisfied"
   ]
  },
  {
   "cell_type": "code",
   "execution_count": 11,
   "metadata": {},
   "outputs": [
    {
     "data": {
      "text/plain": [
       "is_happy (generic function with 1 method)"
      ]
     },
     "execution_count": 11,
     "metadata": {},
     "output_type": "execute_result"
    }
   ],
   "source": [
    "function is_happy(nh, agent_id)\n",
    "    a = nh.agents[agent_id]\n",
    "    neighbors = [\n",
    "      [nh.locations[i] for i in max(a.location - a.neighborhood_size, 1):a.location-1];\n",
    "      [nh.locations[i] for i in a.location+1:min(a.location + a.neighborhood_size, nh.size)]\n",
    "    ]\n",
    "    neighbors_kind = [a.kind for a in neighbors]\n",
    "    cmap = countmap(neighbors_kind)\n",
    "    share = get(cmap, a.kind, 0) / length(neighbors)  # If key does not exist, there are 0 of its kind\n",
    "    return share ≥ a.preference\n",
    "end"
   ]
  },
  {
   "cell_type": "code",
   "execution_count": 12,
   "metadata": {},
   "outputs": [
    {
     "name": "stdout",
     "output_type": "stream",
     "text": [
      "a = nh.locations[2] = Agent(35, \"Stars\", 2, 4, 0.5)\n"
     ]
    },
    {
     "data": {
      "text/plain": [
       "false"
      ]
     },
     "execution_count": 12,
     "metadata": {},
     "output_type": "execute_result"
    }
   ],
   "source": [
    "@show a = nh.locations[2]\n",
    "is_happy(nh, a.id)"
   ]
  },
  {
   "cell_type": "markdown",
   "metadata": {},
   "source": [
    "### Visualizing the neighborhood \n",
    "StatsPlots should already contain the requirements for Plots, otherwise: Pkg.add(\"Plots\")\n",
    "\n",
    "In the plot neighborhood function below, we see 3 interesting syntax of Julia:\n",
    "1. Python style list comprehensions\n",
    "2. Ternary operators like R or Javascript `a.kind == \"Circle\" ? :circle : :star` \n",
    "3. functions! - nothing special, just a Julia convention to denote functions which modifies their arguments\n",
    "4. Annonymous functions as concise as Javascript arrow syntax: `x->x[1]`\n",
    "5. Symbols e.g. `:circle` or `:orange` which are 'special' strings that can be evaluated to values bound to it. See https://stackoverflow.com/questions/23480722/what-is-a-symbol-in-julia"
   ]
  },
  {
   "cell_type": "code",
   "execution_count": 13,
   "metadata": {},
   "outputs": [
    {
     "data": {
      "text/plain": [
       "plot_nh (generic function with 1 method)"
      ]
     },
     "execution_count": 13,
     "metadata": {},
     "output_type": "execute_result"
    }
   ],
   "source": [
    "function plot_nh(nh)\n",
    "    ordered_loc = sort!(OrderedDict(nh.locations), by=x->x[1])\n",
    "    m = [a.kind == \"Circle\" ? :circle : :star for a in values(ordered_loc)]\n",
    "    c = [is_happy(nh, a.id) ? :lightblue : :orange for a in values(ordered_loc)]\n",
    "    scatter(1:nh.size, ones(nh.size), color=c, m=m, markersize=6,\n",
    "        axis=false, grid=false, ylimit=[0.8,1.2], legend=false, size=(1000,100))\n",
    "end"
   ]
  },
  {
   "cell_type": "code",
   "execution_count": 14,
   "metadata": {},
   "outputs": [
    {
     "data": {
      "image/svg+xml": [
       "<?xml version=\"1.0\" encoding=\"utf-8\"?>\n",
       "<svg xmlns=\"http://www.w3.org/2000/svg\" xmlns:xlink=\"http://www.w3.org/1999/xlink\" width=\"1000\" height=\"100\" viewBox=\"0 0 4000 400\">\n",
       "<defs>\n",
       "  <clipPath id=\"clip310\">\n",
       "    <rect x=\"0\" y=\"0\" width=\"4000\" height=\"400\"/>\n",
       "  </clipPath>\n",
       "</defs>\n",
       "<path clip-path=\"url(#clip310)\" d=\"\n",
       "M0 400 L4000 400 L4000 0 L0 0  Z\n",
       "  \" fill=\"#ffffff\" fill-rule=\"evenodd\" fill-opacity=\"1\"/>\n",
       "<defs>\n",
       "  <clipPath id=\"clip311\">\n",
       "    <rect x=\"800\" y=\"0\" width=\"2801\" height=\"400\"/>\n",
       "  </clipPath>\n",
       "</defs>\n",
       "<path clip-path=\"url(#clip310)\" d=\"\n",
       "M163.756 327.824 L3952.76 327.824 L3952.76 47.2441 L163.756 47.2441  Z\n",
       "  \" fill=\"#ffffff\" fill-rule=\"evenodd\" fill-opacity=\"1\"/>\n",
       "<defs>\n",
       "  <clipPath id=\"clip312\">\n",
       "    <rect x=\"163\" y=\"47\" width=\"3790\" height=\"282\"/>\n",
       "  </clipPath>\n",
       "</defs>\n",
       "<circle clip-path=\"url(#clip312)\" cx=\"270.992\" cy=\"187.534\" r=\"21\" fill=\"#add8e6\" fill-rule=\"evenodd\" fill-opacity=\"1\" stroke=\"#000000\" stroke-opacity=\"1\" stroke-width=\"0.8\"/>\n",
       "<path clip-path=\"url(#clip312)\" d=\"M322.796 163.534 L317.156 179.758 L299.972 180.118 L313.676 190.51 L308.684 206.95 L322.796 197.134 L336.908 206.95 L331.916 190.51 L345.62 180.118 L328.436 179.758 L322.796 163.534 Z\" fill=\"#ffa500\" fill-rule=\"evenodd\" fill-opacity=\"1\" stroke=\"#000000\" stroke-opacity=\"1\" stroke-width=\"0.8\"/>\n",
       "<circle clip-path=\"url(#clip312)\" cx=\"374.601\" cy=\"187.534\" r=\"21\" fill=\"#ffa500\" fill-rule=\"evenodd\" fill-opacity=\"1\" stroke=\"#000000\" stroke-opacity=\"1\" stroke-width=\"0.8\"/>\n",
       "<path clip-path=\"url(#clip312)\" d=\"M426.406 163.534 L420.766 179.758 L403.582 180.118 L417.286 190.51 L412.294 206.95 L426.406 197.134 L440.518 206.95 L435.526 190.51 L449.23 180.118 L432.046 179.758 L426.406 163.534 Z\" fill=\"#ffa500\" fill-rule=\"evenodd\" fill-opacity=\"1\" stroke=\"#000000\" stroke-opacity=\"1\" stroke-width=\"0.8\"/>\n",
       "<circle clip-path=\"url(#clip312)\" cx=\"478.211\" cy=\"187.534\" r=\"21\" fill=\"#add8e6\" fill-rule=\"evenodd\" fill-opacity=\"1\" stroke=\"#000000\" stroke-opacity=\"1\" stroke-width=\"0.8\"/>\n",
       "<path clip-path=\"url(#clip312)\" d=\"M530.015 163.534 L524.375 179.758 L507.191 180.118 L520.895 190.51 L515.903 206.95 L530.015 197.134 L544.127 206.95 L539.135 190.51 L552.839 180.118 L535.655 179.758 L530.015 163.534 Z\" fill=\"#ffa500\" fill-rule=\"evenodd\" fill-opacity=\"1\" stroke=\"#000000\" stroke-opacity=\"1\" stroke-width=\"0.8\"/>\n",
       "<path clip-path=\"url(#clip312)\" d=\"M581.82 163.534 L576.18 179.758 L558.996 180.118 L572.7 190.51 L567.708 206.95 L581.82 197.134 L595.932 206.95 L590.94 190.51 L604.644 180.118 L587.46 179.758 L581.82 163.534 Z\" fill=\"#ffa500\" fill-rule=\"evenodd\" fill-opacity=\"1\" stroke=\"#000000\" stroke-opacity=\"1\" stroke-width=\"0.8\"/>\n",
       "<circle clip-path=\"url(#clip312)\" cx=\"633.625\" cy=\"187.534\" r=\"21\" fill=\"#add8e6\" fill-rule=\"evenodd\" fill-opacity=\"1\" stroke=\"#000000\" stroke-opacity=\"1\" stroke-width=\"0.8\"/>\n",
       "<circle clip-path=\"url(#clip312)\" cx=\"685.43\" cy=\"187.534\" r=\"21\" fill=\"#add8e6\" fill-rule=\"evenodd\" fill-opacity=\"1\" stroke=\"#000000\" stroke-opacity=\"1\" stroke-width=\"0.8\"/>\n",
       "<circle clip-path=\"url(#clip312)\" cx=\"737.234\" cy=\"187.534\" r=\"21\" fill=\"#add8e6\" fill-rule=\"evenodd\" fill-opacity=\"1\" stroke=\"#000000\" stroke-opacity=\"1\" stroke-width=\"0.8\"/>\n",
       "<circle clip-path=\"url(#clip312)\" cx=\"789.039\" cy=\"187.534\" r=\"21\" fill=\"#add8e6\" fill-rule=\"evenodd\" fill-opacity=\"1\" stroke=\"#000000\" stroke-opacity=\"1\" stroke-width=\"0.8\"/>\n",
       "<path clip-path=\"url(#clip312)\" d=\"M840.844 163.534 L835.204 179.758 L818.02 180.118 L831.724 190.51 L826.732 206.95 L840.844 197.134 L854.956 206.95 L849.964 190.51 L863.668 180.118 L846.484 179.758 L840.844 163.534 Z\" fill=\"#ffa500\" fill-rule=\"evenodd\" fill-opacity=\"1\" stroke=\"#000000\" stroke-opacity=\"1\" stroke-width=\"0.8\"/>\n",
       "<circle clip-path=\"url(#clip312)\" cx=\"892.649\" cy=\"187.534\" r=\"21\" fill=\"#add8e6\" fill-rule=\"evenodd\" fill-opacity=\"1\" stroke=\"#000000\" stroke-opacity=\"1\" stroke-width=\"0.8\"/>\n",
       "<path clip-path=\"url(#clip312)\" d=\"M944.453 163.534 L938.813 179.758 L921.629 180.118 L935.333 190.51 L930.341 206.95 L944.453 197.134 L958.565 206.95 L953.573 190.51 L967.277 180.118 L950.093 179.758 L944.453 163.534 Z\" fill=\"#ffa500\" fill-rule=\"evenodd\" fill-opacity=\"1\" stroke=\"#000000\" stroke-opacity=\"1\" stroke-width=\"0.8\"/>\n",
       "<circle clip-path=\"url(#clip312)\" cx=\"996.258\" cy=\"187.534\" r=\"21\" fill=\"#add8e6\" fill-rule=\"evenodd\" fill-opacity=\"1\" stroke=\"#000000\" stroke-opacity=\"1\" stroke-width=\"0.8\"/>\n",
       "<circle clip-path=\"url(#clip312)\" cx=\"1048.06\" cy=\"187.534\" r=\"21\" fill=\"#add8e6\" fill-rule=\"evenodd\" fill-opacity=\"1\" stroke=\"#000000\" stroke-opacity=\"1\" stroke-width=\"0.8\"/>\n",
       "<circle clip-path=\"url(#clip312)\" cx=\"1099.87\" cy=\"187.534\" r=\"21\" fill=\"#add8e6\" fill-rule=\"evenodd\" fill-opacity=\"1\" stroke=\"#000000\" stroke-opacity=\"1\" stroke-width=\"0.8\"/>\n",
       "<path clip-path=\"url(#clip312)\" d=\"M1151.67 163.534 L1146.03 179.758 L1128.85 180.118 L1142.55 190.51 L1137.56 206.95 L1151.67 197.134 L1165.78 206.95 L1160.79 190.51 L1174.5 180.118 L1157.31 179.758 L1151.67 163.534 Z\" fill=\"#ffa500\" fill-rule=\"evenodd\" fill-opacity=\"1\" stroke=\"#000000\" stroke-opacity=\"1\" stroke-width=\"0.8\"/>\n",
       "<circle clip-path=\"url(#clip312)\" cx=\"1203.48\" cy=\"187.534\" r=\"21\" fill=\"#add8e6\" fill-rule=\"evenodd\" fill-opacity=\"1\" stroke=\"#000000\" stroke-opacity=\"1\" stroke-width=\"0.8\"/>\n",
       "<path clip-path=\"url(#clip312)\" d=\"M1255.28 163.534 L1249.64 179.758 L1232.46 180.118 L1246.16 190.51 L1241.17 206.95 L1255.28 197.134 L1269.39 206.95 L1264.4 190.51 L1278.11 180.118 L1260.92 179.758 L1255.28 163.534 Z\" fill=\"#ffa500\" fill-rule=\"evenodd\" fill-opacity=\"1\" stroke=\"#000000\" stroke-opacity=\"1\" stroke-width=\"0.8\"/>\n",
       "<circle clip-path=\"url(#clip312)\" cx=\"1307.09\" cy=\"187.534\" r=\"21\" fill=\"#add8e6\" fill-rule=\"evenodd\" fill-opacity=\"1\" stroke=\"#000000\" stroke-opacity=\"1\" stroke-width=\"0.8\"/>\n",
       "<path clip-path=\"url(#clip312)\" d=\"M1358.89 163.534 L1353.25 179.758 L1336.07 180.118 L1349.77 190.51 L1344.78 206.95 L1358.89 197.134 L1373 206.95 L1368.01 190.51 L1381.72 180.118 L1364.53 179.758 L1358.89 163.534 Z\" fill=\"#add8e6\" fill-rule=\"evenodd\" fill-opacity=\"1\" stroke=\"#000000\" stroke-opacity=\"1\" stroke-width=\"0.8\"/>\n",
       "<path clip-path=\"url(#clip312)\" d=\"M1410.7 163.534 L1405.06 179.758 L1387.87 180.118 L1401.58 190.51 L1396.58 206.95 L1410.7 197.134 L1424.81 206.95 L1419.82 190.51 L1433.52 180.118 L1416.34 179.758 L1410.7 163.534 Z\" fill=\"#add8e6\" fill-rule=\"evenodd\" fill-opacity=\"1\" stroke=\"#000000\" stroke-opacity=\"1\" stroke-width=\"0.8\"/>\n",
       "<circle clip-path=\"url(#clip312)\" cx=\"1462.5\" cy=\"187.534\" r=\"21\" fill=\"#ffa500\" fill-rule=\"evenodd\" fill-opacity=\"1\" stroke=\"#000000\" stroke-opacity=\"1\" stroke-width=\"0.8\"/>\n",
       "<circle clip-path=\"url(#clip312)\" cx=\"1514.31\" cy=\"187.534\" r=\"21\" fill=\"#ffa500\" fill-rule=\"evenodd\" fill-opacity=\"1\" stroke=\"#000000\" stroke-opacity=\"1\" stroke-width=\"0.8\"/>\n",
       "<path clip-path=\"url(#clip312)\" d=\"M1566.11 163.534 L1560.47 179.758 L1543.29 180.118 L1556.99 190.51 L1552 206.95 L1566.11 197.134 L1580.22 206.95 L1575.23 190.51 L1588.93 180.118 L1571.75 179.758 L1566.11 163.534 Z\" fill=\"#add8e6\" fill-rule=\"evenodd\" fill-opacity=\"1\" stroke=\"#000000\" stroke-opacity=\"1\" stroke-width=\"0.8\"/>\n",
       "<path clip-path=\"url(#clip312)\" d=\"M1617.92 163.534 L1612.28 179.758 L1595.09 180.118 L1608.8 190.51 L1603.8 206.95 L1617.92 197.134 L1632.03 206.95 L1627.04 190.51 L1640.74 180.118 L1623.56 179.758 L1617.92 163.534 Z\" fill=\"#add8e6\" fill-rule=\"evenodd\" fill-opacity=\"1\" stroke=\"#000000\" stroke-opacity=\"1\" stroke-width=\"0.8\"/>\n",
       "<circle clip-path=\"url(#clip312)\" cx=\"1669.72\" cy=\"187.534\" r=\"21\" fill=\"#ffa500\" fill-rule=\"evenodd\" fill-opacity=\"1\" stroke=\"#000000\" stroke-opacity=\"1\" stroke-width=\"0.8\"/>\n",
       "<path clip-path=\"url(#clip312)\" d=\"M1721.52 163.534 L1715.88 179.758 L1698.7 180.118 L1712.4 190.51 L1707.41 206.95 L1721.52 197.134 L1735.64 206.95 L1730.64 190.51 L1744.35 180.118 L1727.16 179.758 L1721.52 163.534 Z\" fill=\"#add8e6\" fill-rule=\"evenodd\" fill-opacity=\"1\" stroke=\"#000000\" stroke-opacity=\"1\" stroke-width=\"0.8\"/>\n",
       "<path clip-path=\"url(#clip312)\" d=\"M1773.33 163.534 L1767.69 179.758 L1750.51 180.118 L1764.21 190.51 L1759.22 206.95 L1773.33 197.134 L1787.44 206.95 L1782.45 190.51 L1796.15 180.118 L1778.97 179.758 L1773.33 163.534 Z\" fill=\"#add8e6\" fill-rule=\"evenodd\" fill-opacity=\"1\" stroke=\"#000000\" stroke-opacity=\"1\" stroke-width=\"0.8\"/>\n",
       "<circle clip-path=\"url(#clip312)\" cx=\"1825.13\" cy=\"187.534\" r=\"21\" fill=\"#ffa500\" fill-rule=\"evenodd\" fill-opacity=\"1\" stroke=\"#000000\" stroke-opacity=\"1\" stroke-width=\"0.8\"/>\n",
       "<path clip-path=\"url(#clip312)\" d=\"M1876.94 163.534 L1871.3 179.758 L1854.12 180.118 L1867.82 190.51 L1862.83 206.95 L1876.94 197.134 L1891.05 206.95 L1886.06 190.51 L1899.76 180.118 L1882.58 179.758 L1876.94 163.534 Z\" fill=\"#add8e6\" fill-rule=\"evenodd\" fill-opacity=\"1\" stroke=\"#000000\" stroke-opacity=\"1\" stroke-width=\"0.8\"/>\n",
       "<path clip-path=\"url(#clip312)\" d=\"M1928.74 163.534 L1923.1 179.758 L1905.92 180.118 L1919.62 190.51 L1914.63 206.95 L1928.74 197.134 L1942.86 206.95 L1937.86 190.51 L1951.57 180.118 L1934.38 179.758 L1928.74 163.534 Z\" fill=\"#add8e6\" fill-rule=\"evenodd\" fill-opacity=\"1\" stroke=\"#000000\" stroke-opacity=\"1\" stroke-width=\"0.8\"/>\n",
       "<path clip-path=\"url(#clip312)\" d=\"M1980.55 163.534 L1974.91 179.758 L1957.72 180.118 L1971.43 190.51 L1966.44 206.95 L1980.55 197.134 L1994.66 206.95 L1989.67 190.51 L2003.37 180.118 L1986.19 179.758 L1980.55 163.534 Z\" fill=\"#add8e6\" fill-rule=\"evenodd\" fill-opacity=\"1\" stroke=\"#000000\" stroke-opacity=\"1\" stroke-width=\"0.8\"/>\n",
       "<circle clip-path=\"url(#clip312)\" cx=\"2032.35\" cy=\"187.534\" r=\"21\" fill=\"#ffa500\" fill-rule=\"evenodd\" fill-opacity=\"1\" stroke=\"#000000\" stroke-opacity=\"1\" stroke-width=\"0.8\"/>\n",
       "<path clip-path=\"url(#clip312)\" d=\"M2084.16 163.534 L2078.52 179.758 L2061.33 180.118 L2075.04 190.51 L2070.05 206.95 L2084.16 197.134 L2098.27 206.95 L2093.28 190.51 L2106.98 180.118 L2089.8 179.758 L2084.16 163.534 Z\" fill=\"#add8e6\" fill-rule=\"evenodd\" fill-opacity=\"1\" stroke=\"#000000\" stroke-opacity=\"1\" stroke-width=\"0.8\"/>\n",
       "<path clip-path=\"url(#clip312)\" d=\"M2135.96 163.534 L2130.32 179.758 L2113.14 180.118 L2126.84 190.51 L2121.85 206.95 L2135.96 197.134 L2150.07 206.95 L2145.08 190.51 L2158.79 180.118 L2141.6 179.758 L2135.96 163.534 Z\" fill=\"#add8e6\" fill-rule=\"evenodd\" fill-opacity=\"1\" stroke=\"#000000\" stroke-opacity=\"1\" stroke-width=\"0.8\"/>\n",
       "<path clip-path=\"url(#clip312)\" d=\"M2187.77 163.534 L2182.13 179.758 L2164.94 180.118 L2178.65 190.51 L2173.66 206.95 L2187.77 197.134 L2201.88 206.95 L2196.89 190.51 L2210.59 180.118 L2193.41 179.758 L2187.77 163.534 Z\" fill=\"#add8e6\" fill-rule=\"evenodd\" fill-opacity=\"1\" stroke=\"#000000\" stroke-opacity=\"1\" stroke-width=\"0.8\"/>\n",
       "<path clip-path=\"url(#clip312)\" d=\"M2239.57 163.534 L2233.93 179.758 L2216.75 180.118 L2230.45 190.51 L2225.46 206.95 L2239.57 197.134 L2253.68 206.95 L2248.69 190.51 L2262.4 180.118 L2245.21 179.758 L2239.57 163.534 Z\" fill=\"#add8e6\" fill-rule=\"evenodd\" fill-opacity=\"1\" stroke=\"#000000\" stroke-opacity=\"1\" stroke-width=\"0.8\"/>\n",
       "<path clip-path=\"url(#clip312)\" d=\"M2291.38 163.534 L2285.74 179.758 L2268.55 180.118 L2282.26 190.51 L2277.27 206.95 L2291.38 197.134 L2305.49 206.95 L2300.5 190.51 L2314.2 180.118 L2297.02 179.758 L2291.38 163.534 Z\" fill=\"#add8e6\" fill-rule=\"evenodd\" fill-opacity=\"1\" stroke=\"#000000\" stroke-opacity=\"1\" stroke-width=\"0.8\"/>\n",
       "<path clip-path=\"url(#clip312)\" d=\"M2343.18 163.534 L2337.54 179.758 L2320.36 180.118 L2334.06 190.51 L2329.07 206.95 L2343.18 197.134 L2357.29 206.95 L2352.3 190.51 L2366.01 180.118 L2348.82 179.758 L2343.18 163.534 Z\" fill=\"#add8e6\" fill-rule=\"evenodd\" fill-opacity=\"1\" stroke=\"#000000\" stroke-opacity=\"1\" stroke-width=\"0.8\"/>\n",
       "<circle clip-path=\"url(#clip312)\" cx=\"2394.99\" cy=\"187.534\" r=\"21\" fill=\"#add8e6\" fill-rule=\"evenodd\" fill-opacity=\"1\" stroke=\"#000000\" stroke-opacity=\"1\" stroke-width=\"0.8\"/>\n",
       "<circle clip-path=\"url(#clip312)\" cx=\"2446.79\" cy=\"187.534\" r=\"21\" fill=\"#add8e6\" fill-rule=\"evenodd\" fill-opacity=\"1\" stroke=\"#000000\" stroke-opacity=\"1\" stroke-width=\"0.8\"/>\n",
       "<circle clip-path=\"url(#clip312)\" cx=\"2498.6\" cy=\"187.534\" r=\"21\" fill=\"#add8e6\" fill-rule=\"evenodd\" fill-opacity=\"1\" stroke=\"#000000\" stroke-opacity=\"1\" stroke-width=\"0.8\"/>\n",
       "<circle clip-path=\"url(#clip312)\" cx=\"2550.4\" cy=\"187.534\" r=\"21\" fill=\"#add8e6\" fill-rule=\"evenodd\" fill-opacity=\"1\" stroke=\"#000000\" stroke-opacity=\"1\" stroke-width=\"0.8\"/>\n",
       "<circle clip-path=\"url(#clip312)\" cx=\"2602.21\" cy=\"187.534\" r=\"21\" fill=\"#add8e6\" fill-rule=\"evenodd\" fill-opacity=\"1\" stroke=\"#000000\" stroke-opacity=\"1\" stroke-width=\"0.8\"/>\n",
       "<path clip-path=\"url(#clip312)\" d=\"M2654.01 163.534 L2648.37 179.758 L2631.19 180.118 L2644.89 190.51 L2639.9 206.95 L2654.01 197.134 L2668.12 206.95 L2663.13 190.51 L2676.83 180.118 L2659.65 179.758 L2654.01 163.534 Z\" fill=\"#ffa500\" fill-rule=\"evenodd\" fill-opacity=\"1\" stroke=\"#000000\" stroke-opacity=\"1\" stroke-width=\"0.8\"/>\n",
       "<circle clip-path=\"url(#clip312)\" cx=\"2705.82\" cy=\"187.534\" r=\"21\" fill=\"#add8e6\" fill-rule=\"evenodd\" fill-opacity=\"1\" stroke=\"#000000\" stroke-opacity=\"1\" stroke-width=\"0.8\"/>\n",
       "<circle clip-path=\"url(#clip312)\" cx=\"2757.62\" cy=\"187.534\" r=\"21\" fill=\"#add8e6\" fill-rule=\"evenodd\" fill-opacity=\"1\" stroke=\"#000000\" stroke-opacity=\"1\" stroke-width=\"0.8\"/>\n",
       "<path clip-path=\"url(#clip312)\" d=\"M2809.42 163.534 L2803.78 179.758 L2786.6 180.118 L2800.3 190.51 L2795.31 206.95 L2809.42 197.134 L2823.54 206.95 L2818.54 190.51 L2832.25 180.118 L2815.06 179.758 L2809.42 163.534 Z\" fill=\"#add8e6\" fill-rule=\"evenodd\" fill-opacity=\"1\" stroke=\"#000000\" stroke-opacity=\"1\" stroke-width=\"0.8\"/>\n",
       "<path clip-path=\"url(#clip312)\" d=\"M2861.23 163.534 L2855.59 179.758 L2838.41 180.118 L2852.11 190.51 L2847.12 206.95 L2861.23 197.134 L2875.34 206.95 L2870.35 190.51 L2884.05 180.118 L2866.87 179.758 L2861.23 163.534 Z\" fill=\"#add8e6\" fill-rule=\"evenodd\" fill-opacity=\"1\" stroke=\"#000000\" stroke-opacity=\"1\" stroke-width=\"0.8\"/>\n",
       "<path clip-path=\"url(#clip312)\" d=\"M2913.03 163.534 L2907.39 179.758 L2890.21 180.118 L2903.91 190.51 L2898.92 206.95 L2913.03 197.134 L2927.15 206.95 L2922.15 190.51 L2935.86 180.118 L2918.67 179.758 L2913.03 163.534 Z\" fill=\"#add8e6\" fill-rule=\"evenodd\" fill-opacity=\"1\" stroke=\"#000000\" stroke-opacity=\"1\" stroke-width=\"0.8\"/>\n",
       "<circle clip-path=\"url(#clip312)\" cx=\"2964.84\" cy=\"187.534\" r=\"21\" fill=\"#ffa500\" fill-rule=\"evenodd\" fill-opacity=\"1\" stroke=\"#000000\" stroke-opacity=\"1\" stroke-width=\"0.8\"/>\n",
       "<path clip-path=\"url(#clip312)\" d=\"M3016.64 163.534 L3011 179.758 L2993.82 180.118 L3007.52 190.51 L3002.53 206.95 L3016.64 197.134 L3030.76 206.95 L3025.76 190.51 L3039.47 180.118 L3022.28 179.758 L3016.64 163.534 Z\" fill=\"#add8e6\" fill-rule=\"evenodd\" fill-opacity=\"1\" stroke=\"#000000\" stroke-opacity=\"1\" stroke-width=\"0.8\"/>\n",
       "<path clip-path=\"url(#clip312)\" d=\"M3068.45 163.534 L3062.81 179.758 L3045.62 180.118 L3059.33 190.51 L3054.34 206.95 L3068.45 197.134 L3082.56 206.95 L3077.57 190.51 L3091.27 180.118 L3074.09 179.758 L3068.45 163.534 Z\" fill=\"#add8e6\" fill-rule=\"evenodd\" fill-opacity=\"1\" stroke=\"#000000\" stroke-opacity=\"1\" stroke-width=\"0.8\"/>\n",
       "<path clip-path=\"url(#clip312)\" d=\"M3120.25 163.534 L3114.61 179.758 L3097.43 180.118 L3111.13 190.51 L3106.14 206.95 L3120.25 197.134 L3134.37 206.95 L3129.37 190.51 L3143.08 180.118 L3125.89 179.758 L3120.25 163.534 Z\" fill=\"#add8e6\" fill-rule=\"evenodd\" fill-opacity=\"1\" stroke=\"#000000\" stroke-opacity=\"1\" stroke-width=\"0.8\"/>\n",
       "<circle clip-path=\"url(#clip312)\" cx=\"3172.06\" cy=\"187.534\" r=\"21\" fill=\"#add8e6\" fill-rule=\"evenodd\" fill-opacity=\"1\" stroke=\"#000000\" stroke-opacity=\"1\" stroke-width=\"0.8\"/>\n",
       "<circle clip-path=\"url(#clip312)\" cx=\"3223.86\" cy=\"187.534\" r=\"21\" fill=\"#ffa500\" fill-rule=\"evenodd\" fill-opacity=\"1\" stroke=\"#000000\" stroke-opacity=\"1\" stroke-width=\"0.8\"/>\n",
       "<circle clip-path=\"url(#clip312)\" cx=\"3275.67\" cy=\"187.534\" r=\"21\" fill=\"#ffa500\" fill-rule=\"evenodd\" fill-opacity=\"1\" stroke=\"#000000\" stroke-opacity=\"1\" stroke-width=\"0.8\"/>\n",
       "<path clip-path=\"url(#clip312)\" d=\"M3327.47 163.534 L3321.83 179.758 L3304.65 180.118 L3318.35 190.51 L3313.36 206.95 L3327.47 197.134 L3341.58 206.95 L3336.59 190.51 L3350.3 180.118 L3333.11 179.758 L3327.47 163.534 Z\" fill=\"#ffa500\" fill-rule=\"evenodd\" fill-opacity=\"1\" stroke=\"#000000\" stroke-opacity=\"1\" stroke-width=\"0.8\"/>\n",
       "<circle clip-path=\"url(#clip312)\" cx=\"3379.28\" cy=\"187.534\" r=\"21\" fill=\"#add8e6\" fill-rule=\"evenodd\" fill-opacity=\"1\" stroke=\"#000000\" stroke-opacity=\"1\" stroke-width=\"0.8\"/>\n",
       "<path clip-path=\"url(#clip312)\" d=\"M3431.08 163.534 L3425.44 179.758 L3408.26 180.118 L3421.96 190.51 L3416.97 206.95 L3431.08 197.134 L3445.19 206.95 L3440.2 190.51 L3453.91 180.118 L3436.72 179.758 L3431.08 163.534 Z\" fill=\"#ffa500\" fill-rule=\"evenodd\" fill-opacity=\"1\" stroke=\"#000000\" stroke-opacity=\"1\" stroke-width=\"0.8\"/>\n",
       "<path clip-path=\"url(#clip312)\" d=\"M3482.89 163.534 L3477.25 179.758 L3460.06 180.118 L3473.77 190.51 L3468.77 206.95 L3482.89 197.134 L3497 206.95 L3492.01 190.51 L3505.71 180.118 L3488.53 179.758 L3482.89 163.534 Z\" fill=\"#ffa500\" fill-rule=\"evenodd\" fill-opacity=\"1\" stroke=\"#000000\" stroke-opacity=\"1\" stroke-width=\"0.8\"/>\n",
       "<circle clip-path=\"url(#clip312)\" cx=\"3534.69\" cy=\"187.534\" r=\"21\" fill=\"#add8e6\" fill-rule=\"evenodd\" fill-opacity=\"1\" stroke=\"#000000\" stroke-opacity=\"1\" stroke-width=\"0.8\"/>\n",
       "<circle clip-path=\"url(#clip312)\" cx=\"3586.5\" cy=\"187.534\" r=\"21\" fill=\"#add8e6\" fill-rule=\"evenodd\" fill-opacity=\"1\" stroke=\"#000000\" stroke-opacity=\"1\" stroke-width=\"0.8\"/>\n",
       "<circle clip-path=\"url(#clip312)\" cx=\"3638.3\" cy=\"187.534\" r=\"21\" fill=\"#add8e6\" fill-rule=\"evenodd\" fill-opacity=\"1\" stroke=\"#000000\" stroke-opacity=\"1\" stroke-width=\"0.8\"/>\n",
       "<circle clip-path=\"url(#clip312)\" cx=\"3690.11\" cy=\"187.534\" r=\"21\" fill=\"#add8e6\" fill-rule=\"evenodd\" fill-opacity=\"1\" stroke=\"#000000\" stroke-opacity=\"1\" stroke-width=\"0.8\"/>\n",
       "<path clip-path=\"url(#clip312)\" d=\"M3741.91 163.534 L3736.27 179.758 L3719.09 180.118 L3732.79 190.51 L3727.8 206.95 L3741.91 197.134 L3756.02 206.95 L3751.03 190.51 L3764.73 180.118 L3747.55 179.758 L3741.91 163.534 Z\" fill=\"#ffa500\" fill-rule=\"evenodd\" fill-opacity=\"1\" stroke=\"#000000\" stroke-opacity=\"1\" stroke-width=\"0.8\"/>\n",
       "<path clip-path=\"url(#clip312)\" d=\"M3793.72 163.534 L3788.08 179.758 L3770.89 180.118 L3784.6 190.51 L3779.6 206.95 L3793.72 197.134 L3807.83 206.95 L3802.84 190.51 L3816.54 180.118 L3799.36 179.758 L3793.72 163.534 Z\" fill=\"#ffa500\" fill-rule=\"evenodd\" fill-opacity=\"1\" stroke=\"#000000\" stroke-opacity=\"1\" stroke-width=\"0.8\"/>\n",
       "<circle clip-path=\"url(#clip312)\" cx=\"3845.52\" cy=\"187.534\" r=\"21\" fill=\"#add8e6\" fill-rule=\"evenodd\" fill-opacity=\"1\" stroke=\"#000000\" stroke-opacity=\"1\" stroke-width=\"0.8\"/>\n",
       "</svg>\n"
      ]
     },
     "execution_count": 14,
     "metadata": {},
     "output_type": "execute_result"
    }
   ],
   "source": [
    "plot_nh(nh)"
   ]
  },
  {
   "cell_type": "code",
   "execution_count": 15,
   "metadata": {},
   "outputs": [
    {
     "data": {
      "text/plain": [
       "update! (generic function with 1 method)"
      ]
     },
     "execution_count": 15,
     "metadata": {},
     "output_type": "execute_result"
    }
   ],
   "source": [
    "# Follow the use of exclaimation mark since we are modifying nh\n",
    "\n",
    "function update!(nh, agent_id)\n",
    "    # Choose nearest new locations until happy.\n",
    "    a = nh.agents[agent_id]\n",
    "    original_location = a.location\n",
    "    options = [i % 2 == 1 ? ceil(Int64, i/2) : ceil(Int64, -i/2) for i in 1:nh.size*2]\n",
    "    for i in options\n",
    "        attempt_location = original_location + i\n",
    "        if (0 < attempt_location <= nh.size)\n",
    "            # @show (original_location, attempt_location)\n",
    "            move_location!(nh, a, attempt_location)\n",
    "            if is_happy(nh, agent_id)\n",
    "                break\n",
    "            elseif (i==options[end])\n",
    "                println(a, \" Unable to find a satisfactory location\")\n",
    "            else\n",
    "                # Revert\n",
    "                move_location!(nh, a, original_location)\n",
    "            end\n",
    "        end\n",
    "    end\n",
    "end"
   ]
  },
  {
   "cell_type": "code",
   "execution_count": 16,
   "metadata": {},
   "outputs": [
    {
     "data": {
      "text/plain": [
       "move_location! (generic function with 1 method)"
      ]
     },
     "execution_count": 16,
     "metadata": {},
     "output_type": "execute_result"
    }
   ],
   "source": [
    "function move_location!(nh, a, loc)\n",
    "    # Update all other agents in between old location and new location\n",
    "    update_seq = (loc > a.location) ?\n",
    "        (a.location+1 : 1 : loc) :\n",
    "        (a.location-1 : -1 : loc)\n",
    "        \n",
    "    # If the new location is higher everyone has to shift down\n",
    "    for i in update_seq\n",
    "        a2 = nh.locations[i]\n",
    "        a2_new_location = (loc > a.location) ? i-1 : i+1\n",
    "        a2.location = a2_new_location\n",
    "        nh.locations[a2_new_location] = a2\n",
    "    end\n",
    "    \n",
    "    # Move agent itself to new location\n",
    "    a.location = loc\n",
    "    nh.locations[loc] = a\n",
    "end"
   ]
  },
  {
   "cell_type": "code",
   "execution_count": 17,
   "metadata": {},
   "outputs": [
    {
     "name": "stdout",
     "output_type": "stream",
     "text": [
      "frac_happy = sum([is_happy(nh, i) for i = 1:nh.size]) / nh.size = 0.6714285714285714\n"
     ]
    },
    {
     "data": {
      "text/plain": [
       "0.6714285714285714"
      ]
     },
     "execution_count": 17,
     "metadata": {},
     "output_type": "execute_result"
    }
   ],
   "source": [
    "@show frac_happy =sum([is_happy(nh,i) for i in 1:nh.size])/ nh.size"
   ]
  },
  {
   "cell_type": "markdown",
   "metadata": {},
   "source": [
    "### Results"
   ]
  },
  {
   "cell_type": "code",
   "execution_count": 18,
   "metadata": {},
   "outputs": [
    {
     "data": {
      "text/plain": [
       "run_simulation (generic function with 2 methods)"
      ]
     },
     "execution_count": 18,
     "metadata": {},
     "output_type": "execute_result"
    }
   ],
   "source": [
    "function run_simulation(agents=Dict(\"Stars\"=>35, \"Circle\"=>35); neighborhood_size=4, preference=0.5)\n",
    "    nh = init_neighborhood(agents, neighborhood_size, preference)\n",
    "    plot_list = []\n",
    "    prev_frac_happy = 0\n",
    "    frac_happy = sum([is_happy(nh, i) for i in 1:nh.size]) / nh.size\n",
    "    cycle = 1\n",
    "    push!(plot_list, plot_nh(nh))\n",
    "    while ((frac_happy < 1) && (cycle <= 10) && (prev_frac_happy != frac_happy))\n",
    "        for i in 1:nh.size\n",
    "            if !is_happy(nh, i)\n",
    "                update!(nh, i)\n",
    "            end\n",
    "        end\n",
    "        cycle += 1\n",
    "        prev_frac_happy = frac_happy\n",
    "        frac_happy = sum([is_happy(nh, i) for i in 1:nh.size]) / nh.size\n",
    "        push!(plot_list, plot_nh(nh))\n",
    "    end\n",
    "    return nh, plot_list\n",
    "end"
   ]
  },
  {
   "cell_type": "code",
   "execution_count": 19,
   "metadata": {},
   "outputs": [
    {
     "data": {
      "text/plain": [
       "plot_results (generic function with 1 method)"
      ]
     },
     "execution_count": 19,
     "metadata": {},
     "output_type": "execute_result"
    }
   ],
   "source": [
    "function plot_results(results)\n",
    "    n = length(results)\n",
    "    plot(results...,\n",
    "        layout = (n, 1),\n",
    "        size = (1000, 100n),\n",
    "        title = reshape([\"Cycle $i\" for i in 1:n], 1, n))\n",
    "end"
   ]
  },
  {
   "cell_type": "code",
   "execution_count": 20,
   "metadata": {},
   "outputs": [
    {
     "data": {
      "image/svg+xml": [
       "<?xml version=\"1.0\" encoding=\"utf-8\"?>\n",
       "<svg xmlns=\"http://www.w3.org/2000/svg\" xmlns:xlink=\"http://www.w3.org/1999/xlink\" width=\"1000\" height=\"300\" viewBox=\"0 0 4000 1200\">\n",
       "<defs>\n",
       "  <clipPath id=\"clip350\">\n",
       "    <rect x=\"0\" y=\"0\" width=\"4000\" height=\"1200\"/>\n",
       "  </clipPath>\n",
       "</defs>\n",
       "<path clip-path=\"url(#clip350)\" d=\"\n",
       "M0 1200 L4000 1200 L4000 0 L0 0  Z\n",
       "  \" fill=\"#ffffff\" fill-rule=\"evenodd\" fill-opacity=\"1\"/>\n",
       "<defs>\n",
       "  <clipPath id=\"clip351\">\n",
       "    <rect x=\"800\" y=\"0\" width=\"2801\" height=\"1200\"/>\n",
       "  </clipPath>\n",
       "</defs>\n",
       "<path clip-path=\"url(#clip350)\" d=\"\n",
       "M163.756 309.456 L3952.76 309.456 L3952.76 90.2081 L163.756 90.2081  Z\n",
       "  \" fill=\"#ffffff\" fill-rule=\"evenodd\" fill-opacity=\"1\"/>\n",
       "<defs>\n",
       "  <clipPath id=\"clip352\">\n",
       "    <rect x=\"163\" y=\"90\" width=\"3790\" height=\"220\"/>\n",
       "  </clipPath>\n",
       "</defs>\n",
       "<path clip-path=\"url(#clip350)\" d=\"M 0 0 M1972.4 16.7545 L1972.4 25.383 Q1968.26 21.5346 1963.57 19.6307 Q1958.91 17.7268 1953.64 17.7268 Q1943.27 17.7268 1937.76 24.0867 Q1932.25 30.4061 1932.25 42.3968 Q1932.25 54.3469 1937.76 60.7069 Q1943.27 67.0263 1953.64 67.0263 Q1958.91 67.0263 1963.57 65.1223 Q1968.26 63.2184 1972.4 59.3701 L1972.4 67.9175 Q1968.1 70.8341 1963.28 72.2924 Q1958.5 73.7508 1953.16 73.7508 Q1939.42 73.7508 1931.52 65.3654 Q1923.62 56.9395 1923.62 42.3968 Q1923.62 27.8135 1931.52 19.4281 Q1939.42 11.0023 1953.16 11.0023 Q1958.58 11.0023 1963.36 12.4606 Q1968.18 13.8784 1972.4 16.7545 Z\" fill=\"#000000\" fill-rule=\"evenodd\" fill-opacity=\"1\" /><path clip-path=\"url(#clip350)\" d=\"M 0 0 M1999.09 76.7889 Q1995.93 84.8907 1992.93 87.3618 Q1989.94 89.8329 1984.91 89.8329 L1978.96 89.8329 L1978.96 83.5945 L1983.33 83.5945 Q1986.41 83.5945 1988.11 82.1361 Q1989.82 80.6778 1991.88 75.2496 L1993.22 71.8468 L1974.87 27.2059 L1982.77 27.2059 L1996.95 62.6918 L2011.12 27.2059 L2019.02 27.2059 L1999.09 76.7889 Z\" fill=\"#000000\" fill-rule=\"evenodd\" fill-opacity=\"1\" /><path clip-path=\"url(#clip350)\" d=\"M 0 0 M2059.49 28.9478 L2059.49 35.9153 Q2056.33 34.1734 2053.13 33.3227 Q2049.97 32.4315 2046.73 32.4315 Q2039.48 32.4315 2035.47 37.0496 Q2031.46 41.6271 2031.46 49.9314 Q2031.46 58.2358 2035.47 62.8538 Q2039.48 67.4314 2046.73 67.4314 Q2049.97 67.4314 2053.13 66.5807 Q2056.33 65.6895 2059.49 63.9476 L2059.49 70.8341 Q2056.37 72.2924 2053.01 73.0216 Q2049.69 73.7508 2045.92 73.7508 Q2035.67 73.7508 2029.64 67.3098 Q2023.6 60.8689 2023.6 49.9314 Q2023.6 38.832 2029.68 32.472 Q2035.79 26.1121 2046.41 26.1121 Q2049.85 26.1121 2053.13 26.8413 Q2056.41 27.5299 2059.49 28.9478 Z\" fill=\"#000000\" fill-rule=\"evenodd\" fill-opacity=\"1\" /><path clip-path=\"url(#clip350)\" d=\"M 0 0 M2067.31 9.54393 L2074.76 9.54393 L2074.76 72.576 L2067.31 72.576 L2067.31 9.54393 Z\" fill=\"#000000\" fill-rule=\"evenodd\" fill-opacity=\"1\" /><path clip-path=\"url(#clip350)\" d=\"M 0 0 M2121.39 48.0275 L2121.39 51.6733 L2087.12 51.6733 Q2087.6 59.3701 2091.74 63.421 Q2095.91 67.4314 2103.32 67.4314 Q2107.62 67.4314 2111.63 66.3781 Q2115.68 65.3249 2119.65 63.2184 L2119.65 70.267 Q2115.64 71.9684 2111.42 72.8596 Q2107.21 73.7508 2102.88 73.7508 Q2092.02 73.7508 2085.66 67.4314 Q2079.34 61.1119 2079.34 50.3365 Q2079.34 39.1965 2085.34 32.6746 Q2091.37 26.1121 2101.58 26.1121 Q2110.74 26.1121 2116.04 32.0264 Q2121.39 37.9003 2121.39 48.0275 M2113.94 45.84 Q2113.85 39.7232 2110.49 36.0774 Q2107.17 32.4315 2101.66 32.4315 Q2095.42 32.4315 2091.66 35.9558 Q2087.93 39.4801 2087.36 45.8805 L2113.94 45.84 Z\" fill=\"#000000\" fill-rule=\"evenodd\" fill-opacity=\"1\" /><path clip-path=\"url(#clip350)\" d=\"M 0 0 M2158.05 65.6895 L2171.42 65.6895 L2171.42 19.5497 L2156.88 22.4663 L2156.88 15.0127 L2171.34 12.096 L2179.52 12.096 L2179.52 65.6895 L2192.89 65.6895 L2192.89 72.576 L2158.05 72.576 L2158.05 65.6895 Z\" fill=\"#000000\" fill-rule=\"evenodd\" fill-opacity=\"1\" /><circle clip-path=\"url(#clip352)\" cx=\"270.992\" cy=\"199.832\" r=\"21\" fill=\"#add8e6\" fill-rule=\"evenodd\" fill-opacity=\"1\" stroke=\"#000000\" stroke-opacity=\"1\" stroke-width=\"2.4\"/>\n",
       "<circle clip-path=\"url(#clip352)\" cx=\"322.796\" cy=\"199.832\" r=\"21\" fill=\"#add8e6\" fill-rule=\"evenodd\" fill-opacity=\"1\" stroke=\"#000000\" stroke-opacity=\"1\" stroke-width=\"2.4\"/>\n",
       "<path clip-path=\"url(#clip352)\" d=\"M374.601 175.832 L368.961 192.056 L351.777 192.416 L365.481 202.808 L360.489 219.248 L374.601 209.432 L388.713 219.248 L383.721 202.808 L397.425 192.416 L380.241 192.056 L374.601 175.832 Z\" fill=\"#ffa500\" fill-rule=\"evenodd\" fill-opacity=\"1\" stroke=\"#000000\" stroke-opacity=\"1\" stroke-width=\"2.4\"/>\n",
       "<circle clip-path=\"url(#clip352)\" cx=\"426.406\" cy=\"199.832\" r=\"21\" fill=\"#add8e6\" fill-rule=\"evenodd\" fill-opacity=\"1\" stroke=\"#000000\" stroke-opacity=\"1\" stroke-width=\"2.4\"/>\n",
       "<circle clip-path=\"url(#clip352)\" cx=\"478.211\" cy=\"199.832\" r=\"21\" fill=\"#add8e6\" fill-rule=\"evenodd\" fill-opacity=\"1\" stroke=\"#000000\" stroke-opacity=\"1\" stroke-width=\"2.4\"/>\n",
       "<circle clip-path=\"url(#clip352)\" cx=\"530.015\" cy=\"199.832\" r=\"21\" fill=\"#add8e6\" fill-rule=\"evenodd\" fill-opacity=\"1\" stroke=\"#000000\" stroke-opacity=\"1\" stroke-width=\"2.4\"/>\n",
       "<circle clip-path=\"url(#clip352)\" cx=\"581.82\" cy=\"199.832\" r=\"21\" fill=\"#add8e6\" fill-rule=\"evenodd\" fill-opacity=\"1\" stroke=\"#000000\" stroke-opacity=\"1\" stroke-width=\"2.4\"/>\n",
       "<circle clip-path=\"url(#clip352)\" cx=\"633.625\" cy=\"199.832\" r=\"21\" fill=\"#add8e6\" fill-rule=\"evenodd\" fill-opacity=\"1\" stroke=\"#000000\" stroke-opacity=\"1\" stroke-width=\"2.4\"/>\n",
       "<circle clip-path=\"url(#clip352)\" cx=\"685.43\" cy=\"199.832\" r=\"21\" fill=\"#add8e6\" fill-rule=\"evenodd\" fill-opacity=\"1\" stroke=\"#000000\" stroke-opacity=\"1\" stroke-width=\"2.4\"/>\n",
       "<path clip-path=\"url(#clip352)\" d=\"M737.234 175.832 L731.594 192.056 L714.41 192.416 L728.114 202.808 L723.122 219.248 L737.234 209.432 L751.346 219.248 L746.354 202.808 L760.058 192.416 L742.874 192.056 L737.234 175.832 Z\" fill=\"#ffa500\" fill-rule=\"evenodd\" fill-opacity=\"1\" stroke=\"#000000\" stroke-opacity=\"1\" stroke-width=\"2.4\"/>\n",
       "<path clip-path=\"url(#clip352)\" d=\"M789.039 175.832 L783.399 192.056 L766.215 192.416 L779.919 202.808 L774.927 219.248 L789.039 209.432 L803.151 219.248 L798.159 202.808 L811.863 192.416 L794.679 192.056 L789.039 175.832 Z\" fill=\"#ffa500\" fill-rule=\"evenodd\" fill-opacity=\"1\" stroke=\"#000000\" stroke-opacity=\"1\" stroke-width=\"2.4\"/>\n",
       "<circle clip-path=\"url(#clip352)\" cx=\"840.844\" cy=\"199.832\" r=\"21\" fill=\"#add8e6\" fill-rule=\"evenodd\" fill-opacity=\"1\" stroke=\"#000000\" stroke-opacity=\"1\" stroke-width=\"2.4\"/>\n",
       "<circle clip-path=\"url(#clip352)\" cx=\"892.649\" cy=\"199.832\" r=\"21\" fill=\"#add8e6\" fill-rule=\"evenodd\" fill-opacity=\"1\" stroke=\"#000000\" stroke-opacity=\"1\" stroke-width=\"2.4\"/>\n",
       "<circle clip-path=\"url(#clip352)\" cx=\"944.453\" cy=\"199.832\" r=\"21\" fill=\"#add8e6\" fill-rule=\"evenodd\" fill-opacity=\"1\" stroke=\"#000000\" stroke-opacity=\"1\" stroke-width=\"2.4\"/>\n",
       "<circle clip-path=\"url(#clip352)\" cx=\"996.258\" cy=\"199.832\" r=\"21\" fill=\"#add8e6\" fill-rule=\"evenodd\" fill-opacity=\"1\" stroke=\"#000000\" stroke-opacity=\"1\" stroke-width=\"2.4\"/>\n",
       "<path clip-path=\"url(#clip352)\" d=\"M1048.06 175.832 L1042.42 192.056 L1025.24 192.416 L1038.94 202.808 L1033.95 219.248 L1048.06 209.432 L1062.17 219.248 L1057.18 202.808 L1070.89 192.416 L1053.7 192.056 L1048.06 175.832 Z\" fill=\"#ffa500\" fill-rule=\"evenodd\" fill-opacity=\"1\" stroke=\"#000000\" stroke-opacity=\"1\" stroke-width=\"2.4\"/>\n",
       "<path clip-path=\"url(#clip352)\" d=\"M1099.87 175.832 L1094.23 192.056 L1077.04 192.416 L1090.75 202.808 L1085.76 219.248 L1099.87 209.432 L1113.98 219.248 L1108.99 202.808 L1122.69 192.416 L1105.51 192.056 L1099.87 175.832 Z\" fill=\"#add8e6\" fill-rule=\"evenodd\" fill-opacity=\"1\" stroke=\"#000000\" stroke-opacity=\"1\" stroke-width=\"2.4\"/>\n",
       "<circle clip-path=\"url(#clip352)\" cx=\"1151.67\" cy=\"199.832\" r=\"21\" fill=\"#ffa500\" fill-rule=\"evenodd\" fill-opacity=\"1\" stroke=\"#000000\" stroke-opacity=\"1\" stroke-width=\"2.4\"/>\n",
       "<path clip-path=\"url(#clip352)\" d=\"M1203.48 175.832 L1197.84 192.056 L1180.65 192.416 L1194.36 202.808 L1189.37 219.248 L1203.48 209.432 L1217.59 219.248 L1212.6 202.808 L1226.3 192.416 L1209.12 192.056 L1203.48 175.832 Z\" fill=\"#add8e6\" fill-rule=\"evenodd\" fill-opacity=\"1\" stroke=\"#000000\" stroke-opacity=\"1\" stroke-width=\"2.4\"/>\n",
       "<path clip-path=\"url(#clip352)\" d=\"M1255.28 175.832 L1249.64 192.056 L1232.46 192.416 L1246.16 202.808 L1241.17 219.248 L1255.28 209.432 L1269.39 219.248 L1264.4 202.808 L1278.11 192.416 L1260.92 192.056 L1255.28 175.832 Z\" fill=\"#add8e6\" fill-rule=\"evenodd\" fill-opacity=\"1\" stroke=\"#000000\" stroke-opacity=\"1\" stroke-width=\"2.4\"/>\n",
       "<path clip-path=\"url(#clip352)\" d=\"M1307.09 175.832 L1301.45 192.056 L1284.26 192.416 L1297.97 202.808 L1292.97 219.248 L1307.09 209.432 L1321.2 219.248 L1316.21 202.808 L1329.91 192.416 L1312.73 192.056 L1307.09 175.832 Z\" fill=\"#add8e6\" fill-rule=\"evenodd\" fill-opacity=\"1\" stroke=\"#000000\" stroke-opacity=\"1\" stroke-width=\"2.4\"/>\n",
       "<path clip-path=\"url(#clip352)\" d=\"M1358.89 175.832 L1353.25 192.056 L1336.07 192.416 L1349.77 202.808 L1344.78 219.248 L1358.89 209.432 L1373 219.248 L1368.01 202.808 L1381.72 192.416 L1364.53 192.056 L1358.89 175.832 Z\" fill=\"#add8e6\" fill-rule=\"evenodd\" fill-opacity=\"1\" stroke=\"#000000\" stroke-opacity=\"1\" stroke-width=\"2.4\"/>\n",
       "<circle clip-path=\"url(#clip352)\" cx=\"1410.7\" cy=\"199.832\" r=\"21\" fill=\"#ffa500\" fill-rule=\"evenodd\" fill-opacity=\"1\" stroke=\"#000000\" stroke-opacity=\"1\" stroke-width=\"2.4\"/>\n",
       "<circle clip-path=\"url(#clip352)\" cx=\"1462.5\" cy=\"199.832\" r=\"21\" fill=\"#ffa500\" fill-rule=\"evenodd\" fill-opacity=\"1\" stroke=\"#000000\" stroke-opacity=\"1\" stroke-width=\"2.4\"/>\n",
       "<path clip-path=\"url(#clip352)\" d=\"M1514.31 175.832 L1508.67 192.056 L1491.48 192.416 L1505.19 202.808 L1500.19 219.248 L1514.31 209.432 L1528.42 219.248 L1523.43 202.808 L1537.13 192.416 L1519.95 192.056 L1514.31 175.832 Z\" fill=\"#ffa500\" fill-rule=\"evenodd\" fill-opacity=\"1\" stroke=\"#000000\" stroke-opacity=\"1\" stroke-width=\"2.4\"/>\n",
       "<circle clip-path=\"url(#clip352)\" cx=\"1566.11\" cy=\"199.832\" r=\"21\" fill=\"#add8e6\" fill-rule=\"evenodd\" fill-opacity=\"1\" stroke=\"#000000\" stroke-opacity=\"1\" stroke-width=\"2.4\"/>\n",
       "<circle clip-path=\"url(#clip352)\" cx=\"1617.92\" cy=\"199.832\" r=\"21\" fill=\"#add8e6\" fill-rule=\"evenodd\" fill-opacity=\"1\" stroke=\"#000000\" stroke-opacity=\"1\" stroke-width=\"2.4\"/>\n",
       "<path clip-path=\"url(#clip352)\" d=\"M1669.72 175.832 L1664.08 192.056 L1646.9 192.416 L1660.6 202.808 L1655.61 219.248 L1669.72 209.432 L1683.83 219.248 L1678.84 202.808 L1692.54 192.416 L1675.36 192.056 L1669.72 175.832 Z\" fill=\"#add8e6\" fill-rule=\"evenodd\" fill-opacity=\"1\" stroke=\"#000000\" stroke-opacity=\"1\" stroke-width=\"2.4\"/>\n",
       "<circle clip-path=\"url(#clip352)\" cx=\"1721.52\" cy=\"199.832\" r=\"21\" fill=\"#ffa500\" fill-rule=\"evenodd\" fill-opacity=\"1\" stroke=\"#000000\" stroke-opacity=\"1\" stroke-width=\"2.4\"/>\n",
       "<path clip-path=\"url(#clip352)\" d=\"M1773.33 175.832 L1767.69 192.056 L1750.51 192.416 L1764.21 202.808 L1759.22 219.248 L1773.33 209.432 L1787.44 219.248 L1782.45 202.808 L1796.15 192.416 L1778.97 192.056 L1773.33 175.832 Z\" fill=\"#add8e6\" fill-rule=\"evenodd\" fill-opacity=\"1\" stroke=\"#000000\" stroke-opacity=\"1\" stroke-width=\"2.4\"/>\n",
       "<path clip-path=\"url(#clip352)\" d=\"M1825.13 175.832 L1819.49 192.056 L1802.31 192.416 L1816.01 202.808 L1811.02 219.248 L1825.13 209.432 L1839.25 219.248 L1834.25 202.808 L1847.96 192.416 L1830.77 192.056 L1825.13 175.832 Z\" fill=\"#add8e6\" fill-rule=\"evenodd\" fill-opacity=\"1\" stroke=\"#000000\" stroke-opacity=\"1\" stroke-width=\"2.4\"/>\n",
       "<path clip-path=\"url(#clip352)\" d=\"M1876.94 175.832 L1871.3 192.056 L1854.12 192.416 L1867.82 202.808 L1862.83 219.248 L1876.94 209.432 L1891.05 219.248 L1886.06 202.808 L1899.76 192.416 L1882.58 192.056 L1876.94 175.832 Z\" fill=\"#add8e6\" fill-rule=\"evenodd\" fill-opacity=\"1\" stroke=\"#000000\" stroke-opacity=\"1\" stroke-width=\"2.4\"/>\n",
       "<path clip-path=\"url(#clip352)\" d=\"M1928.74 175.832 L1923.1 192.056 L1905.92 192.416 L1919.62 202.808 L1914.63 219.248 L1928.74 209.432 L1942.86 219.248 L1937.86 202.808 L1951.57 192.416 L1934.38 192.056 L1928.74 175.832 Z\" fill=\"#add8e6\" fill-rule=\"evenodd\" fill-opacity=\"1\" stroke=\"#000000\" stroke-opacity=\"1\" stroke-width=\"2.4\"/>\n",
       "<circle clip-path=\"url(#clip352)\" cx=\"1980.55\" cy=\"199.832\" r=\"21\" fill=\"#ffa500\" fill-rule=\"evenodd\" fill-opacity=\"1\" stroke=\"#000000\" stroke-opacity=\"1\" stroke-width=\"2.4\"/>\n",
       "<circle clip-path=\"url(#clip352)\" cx=\"2032.35\" cy=\"199.832\" r=\"21\" fill=\"#ffa500\" fill-rule=\"evenodd\" fill-opacity=\"1\" stroke=\"#000000\" stroke-opacity=\"1\" stroke-width=\"2.4\"/>\n",
       "<path clip-path=\"url(#clip352)\" d=\"M2084.16 175.832 L2078.52 192.056 L2061.33 192.416 L2075.04 202.808 L2070.05 219.248 L2084.16 209.432 L2098.27 219.248 L2093.28 202.808 L2106.98 192.416 L2089.8 192.056 L2084.16 175.832 Z\" fill=\"#add8e6\" fill-rule=\"evenodd\" fill-opacity=\"1\" stroke=\"#000000\" stroke-opacity=\"1\" stroke-width=\"2.4\"/>\n",
       "<circle clip-path=\"url(#clip352)\" cx=\"2135.96\" cy=\"199.832\" r=\"21\" fill=\"#ffa500\" fill-rule=\"evenodd\" fill-opacity=\"1\" stroke=\"#000000\" stroke-opacity=\"1\" stroke-width=\"2.4\"/>\n",
       "<path clip-path=\"url(#clip352)\" d=\"M2187.77 175.832 L2182.13 192.056 L2164.94 192.416 L2178.65 202.808 L2173.66 219.248 L2187.77 209.432 L2201.88 219.248 L2196.89 202.808 L2210.59 192.416 L2193.41 192.056 L2187.77 175.832 Z\" fill=\"#ffa500\" fill-rule=\"evenodd\" fill-opacity=\"1\" stroke=\"#000000\" stroke-opacity=\"1\" stroke-width=\"2.4\"/>\n",
       "<circle clip-path=\"url(#clip352)\" cx=\"2239.57\" cy=\"199.832\" r=\"21\" fill=\"#ffa500\" fill-rule=\"evenodd\" fill-opacity=\"1\" stroke=\"#000000\" stroke-opacity=\"1\" stroke-width=\"2.4\"/>\n",
       "<path clip-path=\"url(#clip352)\" d=\"M2291.38 175.832 L2285.74 192.056 L2268.55 192.416 L2282.26 202.808 L2277.27 219.248 L2291.38 209.432 L2305.49 219.248 L2300.5 202.808 L2314.2 192.416 L2297.02 192.056 L2291.38 175.832 Z\" fill=\"#add8e6\" fill-rule=\"evenodd\" fill-opacity=\"1\" stroke=\"#000000\" stroke-opacity=\"1\" stroke-width=\"2.4\"/>\n",
       "<path clip-path=\"url(#clip352)\" d=\"M2343.18 175.832 L2337.54 192.056 L2320.36 192.416 L2334.06 202.808 L2329.07 219.248 L2343.18 209.432 L2357.29 219.248 L2352.3 202.808 L2366.01 192.416 L2348.82 192.056 L2343.18 175.832 Z\" fill=\"#ffa500\" fill-rule=\"evenodd\" fill-opacity=\"1\" stroke=\"#000000\" stroke-opacity=\"1\" stroke-width=\"2.4\"/>\n",
       "<circle clip-path=\"url(#clip352)\" cx=\"2394.99\" cy=\"199.832\" r=\"21\" fill=\"#add8e6\" fill-rule=\"evenodd\" fill-opacity=\"1\" stroke=\"#000000\" stroke-opacity=\"1\" stroke-width=\"2.4\"/>\n",
       "<path clip-path=\"url(#clip352)\" d=\"M2446.79 175.832 L2441.15 192.056 L2423.97 192.416 L2437.67 202.808 L2432.68 219.248 L2446.79 209.432 L2460.9 219.248 L2455.91 202.808 L2469.62 192.416 L2452.43 192.056 L2446.79 175.832 Z\" fill=\"#ffa500\" fill-rule=\"evenodd\" fill-opacity=\"1\" stroke=\"#000000\" stroke-opacity=\"1\" stroke-width=\"2.4\"/>\n",
       "<circle clip-path=\"url(#clip352)\" cx=\"2498.6\" cy=\"199.832\" r=\"21\" fill=\"#add8e6\" fill-rule=\"evenodd\" fill-opacity=\"1\" stroke=\"#000000\" stroke-opacity=\"1\" stroke-width=\"2.4\"/>\n",
       "<circle clip-path=\"url(#clip352)\" cx=\"2550.4\" cy=\"199.832\" r=\"21\" fill=\"#add8e6\" fill-rule=\"evenodd\" fill-opacity=\"1\" stroke=\"#000000\" stroke-opacity=\"1\" stroke-width=\"2.4\"/>\n",
       "<circle clip-path=\"url(#clip352)\" cx=\"2602.21\" cy=\"199.832\" r=\"21\" fill=\"#add8e6\" fill-rule=\"evenodd\" fill-opacity=\"1\" stroke=\"#000000\" stroke-opacity=\"1\" stroke-width=\"2.4\"/>\n",
       "<circle clip-path=\"url(#clip352)\" cx=\"2654.01\" cy=\"199.832\" r=\"21\" fill=\"#ffa500\" fill-rule=\"evenodd\" fill-opacity=\"1\" stroke=\"#000000\" stroke-opacity=\"1\" stroke-width=\"2.4\"/>\n",
       "<path clip-path=\"url(#clip352)\" d=\"M2705.82 175.832 L2700.18 192.056 L2682.99 192.416 L2696.7 202.808 L2691.7 219.248 L2705.82 209.432 L2719.93 219.248 L2714.94 202.808 L2728.64 192.416 L2711.46 192.056 L2705.82 175.832 Z\" fill=\"#ffa500\" fill-rule=\"evenodd\" fill-opacity=\"1\" stroke=\"#000000\" stroke-opacity=\"1\" stroke-width=\"2.4\"/>\n",
       "<path clip-path=\"url(#clip352)\" d=\"M2757.62 175.832 L2751.98 192.056 L2734.8 192.416 L2748.5 202.808 L2743.51 219.248 L2757.62 209.432 L2771.73 219.248 L2766.74 202.808 L2780.44 192.416 L2763.26 192.056 L2757.62 175.832 Z\" fill=\"#add8e6\" fill-rule=\"evenodd\" fill-opacity=\"1\" stroke=\"#000000\" stroke-opacity=\"1\" stroke-width=\"2.4\"/>\n",
       "<path clip-path=\"url(#clip352)\" d=\"M2809.42 175.832 L2803.78 192.056 L2786.6 192.416 L2800.3 202.808 L2795.31 219.248 L2809.42 209.432 L2823.54 219.248 L2818.54 202.808 L2832.25 192.416 L2815.06 192.056 L2809.42 175.832 Z\" fill=\"#add8e6\" fill-rule=\"evenodd\" fill-opacity=\"1\" stroke=\"#000000\" stroke-opacity=\"1\" stroke-width=\"2.4\"/>\n",
       "<path clip-path=\"url(#clip352)\" d=\"M2861.23 175.832 L2855.59 192.056 L2838.41 192.416 L2852.11 202.808 L2847.12 219.248 L2861.23 209.432 L2875.34 219.248 L2870.35 202.808 L2884.05 192.416 L2866.87 192.056 L2861.23 175.832 Z\" fill=\"#add8e6\" fill-rule=\"evenodd\" fill-opacity=\"1\" stroke=\"#000000\" stroke-opacity=\"1\" stroke-width=\"2.4\"/>\n",
       "<circle clip-path=\"url(#clip352)\" cx=\"2913.03\" cy=\"199.832\" r=\"21\" fill=\"#ffa500\" fill-rule=\"evenodd\" fill-opacity=\"1\" stroke=\"#000000\" stroke-opacity=\"1\" stroke-width=\"2.4\"/>\n",
       "<path clip-path=\"url(#clip352)\" d=\"M2964.84 175.832 L2959.2 192.056 L2942.02 192.416 L2955.72 202.808 L2950.73 219.248 L2964.84 209.432 L2978.95 219.248 L2973.96 202.808 L2987.66 192.416 L2970.48 192.056 L2964.84 175.832 Z\" fill=\"#add8e6\" fill-rule=\"evenodd\" fill-opacity=\"1\" stroke=\"#000000\" stroke-opacity=\"1\" stroke-width=\"2.4\"/>\n",
       "<path clip-path=\"url(#clip352)\" d=\"M3016.64 175.832 L3011 192.056 L2993.82 192.416 L3007.52 202.808 L3002.53 219.248 L3016.64 209.432 L3030.76 219.248 L3025.76 202.808 L3039.47 192.416 L3022.28 192.056 L3016.64 175.832 Z\" fill=\"#add8e6\" fill-rule=\"evenodd\" fill-opacity=\"1\" stroke=\"#000000\" stroke-opacity=\"1\" stroke-width=\"2.4\"/>\n",
       "<circle clip-path=\"url(#clip352)\" cx=\"3068.45\" cy=\"199.832\" r=\"21\" fill=\"#ffa500\" fill-rule=\"evenodd\" fill-opacity=\"1\" stroke=\"#000000\" stroke-opacity=\"1\" stroke-width=\"2.4\"/>\n",
       "<path clip-path=\"url(#clip352)\" d=\"M3120.25 175.832 L3114.61 192.056 L3097.43 192.416 L3111.13 202.808 L3106.14 219.248 L3120.25 209.432 L3134.37 219.248 L3129.37 202.808 L3143.08 192.416 L3125.89 192.056 L3120.25 175.832 Z\" fill=\"#add8e6\" fill-rule=\"evenodd\" fill-opacity=\"1\" stroke=\"#000000\" stroke-opacity=\"1\" stroke-width=\"2.4\"/>\n",
       "<path clip-path=\"url(#clip352)\" d=\"M3172.06 175.832 L3166.42 192.056 L3149.23 192.416 L3162.94 202.808 L3157.95 219.248 L3172.06 209.432 L3186.17 219.248 L3181.18 202.808 L3194.88 192.416 L3177.7 192.056 L3172.06 175.832 Z\" fill=\"#add8e6\" fill-rule=\"evenodd\" fill-opacity=\"1\" stroke=\"#000000\" stroke-opacity=\"1\" stroke-width=\"2.4\"/>\n",
       "<path clip-path=\"url(#clip352)\" d=\"M3223.86 175.832 L3218.22 192.056 L3201.04 192.416 L3214.74 202.808 L3209.75 219.248 L3223.86 209.432 L3237.97 219.248 L3232.98 202.808 L3246.69 192.416 L3229.5 192.056 L3223.86 175.832 Z\" fill=\"#add8e6\" fill-rule=\"evenodd\" fill-opacity=\"1\" stroke=\"#000000\" stroke-opacity=\"1\" stroke-width=\"2.4\"/>\n",
       "<circle clip-path=\"url(#clip352)\" cx=\"3275.67\" cy=\"199.832\" r=\"21\" fill=\"#ffa500\" fill-rule=\"evenodd\" fill-opacity=\"1\" stroke=\"#000000\" stroke-opacity=\"1\" stroke-width=\"2.4\"/>\n",
       "<circle clip-path=\"url(#clip352)\" cx=\"3327.47\" cy=\"199.832\" r=\"21\" fill=\"#ffa500\" fill-rule=\"evenodd\" fill-opacity=\"1\" stroke=\"#000000\" stroke-opacity=\"1\" stroke-width=\"2.4\"/>\n",
       "<path clip-path=\"url(#clip352)\" d=\"M3379.28 175.832 L3373.64 192.056 L3356.45 192.416 L3370.16 202.808 L3365.17 219.248 L3379.28 209.432 L3393.39 219.248 L3388.4 202.808 L3402.1 192.416 L3384.92 192.056 L3379.28 175.832 Z\" fill=\"#add8e6\" fill-rule=\"evenodd\" fill-opacity=\"1\" stroke=\"#000000\" stroke-opacity=\"1\" stroke-width=\"2.4\"/>\n",
       "<circle clip-path=\"url(#clip352)\" cx=\"3431.08\" cy=\"199.832\" r=\"21\" fill=\"#ffa500\" fill-rule=\"evenodd\" fill-opacity=\"1\" stroke=\"#000000\" stroke-opacity=\"1\" stroke-width=\"2.4\"/>\n",
       "<path clip-path=\"url(#clip352)\" d=\"M3482.89 175.832 L3477.25 192.056 L3460.06 192.416 L3473.77 202.808 L3468.77 219.248 L3482.89 209.432 L3497 219.248 L3492.01 202.808 L3505.71 192.416 L3488.53 192.056 L3482.89 175.832 Z\" fill=\"#ffa500\" fill-rule=\"evenodd\" fill-opacity=\"1\" stroke=\"#000000\" stroke-opacity=\"1\" stroke-width=\"2.4\"/>\n",
       "<path clip-path=\"url(#clip352)\" d=\"M3534.69 175.832 L3529.05 192.056 L3511.87 192.416 L3525.57 202.808 L3520.58 219.248 L3534.69 209.432 L3548.8 219.248 L3543.81 202.808 L3557.52 192.416 L3540.33 192.056 L3534.69 175.832 Z\" fill=\"#add8e6\" fill-rule=\"evenodd\" fill-opacity=\"1\" stroke=\"#000000\" stroke-opacity=\"1\" stroke-width=\"2.4\"/>\n",
       "<path clip-path=\"url(#clip352)\" d=\"M3586.5 175.832 L3580.86 192.056 L3563.67 192.416 L3577.38 202.808 L3572.38 219.248 L3586.5 209.432 L3600.61 219.248 L3595.62 202.808 L3609.32 192.416 L3592.14 192.056 L3586.5 175.832 Z\" fill=\"#add8e6\" fill-rule=\"evenodd\" fill-opacity=\"1\" stroke=\"#000000\" stroke-opacity=\"1\" stroke-width=\"2.4\"/>\n",
       "<circle clip-path=\"url(#clip352)\" cx=\"3638.3\" cy=\"199.832\" r=\"21\" fill=\"#ffa500\" fill-rule=\"evenodd\" fill-opacity=\"1\" stroke=\"#000000\" stroke-opacity=\"1\" stroke-width=\"2.4\"/>\n",
       "<circle clip-path=\"url(#clip352)\" cx=\"3690.11\" cy=\"199.832\" r=\"21\" fill=\"#ffa500\" fill-rule=\"evenodd\" fill-opacity=\"1\" stroke=\"#000000\" stroke-opacity=\"1\" stroke-width=\"2.4\"/>\n",
       "<path clip-path=\"url(#clip352)\" d=\"M3741.91 175.832 L3736.27 192.056 L3719.09 192.416 L3732.79 202.808 L3727.8 219.248 L3741.91 209.432 L3756.02 219.248 L3751.03 202.808 L3764.73 192.416 L3747.55 192.056 L3741.91 175.832 Z\" fill=\"#add8e6\" fill-rule=\"evenodd\" fill-opacity=\"1\" stroke=\"#000000\" stroke-opacity=\"1\" stroke-width=\"2.4\"/>\n",
       "<circle clip-path=\"url(#clip352)\" cx=\"3793.72\" cy=\"199.832\" r=\"21\" fill=\"#ffa500\" fill-rule=\"evenodd\" fill-opacity=\"1\" stroke=\"#000000\" stroke-opacity=\"1\" stroke-width=\"2.4\"/>\n",
       "<path clip-path=\"url(#clip352)\" d=\"M3845.52 175.832 L3839.88 192.056 L3822.7 192.416 L3836.4 202.808 L3831.41 219.248 L3845.52 209.432 L3859.63 219.248 L3854.64 202.808 L3868.34 192.416 L3851.16 192.056 L3845.52 175.832 Z\" fill=\"#ffa500\" fill-rule=\"evenodd\" fill-opacity=\"1\" stroke=\"#000000\" stroke-opacity=\"1\" stroke-width=\"2.4\"/>\n",
       "<path clip-path=\"url(#clip350)\" d=\"\n",
       "M163.756 709.456 L3952.76 709.456 L3952.76 490.208 L163.756 490.208  Z\n",
       "  \" fill=\"#ffffff\" fill-rule=\"evenodd\" fill-opacity=\"1\"/>\n",
       "<defs>\n",
       "  <clipPath id=\"clip353\">\n",
       "    <rect x=\"163\" y=\"490\" width=\"3790\" height=\"220\"/>\n",
       "  </clipPath>\n",
       "</defs>\n",
       "<path clip-path=\"url(#clip350)\" d=\"M 0 0 M1972.72 416.755 L1972.72 425.383 Q1968.59 421.535 1963.89 419.631 Q1959.23 417.727 1953.97 417.727 Q1943.59 417.727 1938.09 424.087 Q1932.58 430.406 1932.58 442.397 Q1932.58 454.347 1938.09 460.707 Q1943.59 467.026 1953.97 467.026 Q1959.23 467.026 1963.89 465.122 Q1968.59 463.218 1972.72 459.37 L1972.72 467.917 Q1968.43 470.834 1963.61 472.292 Q1958.83 473.751 1953.48 473.751 Q1939.75 473.751 1931.85 465.365 Q1923.95 456.94 1923.95 442.397 Q1923.95 427.814 1931.85 419.428 Q1939.75 411.002 1953.48 411.002 Q1958.91 411.002 1963.69 412.461 Q1968.51 413.878 1972.72 416.755 Z\" fill=\"#000000\" fill-rule=\"evenodd\" fill-opacity=\"1\" /><path clip-path=\"url(#clip350)\" d=\"M 0 0 M1999.42 476.789 Q1996.26 484.891 1993.26 487.362 Q1990.26 489.833 1985.24 489.833 L1979.28 489.833 L1979.28 483.594 L1983.66 483.594 Q1986.74 483.594 1988.44 482.136 Q1990.14 480.678 1992.21 475.25 L1993.54 471.847 L1975.19 427.206 L1983.09 427.206 L1997.27 462.692 L2011.45 427.206 L2019.35 427.206 L1999.42 476.789 Z\" fill=\"#000000\" fill-rule=\"evenodd\" fill-opacity=\"1\" /><path clip-path=\"url(#clip350)\" d=\"M 0 0 M2059.82 428.948 L2059.82 435.915 Q2056.66 434.173 2053.46 433.323 Q2050.3 432.432 2047.06 432.432 Q2039.8 432.432 2035.79 437.05 Q2031.78 441.627 2031.78 449.931 Q2031.78 458.236 2035.79 462.854 Q2039.8 467.431 2047.06 467.431 Q2050.3 467.431 2053.46 466.581 Q2056.66 465.689 2059.82 463.948 L2059.82 470.834 Q2056.7 472.292 2053.33 473.022 Q2050.01 473.751 2046.24 473.751 Q2036 473.751 2029.96 467.31 Q2023.92 460.869 2023.92 449.931 Q2023.92 438.832 2030 432.472 Q2036.12 426.112 2046.73 426.112 Q2050.17 426.112 2053.46 426.841 Q2056.74 427.53 2059.82 428.948 Z\" fill=\"#000000\" fill-rule=\"evenodd\" fill-opacity=\"1\" /><path clip-path=\"url(#clip350)\" d=\"M 0 0 M2067.63 409.544 L2075.09 409.544 L2075.09 472.576 L2067.63 472.576 L2067.63 409.544 Z\" fill=\"#000000\" fill-rule=\"evenodd\" fill-opacity=\"1\" /><path clip-path=\"url(#clip350)\" d=\"M 0 0 M2121.71 448.028 L2121.71 451.673 L2087.44 451.673 Q2087.93 459.37 2092.06 463.421 Q2096.23 467.431 2103.65 467.431 Q2107.94 467.431 2111.95 466.378 Q2116 465.325 2119.97 463.218 L2119.97 470.267 Q2115.96 471.968 2111.75 472.86 Q2107.54 473.751 2103.2 473.751 Q2092.34 473.751 2085.98 467.431 Q2079.66 461.112 2079.66 450.337 Q2079.66 439.197 2085.66 432.675 Q2091.7 426.112 2101.9 426.112 Q2111.06 426.112 2116.37 432.026 Q2121.71 437.9 2121.71 448.028 M2114.26 445.84 Q2114.18 439.723 2110.82 436.077 Q2107.49 432.432 2101.99 432.432 Q2095.75 432.432 2091.98 435.956 Q2088.25 439.48 2087.69 445.881 L2114.26 445.84 Z\" fill=\"#000000\" fill-rule=\"evenodd\" fill-opacity=\"1\" /><path clip-path=\"url(#clip350)\" d=\"M 0 0 M2164 465.689 L2192.56 465.689 L2192.56 472.576 L2154.16 472.576 L2154.16 465.689 Q2158.82 460.869 2166.84 452.767 Q2174.9 444.625 2176.97 442.275 Q2180.9 437.86 2182.44 434.822 Q2184.02 431.743 2184.02 428.786 Q2184.02 423.965 2180.61 420.927 Q2177.25 417.889 2171.82 417.889 Q2167.97 417.889 2163.68 419.226 Q2159.43 420.562 2154.57 423.276 L2154.57 415.013 Q2159.51 413.028 2163.8 412.015 Q2168.1 411.002 2171.66 411.002 Q2181.06 411.002 2186.65 415.701 Q2192.24 420.4 2192.24 428.259 Q2192.24 431.986 2190.82 435.348 Q2189.44 438.67 2185.76 443.207 Q2184.75 444.382 2179.32 450.012 Q2173.89 455.603 2164 465.689 Z\" fill=\"#000000\" fill-rule=\"evenodd\" fill-opacity=\"1\" /><circle clip-path=\"url(#clip353)\" cx=\"270.992\" cy=\"599.832\" r=\"21\" fill=\"#add8e6\" fill-rule=\"evenodd\" fill-opacity=\"1\" stroke=\"#000000\" stroke-opacity=\"1\" stroke-width=\"2.4\"/>\n",
       "<circle clip-path=\"url(#clip353)\" cx=\"322.796\" cy=\"599.832\" r=\"21\" fill=\"#add8e6\" fill-rule=\"evenodd\" fill-opacity=\"1\" stroke=\"#000000\" stroke-opacity=\"1\" stroke-width=\"2.4\"/>\n",
       "<circle clip-path=\"url(#clip353)\" cx=\"374.601\" cy=\"599.832\" r=\"21\" fill=\"#add8e6\" fill-rule=\"evenodd\" fill-opacity=\"1\" stroke=\"#000000\" stroke-opacity=\"1\" stroke-width=\"2.4\"/>\n",
       "<circle clip-path=\"url(#clip353)\" cx=\"426.406\" cy=\"599.832\" r=\"21\" fill=\"#add8e6\" fill-rule=\"evenodd\" fill-opacity=\"1\" stroke=\"#000000\" stroke-opacity=\"1\" stroke-width=\"2.4\"/>\n",
       "<circle clip-path=\"url(#clip353)\" cx=\"478.211\" cy=\"599.832\" r=\"21\" fill=\"#add8e6\" fill-rule=\"evenodd\" fill-opacity=\"1\" stroke=\"#000000\" stroke-opacity=\"1\" stroke-width=\"2.4\"/>\n",
       "<circle clip-path=\"url(#clip353)\" cx=\"530.015\" cy=\"599.832\" r=\"21\" fill=\"#add8e6\" fill-rule=\"evenodd\" fill-opacity=\"1\" stroke=\"#000000\" stroke-opacity=\"1\" stroke-width=\"2.4\"/>\n",
       "<circle clip-path=\"url(#clip353)\" cx=\"581.82\" cy=\"599.832\" r=\"21\" fill=\"#add8e6\" fill-rule=\"evenodd\" fill-opacity=\"1\" stroke=\"#000000\" stroke-opacity=\"1\" stroke-width=\"2.4\"/>\n",
       "<circle clip-path=\"url(#clip353)\" cx=\"633.625\" cy=\"599.832\" r=\"21\" fill=\"#add8e6\" fill-rule=\"evenodd\" fill-opacity=\"1\" stroke=\"#000000\" stroke-opacity=\"1\" stroke-width=\"2.4\"/>\n",
       "<circle clip-path=\"url(#clip353)\" cx=\"685.43\" cy=\"599.832\" r=\"21\" fill=\"#add8e6\" fill-rule=\"evenodd\" fill-opacity=\"1\" stroke=\"#000000\" stroke-opacity=\"1\" stroke-width=\"2.4\"/>\n",
       "<circle clip-path=\"url(#clip353)\" cx=\"737.234\" cy=\"599.832\" r=\"21\" fill=\"#add8e6\" fill-rule=\"evenodd\" fill-opacity=\"1\" stroke=\"#000000\" stroke-opacity=\"1\" stroke-width=\"2.4\"/>\n",
       "<circle clip-path=\"url(#clip353)\" cx=\"789.039\" cy=\"599.832\" r=\"21\" fill=\"#add8e6\" fill-rule=\"evenodd\" fill-opacity=\"1\" stroke=\"#000000\" stroke-opacity=\"1\" stroke-width=\"2.4\"/>\n",
       "<circle clip-path=\"url(#clip353)\" cx=\"840.844\" cy=\"599.832\" r=\"21\" fill=\"#add8e6\" fill-rule=\"evenodd\" fill-opacity=\"1\" stroke=\"#000000\" stroke-opacity=\"1\" stroke-width=\"2.4\"/>\n",
       "<path clip-path=\"url(#clip353)\" d=\"M892.649 575.832 L887.009 592.056 L869.825 592.416 L883.529 602.808 L878.537 619.248 L892.649 609.432 L906.761 619.248 L901.769 602.808 L915.473 592.416 L898.289 592.056 L892.649 575.832 Z\" fill=\"#add8e6\" fill-rule=\"evenodd\" fill-opacity=\"1\" stroke=\"#000000\" stroke-opacity=\"1\" stroke-width=\"2.4\"/>\n",
       "<path clip-path=\"url(#clip353)\" d=\"M944.453 575.832 L938.813 592.056 L921.629 592.416 L935.333 602.808 L930.341 619.248 L944.453 609.432 L958.565 619.248 L953.573 602.808 L967.277 592.416 L950.093 592.056 L944.453 575.832 Z\" fill=\"#add8e6\" fill-rule=\"evenodd\" fill-opacity=\"1\" stroke=\"#000000\" stroke-opacity=\"1\" stroke-width=\"2.4\"/>\n",
       "<path clip-path=\"url(#clip353)\" d=\"M996.258 575.832 L990.618 592.056 L973.434 592.416 L987.138 602.808 L982.146 619.248 L996.258 609.432 L1010.37 619.248 L1005.38 602.808 L1019.08 592.416 L1001.9 592.056 L996.258 575.832 Z\" fill=\"#add8e6\" fill-rule=\"evenodd\" fill-opacity=\"1\" stroke=\"#000000\" stroke-opacity=\"1\" stroke-width=\"2.4\"/>\n",
       "<path clip-path=\"url(#clip353)\" d=\"M1048.06 575.832 L1042.42 592.056 L1025.24 592.416 L1038.94 602.808 L1033.95 619.248 L1048.06 609.432 L1062.17 619.248 L1057.18 602.808 L1070.89 592.416 L1053.7 592.056 L1048.06 575.832 Z\" fill=\"#add8e6\" fill-rule=\"evenodd\" fill-opacity=\"1\" stroke=\"#000000\" stroke-opacity=\"1\" stroke-width=\"2.4\"/>\n",
       "<path clip-path=\"url(#clip353)\" d=\"M1099.87 575.832 L1094.23 592.056 L1077.04 592.416 L1090.75 602.808 L1085.76 619.248 L1099.87 609.432 L1113.98 619.248 L1108.99 602.808 L1122.69 592.416 L1105.51 592.056 L1099.87 575.832 Z\" fill=\"#add8e6\" fill-rule=\"evenodd\" fill-opacity=\"1\" stroke=\"#000000\" stroke-opacity=\"1\" stroke-width=\"2.4\"/>\n",
       "<path clip-path=\"url(#clip353)\" d=\"M1151.67 575.832 L1146.03 592.056 L1128.85 592.416 L1142.55 602.808 L1137.56 619.248 L1151.67 609.432 L1165.78 619.248 L1160.79 602.808 L1174.5 592.416 L1157.31 592.056 L1151.67 575.832 Z\" fill=\"#add8e6\" fill-rule=\"evenodd\" fill-opacity=\"1\" stroke=\"#000000\" stroke-opacity=\"1\" stroke-width=\"2.4\"/>\n",
       "<path clip-path=\"url(#clip353)\" d=\"M1203.48 575.832 L1197.84 592.056 L1180.65 592.416 L1194.36 602.808 L1189.37 619.248 L1203.48 609.432 L1217.59 619.248 L1212.6 602.808 L1226.3 592.416 L1209.12 592.056 L1203.48 575.832 Z\" fill=\"#add8e6\" fill-rule=\"evenodd\" fill-opacity=\"1\" stroke=\"#000000\" stroke-opacity=\"1\" stroke-width=\"2.4\"/>\n",
       "<path clip-path=\"url(#clip353)\" d=\"M1255.28 575.832 L1249.64 592.056 L1232.46 592.416 L1246.16 602.808 L1241.17 619.248 L1255.28 609.432 L1269.39 619.248 L1264.4 602.808 L1278.11 592.416 L1260.92 592.056 L1255.28 575.832 Z\" fill=\"#add8e6\" fill-rule=\"evenodd\" fill-opacity=\"1\" stroke=\"#000000\" stroke-opacity=\"1\" stroke-width=\"2.4\"/>\n",
       "<path clip-path=\"url(#clip353)\" d=\"M1307.09 575.832 L1301.45 592.056 L1284.26 592.416 L1297.97 602.808 L1292.97 619.248 L1307.09 609.432 L1321.2 619.248 L1316.21 602.808 L1329.91 592.416 L1312.73 592.056 L1307.09 575.832 Z\" fill=\"#add8e6\" fill-rule=\"evenodd\" fill-opacity=\"1\" stroke=\"#000000\" stroke-opacity=\"1\" stroke-width=\"2.4\"/>\n",
       "<circle clip-path=\"url(#clip353)\" cx=\"1358.89\" cy=\"599.832\" r=\"21\" fill=\"#ffa500\" fill-rule=\"evenodd\" fill-opacity=\"1\" stroke=\"#000000\" stroke-opacity=\"1\" stroke-width=\"2.4\"/>\n",
       "<circle clip-path=\"url(#clip353)\" cx=\"1410.7\" cy=\"599.832\" r=\"21\" fill=\"#add8e6\" fill-rule=\"evenodd\" fill-opacity=\"1\" stroke=\"#000000\" stroke-opacity=\"1\" stroke-width=\"2.4\"/>\n",
       "<path clip-path=\"url(#clip353)\" d=\"M1462.5 575.832 L1456.86 592.056 L1439.68 592.416 L1453.38 602.808 L1448.39 619.248 L1462.5 609.432 L1476.61 619.248 L1471.62 602.808 L1485.33 592.416 L1468.14 592.056 L1462.5 575.832 Z\" fill=\"#ffa500\" fill-rule=\"evenodd\" fill-opacity=\"1\" stroke=\"#000000\" stroke-opacity=\"1\" stroke-width=\"2.4\"/>\n",
       "<circle clip-path=\"url(#clip353)\" cx=\"1514.31\" cy=\"599.832\" r=\"21\" fill=\"#add8e6\" fill-rule=\"evenodd\" fill-opacity=\"1\" stroke=\"#000000\" stroke-opacity=\"1\" stroke-width=\"2.4\"/>\n",
       "<circle clip-path=\"url(#clip353)\" cx=\"1566.11\" cy=\"599.832\" r=\"21\" fill=\"#add8e6\" fill-rule=\"evenodd\" fill-opacity=\"1\" stroke=\"#000000\" stroke-opacity=\"1\" stroke-width=\"2.4\"/>\n",
       "<circle clip-path=\"url(#clip353)\" cx=\"1617.92\" cy=\"599.832\" r=\"21\" fill=\"#add8e6\" fill-rule=\"evenodd\" fill-opacity=\"1\" stroke=\"#000000\" stroke-opacity=\"1\" stroke-width=\"2.4\"/>\n",
       "<circle clip-path=\"url(#clip353)\" cx=\"1669.72\" cy=\"599.832\" r=\"21\" fill=\"#add8e6\" fill-rule=\"evenodd\" fill-opacity=\"1\" stroke=\"#000000\" stroke-opacity=\"1\" stroke-width=\"2.4\"/>\n",
       "<circle clip-path=\"url(#clip353)\" cx=\"1721.52\" cy=\"599.832\" r=\"21\" fill=\"#add8e6\" fill-rule=\"evenodd\" fill-opacity=\"1\" stroke=\"#000000\" stroke-opacity=\"1\" stroke-width=\"2.4\"/>\n",
       "<path clip-path=\"url(#clip353)\" d=\"M1773.33 575.832 L1767.69 592.056 L1750.51 592.416 L1764.21 602.808 L1759.22 619.248 L1773.33 609.432 L1787.44 619.248 L1782.45 602.808 L1796.15 592.416 L1778.97 592.056 L1773.33 575.832 Z\" fill=\"#add8e6\" fill-rule=\"evenodd\" fill-opacity=\"1\" stroke=\"#000000\" stroke-opacity=\"1\" stroke-width=\"2.4\"/>\n",
       "<path clip-path=\"url(#clip353)\" d=\"M1825.13 575.832 L1819.49 592.056 L1802.31 592.416 L1816.01 602.808 L1811.02 619.248 L1825.13 609.432 L1839.25 619.248 L1834.25 602.808 L1847.96 592.416 L1830.77 592.056 L1825.13 575.832 Z\" fill=\"#add8e6\" fill-rule=\"evenodd\" fill-opacity=\"1\" stroke=\"#000000\" stroke-opacity=\"1\" stroke-width=\"2.4\"/>\n",
       "<path clip-path=\"url(#clip353)\" d=\"M1876.94 575.832 L1871.3 592.056 L1854.12 592.416 L1867.82 602.808 L1862.83 619.248 L1876.94 609.432 L1891.05 619.248 L1886.06 602.808 L1899.76 592.416 L1882.58 592.056 L1876.94 575.832 Z\" fill=\"#add8e6\" fill-rule=\"evenodd\" fill-opacity=\"1\" stroke=\"#000000\" stroke-opacity=\"1\" stroke-width=\"2.4\"/>\n",
       "<path clip-path=\"url(#clip353)\" d=\"M1928.74 575.832 L1923.1 592.056 L1905.92 592.416 L1919.62 602.808 L1914.63 619.248 L1928.74 609.432 L1942.86 619.248 L1937.86 602.808 L1951.57 592.416 L1934.38 592.056 L1928.74 575.832 Z\" fill=\"#add8e6\" fill-rule=\"evenodd\" fill-opacity=\"1\" stroke=\"#000000\" stroke-opacity=\"1\" stroke-width=\"2.4\"/>\n",
       "<path clip-path=\"url(#clip353)\" d=\"M1980.55 575.832 L1974.91 592.056 L1957.72 592.416 L1971.43 602.808 L1966.44 619.248 L1980.55 609.432 L1994.66 619.248 L1989.67 602.808 L2003.37 592.416 L1986.19 592.056 L1980.55 575.832 Z\" fill=\"#add8e6\" fill-rule=\"evenodd\" fill-opacity=\"1\" stroke=\"#000000\" stroke-opacity=\"1\" stroke-width=\"2.4\"/>\n",
       "<path clip-path=\"url(#clip353)\" d=\"M2032.35 575.832 L2026.71 592.056 L2009.53 592.416 L2023.23 602.808 L2018.24 619.248 L2032.35 609.432 L2046.47 619.248 L2041.47 602.808 L2055.18 592.416 L2037.99 592.056 L2032.35 575.832 Z\" fill=\"#add8e6\" fill-rule=\"evenodd\" fill-opacity=\"1\" stroke=\"#000000\" stroke-opacity=\"1\" stroke-width=\"2.4\"/>\n",
       "<path clip-path=\"url(#clip353)\" d=\"M2084.16 575.832 L2078.52 592.056 L2061.33 592.416 L2075.04 602.808 L2070.05 619.248 L2084.16 609.432 L2098.27 619.248 L2093.28 602.808 L2106.98 592.416 L2089.8 592.056 L2084.16 575.832 Z\" fill=\"#add8e6\" fill-rule=\"evenodd\" fill-opacity=\"1\" stroke=\"#000000\" stroke-opacity=\"1\" stroke-width=\"2.4\"/>\n",
       "<path clip-path=\"url(#clip353)\" d=\"M2135.96 575.832 L2130.32 592.056 L2113.14 592.416 L2126.84 602.808 L2121.85 619.248 L2135.96 609.432 L2150.07 619.248 L2145.08 602.808 L2158.79 592.416 L2141.6 592.056 L2135.96 575.832 Z\" fill=\"#add8e6\" fill-rule=\"evenodd\" fill-opacity=\"1\" stroke=\"#000000\" stroke-opacity=\"1\" stroke-width=\"2.4\"/>\n",
       "<path clip-path=\"url(#clip353)\" d=\"M2187.77 575.832 L2182.13 592.056 L2164.94 592.416 L2178.65 602.808 L2173.66 619.248 L2187.77 609.432 L2201.88 619.248 L2196.89 602.808 L2210.59 592.416 L2193.41 592.056 L2187.77 575.832 Z\" fill=\"#add8e6\" fill-rule=\"evenodd\" fill-opacity=\"1\" stroke=\"#000000\" stroke-opacity=\"1\" stroke-width=\"2.4\"/>\n",
       "<circle clip-path=\"url(#clip353)\" cx=\"2239.57\" cy=\"599.832\" r=\"21\" fill=\"#ffa500\" fill-rule=\"evenodd\" fill-opacity=\"1\" stroke=\"#000000\" stroke-opacity=\"1\" stroke-width=\"2.4\"/>\n",
       "<circle clip-path=\"url(#clip353)\" cx=\"2291.38\" cy=\"599.832\" r=\"21\" fill=\"#add8e6\" fill-rule=\"evenodd\" fill-opacity=\"1\" stroke=\"#000000\" stroke-opacity=\"1\" stroke-width=\"2.4\"/>\n",
       "<circle clip-path=\"url(#clip353)\" cx=\"2343.18\" cy=\"599.832\" r=\"21\" fill=\"#add8e6\" fill-rule=\"evenodd\" fill-opacity=\"1\" stroke=\"#000000\" stroke-opacity=\"1\" stroke-width=\"2.4\"/>\n",
       "<path clip-path=\"url(#clip353)\" d=\"M2394.99 575.832 L2389.35 592.056 L2372.16 592.416 L2385.87 602.808 L2380.87 619.248 L2394.99 609.432 L2409.1 619.248 L2404.11 602.808 L2417.81 592.416 L2400.63 592.056 L2394.99 575.832 Z\" fill=\"#ffa500\" fill-rule=\"evenodd\" fill-opacity=\"1\" stroke=\"#000000\" stroke-opacity=\"1\" stroke-width=\"2.4\"/>\n",
       "<circle clip-path=\"url(#clip353)\" cx=\"2446.79\" cy=\"599.832\" r=\"21\" fill=\"#add8e6\" fill-rule=\"evenodd\" fill-opacity=\"1\" stroke=\"#000000\" stroke-opacity=\"1\" stroke-width=\"2.4\"/>\n",
       "<circle clip-path=\"url(#clip353)\" cx=\"2498.6\" cy=\"599.832\" r=\"21\" fill=\"#add8e6\" fill-rule=\"evenodd\" fill-opacity=\"1\" stroke=\"#000000\" stroke-opacity=\"1\" stroke-width=\"2.4\"/>\n",
       "<circle clip-path=\"url(#clip353)\" cx=\"2550.4\" cy=\"599.832\" r=\"21\" fill=\"#add8e6\" fill-rule=\"evenodd\" fill-opacity=\"1\" stroke=\"#000000\" stroke-opacity=\"1\" stroke-width=\"2.4\"/>\n",
       "<circle clip-path=\"url(#clip353)\" cx=\"2602.21\" cy=\"599.832\" r=\"21\" fill=\"#add8e6\" fill-rule=\"evenodd\" fill-opacity=\"1\" stroke=\"#000000\" stroke-opacity=\"1\" stroke-width=\"2.4\"/>\n",
       "<circle clip-path=\"url(#clip353)\" cx=\"2654.01\" cy=\"599.832\" r=\"21\" fill=\"#add8e6\" fill-rule=\"evenodd\" fill-opacity=\"1\" stroke=\"#000000\" stroke-opacity=\"1\" stroke-width=\"2.4\"/>\n",
       "<circle clip-path=\"url(#clip353)\" cx=\"2705.82\" cy=\"599.832\" r=\"21\" fill=\"#add8e6\" fill-rule=\"evenodd\" fill-opacity=\"1\" stroke=\"#000000\" stroke-opacity=\"1\" stroke-width=\"2.4\"/>\n",
       "<circle clip-path=\"url(#clip353)\" cx=\"2757.62\" cy=\"599.832\" r=\"21\" fill=\"#add8e6\" fill-rule=\"evenodd\" fill-opacity=\"1\" stroke=\"#000000\" stroke-opacity=\"1\" stroke-width=\"2.4\"/>\n",
       "<path clip-path=\"url(#clip353)\" d=\"M2809.42 575.832 L2803.78 592.056 L2786.6 592.416 L2800.3 602.808 L2795.31 619.248 L2809.42 609.432 L2823.54 619.248 L2818.54 602.808 L2832.25 592.416 L2815.06 592.056 L2809.42 575.832 Z\" fill=\"#add8e6\" fill-rule=\"evenodd\" fill-opacity=\"1\" stroke=\"#000000\" stroke-opacity=\"1\" stroke-width=\"2.4\"/>\n",
       "<path clip-path=\"url(#clip353)\" d=\"M2861.23 575.832 L2855.59 592.056 L2838.41 592.416 L2852.11 602.808 L2847.12 619.248 L2861.23 609.432 L2875.34 619.248 L2870.35 602.808 L2884.05 592.416 L2866.87 592.056 L2861.23 575.832 Z\" fill=\"#add8e6\" fill-rule=\"evenodd\" fill-opacity=\"1\" stroke=\"#000000\" stroke-opacity=\"1\" stroke-width=\"2.4\"/>\n",
       "<path clip-path=\"url(#clip353)\" d=\"M2913.03 575.832 L2907.39 592.056 L2890.21 592.416 L2903.91 602.808 L2898.92 619.248 L2913.03 609.432 L2927.15 619.248 L2922.15 602.808 L2935.86 592.416 L2918.67 592.056 L2913.03 575.832 Z\" fill=\"#add8e6\" fill-rule=\"evenodd\" fill-opacity=\"1\" stroke=\"#000000\" stroke-opacity=\"1\" stroke-width=\"2.4\"/>\n",
       "<path clip-path=\"url(#clip353)\" d=\"M2964.84 575.832 L2959.2 592.056 L2942.02 592.416 L2955.72 602.808 L2950.73 619.248 L2964.84 609.432 L2978.95 619.248 L2973.96 602.808 L2987.66 592.416 L2970.48 592.056 L2964.84 575.832 Z\" fill=\"#add8e6\" fill-rule=\"evenodd\" fill-opacity=\"1\" stroke=\"#000000\" stroke-opacity=\"1\" stroke-width=\"2.4\"/>\n",
       "<path clip-path=\"url(#clip353)\" d=\"M3016.64 575.832 L3011 592.056 L2993.82 592.416 L3007.52 602.808 L3002.53 619.248 L3016.64 609.432 L3030.76 619.248 L3025.76 602.808 L3039.47 592.416 L3022.28 592.056 L3016.64 575.832 Z\" fill=\"#add8e6\" fill-rule=\"evenodd\" fill-opacity=\"1\" stroke=\"#000000\" stroke-opacity=\"1\" stroke-width=\"2.4\"/>\n",
       "<path clip-path=\"url(#clip353)\" d=\"M3068.45 575.832 L3062.81 592.056 L3045.62 592.416 L3059.33 602.808 L3054.34 619.248 L3068.45 609.432 L3082.56 619.248 L3077.57 602.808 L3091.27 592.416 L3074.09 592.056 L3068.45 575.832 Z\" fill=\"#add8e6\" fill-rule=\"evenodd\" fill-opacity=\"1\" stroke=\"#000000\" stroke-opacity=\"1\" stroke-width=\"2.4\"/>\n",
       "<path clip-path=\"url(#clip353)\" d=\"M3120.25 575.832 L3114.61 592.056 L3097.43 592.416 L3111.13 602.808 L3106.14 619.248 L3120.25 609.432 L3134.37 619.248 L3129.37 602.808 L3143.08 592.416 L3125.89 592.056 L3120.25 575.832 Z\" fill=\"#add8e6\" fill-rule=\"evenodd\" fill-opacity=\"1\" stroke=\"#000000\" stroke-opacity=\"1\" stroke-width=\"2.4\"/>\n",
       "<path clip-path=\"url(#clip353)\" d=\"M3172.06 575.832 L3166.42 592.056 L3149.23 592.416 L3162.94 602.808 L3157.95 619.248 L3172.06 609.432 L3186.17 619.248 L3181.18 602.808 L3194.88 592.416 L3177.7 592.056 L3172.06 575.832 Z\" fill=\"#add8e6\" fill-rule=\"evenodd\" fill-opacity=\"1\" stroke=\"#000000\" stroke-opacity=\"1\" stroke-width=\"2.4\"/>\n",
       "<path clip-path=\"url(#clip353)\" d=\"M3223.86 575.832 L3218.22 592.056 L3201.04 592.416 L3214.74 602.808 L3209.75 619.248 L3223.86 609.432 L3237.97 619.248 L3232.98 602.808 L3246.69 592.416 L3229.5 592.056 L3223.86 575.832 Z\" fill=\"#add8e6\" fill-rule=\"evenodd\" fill-opacity=\"1\" stroke=\"#000000\" stroke-opacity=\"1\" stroke-width=\"2.4\"/>\n",
       "<path clip-path=\"url(#clip353)\" d=\"M3275.67 575.832 L3270.03 592.056 L3252.84 592.416 L3266.55 602.808 L3261.56 619.248 L3275.67 609.432 L3289.78 619.248 L3284.79 602.808 L3298.49 592.416 L3281.31 592.056 L3275.67 575.832 Z\" fill=\"#add8e6\" fill-rule=\"evenodd\" fill-opacity=\"1\" stroke=\"#000000\" stroke-opacity=\"1\" stroke-width=\"2.4\"/>\n",
       "<path clip-path=\"url(#clip353)\" d=\"M3327.47 575.832 L3321.83 592.056 L3304.65 592.416 L3318.35 602.808 L3313.36 619.248 L3327.47 609.432 L3341.58 619.248 L3336.59 602.808 L3350.3 592.416 L3333.11 592.056 L3327.47 575.832 Z\" fill=\"#add8e6\" fill-rule=\"evenodd\" fill-opacity=\"1\" stroke=\"#000000\" stroke-opacity=\"1\" stroke-width=\"2.4\"/>\n",
       "<circle clip-path=\"url(#clip353)\" cx=\"3379.28\" cy=\"599.832\" r=\"21\" fill=\"#ffa500\" fill-rule=\"evenodd\" fill-opacity=\"1\" stroke=\"#000000\" stroke-opacity=\"1\" stroke-width=\"2.4\"/>\n",
       "<path clip-path=\"url(#clip353)\" d=\"M3431.08 575.832 L3425.44 592.056 L3408.26 592.416 L3421.96 602.808 L3416.97 619.248 L3431.08 609.432 L3445.19 619.248 L3440.2 602.808 L3453.91 592.416 L3436.72 592.056 L3431.08 575.832 Z\" fill=\"#add8e6\" fill-rule=\"evenodd\" fill-opacity=\"1\" stroke=\"#000000\" stroke-opacity=\"1\" stroke-width=\"2.4\"/>\n",
       "<path clip-path=\"url(#clip353)\" d=\"M3482.89 575.832 L3477.25 592.056 L3460.06 592.416 L3473.77 602.808 L3468.77 619.248 L3482.89 609.432 L3497 619.248 L3492.01 602.808 L3505.71 592.416 L3488.53 592.056 L3482.89 575.832 Z\" fill=\"#add8e6\" fill-rule=\"evenodd\" fill-opacity=\"1\" stroke=\"#000000\" stroke-opacity=\"1\" stroke-width=\"2.4\"/>\n",
       "<circle clip-path=\"url(#clip353)\" cx=\"3534.69\" cy=\"599.832\" r=\"21\" fill=\"#ffa500\" fill-rule=\"evenodd\" fill-opacity=\"1\" stroke=\"#000000\" stroke-opacity=\"1\" stroke-width=\"2.4\"/>\n",
       "<circle clip-path=\"url(#clip353)\" cx=\"3586.5\" cy=\"599.832\" r=\"21\" fill=\"#add8e6\" fill-rule=\"evenodd\" fill-opacity=\"1\" stroke=\"#000000\" stroke-opacity=\"1\" stroke-width=\"2.4\"/>\n",
       "<circle clip-path=\"url(#clip353)\" cx=\"3638.3\" cy=\"599.832\" r=\"21\" fill=\"#add8e6\" fill-rule=\"evenodd\" fill-opacity=\"1\" stroke=\"#000000\" stroke-opacity=\"1\" stroke-width=\"2.4\"/>\n",
       "<path clip-path=\"url(#clip353)\" d=\"M3690.11 575.832 L3684.47 592.056 L3667.28 592.416 L3680.99 602.808 L3675.99 619.248 L3690.11 609.432 L3704.22 619.248 L3699.23 602.808 L3712.93 592.416 L3695.75 592.056 L3690.11 575.832 Z\" fill=\"#ffa500\" fill-rule=\"evenodd\" fill-opacity=\"1\" stroke=\"#000000\" stroke-opacity=\"1\" stroke-width=\"2.4\"/>\n",
       "<path clip-path=\"url(#clip353)\" d=\"M3741.91 575.832 L3736.27 592.056 L3719.09 592.416 L3732.79 602.808 L3727.8 619.248 L3741.91 609.432 L3756.02 619.248 L3751.03 602.808 L3764.73 592.416 L3747.55 592.056 L3741.91 575.832 Z\" fill=\"#ffa500\" fill-rule=\"evenodd\" fill-opacity=\"1\" stroke=\"#000000\" stroke-opacity=\"1\" stroke-width=\"2.4\"/>\n",
       "<circle clip-path=\"url(#clip353)\" cx=\"3793.72\" cy=\"599.832\" r=\"21\" fill=\"#add8e6\" fill-rule=\"evenodd\" fill-opacity=\"1\" stroke=\"#000000\" stroke-opacity=\"1\" stroke-width=\"2.4\"/>\n",
       "<circle clip-path=\"url(#clip353)\" cx=\"3845.52\" cy=\"599.832\" r=\"21\" fill=\"#add8e6\" fill-rule=\"evenodd\" fill-opacity=\"1\" stroke=\"#000000\" stroke-opacity=\"1\" stroke-width=\"2.4\"/>\n",
       "<path clip-path=\"url(#clip350)\" d=\"\n",
       "M163.756 1109.46 L3952.76 1109.46 L3952.76 890.208 L163.756 890.208  Z\n",
       "  \" fill=\"#ffffff\" fill-rule=\"evenodd\" fill-opacity=\"1\"/>\n",
       "<defs>\n",
       "  <clipPath id=\"clip354\">\n",
       "    <rect x=\"163\" y=\"890\" width=\"3790\" height=\"220\"/>\n",
       "  </clipPath>\n",
       "</defs>\n",
       "<path clip-path=\"url(#clip350)\" d=\"M 0 0 M1971.89 816.755 L1971.89 825.383 Q1967.76 821.535 1963.06 819.631 Q1958.4 817.727 1953.13 817.727 Q1942.76 817.727 1937.26 824.087 Q1931.75 830.406 1931.75 842.397 Q1931.75 854.347 1937.26 860.707 Q1942.76 867.026 1953.13 867.026 Q1958.4 867.026 1963.06 865.122 Q1967.76 863.218 1971.89 859.37 L1971.89 867.917 Q1967.6 870.834 1962.78 872.292 Q1958 873.751 1952.65 873.751 Q1938.92 873.751 1931.02 865.365 Q1923.12 856.94 1923.12 842.397 Q1923.12 827.814 1931.02 819.428 Q1938.92 811.002 1952.65 811.002 Q1958.08 811.002 1962.86 812.461 Q1967.68 813.878 1971.89 816.755 Z\" fill=\"#000000\" fill-rule=\"evenodd\" fill-opacity=\"1\" /><path clip-path=\"url(#clip350)\" d=\"M 0 0 M1998.59 876.789 Q1995.43 884.891 1992.43 887.362 Q1989.43 889.833 1984.41 889.833 L1978.45 889.833 L1978.45 883.594 L1982.83 883.594 Q1985.91 883.594 1987.61 882.136 Q1989.31 880.678 1991.38 875.25 L1992.71 871.847 L1974.36 827.206 L1982.26 827.206 L1996.44 862.692 L2010.62 827.206 L2018.52 827.206 L1998.59 876.789 Z\" fill=\"#000000\" fill-rule=\"evenodd\" fill-opacity=\"1\" /><path clip-path=\"url(#clip350)\" d=\"M 0 0 M2058.98 828.948 L2058.98 835.915 Q2055.83 834.173 2052.63 833.323 Q2049.47 832.432 2046.22 832.432 Q2038.97 832.432 2034.96 837.05 Q2030.95 841.627 2030.95 849.931 Q2030.95 858.236 2034.96 862.854 Q2038.97 867.431 2046.22 867.431 Q2049.47 867.431 2052.63 866.581 Q2055.83 865.689 2058.98 863.948 L2058.98 870.834 Q2055.87 872.292 2052.5 873.022 Q2049.18 873.751 2045.41 873.751 Q2035.17 873.751 2029.13 867.31 Q2023.09 860.869 2023.09 849.931 Q2023.09 838.832 2029.17 832.472 Q2035.29 826.112 2045.9 826.112 Q2049.34 826.112 2052.63 826.841 Q2055.91 827.53 2058.98 828.948 Z\" fill=\"#000000\" fill-rule=\"evenodd\" fill-opacity=\"1\" /><path clip-path=\"url(#clip350)\" d=\"M 0 0 M2066.8 809.544 L2074.26 809.544 L2074.26 872.576 L2066.8 872.576 L2066.8 809.544 Z\" fill=\"#000000\" fill-rule=\"evenodd\" fill-opacity=\"1\" /><path clip-path=\"url(#clip350)\" d=\"M 0 0 M2120.88 848.028 L2120.88 851.673 L2086.61 851.673 Q2087.1 859.37 2091.23 863.421 Q2095.4 867.431 2102.82 867.431 Q2107.11 867.431 2111.12 866.378 Q2115.17 865.325 2119.14 863.218 L2119.14 870.267 Q2115.13 871.968 2110.92 872.86 Q2106.7 873.751 2102.37 873.751 Q2091.51 873.751 2085.15 867.431 Q2078.83 861.112 2078.83 850.337 Q2078.83 839.197 2084.83 832.675 Q2090.87 826.112 2101.07 826.112 Q2110.23 826.112 2115.54 832.026 Q2120.88 837.9 2120.88 848.028 M2113.43 845.84 Q2113.35 839.723 2109.99 836.077 Q2106.66 832.432 2101.15 832.432 Q2094.92 832.432 2091.15 835.956 Q2087.42 839.48 2086.86 845.881 L2113.43 845.84 Z\" fill=\"#000000\" fill-rule=\"evenodd\" fill-opacity=\"1\" /><path clip-path=\"url(#clip350)\" d=\"M 0 0 M2180.92 839.966 Q2186.79 841.222 2190.07 845.192 Q2193.39 849.162 2193.39 854.995 Q2193.39 863.948 2187.24 868.849 Q2181.08 873.751 2169.74 873.751 Q2165.93 873.751 2161.88 872.981 Q2157.87 872.252 2153.57 870.753 L2153.57 862.854 Q2156.98 864.839 2161.03 865.851 Q2165.08 866.864 2169.49 866.864 Q2177.19 866.864 2181.2 863.826 Q2185.25 860.788 2185.25 854.995 Q2185.25 849.648 2181.48 846.65 Q2177.76 843.612 2171.07 843.612 L2164.02 843.612 L2164.02 836.888 L2171.4 836.888 Q2177.43 836.888 2180.63 834.498 Q2183.83 832.067 2183.83 827.53 Q2183.83 822.871 2180.51 820.4 Q2177.23 817.889 2171.07 817.889 Q2167.71 817.889 2163.86 818.618 Q2160.01 819.347 2155.4 820.886 L2155.4 813.595 Q2160.06 812.299 2164.11 811.65 Q2168.2 811.002 2171.8 811.002 Q2181.12 811.002 2186.55 815.256 Q2191.98 819.469 2191.98 826.679 Q2191.98 831.702 2189.1 835.186 Q2186.22 838.629 2180.92 839.966 Z\" fill=\"#000000\" fill-rule=\"evenodd\" fill-opacity=\"1\" /><circle clip-path=\"url(#clip354)\" cx=\"270.992\" cy=\"999.832\" r=\"21\" fill=\"#add8e6\" fill-rule=\"evenodd\" fill-opacity=\"1\" stroke=\"#000000\" stroke-opacity=\"1\" stroke-width=\"2.4\"/>\n",
       "<circle clip-path=\"url(#clip354)\" cx=\"322.796\" cy=\"999.832\" r=\"21\" fill=\"#add8e6\" fill-rule=\"evenodd\" fill-opacity=\"1\" stroke=\"#000000\" stroke-opacity=\"1\" stroke-width=\"2.4\"/>\n",
       "<circle clip-path=\"url(#clip354)\" cx=\"374.601\" cy=\"999.832\" r=\"21\" fill=\"#add8e6\" fill-rule=\"evenodd\" fill-opacity=\"1\" stroke=\"#000000\" stroke-opacity=\"1\" stroke-width=\"2.4\"/>\n",
       "<circle clip-path=\"url(#clip354)\" cx=\"426.406\" cy=\"999.832\" r=\"21\" fill=\"#add8e6\" fill-rule=\"evenodd\" fill-opacity=\"1\" stroke=\"#000000\" stroke-opacity=\"1\" stroke-width=\"2.4\"/>\n",
       "<circle clip-path=\"url(#clip354)\" cx=\"478.211\" cy=\"999.832\" r=\"21\" fill=\"#add8e6\" fill-rule=\"evenodd\" fill-opacity=\"1\" stroke=\"#000000\" stroke-opacity=\"1\" stroke-width=\"2.4\"/>\n",
       "<circle clip-path=\"url(#clip354)\" cx=\"530.015\" cy=\"999.832\" r=\"21\" fill=\"#add8e6\" fill-rule=\"evenodd\" fill-opacity=\"1\" stroke=\"#000000\" stroke-opacity=\"1\" stroke-width=\"2.4\"/>\n",
       "<circle clip-path=\"url(#clip354)\" cx=\"581.82\" cy=\"999.832\" r=\"21\" fill=\"#add8e6\" fill-rule=\"evenodd\" fill-opacity=\"1\" stroke=\"#000000\" stroke-opacity=\"1\" stroke-width=\"2.4\"/>\n",
       "<circle clip-path=\"url(#clip354)\" cx=\"633.625\" cy=\"999.832\" r=\"21\" fill=\"#add8e6\" fill-rule=\"evenodd\" fill-opacity=\"1\" stroke=\"#000000\" stroke-opacity=\"1\" stroke-width=\"2.4\"/>\n",
       "<circle clip-path=\"url(#clip354)\" cx=\"685.43\" cy=\"999.832\" r=\"21\" fill=\"#add8e6\" fill-rule=\"evenodd\" fill-opacity=\"1\" stroke=\"#000000\" stroke-opacity=\"1\" stroke-width=\"2.4\"/>\n",
       "<circle clip-path=\"url(#clip354)\" cx=\"737.234\" cy=\"999.832\" r=\"21\" fill=\"#add8e6\" fill-rule=\"evenodd\" fill-opacity=\"1\" stroke=\"#000000\" stroke-opacity=\"1\" stroke-width=\"2.4\"/>\n",
       "<circle clip-path=\"url(#clip354)\" cx=\"789.039\" cy=\"999.832\" r=\"21\" fill=\"#add8e6\" fill-rule=\"evenodd\" fill-opacity=\"1\" stroke=\"#000000\" stroke-opacity=\"1\" stroke-width=\"2.4\"/>\n",
       "<circle clip-path=\"url(#clip354)\" cx=\"840.844\" cy=\"999.832\" r=\"21\" fill=\"#add8e6\" fill-rule=\"evenodd\" fill-opacity=\"1\" stroke=\"#000000\" stroke-opacity=\"1\" stroke-width=\"2.4\"/>\n",
       "<path clip-path=\"url(#clip354)\" d=\"M892.649 975.832 L887.009 992.056 L869.825 992.416 L883.529 1002.81 L878.537 1019.25 L892.649 1009.43 L906.761 1019.25 L901.769 1002.81 L915.473 992.416 L898.289 992.056 L892.649 975.832 Z\" fill=\"#add8e6\" fill-rule=\"evenodd\" fill-opacity=\"1\" stroke=\"#000000\" stroke-opacity=\"1\" stroke-width=\"2.4\"/>\n",
       "<path clip-path=\"url(#clip354)\" d=\"M944.453 975.832 L938.813 992.056 L921.629 992.416 L935.333 1002.81 L930.341 1019.25 L944.453 1009.43 L958.565 1019.25 L953.573 1002.81 L967.277 992.416 L950.093 992.056 L944.453 975.832 Z\" fill=\"#add8e6\" fill-rule=\"evenodd\" fill-opacity=\"1\" stroke=\"#000000\" stroke-opacity=\"1\" stroke-width=\"2.4\"/>\n",
       "<path clip-path=\"url(#clip354)\" d=\"M996.258 975.832 L990.618 992.056 L973.434 992.416 L987.138 1002.81 L982.146 1019.25 L996.258 1009.43 L1010.37 1019.25 L1005.38 1002.81 L1019.08 992.416 L1001.9 992.056 L996.258 975.832 Z\" fill=\"#add8e6\" fill-rule=\"evenodd\" fill-opacity=\"1\" stroke=\"#000000\" stroke-opacity=\"1\" stroke-width=\"2.4\"/>\n",
       "<path clip-path=\"url(#clip354)\" d=\"M1048.06 975.832 L1042.42 992.056 L1025.24 992.416 L1038.94 1002.81 L1033.95 1019.25 L1048.06 1009.43 L1062.17 1019.25 L1057.18 1002.81 L1070.89 992.416 L1053.7 992.056 L1048.06 975.832 Z\" fill=\"#add8e6\" fill-rule=\"evenodd\" fill-opacity=\"1\" stroke=\"#000000\" stroke-opacity=\"1\" stroke-width=\"2.4\"/>\n",
       "<path clip-path=\"url(#clip354)\" d=\"M1099.87 975.832 L1094.23 992.056 L1077.04 992.416 L1090.75 1002.81 L1085.76 1019.25 L1099.87 1009.43 L1113.98 1019.25 L1108.99 1002.81 L1122.69 992.416 L1105.51 992.056 L1099.87 975.832 Z\" fill=\"#add8e6\" fill-rule=\"evenodd\" fill-opacity=\"1\" stroke=\"#000000\" stroke-opacity=\"1\" stroke-width=\"2.4\"/>\n",
       "<path clip-path=\"url(#clip354)\" d=\"M1151.67 975.832 L1146.03 992.056 L1128.85 992.416 L1142.55 1002.81 L1137.56 1019.25 L1151.67 1009.43 L1165.78 1019.25 L1160.79 1002.81 L1174.5 992.416 L1157.31 992.056 L1151.67 975.832 Z\" fill=\"#add8e6\" fill-rule=\"evenodd\" fill-opacity=\"1\" stroke=\"#000000\" stroke-opacity=\"1\" stroke-width=\"2.4\"/>\n",
       "<path clip-path=\"url(#clip354)\" d=\"M1203.48 975.832 L1197.84 992.056 L1180.65 992.416 L1194.36 1002.81 L1189.37 1019.25 L1203.48 1009.43 L1217.59 1019.25 L1212.6 1002.81 L1226.3 992.416 L1209.12 992.056 L1203.48 975.832 Z\" fill=\"#add8e6\" fill-rule=\"evenodd\" fill-opacity=\"1\" stroke=\"#000000\" stroke-opacity=\"1\" stroke-width=\"2.4\"/>\n",
       "<path clip-path=\"url(#clip354)\" d=\"M1255.28 975.832 L1249.64 992.056 L1232.46 992.416 L1246.16 1002.81 L1241.17 1019.25 L1255.28 1009.43 L1269.39 1019.25 L1264.4 1002.81 L1278.11 992.416 L1260.92 992.056 L1255.28 975.832 Z\" fill=\"#add8e6\" fill-rule=\"evenodd\" fill-opacity=\"1\" stroke=\"#000000\" stroke-opacity=\"1\" stroke-width=\"2.4\"/>\n",
       "<path clip-path=\"url(#clip354)\" d=\"M1307.09 975.832 L1301.45 992.056 L1284.26 992.416 L1297.97 1002.81 L1292.97 1019.25 L1307.09 1009.43 L1321.2 1019.25 L1316.21 1002.81 L1329.91 992.416 L1312.73 992.056 L1307.09 975.832 Z\" fill=\"#add8e6\" fill-rule=\"evenodd\" fill-opacity=\"1\" stroke=\"#000000\" stroke-opacity=\"1\" stroke-width=\"2.4\"/>\n",
       "<path clip-path=\"url(#clip354)\" d=\"M1358.89 975.832 L1353.25 992.056 L1336.07 992.416 L1349.77 1002.81 L1344.78 1019.25 L1358.89 1009.43 L1373 1019.25 L1368.01 1002.81 L1381.72 992.416 L1364.53 992.056 L1358.89 975.832 Z\" fill=\"#add8e6\" fill-rule=\"evenodd\" fill-opacity=\"1\" stroke=\"#000000\" stroke-opacity=\"1\" stroke-width=\"2.4\"/>\n",
       "<circle clip-path=\"url(#clip354)\" cx=\"1410.7\" cy=\"999.832\" r=\"21\" fill=\"#add8e6\" fill-rule=\"evenodd\" fill-opacity=\"1\" stroke=\"#000000\" stroke-opacity=\"1\" stroke-width=\"2.4\"/>\n",
       "<circle clip-path=\"url(#clip354)\" cx=\"1462.5\" cy=\"999.832\" r=\"21\" fill=\"#add8e6\" fill-rule=\"evenodd\" fill-opacity=\"1\" stroke=\"#000000\" stroke-opacity=\"1\" stroke-width=\"2.4\"/>\n",
       "<circle clip-path=\"url(#clip354)\" cx=\"1514.31\" cy=\"999.832\" r=\"21\" fill=\"#add8e6\" fill-rule=\"evenodd\" fill-opacity=\"1\" stroke=\"#000000\" stroke-opacity=\"1\" stroke-width=\"2.4\"/>\n",
       "<circle clip-path=\"url(#clip354)\" cx=\"1566.11\" cy=\"999.832\" r=\"21\" fill=\"#add8e6\" fill-rule=\"evenodd\" fill-opacity=\"1\" stroke=\"#000000\" stroke-opacity=\"1\" stroke-width=\"2.4\"/>\n",
       "<circle clip-path=\"url(#clip354)\" cx=\"1617.92\" cy=\"999.832\" r=\"21\" fill=\"#add8e6\" fill-rule=\"evenodd\" fill-opacity=\"1\" stroke=\"#000000\" stroke-opacity=\"1\" stroke-width=\"2.4\"/>\n",
       "<circle clip-path=\"url(#clip354)\" cx=\"1669.72\" cy=\"999.832\" r=\"21\" fill=\"#add8e6\" fill-rule=\"evenodd\" fill-opacity=\"1\" stroke=\"#000000\" stroke-opacity=\"1\" stroke-width=\"2.4\"/>\n",
       "<circle clip-path=\"url(#clip354)\" cx=\"1721.52\" cy=\"999.832\" r=\"21\" fill=\"#add8e6\" fill-rule=\"evenodd\" fill-opacity=\"1\" stroke=\"#000000\" stroke-opacity=\"1\" stroke-width=\"2.4\"/>\n",
       "<path clip-path=\"url(#clip354)\" d=\"M1773.33 975.832 L1767.69 992.056 L1750.51 992.416 L1764.21 1002.81 L1759.22 1019.25 L1773.33 1009.43 L1787.44 1019.25 L1782.45 1002.81 L1796.15 992.416 L1778.97 992.056 L1773.33 975.832 Z\" fill=\"#add8e6\" fill-rule=\"evenodd\" fill-opacity=\"1\" stroke=\"#000000\" stroke-opacity=\"1\" stroke-width=\"2.4\"/>\n",
       "<path clip-path=\"url(#clip354)\" d=\"M1825.13 975.832 L1819.49 992.056 L1802.31 992.416 L1816.01 1002.81 L1811.02 1019.25 L1825.13 1009.43 L1839.25 1019.25 L1834.25 1002.81 L1847.96 992.416 L1830.77 992.056 L1825.13 975.832 Z\" fill=\"#add8e6\" fill-rule=\"evenodd\" fill-opacity=\"1\" stroke=\"#000000\" stroke-opacity=\"1\" stroke-width=\"2.4\"/>\n",
       "<path clip-path=\"url(#clip354)\" d=\"M1876.94 975.832 L1871.3 992.056 L1854.12 992.416 L1867.82 1002.81 L1862.83 1019.25 L1876.94 1009.43 L1891.05 1019.25 L1886.06 1002.81 L1899.76 992.416 L1882.58 992.056 L1876.94 975.832 Z\" fill=\"#add8e6\" fill-rule=\"evenodd\" fill-opacity=\"1\" stroke=\"#000000\" stroke-opacity=\"1\" stroke-width=\"2.4\"/>\n",
       "<path clip-path=\"url(#clip354)\" d=\"M1928.74 975.832 L1923.1 992.056 L1905.92 992.416 L1919.62 1002.81 L1914.63 1019.25 L1928.74 1009.43 L1942.86 1019.25 L1937.86 1002.81 L1951.57 992.416 L1934.38 992.056 L1928.74 975.832 Z\" fill=\"#add8e6\" fill-rule=\"evenodd\" fill-opacity=\"1\" stroke=\"#000000\" stroke-opacity=\"1\" stroke-width=\"2.4\"/>\n",
       "<path clip-path=\"url(#clip354)\" d=\"M1980.55 975.832 L1974.91 992.056 L1957.72 992.416 L1971.43 1002.81 L1966.44 1019.25 L1980.55 1009.43 L1994.66 1019.25 L1989.67 1002.81 L2003.37 992.416 L1986.19 992.056 L1980.55 975.832 Z\" fill=\"#add8e6\" fill-rule=\"evenodd\" fill-opacity=\"1\" stroke=\"#000000\" stroke-opacity=\"1\" stroke-width=\"2.4\"/>\n",
       "<path clip-path=\"url(#clip354)\" d=\"M2032.35 975.832 L2026.71 992.056 L2009.53 992.416 L2023.23 1002.81 L2018.24 1019.25 L2032.35 1009.43 L2046.47 1019.25 L2041.47 1002.81 L2055.18 992.416 L2037.99 992.056 L2032.35 975.832 Z\" fill=\"#add8e6\" fill-rule=\"evenodd\" fill-opacity=\"1\" stroke=\"#000000\" stroke-opacity=\"1\" stroke-width=\"2.4\"/>\n",
       "<path clip-path=\"url(#clip354)\" d=\"M2084.16 975.832 L2078.52 992.056 L2061.33 992.416 L2075.04 1002.81 L2070.05 1019.25 L2084.16 1009.43 L2098.27 1019.25 L2093.28 1002.81 L2106.98 992.416 L2089.8 992.056 L2084.16 975.832 Z\" fill=\"#add8e6\" fill-rule=\"evenodd\" fill-opacity=\"1\" stroke=\"#000000\" stroke-opacity=\"1\" stroke-width=\"2.4\"/>\n",
       "<path clip-path=\"url(#clip354)\" d=\"M2135.96 975.832 L2130.32 992.056 L2113.14 992.416 L2126.84 1002.81 L2121.85 1019.25 L2135.96 1009.43 L2150.07 1019.25 L2145.08 1002.81 L2158.79 992.416 L2141.6 992.056 L2135.96 975.832 Z\" fill=\"#add8e6\" fill-rule=\"evenodd\" fill-opacity=\"1\" stroke=\"#000000\" stroke-opacity=\"1\" stroke-width=\"2.4\"/>\n",
       "<path clip-path=\"url(#clip354)\" d=\"M2187.77 975.832 L2182.13 992.056 L2164.94 992.416 L2178.65 1002.81 L2173.66 1019.25 L2187.77 1009.43 L2201.88 1019.25 L2196.89 1002.81 L2210.59 992.416 L2193.41 992.056 L2187.77 975.832 Z\" fill=\"#add8e6\" fill-rule=\"evenodd\" fill-opacity=\"1\" stroke=\"#000000\" stroke-opacity=\"1\" stroke-width=\"2.4\"/>\n",
       "<path clip-path=\"url(#clip354)\" d=\"M2239.57 975.832 L2233.93 992.056 L2216.75 992.416 L2230.45 1002.81 L2225.46 1019.25 L2239.57 1009.43 L2253.68 1019.25 L2248.69 1002.81 L2262.4 992.416 L2245.21 992.056 L2239.57 975.832 Z\" fill=\"#add8e6\" fill-rule=\"evenodd\" fill-opacity=\"1\" stroke=\"#000000\" stroke-opacity=\"1\" stroke-width=\"2.4\"/>\n",
       "<circle clip-path=\"url(#clip354)\" cx=\"2291.38\" cy=\"999.832\" r=\"21\" fill=\"#add8e6\" fill-rule=\"evenodd\" fill-opacity=\"1\" stroke=\"#000000\" stroke-opacity=\"1\" stroke-width=\"2.4\"/>\n",
       "<circle clip-path=\"url(#clip354)\" cx=\"2343.18\" cy=\"999.832\" r=\"21\" fill=\"#add8e6\" fill-rule=\"evenodd\" fill-opacity=\"1\" stroke=\"#000000\" stroke-opacity=\"1\" stroke-width=\"2.4\"/>\n",
       "<circle clip-path=\"url(#clip354)\" cx=\"2394.99\" cy=\"999.832\" r=\"21\" fill=\"#add8e6\" fill-rule=\"evenodd\" fill-opacity=\"1\" stroke=\"#000000\" stroke-opacity=\"1\" stroke-width=\"2.4\"/>\n",
       "<circle clip-path=\"url(#clip354)\" cx=\"2446.79\" cy=\"999.832\" r=\"21\" fill=\"#add8e6\" fill-rule=\"evenodd\" fill-opacity=\"1\" stroke=\"#000000\" stroke-opacity=\"1\" stroke-width=\"2.4\"/>\n",
       "<circle clip-path=\"url(#clip354)\" cx=\"2498.6\" cy=\"999.832\" r=\"21\" fill=\"#add8e6\" fill-rule=\"evenodd\" fill-opacity=\"1\" stroke=\"#000000\" stroke-opacity=\"1\" stroke-width=\"2.4\"/>\n",
       "<circle clip-path=\"url(#clip354)\" cx=\"2550.4\" cy=\"999.832\" r=\"21\" fill=\"#add8e6\" fill-rule=\"evenodd\" fill-opacity=\"1\" stroke=\"#000000\" stroke-opacity=\"1\" stroke-width=\"2.4\"/>\n",
       "<circle clip-path=\"url(#clip354)\" cx=\"2602.21\" cy=\"999.832\" r=\"21\" fill=\"#add8e6\" fill-rule=\"evenodd\" fill-opacity=\"1\" stroke=\"#000000\" stroke-opacity=\"1\" stroke-width=\"2.4\"/>\n",
       "<circle clip-path=\"url(#clip354)\" cx=\"2654.01\" cy=\"999.832\" r=\"21\" fill=\"#add8e6\" fill-rule=\"evenodd\" fill-opacity=\"1\" stroke=\"#000000\" stroke-opacity=\"1\" stroke-width=\"2.4\"/>\n",
       "<circle clip-path=\"url(#clip354)\" cx=\"2705.82\" cy=\"999.832\" r=\"21\" fill=\"#add8e6\" fill-rule=\"evenodd\" fill-opacity=\"1\" stroke=\"#000000\" stroke-opacity=\"1\" stroke-width=\"2.4\"/>\n",
       "<circle clip-path=\"url(#clip354)\" cx=\"2757.62\" cy=\"999.832\" r=\"21\" fill=\"#add8e6\" fill-rule=\"evenodd\" fill-opacity=\"1\" stroke=\"#000000\" stroke-opacity=\"1\" stroke-width=\"2.4\"/>\n",
       "<path clip-path=\"url(#clip354)\" d=\"M2809.42 975.832 L2803.78 992.056 L2786.6 992.416 L2800.3 1002.81 L2795.31 1019.25 L2809.42 1009.43 L2823.54 1019.25 L2818.54 1002.81 L2832.25 992.416 L2815.06 992.056 L2809.42 975.832 Z\" fill=\"#add8e6\" fill-rule=\"evenodd\" fill-opacity=\"1\" stroke=\"#000000\" stroke-opacity=\"1\" stroke-width=\"2.4\"/>\n",
       "<path clip-path=\"url(#clip354)\" d=\"M2861.23 975.832 L2855.59 992.056 L2838.41 992.416 L2852.11 1002.81 L2847.12 1019.25 L2861.23 1009.43 L2875.34 1019.25 L2870.35 1002.81 L2884.05 992.416 L2866.87 992.056 L2861.23 975.832 Z\" fill=\"#add8e6\" fill-rule=\"evenodd\" fill-opacity=\"1\" stroke=\"#000000\" stroke-opacity=\"1\" stroke-width=\"2.4\"/>\n",
       "<path clip-path=\"url(#clip354)\" d=\"M2913.03 975.832 L2907.39 992.056 L2890.21 992.416 L2903.91 1002.81 L2898.92 1019.25 L2913.03 1009.43 L2927.15 1019.25 L2922.15 1002.81 L2935.86 992.416 L2918.67 992.056 L2913.03 975.832 Z\" fill=\"#add8e6\" fill-rule=\"evenodd\" fill-opacity=\"1\" stroke=\"#000000\" stroke-opacity=\"1\" stroke-width=\"2.4\"/>\n",
       "<path clip-path=\"url(#clip354)\" d=\"M2964.84 975.832 L2959.2 992.056 L2942.02 992.416 L2955.72 1002.81 L2950.73 1019.25 L2964.84 1009.43 L2978.95 1019.25 L2973.96 1002.81 L2987.66 992.416 L2970.48 992.056 L2964.84 975.832 Z\" fill=\"#add8e6\" fill-rule=\"evenodd\" fill-opacity=\"1\" stroke=\"#000000\" stroke-opacity=\"1\" stroke-width=\"2.4\"/>\n",
       "<path clip-path=\"url(#clip354)\" d=\"M3016.64 975.832 L3011 992.056 L2993.82 992.416 L3007.52 1002.81 L3002.53 1019.25 L3016.64 1009.43 L3030.76 1019.25 L3025.76 1002.81 L3039.47 992.416 L3022.28 992.056 L3016.64 975.832 Z\" fill=\"#add8e6\" fill-rule=\"evenodd\" fill-opacity=\"1\" stroke=\"#000000\" stroke-opacity=\"1\" stroke-width=\"2.4\"/>\n",
       "<path clip-path=\"url(#clip354)\" d=\"M3068.45 975.832 L3062.81 992.056 L3045.62 992.416 L3059.33 1002.81 L3054.34 1019.25 L3068.45 1009.43 L3082.56 1019.25 L3077.57 1002.81 L3091.27 992.416 L3074.09 992.056 L3068.45 975.832 Z\" fill=\"#add8e6\" fill-rule=\"evenodd\" fill-opacity=\"1\" stroke=\"#000000\" stroke-opacity=\"1\" stroke-width=\"2.4\"/>\n",
       "<path clip-path=\"url(#clip354)\" d=\"M3120.25 975.832 L3114.61 992.056 L3097.43 992.416 L3111.13 1002.81 L3106.14 1019.25 L3120.25 1009.43 L3134.37 1019.25 L3129.37 1002.81 L3143.08 992.416 L3125.89 992.056 L3120.25 975.832 Z\" fill=\"#add8e6\" fill-rule=\"evenodd\" fill-opacity=\"1\" stroke=\"#000000\" stroke-opacity=\"1\" stroke-width=\"2.4\"/>\n",
       "<path clip-path=\"url(#clip354)\" d=\"M3172.06 975.832 L3166.42 992.056 L3149.23 992.416 L3162.94 1002.81 L3157.95 1019.25 L3172.06 1009.43 L3186.17 1019.25 L3181.18 1002.81 L3194.88 992.416 L3177.7 992.056 L3172.06 975.832 Z\" fill=\"#add8e6\" fill-rule=\"evenodd\" fill-opacity=\"1\" stroke=\"#000000\" stroke-opacity=\"1\" stroke-width=\"2.4\"/>\n",
       "<path clip-path=\"url(#clip354)\" d=\"M3223.86 975.832 L3218.22 992.056 L3201.04 992.416 L3214.74 1002.81 L3209.75 1019.25 L3223.86 1009.43 L3237.97 1019.25 L3232.98 1002.81 L3246.69 992.416 L3229.5 992.056 L3223.86 975.832 Z\" fill=\"#add8e6\" fill-rule=\"evenodd\" fill-opacity=\"1\" stroke=\"#000000\" stroke-opacity=\"1\" stroke-width=\"2.4\"/>\n",
       "<path clip-path=\"url(#clip354)\" d=\"M3275.67 975.832 L3270.03 992.056 L3252.84 992.416 L3266.55 1002.81 L3261.56 1019.25 L3275.67 1009.43 L3289.78 1019.25 L3284.79 1002.81 L3298.49 992.416 L3281.31 992.056 L3275.67 975.832 Z\" fill=\"#add8e6\" fill-rule=\"evenodd\" fill-opacity=\"1\" stroke=\"#000000\" stroke-opacity=\"1\" stroke-width=\"2.4\"/>\n",
       "<path clip-path=\"url(#clip354)\" d=\"M3327.47 975.832 L3321.83 992.056 L3304.65 992.416 L3318.35 1002.81 L3313.36 1019.25 L3327.47 1009.43 L3341.58 1019.25 L3336.59 1002.81 L3350.3 992.416 L3333.11 992.056 L3327.47 975.832 Z\" fill=\"#add8e6\" fill-rule=\"evenodd\" fill-opacity=\"1\" stroke=\"#000000\" stroke-opacity=\"1\" stroke-width=\"2.4\"/>\n",
       "<path clip-path=\"url(#clip354)\" d=\"M3379.28 975.832 L3373.64 992.056 L3356.45 992.416 L3370.16 1002.81 L3365.17 1019.25 L3379.28 1009.43 L3393.39 1019.25 L3388.4 1002.81 L3402.1 992.416 L3384.92 992.056 L3379.28 975.832 Z\" fill=\"#add8e6\" fill-rule=\"evenodd\" fill-opacity=\"1\" stroke=\"#000000\" stroke-opacity=\"1\" stroke-width=\"2.4\"/>\n",
       "<path clip-path=\"url(#clip354)\" d=\"M3431.08 975.832 L3425.44 992.056 L3408.26 992.416 L3421.96 1002.81 L3416.97 1019.25 L3431.08 1009.43 L3445.19 1019.25 L3440.2 1002.81 L3453.91 992.416 L3436.72 992.056 L3431.08 975.832 Z\" fill=\"#add8e6\" fill-rule=\"evenodd\" fill-opacity=\"1\" stroke=\"#000000\" stroke-opacity=\"1\" stroke-width=\"2.4\"/>\n",
       "<path clip-path=\"url(#clip354)\" d=\"M3482.89 975.832 L3477.25 992.056 L3460.06 992.416 L3473.77 1002.81 L3468.77 1019.25 L3482.89 1009.43 L3497 1019.25 L3492.01 1002.81 L3505.71 992.416 L3488.53 992.056 L3482.89 975.832 Z\" fill=\"#add8e6\" fill-rule=\"evenodd\" fill-opacity=\"1\" stroke=\"#000000\" stroke-opacity=\"1\" stroke-width=\"2.4\"/>\n",
       "<path clip-path=\"url(#clip354)\" d=\"M3534.69 975.832 L3529.05 992.056 L3511.87 992.416 L3525.57 1002.81 L3520.58 1019.25 L3534.69 1009.43 L3548.8 1019.25 L3543.81 1002.81 L3557.52 992.416 L3540.33 992.056 L3534.69 975.832 Z\" fill=\"#add8e6\" fill-rule=\"evenodd\" fill-opacity=\"1\" stroke=\"#000000\" stroke-opacity=\"1\" stroke-width=\"2.4\"/>\n",
       "<circle clip-path=\"url(#clip354)\" cx=\"3586.5\" cy=\"999.832\" r=\"21\" fill=\"#add8e6\" fill-rule=\"evenodd\" fill-opacity=\"1\" stroke=\"#000000\" stroke-opacity=\"1\" stroke-width=\"2.4\"/>\n",
       "<circle clip-path=\"url(#clip354)\" cx=\"3638.3\" cy=\"999.832\" r=\"21\" fill=\"#add8e6\" fill-rule=\"evenodd\" fill-opacity=\"1\" stroke=\"#000000\" stroke-opacity=\"1\" stroke-width=\"2.4\"/>\n",
       "<circle clip-path=\"url(#clip354)\" cx=\"3690.11\" cy=\"999.832\" r=\"21\" fill=\"#add8e6\" fill-rule=\"evenodd\" fill-opacity=\"1\" stroke=\"#000000\" stroke-opacity=\"1\" stroke-width=\"2.4\"/>\n",
       "<circle clip-path=\"url(#clip354)\" cx=\"3741.91\" cy=\"999.832\" r=\"21\" fill=\"#add8e6\" fill-rule=\"evenodd\" fill-opacity=\"1\" stroke=\"#000000\" stroke-opacity=\"1\" stroke-width=\"2.4\"/>\n",
       "<circle clip-path=\"url(#clip354)\" cx=\"3793.72\" cy=\"999.832\" r=\"21\" fill=\"#add8e6\" fill-rule=\"evenodd\" fill-opacity=\"1\" stroke=\"#000000\" stroke-opacity=\"1\" stroke-width=\"2.4\"/>\n",
       "<circle clip-path=\"url(#clip354)\" cx=\"3845.52\" cy=\"999.832\" r=\"21\" fill=\"#add8e6\" fill-rule=\"evenodd\" fill-opacity=\"1\" stroke=\"#000000\" stroke-opacity=\"1\" stroke-width=\"2.4\"/>\n",
       "</svg>\n"
      ]
     },
     "execution_count": 20,
     "metadata": {},
     "output_type": "execute_result"
    }
   ],
   "source": [
    "nh, results = run_simulation(Dict(\"Stars\"=>35, \"Circle\"=>35), neighborhood_size=4, preference=0.5);\n",
    "plot_results(results)"
   ]
  },
  {
   "cell_type": "markdown",
   "metadata": {},
   "source": [
    "## Varying parameters"
   ]
  },
  {
   "cell_type": "code",
   "execution_count": 21,
   "metadata": {},
   "outputs": [
    {
     "data": {
      "text/plain": [
       "diversity_score"
      ]
     },
     "execution_count": 21,
     "metadata": {},
     "output_type": "execute_result"
    }
   ],
   "source": [
    "\"Fraction of neighbors not like yourself\"\n",
    "function diversity_score(nh, agent_id)\n",
    "    neighborhood_size = 4\n",
    "    a = nh.agents[agent_id]\n",
    "    neighbors = [\n",
    "      [nh.locations[i] for i in max(a.location - neighborhood_size, 1):a.location-1];\n",
    "      [nh.locations[i] for i in a.location+1:min(a.location + neighborhood_size, nh.size)]\n",
    "    ]\n",
    "    neighbors_kind = [a.kind for a in neighbors]\n",
    "    cmap = countmap(neighbors_kind)\n",
    "    score = 1 - (get(cmap, a.kind, 0) / length(neighbors))\n",
    "    return min(score / 0.5, 1) # 0.5 is the default agents max acceptable preference\n",
    "end"
   ]
  },
  {
   "cell_type": "code",
   "execution_count": 22,
   "metadata": {},
   "outputs": [
    {
     "data": {
      "text/plain": [
       "get_metric (generic function with 1 method)"
      ]
     },
     "execution_count": 22,
     "metadata": {},
     "output_type": "execute_result"
    }
   ],
   "source": [
    "function get_metric(simulation)\n",
    "    nh, results = simulation\n",
    "    frac_happy = sum([is_happy(nh, i) for i in 1:nh.size]) / nh.size\n",
    "    has_converged = frac_happy == 1 ? true : false\n",
    "    num_cycles = length(results) - 1 #Last plot shows final state\n",
    "    score = sum([diversity_score(nh, i) for i in 1:nh.size]) / 70 * 100 \n",
    "    return frac_happy, has_converged, num_cycles, score\n",
    "end"
   ]
  },
  {
   "cell_type": "code",
   "execution_count": 23,
   "metadata": {},
   "outputs": [],
   "source": [
    "experiment = [run_simulation(Dict(\"Stars\"=>35, \"Circle\"=>35), neighborhood_size=4, preference=0.5) for i in 1:500];"
   ]
  },
  {
   "cell_type": "markdown",
   "metadata": {},
   "source": [
    "Broadcast operator .\n",
    "- An alternative to vectorized operation which allows the caller to decide which function to vectorize  \n",
    "- `f.x` corresponds to `broadcast(f, x)`  \n",
    "- This allow nested dot calls to be fused into a single loop which makes it much more performant. See this blog post for more information: https://julialang.org/blog/2017/01/moredots/"
   ]
  },
  {
   "cell_type": "code",
   "execution_count": 24,
   "metadata": {},
   "outputs": [
    {
     "data": {
      "text/html": [
       "<table class=\"data-frame\"><thead><tr><th></th><th>frac_happy</th><th>has_converged</th><th>num_cycles</th><th>score</th><th>row</th></tr><tr><th></th><th>Float64</th><th>Bool</th><th>Int64</th><th>Float64</th><th>Int64</th></tr></thead><tbody><p>3 rows × 5 columns</p><tr><th>1</th><td>1.0</td><td>1</td><td>1</td><td>14.2857</td><td>488</td></tr><tr><th>2</th><td>1.0</td><td>1</td><td>2</td><td>21.4286</td><td>36</td></tr><tr><th>3</th><td>1.0</td><td>1</td><td>2</td><td>21.4286</td><td>182</td></tr></tbody></table>"
      ],
      "text/latex": [
       "\\begin{tabular}{r|ccccc}\n",
       "\t& frac\\_happy & has\\_converged & num\\_cycles & score & row\\\\\n",
       "\t\\hline\n",
       "\t& Float64 & Bool & Int64 & Float64 & Int64\\\\\n",
       "\t\\hline\n",
       "\t1 & 1.0 & 1 & 1 & 14.2857 & 488 \\\\\n",
       "\t2 & 1.0 & 1 & 2 & 21.4286 & 36 \\\\\n",
       "\t3 & 1.0 & 1 & 2 & 21.4286 & 182 \\\\\n",
       "\\end{tabular}\n"
      ],
      "text/plain": [
       "3×5 DataFrame\n",
       "│ Row │ frac_happy │ has_converged │ num_cycles │ score   │ row   │\n",
       "│     │ \u001b[90mFloat64\u001b[39m    │ \u001b[90mBool\u001b[39m          │ \u001b[90mInt64\u001b[39m      │ \u001b[90mFloat64\u001b[39m │ \u001b[90mInt64\u001b[39m │\n",
       "├─────┼────────────┼───────────────┼────────────┼─────────┼───────┤\n",
       "│ 1   │ 1.0        │ 1             │ 1          │ 14.2857 │ 488   │\n",
       "│ 2   │ 1.0        │ 1             │ 2          │ 21.4286 │ 36    │\n",
       "│ 3   │ 1.0        │ 1             │ 2          │ 21.4286 │ 182   │"
      ]
     },
     "execution_count": 24,
     "metadata": {},
     "output_type": "execute_result"
    }
   ],
   "source": [
    "df = get_metric.(experiment) |> DataFrame\n",
    "rename!(df, [\"frac_happy\", \"has_converged\", \"num_cycles\", \"score\"])\n",
    "df.row = axes(df, 1)\n",
    "sort!(df, :score)\n",
    "first(df, 3)"
   ]
  },
  {
   "cell_type": "code",
   "execution_count": 25,
   "metadata": {},
   "outputs": [
    {
     "data": {
      "text/html": [
       "<table class=\"data-frame\"><thead><tr><th></th><th>frac_happy</th><th>has_converged</th><th>num_cycles</th><th>score</th><th>row</th></tr><tr><th></th><th>Float64</th><th>Bool</th><th>Int64</th><th>Float64</th><th>Int64</th></tr></thead><tbody><p>3 rows × 5 columns</p><tr><th>1</th><td>0.957143</td><td>0</td><td>3</td><td>73.0816</td><td>152</td></tr><tr><th>2</th><td>0.957143</td><td>0</td><td>2</td><td>73.0816</td><td>467</td></tr><tr><th>3</th><td>0.971429</td><td>0</td><td>3</td><td>79.6871</td><td>447</td></tr></tbody></table>"
      ],
      "text/latex": [
       "\\begin{tabular}{r|ccccc}\n",
       "\t& frac\\_happy & has\\_converged & num\\_cycles & score & row\\\\\n",
       "\t\\hline\n",
       "\t& Float64 & Bool & Int64 & Float64 & Int64\\\\\n",
       "\t\\hline\n",
       "\t1 & 0.957143 & 0 & 3 & 73.0816 & 152 \\\\\n",
       "\t2 & 0.957143 & 0 & 2 & 73.0816 & 467 \\\\\n",
       "\t3 & 0.971429 & 0 & 3 & 79.6871 & 447 \\\\\n",
       "\\end{tabular}\n"
      ],
      "text/plain": [
       "3×5 DataFrame\n",
       "│ Row │ frac_happy │ has_converged │ num_cycles │ score   │ row   │\n",
       "│     │ \u001b[90mFloat64\u001b[39m    │ \u001b[90mBool\u001b[39m          │ \u001b[90mInt64\u001b[39m      │ \u001b[90mFloat64\u001b[39m │ \u001b[90mInt64\u001b[39m │\n",
       "├─────┼────────────┼───────────────┼────────────┼─────────┼───────┤\n",
       "│ 1   │ 0.957143   │ 0             │ 3          │ 73.0816 │ 152   │\n",
       "│ 2   │ 0.957143   │ 0             │ 2          │ 73.0816 │ 467   │\n",
       "│ 3   │ 0.971429   │ 0             │ 3          │ 79.6871 │ 447   │"
      ]
     },
     "execution_count": 25,
     "metadata": {},
     "output_type": "execute_result"
    }
   ],
   "source": [
    "last(df, 3)"
   ]
  },
  {
   "cell_type": "code",
   "execution_count": 26,
   "metadata": {},
   "outputs": [
    {
     "data": {
      "image/svg+xml": [
       "<?xml version=\"1.0\" encoding=\"utf-8\"?>\n",
       "<svg xmlns=\"http://www.w3.org/2000/svg\" xmlns:xlink=\"http://www.w3.org/1999/xlink\" width=\"1000\" height=\"200\" viewBox=\"0 0 4000 800\">\n",
       "<defs>\n",
       "  <clipPath id=\"clip390\">\n",
       "    <rect x=\"0\" y=\"0\" width=\"4000\" height=\"800\"/>\n",
       "  </clipPath>\n",
       "</defs>\n",
       "<path clip-path=\"url(#clip390)\" d=\"\n",
       "M0 800 L4000 800 L4000 0 L0 0  Z\n",
       "  \" fill=\"#ffffff\" fill-rule=\"evenodd\" fill-opacity=\"1\"/>\n",
       "<defs>\n",
       "  <clipPath id=\"clip391\">\n",
       "    <rect x=\"800\" y=\"0\" width=\"2801\" height=\"800\"/>\n",
       "  </clipPath>\n",
       "</defs>\n",
       "<path clip-path=\"url(#clip390)\" d=\"\n",
       "M163.756 318.64 L3952.76 318.64 L3952.76 81.1361 L163.756 81.1361  Z\n",
       "  \" fill=\"#ffffff\" fill-rule=\"evenodd\" fill-opacity=\"1\"/>\n",
       "<defs>\n",
       "  <clipPath id=\"clip392\">\n",
       "    <rect x=\"163\" y=\"81\" width=\"3790\" height=\"239\"/>\n",
       "  </clipPath>\n",
       "</defs>\n",
       "<path clip-path=\"url(#clip390)\" d=\"M 0 0 M1972.4 16.7545 L1972.4 25.383 Q1968.26 21.5346 1963.57 19.6307 Q1958.91 17.7268 1953.64 17.7268 Q1943.27 17.7268 1937.76 24.0867 Q1932.25 30.4061 1932.25 42.3968 Q1932.25 54.3469 1937.76 60.7069 Q1943.27 67.0263 1953.64 67.0263 Q1958.91 67.0263 1963.57 65.1223 Q1968.26 63.2184 1972.4 59.3701 L1972.4 67.9175 Q1968.1 70.8341 1963.28 72.2924 Q1958.5 73.7508 1953.16 73.7508 Q1939.42 73.7508 1931.52 65.3654 Q1923.62 56.9395 1923.62 42.3968 Q1923.62 27.8135 1931.52 19.4281 Q1939.42 11.0023 1953.16 11.0023 Q1958.58 11.0023 1963.36 12.4606 Q1968.18 13.8784 1972.4 16.7545 Z\" fill=\"#000000\" fill-rule=\"evenodd\" fill-opacity=\"1\" /><path clip-path=\"url(#clip390)\" d=\"M 0 0 M1999.09 76.7889 Q1995.93 84.8907 1992.93 87.3618 Q1989.94 89.8329 1984.91 89.8329 L1978.96 89.8329 L1978.96 83.5945 L1983.33 83.5945 Q1986.41 83.5945 1988.11 82.1361 Q1989.82 80.6778 1991.88 75.2496 L1993.22 71.8468 L1974.87 27.2059 L1982.77 27.2059 L1996.95 62.6918 L2011.12 27.2059 L2019.02 27.2059 L1999.09 76.7889 Z\" fill=\"#000000\" fill-rule=\"evenodd\" fill-opacity=\"1\" /><path clip-path=\"url(#clip390)\" d=\"M 0 0 M2059.49 28.9478 L2059.49 35.9153 Q2056.33 34.1734 2053.13 33.3227 Q2049.97 32.4315 2046.73 32.4315 Q2039.48 32.4315 2035.47 37.0496 Q2031.46 41.6271 2031.46 49.9314 Q2031.46 58.2358 2035.47 62.8538 Q2039.48 67.4314 2046.73 67.4314 Q2049.97 67.4314 2053.13 66.5807 Q2056.33 65.6895 2059.49 63.9476 L2059.49 70.8341 Q2056.37 72.2924 2053.01 73.0216 Q2049.69 73.7508 2045.92 73.7508 Q2035.67 73.7508 2029.64 67.3098 Q2023.6 60.8689 2023.6 49.9314 Q2023.6 38.832 2029.68 32.472 Q2035.79 26.1121 2046.41 26.1121 Q2049.85 26.1121 2053.13 26.8413 Q2056.41 27.5299 2059.49 28.9478 Z\" fill=\"#000000\" fill-rule=\"evenodd\" fill-opacity=\"1\" /><path clip-path=\"url(#clip390)\" d=\"M 0 0 M2067.31 9.54393 L2074.76 9.54393 L2074.76 72.576 L2067.31 72.576 L2067.31 9.54393 Z\" fill=\"#000000\" fill-rule=\"evenodd\" fill-opacity=\"1\" /><path clip-path=\"url(#clip390)\" d=\"M 0 0 M2121.39 48.0275 L2121.39 51.6733 L2087.12 51.6733 Q2087.6 59.3701 2091.74 63.421 Q2095.91 67.4314 2103.32 67.4314 Q2107.62 67.4314 2111.63 66.3781 Q2115.68 65.3249 2119.65 63.2184 L2119.65 70.267 Q2115.64 71.9684 2111.42 72.8596 Q2107.21 73.7508 2102.88 73.7508 Q2092.02 73.7508 2085.66 67.4314 Q2079.34 61.1119 2079.34 50.3365 Q2079.34 39.1965 2085.34 32.6746 Q2091.37 26.1121 2101.58 26.1121 Q2110.74 26.1121 2116.04 32.0264 Q2121.39 37.9003 2121.39 48.0275 M2113.94 45.84 Q2113.85 39.7232 2110.49 36.0774 Q2107.17 32.4315 2101.66 32.4315 Q2095.42 32.4315 2091.66 35.9558 Q2087.93 39.4801 2087.36 45.8805 L2113.94 45.84 Z\" fill=\"#000000\" fill-rule=\"evenodd\" fill-opacity=\"1\" /><path clip-path=\"url(#clip390)\" d=\"M 0 0 M2158.05 65.6895 L2171.42 65.6895 L2171.42 19.5497 L2156.88 22.4663 L2156.88 15.0127 L2171.34 12.096 L2179.52 12.096 L2179.52 65.6895 L2192.89 65.6895 L2192.89 72.576 L2158.05 72.576 L2158.05 65.6895 Z\" fill=\"#000000\" fill-rule=\"evenodd\" fill-opacity=\"1\" /><path clip-path=\"url(#clip392)\" d=\"M270.992 175.888 L265.352 192.112 L248.168 192.472 L261.872 202.864 L256.88 219.304 L270.992 209.488 L285.104 219.304 L280.112 202.864 L293.816 192.472 L276.632 192.112 L270.992 175.888 Z\" fill=\"#ffa500\" fill-rule=\"evenodd\" fill-opacity=\"1\" stroke=\"#000000\" stroke-opacity=\"1\" stroke-width=\"1.6\"/>\n",
       "<circle clip-path=\"url(#clip392)\" cx=\"322.796\" cy=\"199.888\" r=\"21\" fill=\"#ffa500\" fill-rule=\"evenodd\" fill-opacity=\"1\" stroke=\"#000000\" stroke-opacity=\"1\" stroke-width=\"1.6\"/>\n",
       "<circle clip-path=\"url(#clip392)\" cx=\"374.601\" cy=\"199.888\" r=\"21\" fill=\"#add8e6\" fill-rule=\"evenodd\" fill-opacity=\"1\" stroke=\"#000000\" stroke-opacity=\"1\" stroke-width=\"1.6\"/>\n",
       "<circle clip-path=\"url(#clip392)\" cx=\"426.406\" cy=\"199.888\" r=\"21\" fill=\"#ffa500\" fill-rule=\"evenodd\" fill-opacity=\"1\" stroke=\"#000000\" stroke-opacity=\"1\" stroke-width=\"1.6\"/>\n",
       "<path clip-path=\"url(#clip392)\" d=\"M478.211 175.888 L472.571 192.112 L455.387 192.472 L469.091 202.864 L464.099 219.304 L478.211 209.488 L492.323 219.304 L487.331 202.864 L501.035 192.472 L483.851 192.112 L478.211 175.888 Z\" fill=\"#ffa500\" fill-rule=\"evenodd\" fill-opacity=\"1\" stroke=\"#000000\" stroke-opacity=\"1\" stroke-width=\"1.6\"/>\n",
       "<path clip-path=\"url(#clip392)\" d=\"M530.015 175.888 L524.375 192.112 L507.191 192.472 L520.895 202.864 L515.903 219.304 L530.015 209.488 L544.127 219.304 L539.135 202.864 L552.839 192.472 L535.655 192.112 L530.015 175.888 Z\" fill=\"#ffa500\" fill-rule=\"evenodd\" fill-opacity=\"1\" stroke=\"#000000\" stroke-opacity=\"1\" stroke-width=\"1.6\"/>\n",
       "<circle clip-path=\"url(#clip392)\" cx=\"581.82\" cy=\"199.888\" r=\"21\" fill=\"#add8e6\" fill-rule=\"evenodd\" fill-opacity=\"1\" stroke=\"#000000\" stroke-opacity=\"1\" stroke-width=\"1.6\"/>\n",
       "<path clip-path=\"url(#clip392)\" d=\"M633.625 175.888 L627.985 192.112 L610.801 192.472 L624.505 202.864 L619.513 219.304 L633.625 209.488 L647.737 219.304 L642.745 202.864 L656.449 192.472 L639.265 192.112 L633.625 175.888 Z\" fill=\"#ffa500\" fill-rule=\"evenodd\" fill-opacity=\"1\" stroke=\"#000000\" stroke-opacity=\"1\" stroke-width=\"1.6\"/>\n",
       "<circle clip-path=\"url(#clip392)\" cx=\"685.43\" cy=\"199.888\" r=\"21\" fill=\"#ffa500\" fill-rule=\"evenodd\" fill-opacity=\"1\" stroke=\"#000000\" stroke-opacity=\"1\" stroke-width=\"1.6\"/>\n",
       "<path clip-path=\"url(#clip392)\" d=\"M737.234 175.888 L731.594 192.112 L714.41 192.472 L728.114 202.864 L723.122 219.304 L737.234 209.488 L751.346 219.304 L746.354 202.864 L760.058 192.472 L742.874 192.112 L737.234 175.888 Z\" fill=\"#ffa500\" fill-rule=\"evenodd\" fill-opacity=\"1\" stroke=\"#000000\" stroke-opacity=\"1\" stroke-width=\"1.6\"/>\n",
       "<circle clip-path=\"url(#clip392)\" cx=\"789.039\" cy=\"199.888\" r=\"21\" fill=\"#add8e6\" fill-rule=\"evenodd\" fill-opacity=\"1\" stroke=\"#000000\" stroke-opacity=\"1\" stroke-width=\"1.6\"/>\n",
       "<circle clip-path=\"url(#clip392)\" cx=\"840.844\" cy=\"199.888\" r=\"21\" fill=\"#ffa500\" fill-rule=\"evenodd\" fill-opacity=\"1\" stroke=\"#000000\" stroke-opacity=\"1\" stroke-width=\"1.6\"/>\n",
       "<path clip-path=\"url(#clip392)\" d=\"M892.649 175.888 L887.009 192.112 L869.825 192.472 L883.529 202.864 L878.537 219.304 L892.649 209.488 L906.761 219.304 L901.769 202.864 L915.473 192.472 L898.289 192.112 L892.649 175.888 Z\" fill=\"#add8e6\" fill-rule=\"evenodd\" fill-opacity=\"1\" stroke=\"#000000\" stroke-opacity=\"1\" stroke-width=\"1.6\"/>\n",
       "<circle clip-path=\"url(#clip392)\" cx=\"944.453\" cy=\"199.888\" r=\"21\" fill=\"#ffa500\" fill-rule=\"evenodd\" fill-opacity=\"1\" stroke=\"#000000\" stroke-opacity=\"1\" stroke-width=\"1.6\"/>\n",
       "<path clip-path=\"url(#clip392)\" d=\"M996.258 175.888 L990.618 192.112 L973.434 192.472 L987.138 202.864 L982.146 219.304 L996.258 209.488 L1010.37 219.304 L1005.38 202.864 L1019.08 192.472 L1001.9 192.112 L996.258 175.888 Z\" fill=\"#add8e6\" fill-rule=\"evenodd\" fill-opacity=\"1\" stroke=\"#000000\" stroke-opacity=\"1\" stroke-width=\"1.6\"/>\n",
       "<path clip-path=\"url(#clip392)\" d=\"M1048.06 175.888 L1042.42 192.112 L1025.24 192.472 L1038.94 202.864 L1033.95 219.304 L1048.06 209.488 L1062.17 219.304 L1057.18 202.864 L1070.89 192.472 L1053.7 192.112 L1048.06 175.888 Z\" fill=\"#add8e6\" fill-rule=\"evenodd\" fill-opacity=\"1\" stroke=\"#000000\" stroke-opacity=\"1\" stroke-width=\"1.6\"/>\n",
       "<path clip-path=\"url(#clip392)\" d=\"M1099.87 175.888 L1094.23 192.112 L1077.04 192.472 L1090.75 202.864 L1085.76 219.304 L1099.87 209.488 L1113.98 219.304 L1108.99 202.864 L1122.69 192.472 L1105.51 192.112 L1099.87 175.888 Z\" fill=\"#add8e6\" fill-rule=\"evenodd\" fill-opacity=\"1\" stroke=\"#000000\" stroke-opacity=\"1\" stroke-width=\"1.6\"/>\n",
       "<path clip-path=\"url(#clip392)\" d=\"M1151.67 175.888 L1146.03 192.112 L1128.85 192.472 L1142.55 202.864 L1137.56 219.304 L1151.67 209.488 L1165.78 219.304 L1160.79 202.864 L1174.5 192.472 L1157.31 192.112 L1151.67 175.888 Z\" fill=\"#add8e6\" fill-rule=\"evenodd\" fill-opacity=\"1\" stroke=\"#000000\" stroke-opacity=\"1\" stroke-width=\"1.6\"/>\n",
       "<circle clip-path=\"url(#clip392)\" cx=\"1203.48\" cy=\"199.888\" r=\"21\" fill=\"#ffa500\" fill-rule=\"evenodd\" fill-opacity=\"1\" stroke=\"#000000\" stroke-opacity=\"1\" stroke-width=\"1.6\"/>\n",
       "<circle clip-path=\"url(#clip392)\" cx=\"1255.28\" cy=\"199.888\" r=\"21\" fill=\"#ffa500\" fill-rule=\"evenodd\" fill-opacity=\"1\" stroke=\"#000000\" stroke-opacity=\"1\" stroke-width=\"1.6\"/>\n",
       "<path clip-path=\"url(#clip392)\" d=\"M1307.09 175.888 L1301.45 192.112 L1284.26 192.472 L1297.97 202.864 L1292.97 219.304 L1307.09 209.488 L1321.2 219.304 L1316.21 202.864 L1329.91 192.472 L1312.73 192.112 L1307.09 175.888 Z\" fill=\"#add8e6\" fill-rule=\"evenodd\" fill-opacity=\"1\" stroke=\"#000000\" stroke-opacity=\"1\" stroke-width=\"1.6\"/>\n",
       "<circle clip-path=\"url(#clip392)\" cx=\"1358.89\" cy=\"199.888\" r=\"21\" fill=\"#ffa500\" fill-rule=\"evenodd\" fill-opacity=\"1\" stroke=\"#000000\" stroke-opacity=\"1\" stroke-width=\"1.6\"/>\n",
       "<circle clip-path=\"url(#clip392)\" cx=\"1410.7\" cy=\"199.888\" r=\"21\" fill=\"#ffa500\" fill-rule=\"evenodd\" fill-opacity=\"1\" stroke=\"#000000\" stroke-opacity=\"1\" stroke-width=\"1.6\"/>\n",
       "<path clip-path=\"url(#clip392)\" d=\"M1462.5 175.888 L1456.86 192.112 L1439.68 192.472 L1453.38 202.864 L1448.39 219.304 L1462.5 209.488 L1476.61 219.304 L1471.62 202.864 L1485.33 192.472 L1468.14 192.112 L1462.5 175.888 Z\" fill=\"#add8e6\" fill-rule=\"evenodd\" fill-opacity=\"1\" stroke=\"#000000\" stroke-opacity=\"1\" stroke-width=\"1.6\"/>\n",
       "<path clip-path=\"url(#clip392)\" d=\"M1514.31 175.888 L1508.67 192.112 L1491.48 192.472 L1505.19 202.864 L1500.19 219.304 L1514.31 209.488 L1528.42 219.304 L1523.43 202.864 L1537.13 192.472 L1519.95 192.112 L1514.31 175.888 Z\" fill=\"#add8e6\" fill-rule=\"evenodd\" fill-opacity=\"1\" stroke=\"#000000\" stroke-opacity=\"1\" stroke-width=\"1.6\"/>\n",
       "<path clip-path=\"url(#clip392)\" d=\"M1566.11 175.888 L1560.47 192.112 L1543.29 192.472 L1556.99 202.864 L1552 219.304 L1566.11 209.488 L1580.22 219.304 L1575.23 202.864 L1588.93 192.472 L1571.75 192.112 L1566.11 175.888 Z\" fill=\"#add8e6\" fill-rule=\"evenodd\" fill-opacity=\"1\" stroke=\"#000000\" stroke-opacity=\"1\" stroke-width=\"1.6\"/>\n",
       "<path clip-path=\"url(#clip392)\" d=\"M1617.92 175.888 L1612.28 192.112 L1595.09 192.472 L1608.8 202.864 L1603.8 219.304 L1617.92 209.488 L1632.03 219.304 L1627.04 202.864 L1640.74 192.472 L1623.56 192.112 L1617.92 175.888 Z\" fill=\"#add8e6\" fill-rule=\"evenodd\" fill-opacity=\"1\" stroke=\"#000000\" stroke-opacity=\"1\" stroke-width=\"1.6\"/>\n",
       "<circle clip-path=\"url(#clip392)\" cx=\"1669.72\" cy=\"199.888\" r=\"21\" fill=\"#ffa500\" fill-rule=\"evenodd\" fill-opacity=\"1\" stroke=\"#000000\" stroke-opacity=\"1\" stroke-width=\"1.6\"/>\n",
       "<path clip-path=\"url(#clip392)\" d=\"M1721.52 175.888 L1715.88 192.112 L1698.7 192.472 L1712.4 202.864 L1707.41 219.304 L1721.52 209.488 L1735.64 219.304 L1730.64 202.864 L1744.35 192.472 L1727.16 192.112 L1721.52 175.888 Z\" fill=\"#add8e6\" fill-rule=\"evenodd\" fill-opacity=\"1\" stroke=\"#000000\" stroke-opacity=\"1\" stroke-width=\"1.6\"/>\n",
       "<path clip-path=\"url(#clip392)\" d=\"M1773.33 175.888 L1767.69 192.112 L1750.51 192.472 L1764.21 202.864 L1759.22 219.304 L1773.33 209.488 L1787.44 219.304 L1782.45 202.864 L1796.15 192.472 L1778.97 192.112 L1773.33 175.888 Z\" fill=\"#add8e6\" fill-rule=\"evenodd\" fill-opacity=\"1\" stroke=\"#000000\" stroke-opacity=\"1\" stroke-width=\"1.6\"/>\n",
       "<path clip-path=\"url(#clip392)\" d=\"M1825.13 175.888 L1819.49 192.112 L1802.31 192.472 L1816.01 202.864 L1811.02 219.304 L1825.13 209.488 L1839.25 219.304 L1834.25 202.864 L1847.96 192.472 L1830.77 192.112 L1825.13 175.888 Z\" fill=\"#add8e6\" fill-rule=\"evenodd\" fill-opacity=\"1\" stroke=\"#000000\" stroke-opacity=\"1\" stroke-width=\"1.6\"/>\n",
       "<path clip-path=\"url(#clip392)\" d=\"M1876.94 175.888 L1871.3 192.112 L1854.12 192.472 L1867.82 202.864 L1862.83 219.304 L1876.94 209.488 L1891.05 219.304 L1886.06 202.864 L1899.76 192.472 L1882.58 192.112 L1876.94 175.888 Z\" fill=\"#add8e6\" fill-rule=\"evenodd\" fill-opacity=\"1\" stroke=\"#000000\" stroke-opacity=\"1\" stroke-width=\"1.6\"/>\n",
       "<path clip-path=\"url(#clip392)\" d=\"M1928.74 175.888 L1923.1 192.112 L1905.92 192.472 L1919.62 202.864 L1914.63 219.304 L1928.74 209.488 L1942.86 219.304 L1937.86 202.864 L1951.57 192.472 L1934.38 192.112 L1928.74 175.888 Z\" fill=\"#add8e6\" fill-rule=\"evenodd\" fill-opacity=\"1\" stroke=\"#000000\" stroke-opacity=\"1\" stroke-width=\"1.6\"/>\n",
       "<path clip-path=\"url(#clip392)\" d=\"M1980.55 175.888 L1974.91 192.112 L1957.72 192.472 L1971.43 202.864 L1966.44 219.304 L1980.55 209.488 L1994.66 219.304 L1989.67 202.864 L2003.37 192.472 L1986.19 192.112 L1980.55 175.888 Z\" fill=\"#add8e6\" fill-rule=\"evenodd\" fill-opacity=\"1\" stroke=\"#000000\" stroke-opacity=\"1\" stroke-width=\"1.6\"/>\n",
       "<path clip-path=\"url(#clip392)\" d=\"M2032.35 175.888 L2026.71 192.112 L2009.53 192.472 L2023.23 202.864 L2018.24 219.304 L2032.35 209.488 L2046.47 219.304 L2041.47 202.864 L2055.18 192.472 L2037.99 192.112 L2032.35 175.888 Z\" fill=\"#add8e6\" fill-rule=\"evenodd\" fill-opacity=\"1\" stroke=\"#000000\" stroke-opacity=\"1\" stroke-width=\"1.6\"/>\n",
       "<path clip-path=\"url(#clip392)\" d=\"M2084.16 175.888 L2078.52 192.112 L2061.33 192.472 L2075.04 202.864 L2070.05 219.304 L2084.16 209.488 L2098.27 219.304 L2093.28 202.864 L2106.98 192.472 L2089.8 192.112 L2084.16 175.888 Z\" fill=\"#add8e6\" fill-rule=\"evenodd\" fill-opacity=\"1\" stroke=\"#000000\" stroke-opacity=\"1\" stroke-width=\"1.6\"/>\n",
       "<path clip-path=\"url(#clip392)\" d=\"M2135.96 175.888 L2130.32 192.112 L2113.14 192.472 L2126.84 202.864 L2121.85 219.304 L2135.96 209.488 L2150.07 219.304 L2145.08 202.864 L2158.79 192.472 L2141.6 192.112 L2135.96 175.888 Z\" fill=\"#add8e6\" fill-rule=\"evenodd\" fill-opacity=\"1\" stroke=\"#000000\" stroke-opacity=\"1\" stroke-width=\"1.6\"/>\n",
       "<circle clip-path=\"url(#clip392)\" cx=\"2187.77\" cy=\"199.888\" r=\"21\" fill=\"#ffa500\" fill-rule=\"evenodd\" fill-opacity=\"1\" stroke=\"#000000\" stroke-opacity=\"1\" stroke-width=\"1.6\"/>\n",
       "<path clip-path=\"url(#clip392)\" d=\"M2239.57 175.888 L2233.93 192.112 L2216.75 192.472 L2230.45 202.864 L2225.46 219.304 L2239.57 209.488 L2253.68 219.304 L2248.69 202.864 L2262.4 192.472 L2245.21 192.112 L2239.57 175.888 Z\" fill=\"#add8e6\" fill-rule=\"evenodd\" fill-opacity=\"1\" stroke=\"#000000\" stroke-opacity=\"1\" stroke-width=\"1.6\"/>\n",
       "<path clip-path=\"url(#clip392)\" d=\"M2291.38 175.888 L2285.74 192.112 L2268.55 192.472 L2282.26 202.864 L2277.27 219.304 L2291.38 209.488 L2305.49 219.304 L2300.5 202.864 L2314.2 192.472 L2297.02 192.112 L2291.38 175.888 Z\" fill=\"#add8e6\" fill-rule=\"evenodd\" fill-opacity=\"1\" stroke=\"#000000\" stroke-opacity=\"1\" stroke-width=\"1.6\"/>\n",
       "<path clip-path=\"url(#clip392)\" d=\"M2343.18 175.888 L2337.54 192.112 L2320.36 192.472 L2334.06 202.864 L2329.07 219.304 L2343.18 209.488 L2357.29 219.304 L2352.3 202.864 L2366.01 192.472 L2348.82 192.112 L2343.18 175.888 Z\" fill=\"#add8e6\" fill-rule=\"evenodd\" fill-opacity=\"1\" stroke=\"#000000\" stroke-opacity=\"1\" stroke-width=\"1.6\"/>\n",
       "<path clip-path=\"url(#clip392)\" d=\"M2394.99 175.888 L2389.35 192.112 L2372.16 192.472 L2385.87 202.864 L2380.87 219.304 L2394.99 209.488 L2409.1 219.304 L2404.11 202.864 L2417.81 192.472 L2400.63 192.112 L2394.99 175.888 Z\" fill=\"#ffa500\" fill-rule=\"evenodd\" fill-opacity=\"1\" stroke=\"#000000\" stroke-opacity=\"1\" stroke-width=\"1.6\"/>\n",
       "<circle clip-path=\"url(#clip392)\" cx=\"2446.79\" cy=\"199.888\" r=\"21\" fill=\"#add8e6\" fill-rule=\"evenodd\" fill-opacity=\"1\" stroke=\"#000000\" stroke-opacity=\"1\" stroke-width=\"1.6\"/>\n",
       "<circle clip-path=\"url(#clip392)\" cx=\"2498.6\" cy=\"199.888\" r=\"21\" fill=\"#add8e6\" fill-rule=\"evenodd\" fill-opacity=\"1\" stroke=\"#000000\" stroke-opacity=\"1\" stroke-width=\"1.6\"/>\n",
       "<circle clip-path=\"url(#clip392)\" cx=\"2550.4\" cy=\"199.888\" r=\"21\" fill=\"#add8e6\" fill-rule=\"evenodd\" fill-opacity=\"1\" stroke=\"#000000\" stroke-opacity=\"1\" stroke-width=\"1.6\"/>\n",
       "<circle clip-path=\"url(#clip392)\" cx=\"2602.21\" cy=\"199.888\" r=\"21\" fill=\"#add8e6\" fill-rule=\"evenodd\" fill-opacity=\"1\" stroke=\"#000000\" stroke-opacity=\"1\" stroke-width=\"1.6\"/>\n",
       "<circle clip-path=\"url(#clip392)\" cx=\"2654.01\" cy=\"199.888\" r=\"21\" fill=\"#add8e6\" fill-rule=\"evenodd\" fill-opacity=\"1\" stroke=\"#000000\" stroke-opacity=\"1\" stroke-width=\"1.6\"/>\n",
       "<circle clip-path=\"url(#clip392)\" cx=\"2705.82\" cy=\"199.888\" r=\"21\" fill=\"#add8e6\" fill-rule=\"evenodd\" fill-opacity=\"1\" stroke=\"#000000\" stroke-opacity=\"1\" stroke-width=\"1.6\"/>\n",
       "<circle clip-path=\"url(#clip392)\" cx=\"2757.62\" cy=\"199.888\" r=\"21\" fill=\"#add8e6\" fill-rule=\"evenodd\" fill-opacity=\"1\" stroke=\"#000000\" stroke-opacity=\"1\" stroke-width=\"1.6\"/>\n",
       "<path clip-path=\"url(#clip392)\" d=\"M2809.42 175.888 L2803.78 192.112 L2786.6 192.472 L2800.3 202.864 L2795.31 219.304 L2809.42 209.488 L2823.54 219.304 L2818.54 202.864 L2832.25 192.472 L2815.06 192.112 L2809.42 175.888 Z\" fill=\"#ffa500\" fill-rule=\"evenodd\" fill-opacity=\"1\" stroke=\"#000000\" stroke-opacity=\"1\" stroke-width=\"1.6\"/>\n",
       "<circle clip-path=\"url(#clip392)\" cx=\"2861.23\" cy=\"199.888\" r=\"21\" fill=\"#add8e6\" fill-rule=\"evenodd\" fill-opacity=\"1\" stroke=\"#000000\" stroke-opacity=\"1\" stroke-width=\"1.6\"/>\n",
       "<path clip-path=\"url(#clip392)\" d=\"M2913.03 175.888 L2907.39 192.112 L2890.21 192.472 L2903.91 202.864 L2898.92 219.304 L2913.03 209.488 L2927.15 219.304 L2922.15 202.864 L2935.86 192.472 L2918.67 192.112 L2913.03 175.888 Z\" fill=\"#ffa500\" fill-rule=\"evenodd\" fill-opacity=\"1\" stroke=\"#000000\" stroke-opacity=\"1\" stroke-width=\"1.6\"/>\n",
       "<circle clip-path=\"url(#clip392)\" cx=\"2964.84\" cy=\"199.888\" r=\"21\" fill=\"#add8e6\" fill-rule=\"evenodd\" fill-opacity=\"1\" stroke=\"#000000\" stroke-opacity=\"1\" stroke-width=\"1.6\"/>\n",
       "<circle clip-path=\"url(#clip392)\" cx=\"3016.64\" cy=\"199.888\" r=\"21\" fill=\"#add8e6\" fill-rule=\"evenodd\" fill-opacity=\"1\" stroke=\"#000000\" stroke-opacity=\"1\" stroke-width=\"1.6\"/>\n",
       "<circle clip-path=\"url(#clip392)\" cx=\"3068.45\" cy=\"199.888\" r=\"21\" fill=\"#add8e6\" fill-rule=\"evenodd\" fill-opacity=\"1\" stroke=\"#000000\" stroke-opacity=\"1\" stroke-width=\"1.6\"/>\n",
       "<circle clip-path=\"url(#clip392)\" cx=\"3120.25\" cy=\"199.888\" r=\"21\" fill=\"#add8e6\" fill-rule=\"evenodd\" fill-opacity=\"1\" stroke=\"#000000\" stroke-opacity=\"1\" stroke-width=\"1.6\"/>\n",
       "<circle clip-path=\"url(#clip392)\" cx=\"3172.06\" cy=\"199.888\" r=\"21\" fill=\"#add8e6\" fill-rule=\"evenodd\" fill-opacity=\"1\" stroke=\"#000000\" stroke-opacity=\"1\" stroke-width=\"1.6\"/>\n",
       "<path clip-path=\"url(#clip392)\" d=\"M3223.86 175.888 L3218.22 192.112 L3201.04 192.472 L3214.74 202.864 L3209.75 219.304 L3223.86 209.488 L3237.97 219.304 L3232.98 202.864 L3246.69 192.472 L3229.5 192.112 L3223.86 175.888 Z\" fill=\"#ffa500\" fill-rule=\"evenodd\" fill-opacity=\"1\" stroke=\"#000000\" stroke-opacity=\"1\" stroke-width=\"1.6\"/>\n",
       "<path clip-path=\"url(#clip392)\" d=\"M3275.67 175.888 L3270.03 192.112 L3252.84 192.472 L3266.55 202.864 L3261.56 219.304 L3275.67 209.488 L3289.78 219.304 L3284.79 202.864 L3298.49 192.472 L3281.31 192.112 L3275.67 175.888 Z\" fill=\"#ffa500\" fill-rule=\"evenodd\" fill-opacity=\"1\" stroke=\"#000000\" stroke-opacity=\"1\" stroke-width=\"1.6\"/>\n",
       "<path clip-path=\"url(#clip392)\" d=\"M3327.47 175.888 L3321.83 192.112 L3304.65 192.472 L3318.35 202.864 L3313.36 219.304 L3327.47 209.488 L3341.58 219.304 L3336.59 202.864 L3350.3 192.472 L3333.11 192.112 L3327.47 175.888 Z\" fill=\"#ffa500\" fill-rule=\"evenodd\" fill-opacity=\"1\" stroke=\"#000000\" stroke-opacity=\"1\" stroke-width=\"1.6\"/>\n",
       "<path clip-path=\"url(#clip392)\" d=\"M3379.28 175.888 L3373.64 192.112 L3356.45 192.472 L3370.16 202.864 L3365.17 219.304 L3379.28 209.488 L3393.39 219.304 L3388.4 202.864 L3402.1 192.472 L3384.92 192.112 L3379.28 175.888 Z\" fill=\"#ffa500\" fill-rule=\"evenodd\" fill-opacity=\"1\" stroke=\"#000000\" stroke-opacity=\"1\" stroke-width=\"1.6\"/>\n",
       "<circle clip-path=\"url(#clip392)\" cx=\"3431.08\" cy=\"199.888\" r=\"21\" fill=\"#add8e6\" fill-rule=\"evenodd\" fill-opacity=\"1\" stroke=\"#000000\" stroke-opacity=\"1\" stroke-width=\"1.6\"/>\n",
       "<circle clip-path=\"url(#clip392)\" cx=\"3482.89\" cy=\"199.888\" r=\"21\" fill=\"#add8e6\" fill-rule=\"evenodd\" fill-opacity=\"1\" stroke=\"#000000\" stroke-opacity=\"1\" stroke-width=\"1.6\"/>\n",
       "<circle clip-path=\"url(#clip392)\" cx=\"3534.69\" cy=\"199.888\" r=\"21\" fill=\"#add8e6\" fill-rule=\"evenodd\" fill-opacity=\"1\" stroke=\"#000000\" stroke-opacity=\"1\" stroke-width=\"1.6\"/>\n",
       "<circle clip-path=\"url(#clip392)\" cx=\"3586.5\" cy=\"199.888\" r=\"21\" fill=\"#add8e6\" fill-rule=\"evenodd\" fill-opacity=\"1\" stroke=\"#000000\" stroke-opacity=\"1\" stroke-width=\"1.6\"/>\n",
       "<circle clip-path=\"url(#clip392)\" cx=\"3638.3\" cy=\"199.888\" r=\"21\" fill=\"#add8e6\" fill-rule=\"evenodd\" fill-opacity=\"1\" stroke=\"#000000\" stroke-opacity=\"1\" stroke-width=\"1.6\"/>\n",
       "<circle clip-path=\"url(#clip392)\" cx=\"3690.11\" cy=\"199.888\" r=\"21\" fill=\"#add8e6\" fill-rule=\"evenodd\" fill-opacity=\"1\" stroke=\"#000000\" stroke-opacity=\"1\" stroke-width=\"1.6\"/>\n",
       "<path clip-path=\"url(#clip392)\" d=\"M3741.91 175.888 L3736.27 192.112 L3719.09 192.472 L3732.79 202.864 L3727.8 219.304 L3741.91 209.488 L3756.02 219.304 L3751.03 202.864 L3764.73 192.472 L3747.55 192.112 L3741.91 175.888 Z\" fill=\"#ffa500\" fill-rule=\"evenodd\" fill-opacity=\"1\" stroke=\"#000000\" stroke-opacity=\"1\" stroke-width=\"1.6\"/>\n",
       "<circle clip-path=\"url(#clip392)\" cx=\"3793.72\" cy=\"199.888\" r=\"21\" fill=\"#add8e6\" fill-rule=\"evenodd\" fill-opacity=\"1\" stroke=\"#000000\" stroke-opacity=\"1\" stroke-width=\"1.6\"/>\n",
       "<circle clip-path=\"url(#clip392)\" cx=\"3845.52\" cy=\"199.888\" r=\"21\" fill=\"#add8e6\" fill-rule=\"evenodd\" fill-opacity=\"1\" stroke=\"#000000\" stroke-opacity=\"1\" stroke-width=\"1.6\"/>\n",
       "<path clip-path=\"url(#clip390)\" d=\"\n",
       "M163.756 718.64 L3952.76 718.64 L3952.76 481.136 L163.756 481.136  Z\n",
       "  \" fill=\"#ffffff\" fill-rule=\"evenodd\" fill-opacity=\"1\"/>\n",
       "<defs>\n",
       "  <clipPath id=\"clip393\">\n",
       "    <rect x=\"163\" y=\"481\" width=\"3790\" height=\"239\"/>\n",
       "  </clipPath>\n",
       "</defs>\n",
       "<path clip-path=\"url(#clip390)\" d=\"M 0 0 M1972.72 416.755 L1972.72 425.383 Q1968.59 421.535 1963.89 419.631 Q1959.23 417.727 1953.97 417.727 Q1943.59 417.727 1938.09 424.087 Q1932.58 430.406 1932.58 442.397 Q1932.58 454.347 1938.09 460.707 Q1943.59 467.026 1953.97 467.026 Q1959.23 467.026 1963.89 465.122 Q1968.59 463.218 1972.72 459.37 L1972.72 467.917 Q1968.43 470.834 1963.61 472.292 Q1958.83 473.751 1953.48 473.751 Q1939.75 473.751 1931.85 465.365 Q1923.95 456.94 1923.95 442.397 Q1923.95 427.814 1931.85 419.428 Q1939.75 411.002 1953.48 411.002 Q1958.91 411.002 1963.69 412.461 Q1968.51 413.878 1972.72 416.755 Z\" fill=\"#000000\" fill-rule=\"evenodd\" fill-opacity=\"1\" /><path clip-path=\"url(#clip390)\" d=\"M 0 0 M1999.42 476.789 Q1996.26 484.891 1993.26 487.362 Q1990.26 489.833 1985.24 489.833 L1979.28 489.833 L1979.28 483.594 L1983.66 483.594 Q1986.74 483.594 1988.44 482.136 Q1990.14 480.678 1992.21 475.25 L1993.54 471.847 L1975.19 427.206 L1983.09 427.206 L1997.27 462.692 L2011.45 427.206 L2019.35 427.206 L1999.42 476.789 Z\" fill=\"#000000\" fill-rule=\"evenodd\" fill-opacity=\"1\" /><path clip-path=\"url(#clip390)\" d=\"M 0 0 M2059.82 428.948 L2059.82 435.915 Q2056.66 434.173 2053.46 433.323 Q2050.3 432.432 2047.06 432.432 Q2039.8 432.432 2035.79 437.05 Q2031.78 441.627 2031.78 449.931 Q2031.78 458.236 2035.79 462.854 Q2039.8 467.431 2047.06 467.431 Q2050.3 467.431 2053.46 466.581 Q2056.66 465.689 2059.82 463.948 L2059.82 470.834 Q2056.7 472.292 2053.33 473.022 Q2050.01 473.751 2046.24 473.751 Q2036 473.751 2029.96 467.31 Q2023.92 460.869 2023.92 449.931 Q2023.92 438.832 2030 432.472 Q2036.12 426.112 2046.73 426.112 Q2050.17 426.112 2053.46 426.841 Q2056.74 427.53 2059.82 428.948 Z\" fill=\"#000000\" fill-rule=\"evenodd\" fill-opacity=\"1\" /><path clip-path=\"url(#clip390)\" d=\"M 0 0 M2067.63 409.544 L2075.09 409.544 L2075.09 472.576 L2067.63 472.576 L2067.63 409.544 Z\" fill=\"#000000\" fill-rule=\"evenodd\" fill-opacity=\"1\" /><path clip-path=\"url(#clip390)\" d=\"M 0 0 M2121.71 448.028 L2121.71 451.673 L2087.44 451.673 Q2087.93 459.37 2092.06 463.421 Q2096.23 467.431 2103.65 467.431 Q2107.94 467.431 2111.95 466.378 Q2116 465.325 2119.97 463.218 L2119.97 470.267 Q2115.96 471.968 2111.75 472.86 Q2107.54 473.751 2103.2 473.751 Q2092.34 473.751 2085.98 467.431 Q2079.66 461.112 2079.66 450.337 Q2079.66 439.197 2085.66 432.675 Q2091.7 426.112 2101.9 426.112 Q2111.06 426.112 2116.37 432.026 Q2121.71 437.9 2121.71 448.028 M2114.26 445.84 Q2114.18 439.723 2110.82 436.077 Q2107.49 432.432 2101.99 432.432 Q2095.75 432.432 2091.98 435.956 Q2088.25 439.48 2087.69 445.881 L2114.26 445.84 Z\" fill=\"#000000\" fill-rule=\"evenodd\" fill-opacity=\"1\" /><path clip-path=\"url(#clip390)\" d=\"M 0 0 M2164 465.689 L2192.56 465.689 L2192.56 472.576 L2154.16 472.576 L2154.16 465.689 Q2158.82 460.869 2166.84 452.767 Q2174.9 444.625 2176.97 442.275 Q2180.9 437.86 2182.44 434.822 Q2184.02 431.743 2184.02 428.786 Q2184.02 423.965 2180.61 420.927 Q2177.25 417.889 2171.82 417.889 Q2167.97 417.889 2163.68 419.226 Q2159.43 420.562 2154.57 423.276 L2154.57 415.013 Q2159.51 413.028 2163.8 412.015 Q2168.1 411.002 2171.66 411.002 Q2181.06 411.002 2186.65 415.701 Q2192.24 420.4 2192.24 428.259 Q2192.24 431.986 2190.82 435.348 Q2189.44 438.67 2185.76 443.207 Q2184.75 444.382 2179.32 450.012 Q2173.89 455.603 2164 465.689 Z\" fill=\"#000000\" fill-rule=\"evenodd\" fill-opacity=\"1\" /><circle clip-path=\"url(#clip393)\" cx=\"270.992\" cy=\"599.888\" r=\"21\" fill=\"#add8e6\" fill-rule=\"evenodd\" fill-opacity=\"1\" stroke=\"#000000\" stroke-opacity=\"1\" stroke-width=\"1.6\"/>\n",
       "<circle clip-path=\"url(#clip393)\" cx=\"322.796\" cy=\"599.888\" r=\"21\" fill=\"#add8e6\" fill-rule=\"evenodd\" fill-opacity=\"1\" stroke=\"#000000\" stroke-opacity=\"1\" stroke-width=\"1.6\"/>\n",
       "<circle clip-path=\"url(#clip393)\" cx=\"374.601\" cy=\"599.888\" r=\"21\" fill=\"#add8e6\" fill-rule=\"evenodd\" fill-opacity=\"1\" stroke=\"#000000\" stroke-opacity=\"1\" stroke-width=\"1.6\"/>\n",
       "<circle clip-path=\"url(#clip393)\" cx=\"426.406\" cy=\"599.888\" r=\"21\" fill=\"#add8e6\" fill-rule=\"evenodd\" fill-opacity=\"1\" stroke=\"#000000\" stroke-opacity=\"1\" stroke-width=\"1.6\"/>\n",
       "<circle clip-path=\"url(#clip393)\" cx=\"478.211\" cy=\"599.888\" r=\"21\" fill=\"#add8e6\" fill-rule=\"evenodd\" fill-opacity=\"1\" stroke=\"#000000\" stroke-opacity=\"1\" stroke-width=\"1.6\"/>\n",
       "<circle clip-path=\"url(#clip393)\" cx=\"530.015\" cy=\"599.888\" r=\"21\" fill=\"#add8e6\" fill-rule=\"evenodd\" fill-opacity=\"1\" stroke=\"#000000\" stroke-opacity=\"1\" stroke-width=\"1.6\"/>\n",
       "<circle clip-path=\"url(#clip393)\" cx=\"581.82\" cy=\"599.888\" r=\"21\" fill=\"#add8e6\" fill-rule=\"evenodd\" fill-opacity=\"1\" stroke=\"#000000\" stroke-opacity=\"1\" stroke-width=\"1.6\"/>\n",
       "<circle clip-path=\"url(#clip393)\" cx=\"633.625\" cy=\"599.888\" r=\"21\" fill=\"#add8e6\" fill-rule=\"evenodd\" fill-opacity=\"1\" stroke=\"#000000\" stroke-opacity=\"1\" stroke-width=\"1.6\"/>\n",
       "<circle clip-path=\"url(#clip393)\" cx=\"685.43\" cy=\"599.888\" r=\"21\" fill=\"#add8e6\" fill-rule=\"evenodd\" fill-opacity=\"1\" stroke=\"#000000\" stroke-opacity=\"1\" stroke-width=\"1.6\"/>\n",
       "<circle clip-path=\"url(#clip393)\" cx=\"737.234\" cy=\"599.888\" r=\"21\" fill=\"#add8e6\" fill-rule=\"evenodd\" fill-opacity=\"1\" stroke=\"#000000\" stroke-opacity=\"1\" stroke-width=\"1.6\"/>\n",
       "<circle clip-path=\"url(#clip393)\" cx=\"789.039\" cy=\"599.888\" r=\"21\" fill=\"#add8e6\" fill-rule=\"evenodd\" fill-opacity=\"1\" stroke=\"#000000\" stroke-opacity=\"1\" stroke-width=\"1.6\"/>\n",
       "<circle clip-path=\"url(#clip393)\" cx=\"840.844\" cy=\"599.888\" r=\"21\" fill=\"#add8e6\" fill-rule=\"evenodd\" fill-opacity=\"1\" stroke=\"#000000\" stroke-opacity=\"1\" stroke-width=\"1.6\"/>\n",
       "<circle clip-path=\"url(#clip393)\" cx=\"892.649\" cy=\"599.888\" r=\"21\" fill=\"#add8e6\" fill-rule=\"evenodd\" fill-opacity=\"1\" stroke=\"#000000\" stroke-opacity=\"1\" stroke-width=\"1.6\"/>\n",
       "<path clip-path=\"url(#clip393)\" d=\"M944.453 575.888 L938.813 592.112 L921.629 592.472 L935.333 602.864 L930.341 619.304 L944.453 609.488 L958.565 619.304 L953.573 602.864 L967.277 592.472 L950.093 592.112 L944.453 575.888 Z\" fill=\"#add8e6\" fill-rule=\"evenodd\" fill-opacity=\"1\" stroke=\"#000000\" stroke-opacity=\"1\" stroke-width=\"1.6\"/>\n",
       "<path clip-path=\"url(#clip393)\" d=\"M996.258 575.888 L990.618 592.112 L973.434 592.472 L987.138 602.864 L982.146 619.304 L996.258 609.488 L1010.37 619.304 L1005.38 602.864 L1019.08 592.472 L1001.9 592.112 L996.258 575.888 Z\" fill=\"#add8e6\" fill-rule=\"evenodd\" fill-opacity=\"1\" stroke=\"#000000\" stroke-opacity=\"1\" stroke-width=\"1.6\"/>\n",
       "<path clip-path=\"url(#clip393)\" d=\"M1048.06 575.888 L1042.42 592.112 L1025.24 592.472 L1038.94 602.864 L1033.95 619.304 L1048.06 609.488 L1062.17 619.304 L1057.18 602.864 L1070.89 592.472 L1053.7 592.112 L1048.06 575.888 Z\" fill=\"#add8e6\" fill-rule=\"evenodd\" fill-opacity=\"1\" stroke=\"#000000\" stroke-opacity=\"1\" stroke-width=\"1.6\"/>\n",
       "<path clip-path=\"url(#clip393)\" d=\"M1099.87 575.888 L1094.23 592.112 L1077.04 592.472 L1090.75 602.864 L1085.76 619.304 L1099.87 609.488 L1113.98 619.304 L1108.99 602.864 L1122.69 592.472 L1105.51 592.112 L1099.87 575.888 Z\" fill=\"#add8e6\" fill-rule=\"evenodd\" fill-opacity=\"1\" stroke=\"#000000\" stroke-opacity=\"1\" stroke-width=\"1.6\"/>\n",
       "<path clip-path=\"url(#clip393)\" d=\"M1151.67 575.888 L1146.03 592.112 L1128.85 592.472 L1142.55 602.864 L1137.56 619.304 L1151.67 609.488 L1165.78 619.304 L1160.79 602.864 L1174.5 592.472 L1157.31 592.112 L1151.67 575.888 Z\" fill=\"#add8e6\" fill-rule=\"evenodd\" fill-opacity=\"1\" stroke=\"#000000\" stroke-opacity=\"1\" stroke-width=\"1.6\"/>\n",
       "<path clip-path=\"url(#clip393)\" d=\"M1203.48 575.888 L1197.84 592.112 L1180.65 592.472 L1194.36 602.864 L1189.37 619.304 L1203.48 609.488 L1217.59 619.304 L1212.6 602.864 L1226.3 592.472 L1209.12 592.112 L1203.48 575.888 Z\" fill=\"#add8e6\" fill-rule=\"evenodd\" fill-opacity=\"1\" stroke=\"#000000\" stroke-opacity=\"1\" stroke-width=\"1.6\"/>\n",
       "<path clip-path=\"url(#clip393)\" d=\"M1255.28 575.888 L1249.64 592.112 L1232.46 592.472 L1246.16 602.864 L1241.17 619.304 L1255.28 609.488 L1269.39 619.304 L1264.4 602.864 L1278.11 592.472 L1260.92 592.112 L1255.28 575.888 Z\" fill=\"#add8e6\" fill-rule=\"evenodd\" fill-opacity=\"1\" stroke=\"#000000\" stroke-opacity=\"1\" stroke-width=\"1.6\"/>\n",
       "<path clip-path=\"url(#clip393)\" d=\"M1307.09 575.888 L1301.45 592.112 L1284.26 592.472 L1297.97 602.864 L1292.97 619.304 L1307.09 609.488 L1321.2 619.304 L1316.21 602.864 L1329.91 592.472 L1312.73 592.112 L1307.09 575.888 Z\" fill=\"#add8e6\" fill-rule=\"evenodd\" fill-opacity=\"1\" stroke=\"#000000\" stroke-opacity=\"1\" stroke-width=\"1.6\"/>\n",
       "<path clip-path=\"url(#clip393)\" d=\"M1358.89 575.888 L1353.25 592.112 L1336.07 592.472 L1349.77 602.864 L1344.78 619.304 L1358.89 609.488 L1373 619.304 L1368.01 602.864 L1381.72 592.472 L1364.53 592.112 L1358.89 575.888 Z\" fill=\"#add8e6\" fill-rule=\"evenodd\" fill-opacity=\"1\" stroke=\"#000000\" stroke-opacity=\"1\" stroke-width=\"1.6\"/>\n",
       "<path clip-path=\"url(#clip393)\" d=\"M1410.7 575.888 L1405.06 592.112 L1387.87 592.472 L1401.58 602.864 L1396.58 619.304 L1410.7 609.488 L1424.81 619.304 L1419.82 602.864 L1433.52 592.472 L1416.34 592.112 L1410.7 575.888 Z\" fill=\"#add8e6\" fill-rule=\"evenodd\" fill-opacity=\"1\" stroke=\"#000000\" stroke-opacity=\"1\" stroke-width=\"1.6\"/>\n",
       "<path clip-path=\"url(#clip393)\" d=\"M1462.5 575.888 L1456.86 592.112 L1439.68 592.472 L1453.38 602.864 L1448.39 619.304 L1462.5 609.488 L1476.61 619.304 L1471.62 602.864 L1485.33 592.472 L1468.14 592.112 L1462.5 575.888 Z\" fill=\"#add8e6\" fill-rule=\"evenodd\" fill-opacity=\"1\" stroke=\"#000000\" stroke-opacity=\"1\" stroke-width=\"1.6\"/>\n",
       "<path clip-path=\"url(#clip393)\" d=\"M1514.31 575.888 L1508.67 592.112 L1491.48 592.472 L1505.19 602.864 L1500.19 619.304 L1514.31 609.488 L1528.42 619.304 L1523.43 602.864 L1537.13 592.472 L1519.95 592.112 L1514.31 575.888 Z\" fill=\"#add8e6\" fill-rule=\"evenodd\" fill-opacity=\"1\" stroke=\"#000000\" stroke-opacity=\"1\" stroke-width=\"1.6\"/>\n",
       "<path clip-path=\"url(#clip393)\" d=\"M1566.11 575.888 L1560.47 592.112 L1543.29 592.472 L1556.99 602.864 L1552 619.304 L1566.11 609.488 L1580.22 619.304 L1575.23 602.864 L1588.93 592.472 L1571.75 592.112 L1566.11 575.888 Z\" fill=\"#add8e6\" fill-rule=\"evenodd\" fill-opacity=\"1\" stroke=\"#000000\" stroke-opacity=\"1\" stroke-width=\"1.6\"/>\n",
       "<path clip-path=\"url(#clip393)\" d=\"M1617.92 575.888 L1612.28 592.112 L1595.09 592.472 L1608.8 602.864 L1603.8 619.304 L1617.92 609.488 L1632.03 619.304 L1627.04 602.864 L1640.74 592.472 L1623.56 592.112 L1617.92 575.888 Z\" fill=\"#add8e6\" fill-rule=\"evenodd\" fill-opacity=\"1\" stroke=\"#000000\" stroke-opacity=\"1\" stroke-width=\"1.6\"/>\n",
       "<path clip-path=\"url(#clip393)\" d=\"M1669.72 575.888 L1664.08 592.112 L1646.9 592.472 L1660.6 602.864 L1655.61 619.304 L1669.72 609.488 L1683.83 619.304 L1678.84 602.864 L1692.54 592.472 L1675.36 592.112 L1669.72 575.888 Z\" fill=\"#add8e6\" fill-rule=\"evenodd\" fill-opacity=\"1\" stroke=\"#000000\" stroke-opacity=\"1\" stroke-width=\"1.6\"/>\n",
       "<path clip-path=\"url(#clip393)\" d=\"M1721.52 575.888 L1715.88 592.112 L1698.7 592.472 L1712.4 602.864 L1707.41 619.304 L1721.52 609.488 L1735.64 619.304 L1730.64 602.864 L1744.35 592.472 L1727.16 592.112 L1721.52 575.888 Z\" fill=\"#add8e6\" fill-rule=\"evenodd\" fill-opacity=\"1\" stroke=\"#000000\" stroke-opacity=\"1\" stroke-width=\"1.6\"/>\n",
       "<path clip-path=\"url(#clip393)\" d=\"M1773.33 575.888 L1767.69 592.112 L1750.51 592.472 L1764.21 602.864 L1759.22 619.304 L1773.33 609.488 L1787.44 619.304 L1782.45 602.864 L1796.15 592.472 L1778.97 592.112 L1773.33 575.888 Z\" fill=\"#add8e6\" fill-rule=\"evenodd\" fill-opacity=\"1\" stroke=\"#000000\" stroke-opacity=\"1\" stroke-width=\"1.6\"/>\n",
       "<path clip-path=\"url(#clip393)\" d=\"M1825.13 575.888 L1819.49 592.112 L1802.31 592.472 L1816.01 602.864 L1811.02 619.304 L1825.13 609.488 L1839.25 619.304 L1834.25 602.864 L1847.96 592.472 L1830.77 592.112 L1825.13 575.888 Z\" fill=\"#add8e6\" fill-rule=\"evenodd\" fill-opacity=\"1\" stroke=\"#000000\" stroke-opacity=\"1\" stroke-width=\"1.6\"/>\n",
       "<path clip-path=\"url(#clip393)\" d=\"M1876.94 575.888 L1871.3 592.112 L1854.12 592.472 L1867.82 602.864 L1862.83 619.304 L1876.94 609.488 L1891.05 619.304 L1886.06 602.864 L1899.76 592.472 L1882.58 592.112 L1876.94 575.888 Z\" fill=\"#add8e6\" fill-rule=\"evenodd\" fill-opacity=\"1\" stroke=\"#000000\" stroke-opacity=\"1\" stroke-width=\"1.6\"/>\n",
       "<path clip-path=\"url(#clip393)\" d=\"M1928.74 575.888 L1923.1 592.112 L1905.92 592.472 L1919.62 602.864 L1914.63 619.304 L1928.74 609.488 L1942.86 619.304 L1937.86 602.864 L1951.57 592.472 L1934.38 592.112 L1928.74 575.888 Z\" fill=\"#add8e6\" fill-rule=\"evenodd\" fill-opacity=\"1\" stroke=\"#000000\" stroke-opacity=\"1\" stroke-width=\"1.6\"/>\n",
       "<path clip-path=\"url(#clip393)\" d=\"M1980.55 575.888 L1974.91 592.112 L1957.72 592.472 L1971.43 602.864 L1966.44 619.304 L1980.55 609.488 L1994.66 619.304 L1989.67 602.864 L2003.37 592.472 L1986.19 592.112 L1980.55 575.888 Z\" fill=\"#add8e6\" fill-rule=\"evenodd\" fill-opacity=\"1\" stroke=\"#000000\" stroke-opacity=\"1\" stroke-width=\"1.6\"/>\n",
       "<path clip-path=\"url(#clip393)\" d=\"M2032.35 575.888 L2026.71 592.112 L2009.53 592.472 L2023.23 602.864 L2018.24 619.304 L2032.35 609.488 L2046.47 619.304 L2041.47 602.864 L2055.18 592.472 L2037.99 592.112 L2032.35 575.888 Z\" fill=\"#add8e6\" fill-rule=\"evenodd\" fill-opacity=\"1\" stroke=\"#000000\" stroke-opacity=\"1\" stroke-width=\"1.6\"/>\n",
       "<path clip-path=\"url(#clip393)\" d=\"M2084.16 575.888 L2078.52 592.112 L2061.33 592.472 L2075.04 602.864 L2070.05 619.304 L2084.16 609.488 L2098.27 619.304 L2093.28 602.864 L2106.98 592.472 L2089.8 592.112 L2084.16 575.888 Z\" fill=\"#add8e6\" fill-rule=\"evenodd\" fill-opacity=\"1\" stroke=\"#000000\" stroke-opacity=\"1\" stroke-width=\"1.6\"/>\n",
       "<path clip-path=\"url(#clip393)\" d=\"M2135.96 575.888 L2130.32 592.112 L2113.14 592.472 L2126.84 602.864 L2121.85 619.304 L2135.96 609.488 L2150.07 619.304 L2145.08 602.864 L2158.79 592.472 L2141.6 592.112 L2135.96 575.888 Z\" fill=\"#add8e6\" fill-rule=\"evenodd\" fill-opacity=\"1\" stroke=\"#000000\" stroke-opacity=\"1\" stroke-width=\"1.6\"/>\n",
       "<path clip-path=\"url(#clip393)\" d=\"M2187.77 575.888 L2182.13 592.112 L2164.94 592.472 L2178.65 602.864 L2173.66 619.304 L2187.77 609.488 L2201.88 619.304 L2196.89 602.864 L2210.59 592.472 L2193.41 592.112 L2187.77 575.888 Z\" fill=\"#add8e6\" fill-rule=\"evenodd\" fill-opacity=\"1\" stroke=\"#000000\" stroke-opacity=\"1\" stroke-width=\"1.6\"/>\n",
       "<path clip-path=\"url(#clip393)\" d=\"M2239.57 575.888 L2233.93 592.112 L2216.75 592.472 L2230.45 602.864 L2225.46 619.304 L2239.57 609.488 L2253.68 619.304 L2248.69 602.864 L2262.4 592.472 L2245.21 592.112 L2239.57 575.888 Z\" fill=\"#add8e6\" fill-rule=\"evenodd\" fill-opacity=\"1\" stroke=\"#000000\" stroke-opacity=\"1\" stroke-width=\"1.6\"/>\n",
       "<path clip-path=\"url(#clip393)\" d=\"M2291.38 575.888 L2285.74 592.112 L2268.55 592.472 L2282.26 602.864 L2277.27 619.304 L2291.38 609.488 L2305.49 619.304 L2300.5 602.864 L2314.2 592.472 L2297.02 592.112 L2291.38 575.888 Z\" fill=\"#add8e6\" fill-rule=\"evenodd\" fill-opacity=\"1\" stroke=\"#000000\" stroke-opacity=\"1\" stroke-width=\"1.6\"/>\n",
       "<path clip-path=\"url(#clip393)\" d=\"M2343.18 575.888 L2337.54 592.112 L2320.36 592.472 L2334.06 602.864 L2329.07 619.304 L2343.18 609.488 L2357.29 619.304 L2352.3 602.864 L2366.01 592.472 L2348.82 592.112 L2343.18 575.888 Z\" fill=\"#add8e6\" fill-rule=\"evenodd\" fill-opacity=\"1\" stroke=\"#000000\" stroke-opacity=\"1\" stroke-width=\"1.6\"/>\n",
       "<path clip-path=\"url(#clip393)\" d=\"M2394.99 575.888 L2389.35 592.112 L2372.16 592.472 L2385.87 602.864 L2380.87 619.304 L2394.99 609.488 L2409.1 619.304 L2404.11 602.864 L2417.81 592.472 L2400.63 592.112 L2394.99 575.888 Z\" fill=\"#add8e6\" fill-rule=\"evenodd\" fill-opacity=\"1\" stroke=\"#000000\" stroke-opacity=\"1\" stroke-width=\"1.6\"/>\n",
       "<path clip-path=\"url(#clip393)\" d=\"M2446.79 575.888 L2441.15 592.112 L2423.97 592.472 L2437.67 602.864 L2432.68 619.304 L2446.79 609.488 L2460.9 619.304 L2455.91 602.864 L2469.62 592.472 L2452.43 592.112 L2446.79 575.888 Z\" fill=\"#add8e6\" fill-rule=\"evenodd\" fill-opacity=\"1\" stroke=\"#000000\" stroke-opacity=\"1\" stroke-width=\"1.6\"/>\n",
       "<path clip-path=\"url(#clip393)\" d=\"M2498.6 575.888 L2492.96 592.112 L2475.77 592.472 L2489.48 602.864 L2484.48 619.304 L2498.6 609.488 L2512.71 619.304 L2507.72 602.864 L2521.42 592.472 L2504.24 592.112 L2498.6 575.888 Z\" fill=\"#add8e6\" fill-rule=\"evenodd\" fill-opacity=\"1\" stroke=\"#000000\" stroke-opacity=\"1\" stroke-width=\"1.6\"/>\n",
       "<path clip-path=\"url(#clip393)\" d=\"M2550.4 575.888 L2544.76 592.112 L2527.58 592.472 L2541.28 602.864 L2536.29 619.304 L2550.4 609.488 L2564.51 619.304 L2559.52 602.864 L2573.23 592.472 L2556.04 592.112 L2550.4 575.888 Z\" fill=\"#add8e6\" fill-rule=\"evenodd\" fill-opacity=\"1\" stroke=\"#000000\" stroke-opacity=\"1\" stroke-width=\"1.6\"/>\n",
       "<path clip-path=\"url(#clip393)\" d=\"M2602.21 575.888 L2596.57 592.112 L2579.38 592.472 L2593.09 602.864 L2588.09 619.304 L2602.21 609.488 L2616.32 619.304 L2611.33 602.864 L2625.03 592.472 L2607.85 592.112 L2602.21 575.888 Z\" fill=\"#add8e6\" fill-rule=\"evenodd\" fill-opacity=\"1\" stroke=\"#000000\" stroke-opacity=\"1\" stroke-width=\"1.6\"/>\n",
       "<path clip-path=\"url(#clip393)\" d=\"M2654.01 575.888 L2648.37 592.112 L2631.19 592.472 L2644.89 602.864 L2639.9 619.304 L2654.01 609.488 L2668.12 619.304 L2663.13 602.864 L2676.83 592.472 L2659.65 592.112 L2654.01 575.888 Z\" fill=\"#add8e6\" fill-rule=\"evenodd\" fill-opacity=\"1\" stroke=\"#000000\" stroke-opacity=\"1\" stroke-width=\"1.6\"/>\n",
       "<path clip-path=\"url(#clip393)\" d=\"M2705.82 575.888 L2700.18 592.112 L2682.99 592.472 L2696.7 602.864 L2691.7 619.304 L2705.82 609.488 L2719.93 619.304 L2714.94 602.864 L2728.64 592.472 L2711.46 592.112 L2705.82 575.888 Z\" fill=\"#add8e6\" fill-rule=\"evenodd\" fill-opacity=\"1\" stroke=\"#000000\" stroke-opacity=\"1\" stroke-width=\"1.6\"/>\n",
       "<circle clip-path=\"url(#clip393)\" cx=\"2757.62\" cy=\"599.888\" r=\"21\" fill=\"#add8e6\" fill-rule=\"evenodd\" fill-opacity=\"1\" stroke=\"#000000\" stroke-opacity=\"1\" stroke-width=\"1.6\"/>\n",
       "<circle clip-path=\"url(#clip393)\" cx=\"2809.42\" cy=\"599.888\" r=\"21\" fill=\"#add8e6\" fill-rule=\"evenodd\" fill-opacity=\"1\" stroke=\"#000000\" stroke-opacity=\"1\" stroke-width=\"1.6\"/>\n",
       "<circle clip-path=\"url(#clip393)\" cx=\"2861.23\" cy=\"599.888\" r=\"21\" fill=\"#add8e6\" fill-rule=\"evenodd\" fill-opacity=\"1\" stroke=\"#000000\" stroke-opacity=\"1\" stroke-width=\"1.6\"/>\n",
       "<circle clip-path=\"url(#clip393)\" cx=\"2913.03\" cy=\"599.888\" r=\"21\" fill=\"#add8e6\" fill-rule=\"evenodd\" fill-opacity=\"1\" stroke=\"#000000\" stroke-opacity=\"1\" stroke-width=\"1.6\"/>\n",
       "<circle clip-path=\"url(#clip393)\" cx=\"2964.84\" cy=\"599.888\" r=\"21\" fill=\"#add8e6\" fill-rule=\"evenodd\" fill-opacity=\"1\" stroke=\"#000000\" stroke-opacity=\"1\" stroke-width=\"1.6\"/>\n",
       "<circle clip-path=\"url(#clip393)\" cx=\"3016.64\" cy=\"599.888\" r=\"21\" fill=\"#add8e6\" fill-rule=\"evenodd\" fill-opacity=\"1\" stroke=\"#000000\" stroke-opacity=\"1\" stroke-width=\"1.6\"/>\n",
       "<circle clip-path=\"url(#clip393)\" cx=\"3068.45\" cy=\"599.888\" r=\"21\" fill=\"#add8e6\" fill-rule=\"evenodd\" fill-opacity=\"1\" stroke=\"#000000\" stroke-opacity=\"1\" stroke-width=\"1.6\"/>\n",
       "<circle clip-path=\"url(#clip393)\" cx=\"3120.25\" cy=\"599.888\" r=\"21\" fill=\"#add8e6\" fill-rule=\"evenodd\" fill-opacity=\"1\" stroke=\"#000000\" stroke-opacity=\"1\" stroke-width=\"1.6\"/>\n",
       "<circle clip-path=\"url(#clip393)\" cx=\"3172.06\" cy=\"599.888\" r=\"21\" fill=\"#add8e6\" fill-rule=\"evenodd\" fill-opacity=\"1\" stroke=\"#000000\" stroke-opacity=\"1\" stroke-width=\"1.6\"/>\n",
       "<circle clip-path=\"url(#clip393)\" cx=\"3223.86\" cy=\"599.888\" r=\"21\" fill=\"#add8e6\" fill-rule=\"evenodd\" fill-opacity=\"1\" stroke=\"#000000\" stroke-opacity=\"1\" stroke-width=\"1.6\"/>\n",
       "<circle clip-path=\"url(#clip393)\" cx=\"3275.67\" cy=\"599.888\" r=\"21\" fill=\"#add8e6\" fill-rule=\"evenodd\" fill-opacity=\"1\" stroke=\"#000000\" stroke-opacity=\"1\" stroke-width=\"1.6\"/>\n",
       "<circle clip-path=\"url(#clip393)\" cx=\"3327.47\" cy=\"599.888\" r=\"21\" fill=\"#add8e6\" fill-rule=\"evenodd\" fill-opacity=\"1\" stroke=\"#000000\" stroke-opacity=\"1\" stroke-width=\"1.6\"/>\n",
       "<circle clip-path=\"url(#clip393)\" cx=\"3379.28\" cy=\"599.888\" r=\"21\" fill=\"#add8e6\" fill-rule=\"evenodd\" fill-opacity=\"1\" stroke=\"#000000\" stroke-opacity=\"1\" stroke-width=\"1.6\"/>\n",
       "<circle clip-path=\"url(#clip393)\" cx=\"3431.08\" cy=\"599.888\" r=\"21\" fill=\"#add8e6\" fill-rule=\"evenodd\" fill-opacity=\"1\" stroke=\"#000000\" stroke-opacity=\"1\" stroke-width=\"1.6\"/>\n",
       "<circle clip-path=\"url(#clip393)\" cx=\"3482.89\" cy=\"599.888\" r=\"21\" fill=\"#add8e6\" fill-rule=\"evenodd\" fill-opacity=\"1\" stroke=\"#000000\" stroke-opacity=\"1\" stroke-width=\"1.6\"/>\n",
       "<circle clip-path=\"url(#clip393)\" cx=\"3534.69\" cy=\"599.888\" r=\"21\" fill=\"#add8e6\" fill-rule=\"evenodd\" fill-opacity=\"1\" stroke=\"#000000\" stroke-opacity=\"1\" stroke-width=\"1.6\"/>\n",
       "<circle clip-path=\"url(#clip393)\" cx=\"3586.5\" cy=\"599.888\" r=\"21\" fill=\"#add8e6\" fill-rule=\"evenodd\" fill-opacity=\"1\" stroke=\"#000000\" stroke-opacity=\"1\" stroke-width=\"1.6\"/>\n",
       "<circle clip-path=\"url(#clip393)\" cx=\"3638.3\" cy=\"599.888\" r=\"21\" fill=\"#add8e6\" fill-rule=\"evenodd\" fill-opacity=\"1\" stroke=\"#000000\" stroke-opacity=\"1\" stroke-width=\"1.6\"/>\n",
       "<circle clip-path=\"url(#clip393)\" cx=\"3690.11\" cy=\"599.888\" r=\"21\" fill=\"#add8e6\" fill-rule=\"evenodd\" fill-opacity=\"1\" stroke=\"#000000\" stroke-opacity=\"1\" stroke-width=\"1.6\"/>\n",
       "<circle clip-path=\"url(#clip393)\" cx=\"3741.91\" cy=\"599.888\" r=\"21\" fill=\"#add8e6\" fill-rule=\"evenodd\" fill-opacity=\"1\" stroke=\"#000000\" stroke-opacity=\"1\" stroke-width=\"1.6\"/>\n",
       "<circle clip-path=\"url(#clip393)\" cx=\"3793.72\" cy=\"599.888\" r=\"21\" fill=\"#add8e6\" fill-rule=\"evenodd\" fill-opacity=\"1\" stroke=\"#000000\" stroke-opacity=\"1\" stroke-width=\"1.6\"/>\n",
       "<circle clip-path=\"url(#clip393)\" cx=\"3845.52\" cy=\"599.888\" r=\"21\" fill=\"#add8e6\" fill-rule=\"evenodd\" fill-opacity=\"1\" stroke=\"#000000\" stroke-opacity=\"1\" stroke-width=\"1.6\"/>\n",
       "</svg>\n"
      ]
     },
     "execution_count": 26,
     "metadata": {},
     "output_type": "execute_result"
    }
   ],
   "source": [
    "lowest_diversity = filter(row -> row[:has_converged] == 1,df) |> first\n",
    "_, results = experiment[lowest_diversity.row]\n",
    "plot_results(results)"
   ]
  },
  {
   "cell_type": "code",
   "execution_count": 27,
   "metadata": {},
   "outputs": [
    {
     "data": {
      "image/svg+xml": [
       "<?xml version=\"1.0\" encoding=\"utf-8\"?>\n",
       "<svg xmlns=\"http://www.w3.org/2000/svg\" xmlns:xlink=\"http://www.w3.org/1999/xlink\" width=\"1000\" height=\"300\" viewBox=\"0 0 4000 1200\">\n",
       "<defs>\n",
       "  <clipPath id=\"clip430\">\n",
       "    <rect x=\"0\" y=\"0\" width=\"4000\" height=\"1200\"/>\n",
       "  </clipPath>\n",
       "</defs>\n",
       "<path clip-path=\"url(#clip430)\" d=\"\n",
       "M0 1200 L4000 1200 L4000 0 L0 0  Z\n",
       "  \" fill=\"#ffffff\" fill-rule=\"evenodd\" fill-opacity=\"1\"/>\n",
       "<defs>\n",
       "  <clipPath id=\"clip431\">\n",
       "    <rect x=\"800\" y=\"0\" width=\"2801\" height=\"1200\"/>\n",
       "  </clipPath>\n",
       "</defs>\n",
       "<path clip-path=\"url(#clip430)\" d=\"\n",
       "M163.756 309.456 L3952.76 309.456 L3952.76 90.2081 L163.756 90.2081  Z\n",
       "  \" fill=\"#ffffff\" fill-rule=\"evenodd\" fill-opacity=\"1\"/>\n",
       "<defs>\n",
       "  <clipPath id=\"clip432\">\n",
       "    <rect x=\"163\" y=\"90\" width=\"3790\" height=\"220\"/>\n",
       "  </clipPath>\n",
       "</defs>\n",
       "<path clip-path=\"url(#clip430)\" d=\"M 0 0 M1972.4 16.7545 L1972.4 25.383 Q1968.26 21.5346 1963.57 19.6307 Q1958.91 17.7268 1953.64 17.7268 Q1943.27 17.7268 1937.76 24.0867 Q1932.25 30.4061 1932.25 42.3968 Q1932.25 54.3469 1937.76 60.7069 Q1943.27 67.0263 1953.64 67.0263 Q1958.91 67.0263 1963.57 65.1223 Q1968.26 63.2184 1972.4 59.3701 L1972.4 67.9175 Q1968.1 70.8341 1963.28 72.2924 Q1958.5 73.7508 1953.16 73.7508 Q1939.42 73.7508 1931.52 65.3654 Q1923.62 56.9395 1923.62 42.3968 Q1923.62 27.8135 1931.52 19.4281 Q1939.42 11.0023 1953.16 11.0023 Q1958.58 11.0023 1963.36 12.4606 Q1968.18 13.8784 1972.4 16.7545 Z\" fill=\"#000000\" fill-rule=\"evenodd\" fill-opacity=\"1\" /><path clip-path=\"url(#clip430)\" d=\"M 0 0 M1999.09 76.7889 Q1995.93 84.8907 1992.93 87.3618 Q1989.94 89.8329 1984.91 89.8329 L1978.96 89.8329 L1978.96 83.5945 L1983.33 83.5945 Q1986.41 83.5945 1988.11 82.1361 Q1989.82 80.6778 1991.88 75.2496 L1993.22 71.8468 L1974.87 27.2059 L1982.77 27.2059 L1996.95 62.6918 L2011.12 27.2059 L2019.02 27.2059 L1999.09 76.7889 Z\" fill=\"#000000\" fill-rule=\"evenodd\" fill-opacity=\"1\" /><path clip-path=\"url(#clip430)\" d=\"M 0 0 M2059.49 28.9478 L2059.49 35.9153 Q2056.33 34.1734 2053.13 33.3227 Q2049.97 32.4315 2046.73 32.4315 Q2039.48 32.4315 2035.47 37.0496 Q2031.46 41.6271 2031.46 49.9314 Q2031.46 58.2358 2035.47 62.8538 Q2039.48 67.4314 2046.73 67.4314 Q2049.97 67.4314 2053.13 66.5807 Q2056.33 65.6895 2059.49 63.9476 L2059.49 70.8341 Q2056.37 72.2924 2053.01 73.0216 Q2049.69 73.7508 2045.92 73.7508 Q2035.67 73.7508 2029.64 67.3098 Q2023.6 60.8689 2023.6 49.9314 Q2023.6 38.832 2029.68 32.472 Q2035.79 26.1121 2046.41 26.1121 Q2049.85 26.1121 2053.13 26.8413 Q2056.41 27.5299 2059.49 28.9478 Z\" fill=\"#000000\" fill-rule=\"evenodd\" fill-opacity=\"1\" /><path clip-path=\"url(#clip430)\" d=\"M 0 0 M2067.31 9.54393 L2074.76 9.54393 L2074.76 72.576 L2067.31 72.576 L2067.31 9.54393 Z\" fill=\"#000000\" fill-rule=\"evenodd\" fill-opacity=\"1\" /><path clip-path=\"url(#clip430)\" d=\"M 0 0 M2121.39 48.0275 L2121.39 51.6733 L2087.12 51.6733 Q2087.6 59.3701 2091.74 63.421 Q2095.91 67.4314 2103.32 67.4314 Q2107.62 67.4314 2111.63 66.3781 Q2115.68 65.3249 2119.65 63.2184 L2119.65 70.267 Q2115.64 71.9684 2111.42 72.8596 Q2107.21 73.7508 2102.88 73.7508 Q2092.02 73.7508 2085.66 67.4314 Q2079.34 61.1119 2079.34 50.3365 Q2079.34 39.1965 2085.34 32.6746 Q2091.37 26.1121 2101.58 26.1121 Q2110.74 26.1121 2116.04 32.0264 Q2121.39 37.9003 2121.39 48.0275 M2113.94 45.84 Q2113.85 39.7232 2110.49 36.0774 Q2107.17 32.4315 2101.66 32.4315 Q2095.42 32.4315 2091.66 35.9558 Q2087.93 39.4801 2087.36 45.8805 L2113.94 45.84 Z\" fill=\"#000000\" fill-rule=\"evenodd\" fill-opacity=\"1\" /><path clip-path=\"url(#clip430)\" d=\"M 0 0 M2158.05 65.6895 L2171.42 65.6895 L2171.42 19.5497 L2156.88 22.4663 L2156.88 15.0127 L2171.34 12.096 L2179.52 12.096 L2179.52 65.6895 L2192.89 65.6895 L2192.89 72.576 L2158.05 72.576 L2158.05 65.6895 Z\" fill=\"#000000\" fill-rule=\"evenodd\" fill-opacity=\"1\" /><path clip-path=\"url(#clip432)\" d=\"M270.992 175.832 L265.352 192.056 L248.168 192.416 L261.872 202.808 L256.88 219.248 L270.992 209.432 L285.104 219.248 L280.112 202.808 L293.816 192.416 L276.632 192.056 L270.992 175.832 Z\" fill=\"#ffa500\" fill-rule=\"evenodd\" fill-opacity=\"1\" stroke=\"#000000\" stroke-opacity=\"1\" stroke-width=\"2.4\"/>\n",
       "<path clip-path=\"url(#clip432)\" d=\"M322.796 175.832 L317.156 192.056 L299.972 192.416 L313.676 202.808 L308.684 219.248 L322.796 209.432 L336.908 219.248 L331.916 202.808 L345.62 192.416 L328.436 192.056 L322.796 175.832 Z\" fill=\"#ffa500\" fill-rule=\"evenodd\" fill-opacity=\"1\" stroke=\"#000000\" stroke-opacity=\"1\" stroke-width=\"2.4\"/>\n",
       "<circle clip-path=\"url(#clip432)\" cx=\"374.601\" cy=\"199.832\" r=\"21\" fill=\"#add8e6\" fill-rule=\"evenodd\" fill-opacity=\"1\" stroke=\"#000000\" stroke-opacity=\"1\" stroke-width=\"2.4\"/>\n",
       "<circle clip-path=\"url(#clip432)\" cx=\"426.406\" cy=\"199.832\" r=\"21\" fill=\"#ffa500\" fill-rule=\"evenodd\" fill-opacity=\"1\" stroke=\"#000000\" stroke-opacity=\"1\" stroke-width=\"2.4\"/>\n",
       "<circle clip-path=\"url(#clip432)\" cx=\"478.211\" cy=\"199.832\" r=\"21\" fill=\"#add8e6\" fill-rule=\"evenodd\" fill-opacity=\"1\" stroke=\"#000000\" stroke-opacity=\"1\" stroke-width=\"2.4\"/>\n",
       "<path clip-path=\"url(#clip432)\" d=\"M530.015 175.832 L524.375 192.056 L507.191 192.416 L520.895 202.808 L515.903 219.248 L530.015 209.432 L544.127 219.248 L539.135 202.808 L552.839 192.416 L535.655 192.056 L530.015 175.832 Z\" fill=\"#ffa500\" fill-rule=\"evenodd\" fill-opacity=\"1\" stroke=\"#000000\" stroke-opacity=\"1\" stroke-width=\"2.4\"/>\n",
       "<circle clip-path=\"url(#clip432)\" cx=\"581.82\" cy=\"199.832\" r=\"21\" fill=\"#add8e6\" fill-rule=\"evenodd\" fill-opacity=\"1\" stroke=\"#000000\" stroke-opacity=\"1\" stroke-width=\"2.4\"/>\n",
       "<path clip-path=\"url(#clip432)\" d=\"M633.625 175.832 L627.985 192.056 L610.801 192.416 L624.505 202.808 L619.513 219.248 L633.625 209.432 L647.737 219.248 L642.745 202.808 L656.449 192.416 L639.265 192.056 L633.625 175.832 Z\" fill=\"#ffa500\" fill-rule=\"evenodd\" fill-opacity=\"1\" stroke=\"#000000\" stroke-opacity=\"1\" stroke-width=\"2.4\"/>\n",
       "<circle clip-path=\"url(#clip432)\" cx=\"685.43\" cy=\"199.832\" r=\"21\" fill=\"#add8e6\" fill-rule=\"evenodd\" fill-opacity=\"1\" stroke=\"#000000\" stroke-opacity=\"1\" stroke-width=\"2.4\"/>\n",
       "<path clip-path=\"url(#clip432)\" d=\"M737.234 175.832 L731.594 192.056 L714.41 192.416 L728.114 202.808 L723.122 219.248 L737.234 209.432 L751.346 219.248 L746.354 202.808 L760.058 192.416 L742.874 192.056 L737.234 175.832 Z\" fill=\"#ffa500\" fill-rule=\"evenodd\" fill-opacity=\"1\" stroke=\"#000000\" stroke-opacity=\"1\" stroke-width=\"2.4\"/>\n",
       "<circle clip-path=\"url(#clip432)\" cx=\"789.039\" cy=\"199.832\" r=\"21\" fill=\"#add8e6\" fill-rule=\"evenodd\" fill-opacity=\"1\" stroke=\"#000000\" stroke-opacity=\"1\" stroke-width=\"2.4\"/>\n",
       "<path clip-path=\"url(#clip432)\" d=\"M840.844 175.832 L835.204 192.056 L818.02 192.416 L831.724 202.808 L826.732 219.248 L840.844 209.432 L854.956 219.248 L849.964 202.808 L863.668 192.416 L846.484 192.056 L840.844 175.832 Z\" fill=\"#ffa500\" fill-rule=\"evenodd\" fill-opacity=\"1\" stroke=\"#000000\" stroke-opacity=\"1\" stroke-width=\"2.4\"/>\n",
       "<circle clip-path=\"url(#clip432)\" cx=\"892.649\" cy=\"199.832\" r=\"21\" fill=\"#add8e6\" fill-rule=\"evenodd\" fill-opacity=\"1\" stroke=\"#000000\" stroke-opacity=\"1\" stroke-width=\"2.4\"/>\n",
       "<circle clip-path=\"url(#clip432)\" cx=\"944.453\" cy=\"199.832\" r=\"21\" fill=\"#add8e6\" fill-rule=\"evenodd\" fill-opacity=\"1\" stroke=\"#000000\" stroke-opacity=\"1\" stroke-width=\"2.4\"/>\n",
       "<circle clip-path=\"url(#clip432)\" cx=\"996.258\" cy=\"199.832\" r=\"21\" fill=\"#add8e6\" fill-rule=\"evenodd\" fill-opacity=\"1\" stroke=\"#000000\" stroke-opacity=\"1\" stroke-width=\"2.4\"/>\n",
       "<path clip-path=\"url(#clip432)\" d=\"M1048.06 175.832 L1042.42 192.056 L1025.24 192.416 L1038.94 202.808 L1033.95 219.248 L1048.06 209.432 L1062.17 219.248 L1057.18 202.808 L1070.89 192.416 L1053.7 192.056 L1048.06 175.832 Z\" fill=\"#ffa500\" fill-rule=\"evenodd\" fill-opacity=\"1\" stroke=\"#000000\" stroke-opacity=\"1\" stroke-width=\"2.4\"/>\n",
       "<circle clip-path=\"url(#clip432)\" cx=\"1099.87\" cy=\"199.832\" r=\"21\" fill=\"#add8e6\" fill-rule=\"evenodd\" fill-opacity=\"1\" stroke=\"#000000\" stroke-opacity=\"1\" stroke-width=\"2.4\"/>\n",
       "<circle clip-path=\"url(#clip432)\" cx=\"1151.67\" cy=\"199.832\" r=\"21\" fill=\"#add8e6\" fill-rule=\"evenodd\" fill-opacity=\"1\" stroke=\"#000000\" stroke-opacity=\"1\" stroke-width=\"2.4\"/>\n",
       "<circle clip-path=\"url(#clip432)\" cx=\"1203.48\" cy=\"199.832\" r=\"21\" fill=\"#ffa500\" fill-rule=\"evenodd\" fill-opacity=\"1\" stroke=\"#000000\" stroke-opacity=\"1\" stroke-width=\"2.4\"/>\n",
       "<path clip-path=\"url(#clip432)\" d=\"M1255.28 175.832 L1249.64 192.056 L1232.46 192.416 L1246.16 202.808 L1241.17 219.248 L1255.28 209.432 L1269.39 219.248 L1264.4 202.808 L1278.11 192.416 L1260.92 192.056 L1255.28 175.832 Z\" fill=\"#add8e6\" fill-rule=\"evenodd\" fill-opacity=\"1\" stroke=\"#000000\" stroke-opacity=\"1\" stroke-width=\"2.4\"/>\n",
       "<path clip-path=\"url(#clip432)\" d=\"M1307.09 175.832 L1301.45 192.056 L1284.26 192.416 L1297.97 202.808 L1292.97 219.248 L1307.09 209.432 L1321.2 219.248 L1316.21 202.808 L1329.91 192.416 L1312.73 192.056 L1307.09 175.832 Z\" fill=\"#add8e6\" fill-rule=\"evenodd\" fill-opacity=\"1\" stroke=\"#000000\" stroke-opacity=\"1\" stroke-width=\"2.4\"/>\n",
       "<path clip-path=\"url(#clip432)\" d=\"M1358.89 175.832 L1353.25 192.056 L1336.07 192.416 L1349.77 202.808 L1344.78 219.248 L1358.89 209.432 L1373 219.248 L1368.01 202.808 L1381.72 192.416 L1364.53 192.056 L1358.89 175.832 Z\" fill=\"#add8e6\" fill-rule=\"evenodd\" fill-opacity=\"1\" stroke=\"#000000\" stroke-opacity=\"1\" stroke-width=\"2.4\"/>\n",
       "<path clip-path=\"url(#clip432)\" d=\"M1410.7 175.832 L1405.06 192.056 L1387.87 192.416 L1401.58 202.808 L1396.58 219.248 L1410.7 209.432 L1424.81 219.248 L1419.82 202.808 L1433.52 192.416 L1416.34 192.056 L1410.7 175.832 Z\" fill=\"#add8e6\" fill-rule=\"evenodd\" fill-opacity=\"1\" stroke=\"#000000\" stroke-opacity=\"1\" stroke-width=\"2.4\"/>\n",
       "<path clip-path=\"url(#clip432)\" d=\"M1462.5 175.832 L1456.86 192.056 L1439.68 192.416 L1453.38 202.808 L1448.39 219.248 L1462.5 209.432 L1476.61 219.248 L1471.62 202.808 L1485.33 192.416 L1468.14 192.056 L1462.5 175.832 Z\" fill=\"#add8e6\" fill-rule=\"evenodd\" fill-opacity=\"1\" stroke=\"#000000\" stroke-opacity=\"1\" stroke-width=\"2.4\"/>\n",
       "<path clip-path=\"url(#clip432)\" d=\"M1514.31 175.832 L1508.67 192.056 L1491.48 192.416 L1505.19 202.808 L1500.19 219.248 L1514.31 209.432 L1528.42 219.248 L1523.43 202.808 L1537.13 192.416 L1519.95 192.056 L1514.31 175.832 Z\" fill=\"#add8e6\" fill-rule=\"evenodd\" fill-opacity=\"1\" stroke=\"#000000\" stroke-opacity=\"1\" stroke-width=\"2.4\"/>\n",
       "<path clip-path=\"url(#clip432)\" d=\"M1566.11 175.832 L1560.47 192.056 L1543.29 192.416 L1556.99 202.808 L1552 219.248 L1566.11 209.432 L1580.22 219.248 L1575.23 202.808 L1588.93 192.416 L1571.75 192.056 L1566.11 175.832 Z\" fill=\"#add8e6\" fill-rule=\"evenodd\" fill-opacity=\"1\" stroke=\"#000000\" stroke-opacity=\"1\" stroke-width=\"2.4\"/>\n",
       "<circle clip-path=\"url(#clip432)\" cx=\"1617.92\" cy=\"199.832\" r=\"21\" fill=\"#ffa500\" fill-rule=\"evenodd\" fill-opacity=\"1\" stroke=\"#000000\" stroke-opacity=\"1\" stroke-width=\"2.4\"/>\n",
       "<circle clip-path=\"url(#clip432)\" cx=\"1669.72\" cy=\"199.832\" r=\"21\" fill=\"#ffa500\" fill-rule=\"evenodd\" fill-opacity=\"1\" stroke=\"#000000\" stroke-opacity=\"1\" stroke-width=\"2.4\"/>\n",
       "<circle clip-path=\"url(#clip432)\" cx=\"1721.52\" cy=\"199.832\" r=\"21\" fill=\"#ffa500\" fill-rule=\"evenodd\" fill-opacity=\"1\" stroke=\"#000000\" stroke-opacity=\"1\" stroke-width=\"2.4\"/>\n",
       "<path clip-path=\"url(#clip432)\" d=\"M1773.33 175.832 L1767.69 192.056 L1750.51 192.416 L1764.21 202.808 L1759.22 219.248 L1773.33 209.432 L1787.44 219.248 L1782.45 202.808 L1796.15 192.416 L1778.97 192.056 L1773.33 175.832 Z\" fill=\"#add8e6\" fill-rule=\"evenodd\" fill-opacity=\"1\" stroke=\"#000000\" stroke-opacity=\"1\" stroke-width=\"2.4\"/>\n",
       "<circle clip-path=\"url(#clip432)\" cx=\"1825.13\" cy=\"199.832\" r=\"21\" fill=\"#add8e6\" fill-rule=\"evenodd\" fill-opacity=\"1\" stroke=\"#000000\" stroke-opacity=\"1\" stroke-width=\"2.4\"/>\n",
       "<path clip-path=\"url(#clip432)\" d=\"M1876.94 175.832 L1871.3 192.056 L1854.12 192.416 L1867.82 202.808 L1862.83 219.248 L1876.94 209.432 L1891.05 219.248 L1886.06 202.808 L1899.76 192.416 L1882.58 192.056 L1876.94 175.832 Z\" fill=\"#add8e6\" fill-rule=\"evenodd\" fill-opacity=\"1\" stroke=\"#000000\" stroke-opacity=\"1\" stroke-width=\"2.4\"/>\n",
       "<path clip-path=\"url(#clip432)\" d=\"M1928.74 175.832 L1923.1 192.056 L1905.92 192.416 L1919.62 202.808 L1914.63 219.248 L1928.74 209.432 L1942.86 219.248 L1937.86 202.808 L1951.57 192.416 L1934.38 192.056 L1928.74 175.832 Z\" fill=\"#add8e6\" fill-rule=\"evenodd\" fill-opacity=\"1\" stroke=\"#000000\" stroke-opacity=\"1\" stroke-width=\"2.4\"/>\n",
       "<path clip-path=\"url(#clip432)\" d=\"M1980.55 175.832 L1974.91 192.056 L1957.72 192.416 L1971.43 202.808 L1966.44 219.248 L1980.55 209.432 L1994.66 219.248 L1989.67 202.808 L2003.37 192.416 L1986.19 192.056 L1980.55 175.832 Z\" fill=\"#add8e6\" fill-rule=\"evenodd\" fill-opacity=\"1\" stroke=\"#000000\" stroke-opacity=\"1\" stroke-width=\"2.4\"/>\n",
       "<circle clip-path=\"url(#clip432)\" cx=\"2032.35\" cy=\"199.832\" r=\"21\" fill=\"#ffa500\" fill-rule=\"evenodd\" fill-opacity=\"1\" stroke=\"#000000\" stroke-opacity=\"1\" stroke-width=\"2.4\"/>\n",
       "<path clip-path=\"url(#clip432)\" d=\"M2084.16 175.832 L2078.52 192.056 L2061.33 192.416 L2075.04 202.808 L2070.05 219.248 L2084.16 209.432 L2098.27 219.248 L2093.28 202.808 L2106.98 192.416 L2089.8 192.056 L2084.16 175.832 Z\" fill=\"#add8e6\" fill-rule=\"evenodd\" fill-opacity=\"1\" stroke=\"#000000\" stroke-opacity=\"1\" stroke-width=\"2.4\"/>\n",
       "<circle clip-path=\"url(#clip432)\" cx=\"2135.96\" cy=\"199.832\" r=\"21\" fill=\"#ffa500\" fill-rule=\"evenodd\" fill-opacity=\"1\" stroke=\"#000000\" stroke-opacity=\"1\" stroke-width=\"2.4\"/>\n",
       "<circle clip-path=\"url(#clip432)\" cx=\"2187.77\" cy=\"199.832\" r=\"21\" fill=\"#ffa500\" fill-rule=\"evenodd\" fill-opacity=\"1\" stroke=\"#000000\" stroke-opacity=\"1\" stroke-width=\"2.4\"/>\n",
       "<path clip-path=\"url(#clip432)\" d=\"M2239.57 175.832 L2233.93 192.056 L2216.75 192.416 L2230.45 202.808 L2225.46 219.248 L2239.57 209.432 L2253.68 219.248 L2248.69 202.808 L2262.4 192.416 L2245.21 192.056 L2239.57 175.832 Z\" fill=\"#ffa500\" fill-rule=\"evenodd\" fill-opacity=\"1\" stroke=\"#000000\" stroke-opacity=\"1\" stroke-width=\"2.4\"/>\n",
       "<path clip-path=\"url(#clip432)\" d=\"M2291.38 175.832 L2285.74 192.056 L2268.55 192.416 L2282.26 202.808 L2277.27 219.248 L2291.38 209.432 L2305.49 219.248 L2300.5 202.808 L2314.2 192.416 L2297.02 192.056 L2291.38 175.832 Z\" fill=\"#ffa500\" fill-rule=\"evenodd\" fill-opacity=\"1\" stroke=\"#000000\" stroke-opacity=\"1\" stroke-width=\"2.4\"/>\n",
       "<circle clip-path=\"url(#clip432)\" cx=\"2343.18\" cy=\"199.832\" r=\"21\" fill=\"#add8e6\" fill-rule=\"evenodd\" fill-opacity=\"1\" stroke=\"#000000\" stroke-opacity=\"1\" stroke-width=\"2.4\"/>\n",
       "<path clip-path=\"url(#clip432)\" d=\"M2394.99 175.832 L2389.35 192.056 L2372.16 192.416 L2385.87 202.808 L2380.87 219.248 L2394.99 209.432 L2409.1 219.248 L2404.11 202.808 L2417.81 192.416 L2400.63 192.056 L2394.99 175.832 Z\" fill=\"#ffa500\" fill-rule=\"evenodd\" fill-opacity=\"1\" stroke=\"#000000\" stroke-opacity=\"1\" stroke-width=\"2.4\"/>\n",
       "<circle clip-path=\"url(#clip432)\" cx=\"2446.79\" cy=\"199.832\" r=\"21\" fill=\"#ffa500\" fill-rule=\"evenodd\" fill-opacity=\"1\" stroke=\"#000000\" stroke-opacity=\"1\" stroke-width=\"2.4\"/>\n",
       "<circle clip-path=\"url(#clip432)\" cx=\"2498.6\" cy=\"199.832\" r=\"21\" fill=\"#add8e6\" fill-rule=\"evenodd\" fill-opacity=\"1\" stroke=\"#000000\" stroke-opacity=\"1\" stroke-width=\"2.4\"/>\n",
       "<path clip-path=\"url(#clip432)\" d=\"M2550.4 175.832 L2544.76 192.056 L2527.58 192.416 L2541.28 202.808 L2536.29 219.248 L2550.4 209.432 L2564.51 219.248 L2559.52 202.808 L2573.23 192.416 L2556.04 192.056 L2550.4 175.832 Z\" fill=\"#ffa500\" fill-rule=\"evenodd\" fill-opacity=\"1\" stroke=\"#000000\" stroke-opacity=\"1\" stroke-width=\"2.4\"/>\n",
       "<circle clip-path=\"url(#clip432)\" cx=\"2602.21\" cy=\"199.832\" r=\"21\" fill=\"#add8e6\" fill-rule=\"evenodd\" fill-opacity=\"1\" stroke=\"#000000\" stroke-opacity=\"1\" stroke-width=\"2.4\"/>\n",
       "<path clip-path=\"url(#clip432)\" d=\"M2654.01 175.832 L2648.37 192.056 L2631.19 192.416 L2644.89 202.808 L2639.9 219.248 L2654.01 209.432 L2668.12 219.248 L2663.13 202.808 L2676.83 192.416 L2659.65 192.056 L2654.01 175.832 Z\" fill=\"#ffa500\" fill-rule=\"evenodd\" fill-opacity=\"1\" stroke=\"#000000\" stroke-opacity=\"1\" stroke-width=\"2.4\"/>\n",
       "<circle clip-path=\"url(#clip432)\" cx=\"2705.82\" cy=\"199.832\" r=\"21\" fill=\"#ffa500\" fill-rule=\"evenodd\" fill-opacity=\"1\" stroke=\"#000000\" stroke-opacity=\"1\" stroke-width=\"2.4\"/>\n",
       "<circle clip-path=\"url(#clip432)\" cx=\"2757.62\" cy=\"199.832\" r=\"21\" fill=\"#ffa500\" fill-rule=\"evenodd\" fill-opacity=\"1\" stroke=\"#000000\" stroke-opacity=\"1\" stroke-width=\"2.4\"/>\n",
       "<path clip-path=\"url(#clip432)\" d=\"M2809.42 175.832 L2803.78 192.056 L2786.6 192.416 L2800.3 202.808 L2795.31 219.248 L2809.42 209.432 L2823.54 219.248 L2818.54 202.808 L2832.25 192.416 L2815.06 192.056 L2809.42 175.832 Z\" fill=\"#ffa500\" fill-rule=\"evenodd\" fill-opacity=\"1\" stroke=\"#000000\" stroke-opacity=\"1\" stroke-width=\"2.4\"/>\n",
       "<path clip-path=\"url(#clip432)\" d=\"M2861.23 175.832 L2855.59 192.056 L2838.41 192.416 L2852.11 202.808 L2847.12 219.248 L2861.23 209.432 L2875.34 219.248 L2870.35 202.808 L2884.05 192.416 L2866.87 192.056 L2861.23 175.832 Z\" fill=\"#ffa500\" fill-rule=\"evenodd\" fill-opacity=\"1\" stroke=\"#000000\" stroke-opacity=\"1\" stroke-width=\"2.4\"/>\n",
       "<path clip-path=\"url(#clip432)\" d=\"M2913.03 175.832 L2907.39 192.056 L2890.21 192.416 L2903.91 202.808 L2898.92 219.248 L2913.03 209.432 L2927.15 219.248 L2922.15 202.808 L2935.86 192.416 L2918.67 192.056 L2913.03 175.832 Z\" fill=\"#ffa500\" fill-rule=\"evenodd\" fill-opacity=\"1\" stroke=\"#000000\" stroke-opacity=\"1\" stroke-width=\"2.4\"/>\n",
       "<circle clip-path=\"url(#clip432)\" cx=\"2964.84\" cy=\"199.832\" r=\"21\" fill=\"#add8e6\" fill-rule=\"evenodd\" fill-opacity=\"1\" stroke=\"#000000\" stroke-opacity=\"1\" stroke-width=\"2.4\"/>\n",
       "<circle clip-path=\"url(#clip432)\" cx=\"3016.64\" cy=\"199.832\" r=\"21\" fill=\"#ffa500\" fill-rule=\"evenodd\" fill-opacity=\"1\" stroke=\"#000000\" stroke-opacity=\"1\" stroke-width=\"2.4\"/>\n",
       "<circle clip-path=\"url(#clip432)\" cx=\"3068.45\" cy=\"199.832\" r=\"21\" fill=\"#add8e6\" fill-rule=\"evenodd\" fill-opacity=\"1\" stroke=\"#000000\" stroke-opacity=\"1\" stroke-width=\"2.4\"/>\n",
       "<path clip-path=\"url(#clip432)\" d=\"M3120.25 175.832 L3114.61 192.056 L3097.43 192.416 L3111.13 202.808 L3106.14 219.248 L3120.25 209.432 L3134.37 219.248 L3129.37 202.808 L3143.08 192.416 L3125.89 192.056 L3120.25 175.832 Z\" fill=\"#ffa500\" fill-rule=\"evenodd\" fill-opacity=\"1\" stroke=\"#000000\" stroke-opacity=\"1\" stroke-width=\"2.4\"/>\n",
       "<circle clip-path=\"url(#clip432)\" cx=\"3172.06\" cy=\"199.832\" r=\"21\" fill=\"#add8e6\" fill-rule=\"evenodd\" fill-opacity=\"1\" stroke=\"#000000\" stroke-opacity=\"1\" stroke-width=\"2.4\"/>\n",
       "<path clip-path=\"url(#clip432)\" d=\"M3223.86 175.832 L3218.22 192.056 L3201.04 192.416 L3214.74 202.808 L3209.75 219.248 L3223.86 209.432 L3237.97 219.248 L3232.98 202.808 L3246.69 192.416 L3229.5 192.056 L3223.86 175.832 Z\" fill=\"#add8e6\" fill-rule=\"evenodd\" fill-opacity=\"1\" stroke=\"#000000\" stroke-opacity=\"1\" stroke-width=\"2.4\"/>\n",
       "<circle clip-path=\"url(#clip432)\" cx=\"3275.67\" cy=\"199.832\" r=\"21\" fill=\"#ffa500\" fill-rule=\"evenodd\" fill-opacity=\"1\" stroke=\"#000000\" stroke-opacity=\"1\" stroke-width=\"2.4\"/>\n",
       "<path clip-path=\"url(#clip432)\" d=\"M3327.47 175.832 L3321.83 192.056 L3304.65 192.416 L3318.35 202.808 L3313.36 219.248 L3327.47 209.432 L3341.58 219.248 L3336.59 202.808 L3350.3 192.416 L3333.11 192.056 L3327.47 175.832 Z\" fill=\"#add8e6\" fill-rule=\"evenodd\" fill-opacity=\"1\" stroke=\"#000000\" stroke-opacity=\"1\" stroke-width=\"2.4\"/>\n",
       "<path clip-path=\"url(#clip432)\" d=\"M3379.28 175.832 L3373.64 192.056 L3356.45 192.416 L3370.16 202.808 L3365.17 219.248 L3379.28 209.432 L3393.39 219.248 L3388.4 202.808 L3402.1 192.416 L3384.92 192.056 L3379.28 175.832 Z\" fill=\"#add8e6\" fill-rule=\"evenodd\" fill-opacity=\"1\" stroke=\"#000000\" stroke-opacity=\"1\" stroke-width=\"2.4\"/>\n",
       "<path clip-path=\"url(#clip432)\" d=\"M3431.08 175.832 L3425.44 192.056 L3408.26 192.416 L3421.96 202.808 L3416.97 219.248 L3431.08 209.432 L3445.19 219.248 L3440.2 202.808 L3453.91 192.416 L3436.72 192.056 L3431.08 175.832 Z\" fill=\"#add8e6\" fill-rule=\"evenodd\" fill-opacity=\"1\" stroke=\"#000000\" stroke-opacity=\"1\" stroke-width=\"2.4\"/>\n",
       "<path clip-path=\"url(#clip432)\" d=\"M3482.89 175.832 L3477.25 192.056 L3460.06 192.416 L3473.77 202.808 L3468.77 219.248 L3482.89 209.432 L3497 219.248 L3492.01 202.808 L3505.71 192.416 L3488.53 192.056 L3482.89 175.832 Z\" fill=\"#add8e6\" fill-rule=\"evenodd\" fill-opacity=\"1\" stroke=\"#000000\" stroke-opacity=\"1\" stroke-width=\"2.4\"/>\n",
       "<circle clip-path=\"url(#clip432)\" cx=\"3534.69\" cy=\"199.832\" r=\"21\" fill=\"#ffa500\" fill-rule=\"evenodd\" fill-opacity=\"1\" stroke=\"#000000\" stroke-opacity=\"1\" stroke-width=\"2.4\"/>\n",
       "<circle clip-path=\"url(#clip432)\" cx=\"3586.5\" cy=\"199.832\" r=\"21\" fill=\"#ffa500\" fill-rule=\"evenodd\" fill-opacity=\"1\" stroke=\"#000000\" stroke-opacity=\"1\" stroke-width=\"2.4\"/>\n",
       "<path clip-path=\"url(#clip432)\" d=\"M3638.3 175.832 L3632.66 192.056 L3615.48 192.416 L3629.18 202.808 L3624.19 219.248 L3638.3 209.432 L3652.41 219.248 L3647.42 202.808 L3661.13 192.416 L3643.94 192.056 L3638.3 175.832 Z\" fill=\"#ffa500\" fill-rule=\"evenodd\" fill-opacity=\"1\" stroke=\"#000000\" stroke-opacity=\"1\" stroke-width=\"2.4\"/>\n",
       "<path clip-path=\"url(#clip432)\" d=\"M3690.11 175.832 L3684.47 192.056 L3667.28 192.416 L3680.99 202.808 L3675.99 219.248 L3690.11 209.432 L3704.22 219.248 L3699.23 202.808 L3712.93 192.416 L3695.75 192.056 L3690.11 175.832 Z\" fill=\"#ffa500\" fill-rule=\"evenodd\" fill-opacity=\"1\" stroke=\"#000000\" stroke-opacity=\"1\" stroke-width=\"2.4\"/>\n",
       "<circle clip-path=\"url(#clip432)\" cx=\"3741.91\" cy=\"199.832\" r=\"21\" fill=\"#add8e6\" fill-rule=\"evenodd\" fill-opacity=\"1\" stroke=\"#000000\" stroke-opacity=\"1\" stroke-width=\"2.4\"/>\n",
       "<circle clip-path=\"url(#clip432)\" cx=\"3793.72\" cy=\"199.832\" r=\"21\" fill=\"#add8e6\" fill-rule=\"evenodd\" fill-opacity=\"1\" stroke=\"#000000\" stroke-opacity=\"1\" stroke-width=\"2.4\"/>\n",
       "<circle clip-path=\"url(#clip432)\" cx=\"3845.52\" cy=\"199.832\" r=\"21\" fill=\"#add8e6\" fill-rule=\"evenodd\" fill-opacity=\"1\" stroke=\"#000000\" stroke-opacity=\"1\" stroke-width=\"2.4\"/>\n",
       "<path clip-path=\"url(#clip430)\" d=\"\n",
       "M163.756 709.456 L3952.76 709.456 L3952.76 490.208 L163.756 490.208  Z\n",
       "  \" fill=\"#ffffff\" fill-rule=\"evenodd\" fill-opacity=\"1\"/>\n",
       "<defs>\n",
       "  <clipPath id=\"clip433\">\n",
       "    <rect x=\"163\" y=\"490\" width=\"3790\" height=\"220\"/>\n",
       "  </clipPath>\n",
       "</defs>\n",
       "<path clip-path=\"url(#clip430)\" d=\"M 0 0 M1972.72 416.755 L1972.72 425.383 Q1968.59 421.535 1963.89 419.631 Q1959.23 417.727 1953.97 417.727 Q1943.59 417.727 1938.09 424.087 Q1932.58 430.406 1932.58 442.397 Q1932.58 454.347 1938.09 460.707 Q1943.59 467.026 1953.97 467.026 Q1959.23 467.026 1963.89 465.122 Q1968.59 463.218 1972.72 459.37 L1972.72 467.917 Q1968.43 470.834 1963.61 472.292 Q1958.83 473.751 1953.48 473.751 Q1939.75 473.751 1931.85 465.365 Q1923.95 456.94 1923.95 442.397 Q1923.95 427.814 1931.85 419.428 Q1939.75 411.002 1953.48 411.002 Q1958.91 411.002 1963.69 412.461 Q1968.51 413.878 1972.72 416.755 Z\" fill=\"#000000\" fill-rule=\"evenodd\" fill-opacity=\"1\" /><path clip-path=\"url(#clip430)\" d=\"M 0 0 M1999.42 476.789 Q1996.26 484.891 1993.26 487.362 Q1990.26 489.833 1985.24 489.833 L1979.28 489.833 L1979.28 483.594 L1983.66 483.594 Q1986.74 483.594 1988.44 482.136 Q1990.14 480.678 1992.21 475.25 L1993.54 471.847 L1975.19 427.206 L1983.09 427.206 L1997.27 462.692 L2011.45 427.206 L2019.35 427.206 L1999.42 476.789 Z\" fill=\"#000000\" fill-rule=\"evenodd\" fill-opacity=\"1\" /><path clip-path=\"url(#clip430)\" d=\"M 0 0 M2059.82 428.948 L2059.82 435.915 Q2056.66 434.173 2053.46 433.323 Q2050.3 432.432 2047.06 432.432 Q2039.8 432.432 2035.79 437.05 Q2031.78 441.627 2031.78 449.931 Q2031.78 458.236 2035.79 462.854 Q2039.8 467.431 2047.06 467.431 Q2050.3 467.431 2053.46 466.581 Q2056.66 465.689 2059.82 463.948 L2059.82 470.834 Q2056.7 472.292 2053.33 473.022 Q2050.01 473.751 2046.24 473.751 Q2036 473.751 2029.96 467.31 Q2023.92 460.869 2023.92 449.931 Q2023.92 438.832 2030 432.472 Q2036.12 426.112 2046.73 426.112 Q2050.17 426.112 2053.46 426.841 Q2056.74 427.53 2059.82 428.948 Z\" fill=\"#000000\" fill-rule=\"evenodd\" fill-opacity=\"1\" /><path clip-path=\"url(#clip430)\" d=\"M 0 0 M2067.63 409.544 L2075.09 409.544 L2075.09 472.576 L2067.63 472.576 L2067.63 409.544 Z\" fill=\"#000000\" fill-rule=\"evenodd\" fill-opacity=\"1\" /><path clip-path=\"url(#clip430)\" d=\"M 0 0 M2121.71 448.028 L2121.71 451.673 L2087.44 451.673 Q2087.93 459.37 2092.06 463.421 Q2096.23 467.431 2103.65 467.431 Q2107.94 467.431 2111.95 466.378 Q2116 465.325 2119.97 463.218 L2119.97 470.267 Q2115.96 471.968 2111.75 472.86 Q2107.54 473.751 2103.2 473.751 Q2092.34 473.751 2085.98 467.431 Q2079.66 461.112 2079.66 450.337 Q2079.66 439.197 2085.66 432.675 Q2091.7 426.112 2101.9 426.112 Q2111.06 426.112 2116.37 432.026 Q2121.71 437.9 2121.71 448.028 M2114.26 445.84 Q2114.18 439.723 2110.82 436.077 Q2107.49 432.432 2101.99 432.432 Q2095.75 432.432 2091.98 435.956 Q2088.25 439.48 2087.69 445.881 L2114.26 445.84 Z\" fill=\"#000000\" fill-rule=\"evenodd\" fill-opacity=\"1\" /><path clip-path=\"url(#clip430)\" d=\"M 0 0 M2164 465.689 L2192.56 465.689 L2192.56 472.576 L2154.16 472.576 L2154.16 465.689 Q2158.82 460.869 2166.84 452.767 Q2174.9 444.625 2176.97 442.275 Q2180.9 437.86 2182.44 434.822 Q2184.02 431.743 2184.02 428.786 Q2184.02 423.965 2180.61 420.927 Q2177.25 417.889 2171.82 417.889 Q2167.97 417.889 2163.68 419.226 Q2159.43 420.562 2154.57 423.276 L2154.57 415.013 Q2159.51 413.028 2163.8 412.015 Q2168.1 411.002 2171.66 411.002 Q2181.06 411.002 2186.65 415.701 Q2192.24 420.4 2192.24 428.259 Q2192.24 431.986 2190.82 435.348 Q2189.44 438.67 2185.76 443.207 Q2184.75 444.382 2179.32 450.012 Q2173.89 455.603 2164 465.689 Z\" fill=\"#000000\" fill-rule=\"evenodd\" fill-opacity=\"1\" /><path clip-path=\"url(#clip433)\" d=\"M270.992 575.832 L265.352 592.056 L248.168 592.416 L261.872 602.808 L256.88 619.248 L270.992 609.432 L285.104 619.248 L280.112 602.808 L293.816 592.416 L276.632 592.056 L270.992 575.832 Z\" fill=\"#add8e6\" fill-rule=\"evenodd\" fill-opacity=\"1\" stroke=\"#000000\" stroke-opacity=\"1\" stroke-width=\"2.4\"/>\n",
       "<path clip-path=\"url(#clip433)\" d=\"M322.796 575.832 L317.156 592.056 L299.972 592.416 L313.676 602.808 L308.684 619.248 L322.796 609.432 L336.908 619.248 L331.916 602.808 L345.62 592.416 L328.436 592.056 L322.796 575.832 Z\" fill=\"#add8e6\" fill-rule=\"evenodd\" fill-opacity=\"1\" stroke=\"#000000\" stroke-opacity=\"1\" stroke-width=\"2.4\"/>\n",
       "<path clip-path=\"url(#clip433)\" d=\"M374.601 575.832 L368.961 592.056 L351.777 592.416 L365.481 602.808 L360.489 619.248 L374.601 609.432 L388.713 619.248 L383.721 602.808 L397.425 592.416 L380.241 592.056 L374.601 575.832 Z\" fill=\"#add8e6\" fill-rule=\"evenodd\" fill-opacity=\"1\" stroke=\"#000000\" stroke-opacity=\"1\" stroke-width=\"2.4\"/>\n",
       "<path clip-path=\"url(#clip433)\" d=\"M426.406 575.832 L420.766 592.056 L403.582 592.416 L417.286 602.808 L412.294 619.248 L426.406 609.432 L440.518 619.248 L435.526 602.808 L449.23 592.416 L432.046 592.056 L426.406 575.832 Z\" fill=\"#add8e6\" fill-rule=\"evenodd\" fill-opacity=\"1\" stroke=\"#000000\" stroke-opacity=\"1\" stroke-width=\"2.4\"/>\n",
       "<circle clip-path=\"url(#clip433)\" cx=\"478.211\" cy=\"599.832\" r=\"21\" fill=\"#ffa500\" fill-rule=\"evenodd\" fill-opacity=\"1\" stroke=\"#000000\" stroke-opacity=\"1\" stroke-width=\"2.4\"/>\n",
       "<circle clip-path=\"url(#clip433)\" cx=\"530.015\" cy=\"599.832\" r=\"21\" fill=\"#add8e6\" fill-rule=\"evenodd\" fill-opacity=\"1\" stroke=\"#000000\" stroke-opacity=\"1\" stroke-width=\"2.4\"/>\n",
       "<path clip-path=\"url(#clip433)\" d=\"M581.82 575.832 L576.18 592.056 L558.996 592.416 L572.7 602.808 L567.708 619.248 L581.82 609.432 L595.932 619.248 L590.94 602.808 L604.644 592.416 L587.46 592.056 L581.82 575.832 Z\" fill=\"#ffa500\" fill-rule=\"evenodd\" fill-opacity=\"1\" stroke=\"#000000\" stroke-opacity=\"1\" stroke-width=\"2.4\"/>\n",
       "<circle clip-path=\"url(#clip433)\" cx=\"633.625\" cy=\"599.832\" r=\"21\" fill=\"#add8e6\" fill-rule=\"evenodd\" fill-opacity=\"1\" stroke=\"#000000\" stroke-opacity=\"1\" stroke-width=\"2.4\"/>\n",
       "<circle clip-path=\"url(#clip433)\" cx=\"685.43\" cy=\"599.832\" r=\"21\" fill=\"#add8e6\" fill-rule=\"evenodd\" fill-opacity=\"1\" stroke=\"#000000\" stroke-opacity=\"1\" stroke-width=\"2.4\"/>\n",
       "<circle clip-path=\"url(#clip433)\" cx=\"737.234\" cy=\"599.832\" r=\"21\" fill=\"#add8e6\" fill-rule=\"evenodd\" fill-opacity=\"1\" stroke=\"#000000\" stroke-opacity=\"1\" stroke-width=\"2.4\"/>\n",
       "<circle clip-path=\"url(#clip433)\" cx=\"789.039\" cy=\"599.832\" r=\"21\" fill=\"#add8e6\" fill-rule=\"evenodd\" fill-opacity=\"1\" stroke=\"#000000\" stroke-opacity=\"1\" stroke-width=\"2.4\"/>\n",
       "<circle clip-path=\"url(#clip433)\" cx=\"840.844\" cy=\"599.832\" r=\"21\" fill=\"#add8e6\" fill-rule=\"evenodd\" fill-opacity=\"1\" stroke=\"#000000\" stroke-opacity=\"1\" stroke-width=\"2.4\"/>\n",
       "<circle clip-path=\"url(#clip433)\" cx=\"892.649\" cy=\"599.832\" r=\"21\" fill=\"#add8e6\" fill-rule=\"evenodd\" fill-opacity=\"1\" stroke=\"#000000\" stroke-opacity=\"1\" stroke-width=\"2.4\"/>\n",
       "<circle clip-path=\"url(#clip433)\" cx=\"944.453\" cy=\"599.832\" r=\"21\" fill=\"#add8e6\" fill-rule=\"evenodd\" fill-opacity=\"1\" stroke=\"#000000\" stroke-opacity=\"1\" stroke-width=\"2.4\"/>\n",
       "<circle clip-path=\"url(#clip433)\" cx=\"996.258\" cy=\"599.832\" r=\"21\" fill=\"#add8e6\" fill-rule=\"evenodd\" fill-opacity=\"1\" stroke=\"#000000\" stroke-opacity=\"1\" stroke-width=\"2.4\"/>\n",
       "<circle clip-path=\"url(#clip433)\" cx=\"1048.06\" cy=\"599.832\" r=\"21\" fill=\"#add8e6\" fill-rule=\"evenodd\" fill-opacity=\"1\" stroke=\"#000000\" stroke-opacity=\"1\" stroke-width=\"2.4\"/>\n",
       "<circle clip-path=\"url(#clip433)\" cx=\"1099.87\" cy=\"599.832\" r=\"21\" fill=\"#add8e6\" fill-rule=\"evenodd\" fill-opacity=\"1\" stroke=\"#000000\" stroke-opacity=\"1\" stroke-width=\"2.4\"/>\n",
       "<path clip-path=\"url(#clip433)\" d=\"M1151.67 575.832 L1146.03 592.056 L1128.85 592.416 L1142.55 602.808 L1137.56 619.248 L1151.67 609.432 L1165.78 619.248 L1160.79 602.808 L1174.5 592.416 L1157.31 592.056 L1151.67 575.832 Z\" fill=\"#add8e6\" fill-rule=\"evenodd\" fill-opacity=\"1\" stroke=\"#000000\" stroke-opacity=\"1\" stroke-width=\"2.4\"/>\n",
       "<path clip-path=\"url(#clip433)\" d=\"M1203.48 575.832 L1197.84 592.056 L1180.65 592.416 L1194.36 602.808 L1189.37 619.248 L1203.48 609.432 L1217.59 619.248 L1212.6 602.808 L1226.3 592.416 L1209.12 592.056 L1203.48 575.832 Z\" fill=\"#add8e6\" fill-rule=\"evenodd\" fill-opacity=\"1\" stroke=\"#000000\" stroke-opacity=\"1\" stroke-width=\"2.4\"/>\n",
       "<path clip-path=\"url(#clip433)\" d=\"M1255.28 575.832 L1249.64 592.056 L1232.46 592.416 L1246.16 602.808 L1241.17 619.248 L1255.28 609.432 L1269.39 619.248 L1264.4 602.808 L1278.11 592.416 L1260.92 592.056 L1255.28 575.832 Z\" fill=\"#add8e6\" fill-rule=\"evenodd\" fill-opacity=\"1\" stroke=\"#000000\" stroke-opacity=\"1\" stroke-width=\"2.4\"/>\n",
       "<path clip-path=\"url(#clip433)\" d=\"M1307.09 575.832 L1301.45 592.056 L1284.26 592.416 L1297.97 602.808 L1292.97 619.248 L1307.09 609.432 L1321.2 619.248 L1316.21 602.808 L1329.91 592.416 L1312.73 592.056 L1307.09 575.832 Z\" fill=\"#add8e6\" fill-rule=\"evenodd\" fill-opacity=\"1\" stroke=\"#000000\" stroke-opacity=\"1\" stroke-width=\"2.4\"/>\n",
       "<path clip-path=\"url(#clip433)\" d=\"M1358.89 575.832 L1353.25 592.056 L1336.07 592.416 L1349.77 602.808 L1344.78 619.248 L1358.89 609.432 L1373 619.248 L1368.01 602.808 L1381.72 592.416 L1364.53 592.056 L1358.89 575.832 Z\" fill=\"#add8e6\" fill-rule=\"evenodd\" fill-opacity=\"1\" stroke=\"#000000\" stroke-opacity=\"1\" stroke-width=\"2.4\"/>\n",
       "<path clip-path=\"url(#clip433)\" d=\"M1410.7 575.832 L1405.06 592.056 L1387.87 592.416 L1401.58 602.808 L1396.58 619.248 L1410.7 609.432 L1424.81 619.248 L1419.82 602.808 L1433.52 592.416 L1416.34 592.056 L1410.7 575.832 Z\" fill=\"#add8e6\" fill-rule=\"evenodd\" fill-opacity=\"1\" stroke=\"#000000\" stroke-opacity=\"1\" stroke-width=\"2.4\"/>\n",
       "<path clip-path=\"url(#clip433)\" d=\"M1462.5 575.832 L1456.86 592.056 L1439.68 592.416 L1453.38 602.808 L1448.39 619.248 L1462.5 609.432 L1476.61 619.248 L1471.62 602.808 L1485.33 592.416 L1468.14 592.056 L1462.5 575.832 Z\" fill=\"#add8e6\" fill-rule=\"evenodd\" fill-opacity=\"1\" stroke=\"#000000\" stroke-opacity=\"1\" stroke-width=\"2.4\"/>\n",
       "<path clip-path=\"url(#clip433)\" d=\"M1514.31 575.832 L1508.67 592.056 L1491.48 592.416 L1505.19 602.808 L1500.19 619.248 L1514.31 609.432 L1528.42 619.248 L1523.43 602.808 L1537.13 592.416 L1519.95 592.056 L1514.31 575.832 Z\" fill=\"#add8e6\" fill-rule=\"evenodd\" fill-opacity=\"1\" stroke=\"#000000\" stroke-opacity=\"1\" stroke-width=\"2.4\"/>\n",
       "<path clip-path=\"url(#clip433)\" d=\"M1566.11 575.832 L1560.47 592.056 L1543.29 592.416 L1556.99 602.808 L1552 619.248 L1566.11 609.432 L1580.22 619.248 L1575.23 602.808 L1588.93 592.416 L1571.75 592.056 L1566.11 575.832 Z\" fill=\"#add8e6\" fill-rule=\"evenodd\" fill-opacity=\"1\" stroke=\"#000000\" stroke-opacity=\"1\" stroke-width=\"2.4\"/>\n",
       "<path clip-path=\"url(#clip433)\" d=\"M1617.92 575.832 L1612.28 592.056 L1595.09 592.416 L1608.8 602.808 L1603.8 619.248 L1617.92 609.432 L1632.03 619.248 L1627.04 602.808 L1640.74 592.416 L1623.56 592.056 L1617.92 575.832 Z\" fill=\"#add8e6\" fill-rule=\"evenodd\" fill-opacity=\"1\" stroke=\"#000000\" stroke-opacity=\"1\" stroke-width=\"2.4\"/>\n",
       "<circle clip-path=\"url(#clip433)\" cx=\"1669.72\" cy=\"599.832\" r=\"21\" fill=\"#ffa500\" fill-rule=\"evenodd\" fill-opacity=\"1\" stroke=\"#000000\" stroke-opacity=\"1\" stroke-width=\"2.4\"/>\n",
       "<circle clip-path=\"url(#clip433)\" cx=\"1721.52\" cy=\"599.832\" r=\"21\" fill=\"#add8e6\" fill-rule=\"evenodd\" fill-opacity=\"1\" stroke=\"#000000\" stroke-opacity=\"1\" stroke-width=\"2.4\"/>\n",
       "<circle clip-path=\"url(#clip433)\" cx=\"1773.33\" cy=\"599.832\" r=\"21\" fill=\"#add8e6\" fill-rule=\"evenodd\" fill-opacity=\"1\" stroke=\"#000000\" stroke-opacity=\"1\" stroke-width=\"2.4\"/>\n",
       "<circle clip-path=\"url(#clip433)\" cx=\"1825.13\" cy=\"599.832\" r=\"21\" fill=\"#add8e6\" fill-rule=\"evenodd\" fill-opacity=\"1\" stroke=\"#000000\" stroke-opacity=\"1\" stroke-width=\"2.4\"/>\n",
       "<path clip-path=\"url(#clip433)\" d=\"M1876.94 575.832 L1871.3 592.056 L1854.12 592.416 L1867.82 602.808 L1862.83 619.248 L1876.94 609.432 L1891.05 619.248 L1886.06 602.808 L1899.76 592.416 L1882.58 592.056 L1876.94 575.832 Z\" fill=\"#ffa500\" fill-rule=\"evenodd\" fill-opacity=\"1\" stroke=\"#000000\" stroke-opacity=\"1\" stroke-width=\"2.4\"/>\n",
       "<circle clip-path=\"url(#clip433)\" cx=\"1928.74\" cy=\"599.832\" r=\"21\" fill=\"#ffa500\" fill-rule=\"evenodd\" fill-opacity=\"1\" stroke=\"#000000\" stroke-opacity=\"1\" stroke-width=\"2.4\"/>\n",
       "<path clip-path=\"url(#clip433)\" d=\"M1980.55 575.832 L1974.91 592.056 L1957.72 592.416 L1971.43 602.808 L1966.44 619.248 L1980.55 609.432 L1994.66 619.248 L1989.67 602.808 L2003.37 592.416 L1986.19 592.056 L1980.55 575.832 Z\" fill=\"#add8e6\" fill-rule=\"evenodd\" fill-opacity=\"1\" stroke=\"#000000\" stroke-opacity=\"1\" stroke-width=\"2.4\"/>\n",
       "<path clip-path=\"url(#clip433)\" d=\"M2032.35 575.832 L2026.71 592.056 L2009.53 592.416 L2023.23 602.808 L2018.24 619.248 L2032.35 609.432 L2046.47 619.248 L2041.47 602.808 L2055.18 592.416 L2037.99 592.056 L2032.35 575.832 Z\" fill=\"#add8e6\" fill-rule=\"evenodd\" fill-opacity=\"1\" stroke=\"#000000\" stroke-opacity=\"1\" stroke-width=\"2.4\"/>\n",
       "<path clip-path=\"url(#clip433)\" d=\"M2084.16 575.832 L2078.52 592.056 L2061.33 592.416 L2075.04 602.808 L2070.05 619.248 L2084.16 609.432 L2098.27 619.248 L2093.28 602.808 L2106.98 592.416 L2089.8 592.056 L2084.16 575.832 Z\" fill=\"#add8e6\" fill-rule=\"evenodd\" fill-opacity=\"1\" stroke=\"#000000\" stroke-opacity=\"1\" stroke-width=\"2.4\"/>\n",
       "<path clip-path=\"url(#clip433)\" d=\"M2135.96 575.832 L2130.32 592.056 L2113.14 592.416 L2126.84 602.808 L2121.85 619.248 L2135.96 609.432 L2150.07 619.248 L2145.08 602.808 L2158.79 592.416 L2141.6 592.056 L2135.96 575.832 Z\" fill=\"#add8e6\" fill-rule=\"evenodd\" fill-opacity=\"1\" stroke=\"#000000\" stroke-opacity=\"1\" stroke-width=\"2.4\"/>\n",
       "<path clip-path=\"url(#clip433)\" d=\"M2187.77 575.832 L2182.13 592.056 L2164.94 592.416 L2178.65 602.808 L2173.66 619.248 L2187.77 609.432 L2201.88 619.248 L2196.89 602.808 L2210.59 592.416 L2193.41 592.056 L2187.77 575.832 Z\" fill=\"#add8e6\" fill-rule=\"evenodd\" fill-opacity=\"1\" stroke=\"#000000\" stroke-opacity=\"1\" stroke-width=\"2.4\"/>\n",
       "<path clip-path=\"url(#clip433)\" d=\"M2239.57 575.832 L2233.93 592.056 L2216.75 592.416 L2230.45 602.808 L2225.46 619.248 L2239.57 609.432 L2253.68 619.248 L2248.69 602.808 L2262.4 592.416 L2245.21 592.056 L2239.57 575.832 Z\" fill=\"#add8e6\" fill-rule=\"evenodd\" fill-opacity=\"1\" stroke=\"#000000\" stroke-opacity=\"1\" stroke-width=\"2.4\"/>\n",
       "<circle clip-path=\"url(#clip433)\" cx=\"2291.38\" cy=\"599.832\" r=\"21\" fill=\"#add8e6\" fill-rule=\"evenodd\" fill-opacity=\"1\" stroke=\"#000000\" stroke-opacity=\"1\" stroke-width=\"2.4\"/>\n",
       "<circle clip-path=\"url(#clip433)\" cx=\"2343.18\" cy=\"599.832\" r=\"21\" fill=\"#add8e6\" fill-rule=\"evenodd\" fill-opacity=\"1\" stroke=\"#000000\" stroke-opacity=\"1\" stroke-width=\"2.4\"/>\n",
       "<circle clip-path=\"url(#clip433)\" cx=\"2394.99\" cy=\"599.832\" r=\"21\" fill=\"#add8e6\" fill-rule=\"evenodd\" fill-opacity=\"1\" stroke=\"#000000\" stroke-opacity=\"1\" stroke-width=\"2.4\"/>\n",
       "<circle clip-path=\"url(#clip433)\" cx=\"2446.79\" cy=\"599.832\" r=\"21\" fill=\"#add8e6\" fill-rule=\"evenodd\" fill-opacity=\"1\" stroke=\"#000000\" stroke-opacity=\"1\" stroke-width=\"2.4\"/>\n",
       "<circle clip-path=\"url(#clip433)\" cx=\"2498.6\" cy=\"599.832\" r=\"21\" fill=\"#add8e6\" fill-rule=\"evenodd\" fill-opacity=\"1\" stroke=\"#000000\" stroke-opacity=\"1\" stroke-width=\"2.4\"/>\n",
       "<circle clip-path=\"url(#clip433)\" cx=\"2550.4\" cy=\"599.832\" r=\"21\" fill=\"#add8e6\" fill-rule=\"evenodd\" fill-opacity=\"1\" stroke=\"#000000\" stroke-opacity=\"1\" stroke-width=\"2.4\"/>\n",
       "<circle clip-path=\"url(#clip433)\" cx=\"2602.21\" cy=\"599.832\" r=\"21\" fill=\"#add8e6\" fill-rule=\"evenodd\" fill-opacity=\"1\" stroke=\"#000000\" stroke-opacity=\"1\" stroke-width=\"2.4\"/>\n",
       "<circle clip-path=\"url(#clip433)\" cx=\"2654.01\" cy=\"599.832\" r=\"21\" fill=\"#add8e6\" fill-rule=\"evenodd\" fill-opacity=\"1\" stroke=\"#000000\" stroke-opacity=\"1\" stroke-width=\"2.4\"/>\n",
       "<path clip-path=\"url(#clip433)\" d=\"M2705.82 575.832 L2700.18 592.056 L2682.99 592.416 L2696.7 602.808 L2691.7 619.248 L2705.82 609.432 L2719.93 619.248 L2714.94 602.808 L2728.64 592.416 L2711.46 592.056 L2705.82 575.832 Z\" fill=\"#add8e6\" fill-rule=\"evenodd\" fill-opacity=\"1\" stroke=\"#000000\" stroke-opacity=\"1\" stroke-width=\"2.4\"/>\n",
       "<path clip-path=\"url(#clip433)\" d=\"M2757.62 575.832 L2751.98 592.056 L2734.8 592.416 L2748.5 602.808 L2743.51 619.248 L2757.62 609.432 L2771.73 619.248 L2766.74 602.808 L2780.44 592.416 L2763.26 592.056 L2757.62 575.832 Z\" fill=\"#add8e6\" fill-rule=\"evenodd\" fill-opacity=\"1\" stroke=\"#000000\" stroke-opacity=\"1\" stroke-width=\"2.4\"/>\n",
       "<path clip-path=\"url(#clip433)\" d=\"M2809.42 575.832 L2803.78 592.056 L2786.6 592.416 L2800.3 602.808 L2795.31 619.248 L2809.42 609.432 L2823.54 619.248 L2818.54 602.808 L2832.25 592.416 L2815.06 592.056 L2809.42 575.832 Z\" fill=\"#add8e6\" fill-rule=\"evenodd\" fill-opacity=\"1\" stroke=\"#000000\" stroke-opacity=\"1\" stroke-width=\"2.4\"/>\n",
       "<path clip-path=\"url(#clip433)\" d=\"M2861.23 575.832 L2855.59 592.056 L2838.41 592.416 L2852.11 602.808 L2847.12 619.248 L2861.23 609.432 L2875.34 619.248 L2870.35 602.808 L2884.05 592.416 L2866.87 592.056 L2861.23 575.832 Z\" fill=\"#add8e6\" fill-rule=\"evenodd\" fill-opacity=\"1\" stroke=\"#000000\" stroke-opacity=\"1\" stroke-width=\"2.4\"/>\n",
       "<path clip-path=\"url(#clip433)\" d=\"M2913.03 575.832 L2907.39 592.056 L2890.21 592.416 L2903.91 602.808 L2898.92 619.248 L2913.03 609.432 L2927.15 619.248 L2922.15 602.808 L2935.86 592.416 L2918.67 592.056 L2913.03 575.832 Z\" fill=\"#add8e6\" fill-rule=\"evenodd\" fill-opacity=\"1\" stroke=\"#000000\" stroke-opacity=\"1\" stroke-width=\"2.4\"/>\n",
       "<circle clip-path=\"url(#clip433)\" cx=\"2964.84\" cy=\"599.832\" r=\"21\" fill=\"#add8e6\" fill-rule=\"evenodd\" fill-opacity=\"1\" stroke=\"#000000\" stroke-opacity=\"1\" stroke-width=\"2.4\"/>\n",
       "<circle clip-path=\"url(#clip433)\" cx=\"3016.64\" cy=\"599.832\" r=\"21\" fill=\"#add8e6\" fill-rule=\"evenodd\" fill-opacity=\"1\" stroke=\"#000000\" stroke-opacity=\"1\" stroke-width=\"2.4\"/>\n",
       "<circle clip-path=\"url(#clip433)\" cx=\"3068.45\" cy=\"599.832\" r=\"21\" fill=\"#add8e6\" fill-rule=\"evenodd\" fill-opacity=\"1\" stroke=\"#000000\" stroke-opacity=\"1\" stroke-width=\"2.4\"/>\n",
       "<circle clip-path=\"url(#clip433)\" cx=\"3120.25\" cy=\"599.832\" r=\"21\" fill=\"#add8e6\" fill-rule=\"evenodd\" fill-opacity=\"1\" stroke=\"#000000\" stroke-opacity=\"1\" stroke-width=\"2.4\"/>\n",
       "<circle clip-path=\"url(#clip433)\" cx=\"3172.06\" cy=\"599.832\" r=\"21\" fill=\"#add8e6\" fill-rule=\"evenodd\" fill-opacity=\"1\" stroke=\"#000000\" stroke-opacity=\"1\" stroke-width=\"2.4\"/>\n",
       "<path clip-path=\"url(#clip433)\" d=\"M3223.86 575.832 L3218.22 592.056 L3201.04 592.416 L3214.74 602.808 L3209.75 619.248 L3223.86 609.432 L3237.97 619.248 L3232.98 602.808 L3246.69 592.416 L3229.5 592.056 L3223.86 575.832 Z\" fill=\"#add8e6\" fill-rule=\"evenodd\" fill-opacity=\"1\" stroke=\"#000000\" stroke-opacity=\"1\" stroke-width=\"2.4\"/>\n",
       "<path clip-path=\"url(#clip433)\" d=\"M3275.67 575.832 L3270.03 592.056 L3252.84 592.416 L3266.55 602.808 L3261.56 619.248 L3275.67 609.432 L3289.78 619.248 L3284.79 602.808 L3298.49 592.416 L3281.31 592.056 L3275.67 575.832 Z\" fill=\"#add8e6\" fill-rule=\"evenodd\" fill-opacity=\"1\" stroke=\"#000000\" stroke-opacity=\"1\" stroke-width=\"2.4\"/>\n",
       "<path clip-path=\"url(#clip433)\" d=\"M3327.47 575.832 L3321.83 592.056 L3304.65 592.416 L3318.35 602.808 L3313.36 619.248 L3327.47 609.432 L3341.58 619.248 L3336.59 602.808 L3350.3 592.416 L3333.11 592.056 L3327.47 575.832 Z\" fill=\"#add8e6\" fill-rule=\"evenodd\" fill-opacity=\"1\" stroke=\"#000000\" stroke-opacity=\"1\" stroke-width=\"2.4\"/>\n",
       "<path clip-path=\"url(#clip433)\" d=\"M3379.28 575.832 L3373.64 592.056 L3356.45 592.416 L3370.16 602.808 L3365.17 619.248 L3379.28 609.432 L3393.39 619.248 L3388.4 602.808 L3402.1 592.416 L3384.92 592.056 L3379.28 575.832 Z\" fill=\"#add8e6\" fill-rule=\"evenodd\" fill-opacity=\"1\" stroke=\"#000000\" stroke-opacity=\"1\" stroke-width=\"2.4\"/>\n",
       "<path clip-path=\"url(#clip433)\" d=\"M3431.08 575.832 L3425.44 592.056 L3408.26 592.416 L3421.96 602.808 L3416.97 619.248 L3431.08 609.432 L3445.19 619.248 L3440.2 602.808 L3453.91 592.416 L3436.72 592.056 L3431.08 575.832 Z\" fill=\"#add8e6\" fill-rule=\"evenodd\" fill-opacity=\"1\" stroke=\"#000000\" stroke-opacity=\"1\" stroke-width=\"2.4\"/>\n",
       "<path clip-path=\"url(#clip433)\" d=\"M3482.89 575.832 L3477.25 592.056 L3460.06 592.416 L3473.77 602.808 L3468.77 619.248 L3482.89 609.432 L3497 619.248 L3492.01 602.808 L3505.71 592.416 L3488.53 592.056 L3482.89 575.832 Z\" fill=\"#add8e6\" fill-rule=\"evenodd\" fill-opacity=\"1\" stroke=\"#000000\" stroke-opacity=\"1\" stroke-width=\"2.4\"/>\n",
       "<path clip-path=\"url(#clip433)\" d=\"M3534.69 575.832 L3529.05 592.056 L3511.87 592.416 L3525.57 602.808 L3520.58 619.248 L3534.69 609.432 L3548.8 619.248 L3543.81 602.808 L3557.52 592.416 L3540.33 592.056 L3534.69 575.832 Z\" fill=\"#add8e6\" fill-rule=\"evenodd\" fill-opacity=\"1\" stroke=\"#000000\" stroke-opacity=\"1\" stroke-width=\"2.4\"/>\n",
       "<path clip-path=\"url(#clip433)\" d=\"M3586.5 575.832 L3580.86 592.056 L3563.67 592.416 L3577.38 602.808 L3572.38 619.248 L3586.5 609.432 L3600.61 619.248 L3595.62 602.808 L3609.32 592.416 L3592.14 592.056 L3586.5 575.832 Z\" fill=\"#add8e6\" fill-rule=\"evenodd\" fill-opacity=\"1\" stroke=\"#000000\" stroke-opacity=\"1\" stroke-width=\"2.4\"/>\n",
       "<circle clip-path=\"url(#clip433)\" cx=\"3638.3\" cy=\"599.832\" r=\"21\" fill=\"#add8e6\" fill-rule=\"evenodd\" fill-opacity=\"1\" stroke=\"#000000\" stroke-opacity=\"1\" stroke-width=\"2.4\"/>\n",
       "<circle clip-path=\"url(#clip433)\" cx=\"3690.11\" cy=\"599.832\" r=\"21\" fill=\"#add8e6\" fill-rule=\"evenodd\" fill-opacity=\"1\" stroke=\"#000000\" stroke-opacity=\"1\" stroke-width=\"2.4\"/>\n",
       "<circle clip-path=\"url(#clip433)\" cx=\"3741.91\" cy=\"599.832\" r=\"21\" fill=\"#add8e6\" fill-rule=\"evenodd\" fill-opacity=\"1\" stroke=\"#000000\" stroke-opacity=\"1\" stroke-width=\"2.4\"/>\n",
       "<circle clip-path=\"url(#clip433)\" cx=\"3793.72\" cy=\"599.832\" r=\"21\" fill=\"#add8e6\" fill-rule=\"evenodd\" fill-opacity=\"1\" stroke=\"#000000\" stroke-opacity=\"1\" stroke-width=\"2.4\"/>\n",
       "<circle clip-path=\"url(#clip433)\" cx=\"3845.52\" cy=\"599.832\" r=\"21\" fill=\"#add8e6\" fill-rule=\"evenodd\" fill-opacity=\"1\" stroke=\"#000000\" stroke-opacity=\"1\" stroke-width=\"2.4\"/>\n",
       "<path clip-path=\"url(#clip430)\" d=\"\n",
       "M163.756 1109.46 L3952.76 1109.46 L3952.76 890.208 L163.756 890.208  Z\n",
       "  \" fill=\"#ffffff\" fill-rule=\"evenodd\" fill-opacity=\"1\"/>\n",
       "<defs>\n",
       "  <clipPath id=\"clip434\">\n",
       "    <rect x=\"163\" y=\"890\" width=\"3790\" height=\"220\"/>\n",
       "  </clipPath>\n",
       "</defs>\n",
       "<path clip-path=\"url(#clip430)\" d=\"M 0 0 M1971.89 816.755 L1971.89 825.383 Q1967.76 821.535 1963.06 819.631 Q1958.4 817.727 1953.13 817.727 Q1942.76 817.727 1937.26 824.087 Q1931.75 830.406 1931.75 842.397 Q1931.75 854.347 1937.26 860.707 Q1942.76 867.026 1953.13 867.026 Q1958.4 867.026 1963.06 865.122 Q1967.76 863.218 1971.89 859.37 L1971.89 867.917 Q1967.6 870.834 1962.78 872.292 Q1958 873.751 1952.65 873.751 Q1938.92 873.751 1931.02 865.365 Q1923.12 856.94 1923.12 842.397 Q1923.12 827.814 1931.02 819.428 Q1938.92 811.002 1952.65 811.002 Q1958.08 811.002 1962.86 812.461 Q1967.68 813.878 1971.89 816.755 Z\" fill=\"#000000\" fill-rule=\"evenodd\" fill-opacity=\"1\" /><path clip-path=\"url(#clip430)\" d=\"M 0 0 M1998.59 876.789 Q1995.43 884.891 1992.43 887.362 Q1989.43 889.833 1984.41 889.833 L1978.45 889.833 L1978.45 883.594 L1982.83 883.594 Q1985.91 883.594 1987.61 882.136 Q1989.31 880.678 1991.38 875.25 L1992.71 871.847 L1974.36 827.206 L1982.26 827.206 L1996.44 862.692 L2010.62 827.206 L2018.52 827.206 L1998.59 876.789 Z\" fill=\"#000000\" fill-rule=\"evenodd\" fill-opacity=\"1\" /><path clip-path=\"url(#clip430)\" d=\"M 0 0 M2058.98 828.948 L2058.98 835.915 Q2055.83 834.173 2052.63 833.323 Q2049.47 832.432 2046.22 832.432 Q2038.97 832.432 2034.96 837.05 Q2030.95 841.627 2030.95 849.931 Q2030.95 858.236 2034.96 862.854 Q2038.97 867.431 2046.22 867.431 Q2049.47 867.431 2052.63 866.581 Q2055.83 865.689 2058.98 863.948 L2058.98 870.834 Q2055.87 872.292 2052.5 873.022 Q2049.18 873.751 2045.41 873.751 Q2035.17 873.751 2029.13 867.31 Q2023.09 860.869 2023.09 849.931 Q2023.09 838.832 2029.17 832.472 Q2035.29 826.112 2045.9 826.112 Q2049.34 826.112 2052.63 826.841 Q2055.91 827.53 2058.98 828.948 Z\" fill=\"#000000\" fill-rule=\"evenodd\" fill-opacity=\"1\" /><path clip-path=\"url(#clip430)\" d=\"M 0 0 M2066.8 809.544 L2074.26 809.544 L2074.26 872.576 L2066.8 872.576 L2066.8 809.544 Z\" fill=\"#000000\" fill-rule=\"evenodd\" fill-opacity=\"1\" /><path clip-path=\"url(#clip430)\" d=\"M 0 0 M2120.88 848.028 L2120.88 851.673 L2086.61 851.673 Q2087.1 859.37 2091.23 863.421 Q2095.4 867.431 2102.82 867.431 Q2107.11 867.431 2111.12 866.378 Q2115.17 865.325 2119.14 863.218 L2119.14 870.267 Q2115.13 871.968 2110.92 872.86 Q2106.7 873.751 2102.37 873.751 Q2091.51 873.751 2085.15 867.431 Q2078.83 861.112 2078.83 850.337 Q2078.83 839.197 2084.83 832.675 Q2090.87 826.112 2101.07 826.112 Q2110.23 826.112 2115.54 832.026 Q2120.88 837.9 2120.88 848.028 M2113.43 845.84 Q2113.35 839.723 2109.99 836.077 Q2106.66 832.432 2101.15 832.432 Q2094.92 832.432 2091.15 835.956 Q2087.42 839.48 2086.86 845.881 L2113.43 845.84 Z\" fill=\"#000000\" fill-rule=\"evenodd\" fill-opacity=\"1\" /><path clip-path=\"url(#clip430)\" d=\"M 0 0 M2180.92 839.966 Q2186.79 841.222 2190.07 845.192 Q2193.39 849.162 2193.39 854.995 Q2193.39 863.948 2187.24 868.849 Q2181.08 873.751 2169.74 873.751 Q2165.93 873.751 2161.88 872.981 Q2157.87 872.252 2153.57 870.753 L2153.57 862.854 Q2156.98 864.839 2161.03 865.851 Q2165.08 866.864 2169.49 866.864 Q2177.19 866.864 2181.2 863.826 Q2185.25 860.788 2185.25 854.995 Q2185.25 849.648 2181.48 846.65 Q2177.76 843.612 2171.07 843.612 L2164.02 843.612 L2164.02 836.888 L2171.4 836.888 Q2177.43 836.888 2180.63 834.498 Q2183.83 832.067 2183.83 827.53 Q2183.83 822.871 2180.51 820.4 Q2177.23 817.889 2171.07 817.889 Q2167.71 817.889 2163.86 818.618 Q2160.01 819.347 2155.4 820.886 L2155.4 813.595 Q2160.06 812.299 2164.11 811.65 Q2168.2 811.002 2171.8 811.002 Q2181.12 811.002 2186.55 815.256 Q2191.98 819.469 2191.98 826.679 Q2191.98 831.702 2189.1 835.186 Q2186.22 838.629 2180.92 839.966 Z\" fill=\"#000000\" fill-rule=\"evenodd\" fill-opacity=\"1\" /><path clip-path=\"url(#clip434)\" d=\"M270.992 975.832 L265.352 992.056 L248.168 992.416 L261.872 1002.81 L256.88 1019.25 L270.992 1009.43 L285.104 1019.25 L280.112 1002.81 L293.816 992.416 L276.632 992.056 L270.992 975.832 Z\" fill=\"#add8e6\" fill-rule=\"evenodd\" fill-opacity=\"1\" stroke=\"#000000\" stroke-opacity=\"1\" stroke-width=\"2.4\"/>\n",
       "<path clip-path=\"url(#clip434)\" d=\"M322.796 975.832 L317.156 992.056 L299.972 992.416 L313.676 1002.81 L308.684 1019.25 L322.796 1009.43 L336.908 1019.25 L331.916 1002.81 L345.62 992.416 L328.436 992.056 L322.796 975.832 Z\" fill=\"#add8e6\" fill-rule=\"evenodd\" fill-opacity=\"1\" stroke=\"#000000\" stroke-opacity=\"1\" stroke-width=\"2.4\"/>\n",
       "<path clip-path=\"url(#clip434)\" d=\"M374.601 975.832 L368.961 992.056 L351.777 992.416 L365.481 1002.81 L360.489 1019.25 L374.601 1009.43 L388.713 1019.25 L383.721 1002.81 L397.425 992.416 L380.241 992.056 L374.601 975.832 Z\" fill=\"#add8e6\" fill-rule=\"evenodd\" fill-opacity=\"1\" stroke=\"#000000\" stroke-opacity=\"1\" stroke-width=\"2.4\"/>\n",
       "<path clip-path=\"url(#clip434)\" d=\"M426.406 975.832 L420.766 992.056 L403.582 992.416 L417.286 1002.81 L412.294 1019.25 L426.406 1009.43 L440.518 1019.25 L435.526 1002.81 L449.23 992.416 L432.046 992.056 L426.406 975.832 Z\" fill=\"#add8e6\" fill-rule=\"evenodd\" fill-opacity=\"1\" stroke=\"#000000\" stroke-opacity=\"1\" stroke-width=\"2.4\"/>\n",
       "<path clip-path=\"url(#clip434)\" d=\"M478.211 975.832 L472.571 992.056 L455.387 992.416 L469.091 1002.81 L464.099 1019.25 L478.211 1009.43 L492.323 1019.25 L487.331 1002.81 L501.035 992.416 L483.851 992.056 L478.211 975.832 Z\" fill=\"#add8e6\" fill-rule=\"evenodd\" fill-opacity=\"1\" stroke=\"#000000\" stroke-opacity=\"1\" stroke-width=\"2.4\"/>\n",
       "<circle clip-path=\"url(#clip434)\" cx=\"530.015\" cy=\"999.832\" r=\"21\" fill=\"#add8e6\" fill-rule=\"evenodd\" fill-opacity=\"1\" stroke=\"#000000\" stroke-opacity=\"1\" stroke-width=\"2.4\"/>\n",
       "<circle clip-path=\"url(#clip434)\" cx=\"581.82\" cy=\"999.832\" r=\"21\" fill=\"#add8e6\" fill-rule=\"evenodd\" fill-opacity=\"1\" stroke=\"#000000\" stroke-opacity=\"1\" stroke-width=\"2.4\"/>\n",
       "<circle clip-path=\"url(#clip434)\" cx=\"633.625\" cy=\"999.832\" r=\"21\" fill=\"#add8e6\" fill-rule=\"evenodd\" fill-opacity=\"1\" stroke=\"#000000\" stroke-opacity=\"1\" stroke-width=\"2.4\"/>\n",
       "<circle clip-path=\"url(#clip434)\" cx=\"685.43\" cy=\"999.832\" r=\"21\" fill=\"#add8e6\" fill-rule=\"evenodd\" fill-opacity=\"1\" stroke=\"#000000\" stroke-opacity=\"1\" stroke-width=\"2.4\"/>\n",
       "<circle clip-path=\"url(#clip434)\" cx=\"737.234\" cy=\"999.832\" r=\"21\" fill=\"#add8e6\" fill-rule=\"evenodd\" fill-opacity=\"1\" stroke=\"#000000\" stroke-opacity=\"1\" stroke-width=\"2.4\"/>\n",
       "<circle clip-path=\"url(#clip434)\" cx=\"789.039\" cy=\"999.832\" r=\"21\" fill=\"#add8e6\" fill-rule=\"evenodd\" fill-opacity=\"1\" stroke=\"#000000\" stroke-opacity=\"1\" stroke-width=\"2.4\"/>\n",
       "<circle clip-path=\"url(#clip434)\" cx=\"840.844\" cy=\"999.832\" r=\"21\" fill=\"#add8e6\" fill-rule=\"evenodd\" fill-opacity=\"1\" stroke=\"#000000\" stroke-opacity=\"1\" stroke-width=\"2.4\"/>\n",
       "<circle clip-path=\"url(#clip434)\" cx=\"892.649\" cy=\"999.832\" r=\"21\" fill=\"#add8e6\" fill-rule=\"evenodd\" fill-opacity=\"1\" stroke=\"#000000\" stroke-opacity=\"1\" stroke-width=\"2.4\"/>\n",
       "<circle clip-path=\"url(#clip434)\" cx=\"944.453\" cy=\"999.832\" r=\"21\" fill=\"#add8e6\" fill-rule=\"evenodd\" fill-opacity=\"1\" stroke=\"#000000\" stroke-opacity=\"1\" stroke-width=\"2.4\"/>\n",
       "<circle clip-path=\"url(#clip434)\" cx=\"996.258\" cy=\"999.832\" r=\"21\" fill=\"#add8e6\" fill-rule=\"evenodd\" fill-opacity=\"1\" stroke=\"#000000\" stroke-opacity=\"1\" stroke-width=\"2.4\"/>\n",
       "<circle clip-path=\"url(#clip434)\" cx=\"1048.06\" cy=\"999.832\" r=\"21\" fill=\"#add8e6\" fill-rule=\"evenodd\" fill-opacity=\"1\" stroke=\"#000000\" stroke-opacity=\"1\" stroke-width=\"2.4\"/>\n",
       "<circle clip-path=\"url(#clip434)\" cx=\"1099.87\" cy=\"999.832\" r=\"21\" fill=\"#add8e6\" fill-rule=\"evenodd\" fill-opacity=\"1\" stroke=\"#000000\" stroke-opacity=\"1\" stroke-width=\"2.4\"/>\n",
       "<path clip-path=\"url(#clip434)\" d=\"M1151.67 975.832 L1146.03 992.056 L1128.85 992.416 L1142.55 1002.81 L1137.56 1019.25 L1151.67 1009.43 L1165.78 1019.25 L1160.79 1002.81 L1174.5 992.416 L1157.31 992.056 L1151.67 975.832 Z\" fill=\"#add8e6\" fill-rule=\"evenodd\" fill-opacity=\"1\" stroke=\"#000000\" stroke-opacity=\"1\" stroke-width=\"2.4\"/>\n",
       "<path clip-path=\"url(#clip434)\" d=\"M1203.48 975.832 L1197.84 992.056 L1180.65 992.416 L1194.36 1002.81 L1189.37 1019.25 L1203.48 1009.43 L1217.59 1019.25 L1212.6 1002.81 L1226.3 992.416 L1209.12 992.056 L1203.48 975.832 Z\" fill=\"#add8e6\" fill-rule=\"evenodd\" fill-opacity=\"1\" stroke=\"#000000\" stroke-opacity=\"1\" stroke-width=\"2.4\"/>\n",
       "<path clip-path=\"url(#clip434)\" d=\"M1255.28 975.832 L1249.64 992.056 L1232.46 992.416 L1246.16 1002.81 L1241.17 1019.25 L1255.28 1009.43 L1269.39 1019.25 L1264.4 1002.81 L1278.11 992.416 L1260.92 992.056 L1255.28 975.832 Z\" fill=\"#add8e6\" fill-rule=\"evenodd\" fill-opacity=\"1\" stroke=\"#000000\" stroke-opacity=\"1\" stroke-width=\"2.4\"/>\n",
       "<path clip-path=\"url(#clip434)\" d=\"M1307.09 975.832 L1301.45 992.056 L1284.26 992.416 L1297.97 1002.81 L1292.97 1019.25 L1307.09 1009.43 L1321.2 1019.25 L1316.21 1002.81 L1329.91 992.416 L1312.73 992.056 L1307.09 975.832 Z\" fill=\"#add8e6\" fill-rule=\"evenodd\" fill-opacity=\"1\" stroke=\"#000000\" stroke-opacity=\"1\" stroke-width=\"2.4\"/>\n",
       "<path clip-path=\"url(#clip434)\" d=\"M1358.89 975.832 L1353.25 992.056 L1336.07 992.416 L1349.77 1002.81 L1344.78 1019.25 L1358.89 1009.43 L1373 1019.25 L1368.01 1002.81 L1381.72 992.416 L1364.53 992.056 L1358.89 975.832 Z\" fill=\"#add8e6\" fill-rule=\"evenodd\" fill-opacity=\"1\" stroke=\"#000000\" stroke-opacity=\"1\" stroke-width=\"2.4\"/>\n",
       "<path clip-path=\"url(#clip434)\" d=\"M1410.7 975.832 L1405.06 992.056 L1387.87 992.416 L1401.58 1002.81 L1396.58 1019.25 L1410.7 1009.43 L1424.81 1019.25 L1419.82 1002.81 L1433.52 992.416 L1416.34 992.056 L1410.7 975.832 Z\" fill=\"#add8e6\" fill-rule=\"evenodd\" fill-opacity=\"1\" stroke=\"#000000\" stroke-opacity=\"1\" stroke-width=\"2.4\"/>\n",
       "<path clip-path=\"url(#clip434)\" d=\"M1462.5 975.832 L1456.86 992.056 L1439.68 992.416 L1453.38 1002.81 L1448.39 1019.25 L1462.5 1009.43 L1476.61 1019.25 L1471.62 1002.81 L1485.33 992.416 L1468.14 992.056 L1462.5 975.832 Z\" fill=\"#add8e6\" fill-rule=\"evenodd\" fill-opacity=\"1\" stroke=\"#000000\" stroke-opacity=\"1\" stroke-width=\"2.4\"/>\n",
       "<path clip-path=\"url(#clip434)\" d=\"M1514.31 975.832 L1508.67 992.056 L1491.48 992.416 L1505.19 1002.81 L1500.19 1019.25 L1514.31 1009.43 L1528.42 1019.25 L1523.43 1002.81 L1537.13 992.416 L1519.95 992.056 L1514.31 975.832 Z\" fill=\"#add8e6\" fill-rule=\"evenodd\" fill-opacity=\"1\" stroke=\"#000000\" stroke-opacity=\"1\" stroke-width=\"2.4\"/>\n",
       "<path clip-path=\"url(#clip434)\" d=\"M1566.11 975.832 L1560.47 992.056 L1543.29 992.416 L1556.99 1002.81 L1552 1019.25 L1566.11 1009.43 L1580.22 1019.25 L1575.23 1002.81 L1588.93 992.416 L1571.75 992.056 L1566.11 975.832 Z\" fill=\"#add8e6\" fill-rule=\"evenodd\" fill-opacity=\"1\" stroke=\"#000000\" stroke-opacity=\"1\" stroke-width=\"2.4\"/>\n",
       "<path clip-path=\"url(#clip434)\" d=\"M1617.92 975.832 L1612.28 992.056 L1595.09 992.416 L1608.8 1002.81 L1603.8 1019.25 L1617.92 1009.43 L1632.03 1019.25 L1627.04 1002.81 L1640.74 992.416 L1623.56 992.056 L1617.92 975.832 Z\" fill=\"#add8e6\" fill-rule=\"evenodd\" fill-opacity=\"1\" stroke=\"#000000\" stroke-opacity=\"1\" stroke-width=\"2.4\"/>\n",
       "<circle clip-path=\"url(#clip434)\" cx=\"1669.72\" cy=\"999.832\" r=\"21\" fill=\"#add8e6\" fill-rule=\"evenodd\" fill-opacity=\"1\" stroke=\"#000000\" stroke-opacity=\"1\" stroke-width=\"2.4\"/>\n",
       "<circle clip-path=\"url(#clip434)\" cx=\"1721.52\" cy=\"999.832\" r=\"21\" fill=\"#add8e6\" fill-rule=\"evenodd\" fill-opacity=\"1\" stroke=\"#000000\" stroke-opacity=\"1\" stroke-width=\"2.4\"/>\n",
       "<circle clip-path=\"url(#clip434)\" cx=\"1773.33\" cy=\"999.832\" r=\"21\" fill=\"#add8e6\" fill-rule=\"evenodd\" fill-opacity=\"1\" stroke=\"#000000\" stroke-opacity=\"1\" stroke-width=\"2.4\"/>\n",
       "<circle clip-path=\"url(#clip434)\" cx=\"1825.13\" cy=\"999.832\" r=\"21\" fill=\"#add8e6\" fill-rule=\"evenodd\" fill-opacity=\"1\" stroke=\"#000000\" stroke-opacity=\"1\" stroke-width=\"2.4\"/>\n",
       "<circle clip-path=\"url(#clip434)\" cx=\"1876.94\" cy=\"999.832\" r=\"21\" fill=\"#add8e6\" fill-rule=\"evenodd\" fill-opacity=\"1\" stroke=\"#000000\" stroke-opacity=\"1\" stroke-width=\"2.4\"/>\n",
       "<path clip-path=\"url(#clip434)\" d=\"M1928.74 975.832 L1923.1 992.056 L1905.92 992.416 L1919.62 1002.81 L1914.63 1019.25 L1928.74 1009.43 L1942.86 1019.25 L1937.86 1002.81 L1951.57 992.416 L1934.38 992.056 L1928.74 975.832 Z\" fill=\"#add8e6\" fill-rule=\"evenodd\" fill-opacity=\"1\" stroke=\"#000000\" stroke-opacity=\"1\" stroke-width=\"2.4\"/>\n",
       "<path clip-path=\"url(#clip434)\" d=\"M1980.55 975.832 L1974.91 992.056 L1957.72 992.416 L1971.43 1002.81 L1966.44 1019.25 L1980.55 1009.43 L1994.66 1019.25 L1989.67 1002.81 L2003.37 992.416 L1986.19 992.056 L1980.55 975.832 Z\" fill=\"#add8e6\" fill-rule=\"evenodd\" fill-opacity=\"1\" stroke=\"#000000\" stroke-opacity=\"1\" stroke-width=\"2.4\"/>\n",
       "<path clip-path=\"url(#clip434)\" d=\"M2032.35 975.832 L2026.71 992.056 L2009.53 992.416 L2023.23 1002.81 L2018.24 1019.25 L2032.35 1009.43 L2046.47 1019.25 L2041.47 1002.81 L2055.18 992.416 L2037.99 992.056 L2032.35 975.832 Z\" fill=\"#add8e6\" fill-rule=\"evenodd\" fill-opacity=\"1\" stroke=\"#000000\" stroke-opacity=\"1\" stroke-width=\"2.4\"/>\n",
       "<path clip-path=\"url(#clip434)\" d=\"M2084.16 975.832 L2078.52 992.056 L2061.33 992.416 L2075.04 1002.81 L2070.05 1019.25 L2084.16 1009.43 L2098.27 1019.25 L2093.28 1002.81 L2106.98 992.416 L2089.8 992.056 L2084.16 975.832 Z\" fill=\"#add8e6\" fill-rule=\"evenodd\" fill-opacity=\"1\" stroke=\"#000000\" stroke-opacity=\"1\" stroke-width=\"2.4\"/>\n",
       "<path clip-path=\"url(#clip434)\" d=\"M2135.96 975.832 L2130.32 992.056 L2113.14 992.416 L2126.84 1002.81 L2121.85 1019.25 L2135.96 1009.43 L2150.07 1019.25 L2145.08 1002.81 L2158.79 992.416 L2141.6 992.056 L2135.96 975.832 Z\" fill=\"#add8e6\" fill-rule=\"evenodd\" fill-opacity=\"1\" stroke=\"#000000\" stroke-opacity=\"1\" stroke-width=\"2.4\"/>\n",
       "<path clip-path=\"url(#clip434)\" d=\"M2187.77 975.832 L2182.13 992.056 L2164.94 992.416 L2178.65 1002.81 L2173.66 1019.25 L2187.77 1009.43 L2201.88 1019.25 L2196.89 1002.81 L2210.59 992.416 L2193.41 992.056 L2187.77 975.832 Z\" fill=\"#add8e6\" fill-rule=\"evenodd\" fill-opacity=\"1\" stroke=\"#000000\" stroke-opacity=\"1\" stroke-width=\"2.4\"/>\n",
       "<path clip-path=\"url(#clip434)\" d=\"M2239.57 975.832 L2233.93 992.056 L2216.75 992.416 L2230.45 1002.81 L2225.46 1019.25 L2239.57 1009.43 L2253.68 1019.25 L2248.69 1002.81 L2262.4 992.416 L2245.21 992.056 L2239.57 975.832 Z\" fill=\"#add8e6\" fill-rule=\"evenodd\" fill-opacity=\"1\" stroke=\"#000000\" stroke-opacity=\"1\" stroke-width=\"2.4\"/>\n",
       "<circle clip-path=\"url(#clip434)\" cx=\"2291.38\" cy=\"999.832\" r=\"21\" fill=\"#add8e6\" fill-rule=\"evenodd\" fill-opacity=\"1\" stroke=\"#000000\" stroke-opacity=\"1\" stroke-width=\"2.4\"/>\n",
       "<circle clip-path=\"url(#clip434)\" cx=\"2343.18\" cy=\"999.832\" r=\"21\" fill=\"#add8e6\" fill-rule=\"evenodd\" fill-opacity=\"1\" stroke=\"#000000\" stroke-opacity=\"1\" stroke-width=\"2.4\"/>\n",
       "<circle clip-path=\"url(#clip434)\" cx=\"2394.99\" cy=\"999.832\" r=\"21\" fill=\"#add8e6\" fill-rule=\"evenodd\" fill-opacity=\"1\" stroke=\"#000000\" stroke-opacity=\"1\" stroke-width=\"2.4\"/>\n",
       "<circle clip-path=\"url(#clip434)\" cx=\"2446.79\" cy=\"999.832\" r=\"21\" fill=\"#add8e6\" fill-rule=\"evenodd\" fill-opacity=\"1\" stroke=\"#000000\" stroke-opacity=\"1\" stroke-width=\"2.4\"/>\n",
       "<circle clip-path=\"url(#clip434)\" cx=\"2498.6\" cy=\"999.832\" r=\"21\" fill=\"#add8e6\" fill-rule=\"evenodd\" fill-opacity=\"1\" stroke=\"#000000\" stroke-opacity=\"1\" stroke-width=\"2.4\"/>\n",
       "<circle clip-path=\"url(#clip434)\" cx=\"2550.4\" cy=\"999.832\" r=\"21\" fill=\"#add8e6\" fill-rule=\"evenodd\" fill-opacity=\"1\" stroke=\"#000000\" stroke-opacity=\"1\" stroke-width=\"2.4\"/>\n",
       "<circle clip-path=\"url(#clip434)\" cx=\"2602.21\" cy=\"999.832\" r=\"21\" fill=\"#add8e6\" fill-rule=\"evenodd\" fill-opacity=\"1\" stroke=\"#000000\" stroke-opacity=\"1\" stroke-width=\"2.4\"/>\n",
       "<circle clip-path=\"url(#clip434)\" cx=\"2654.01\" cy=\"999.832\" r=\"21\" fill=\"#add8e6\" fill-rule=\"evenodd\" fill-opacity=\"1\" stroke=\"#000000\" stroke-opacity=\"1\" stroke-width=\"2.4\"/>\n",
       "<path clip-path=\"url(#clip434)\" d=\"M2705.82 975.832 L2700.18 992.056 L2682.99 992.416 L2696.7 1002.81 L2691.7 1019.25 L2705.82 1009.43 L2719.93 1019.25 L2714.94 1002.81 L2728.64 992.416 L2711.46 992.056 L2705.82 975.832 Z\" fill=\"#add8e6\" fill-rule=\"evenodd\" fill-opacity=\"1\" stroke=\"#000000\" stroke-opacity=\"1\" stroke-width=\"2.4\"/>\n",
       "<path clip-path=\"url(#clip434)\" d=\"M2757.62 975.832 L2751.98 992.056 L2734.8 992.416 L2748.5 1002.81 L2743.51 1019.25 L2757.62 1009.43 L2771.73 1019.25 L2766.74 1002.81 L2780.44 992.416 L2763.26 992.056 L2757.62 975.832 Z\" fill=\"#add8e6\" fill-rule=\"evenodd\" fill-opacity=\"1\" stroke=\"#000000\" stroke-opacity=\"1\" stroke-width=\"2.4\"/>\n",
       "<path clip-path=\"url(#clip434)\" d=\"M2809.42 975.832 L2803.78 992.056 L2786.6 992.416 L2800.3 1002.81 L2795.31 1019.25 L2809.42 1009.43 L2823.54 1019.25 L2818.54 1002.81 L2832.25 992.416 L2815.06 992.056 L2809.42 975.832 Z\" fill=\"#add8e6\" fill-rule=\"evenodd\" fill-opacity=\"1\" stroke=\"#000000\" stroke-opacity=\"1\" stroke-width=\"2.4\"/>\n",
       "<path clip-path=\"url(#clip434)\" d=\"M2861.23 975.832 L2855.59 992.056 L2838.41 992.416 L2852.11 1002.81 L2847.12 1019.25 L2861.23 1009.43 L2875.34 1019.25 L2870.35 1002.81 L2884.05 992.416 L2866.87 992.056 L2861.23 975.832 Z\" fill=\"#add8e6\" fill-rule=\"evenodd\" fill-opacity=\"1\" stroke=\"#000000\" stroke-opacity=\"1\" stroke-width=\"2.4\"/>\n",
       "<path clip-path=\"url(#clip434)\" d=\"M2913.03 975.832 L2907.39 992.056 L2890.21 992.416 L2903.91 1002.81 L2898.92 1019.25 L2913.03 1009.43 L2927.15 1019.25 L2922.15 1002.81 L2935.86 992.416 L2918.67 992.056 L2913.03 975.832 Z\" fill=\"#add8e6\" fill-rule=\"evenodd\" fill-opacity=\"1\" stroke=\"#000000\" stroke-opacity=\"1\" stroke-width=\"2.4\"/>\n",
       "<circle clip-path=\"url(#clip434)\" cx=\"2964.84\" cy=\"999.832\" r=\"21\" fill=\"#add8e6\" fill-rule=\"evenodd\" fill-opacity=\"1\" stroke=\"#000000\" stroke-opacity=\"1\" stroke-width=\"2.4\"/>\n",
       "<circle clip-path=\"url(#clip434)\" cx=\"3016.64\" cy=\"999.832\" r=\"21\" fill=\"#add8e6\" fill-rule=\"evenodd\" fill-opacity=\"1\" stroke=\"#000000\" stroke-opacity=\"1\" stroke-width=\"2.4\"/>\n",
       "<circle clip-path=\"url(#clip434)\" cx=\"3068.45\" cy=\"999.832\" r=\"21\" fill=\"#add8e6\" fill-rule=\"evenodd\" fill-opacity=\"1\" stroke=\"#000000\" stroke-opacity=\"1\" stroke-width=\"2.4\"/>\n",
       "<circle clip-path=\"url(#clip434)\" cx=\"3120.25\" cy=\"999.832\" r=\"21\" fill=\"#add8e6\" fill-rule=\"evenodd\" fill-opacity=\"1\" stroke=\"#000000\" stroke-opacity=\"1\" stroke-width=\"2.4\"/>\n",
       "<circle clip-path=\"url(#clip434)\" cx=\"3172.06\" cy=\"999.832\" r=\"21\" fill=\"#add8e6\" fill-rule=\"evenodd\" fill-opacity=\"1\" stroke=\"#000000\" stroke-opacity=\"1\" stroke-width=\"2.4\"/>\n",
       "<path clip-path=\"url(#clip434)\" d=\"M3223.86 975.832 L3218.22 992.056 L3201.04 992.416 L3214.74 1002.81 L3209.75 1019.25 L3223.86 1009.43 L3237.97 1019.25 L3232.98 1002.81 L3246.69 992.416 L3229.5 992.056 L3223.86 975.832 Z\" fill=\"#add8e6\" fill-rule=\"evenodd\" fill-opacity=\"1\" stroke=\"#000000\" stroke-opacity=\"1\" stroke-width=\"2.4\"/>\n",
       "<path clip-path=\"url(#clip434)\" d=\"M3275.67 975.832 L3270.03 992.056 L3252.84 992.416 L3266.55 1002.81 L3261.56 1019.25 L3275.67 1009.43 L3289.78 1019.25 L3284.79 1002.81 L3298.49 992.416 L3281.31 992.056 L3275.67 975.832 Z\" fill=\"#add8e6\" fill-rule=\"evenodd\" fill-opacity=\"1\" stroke=\"#000000\" stroke-opacity=\"1\" stroke-width=\"2.4\"/>\n",
       "<path clip-path=\"url(#clip434)\" d=\"M3327.47 975.832 L3321.83 992.056 L3304.65 992.416 L3318.35 1002.81 L3313.36 1019.25 L3327.47 1009.43 L3341.58 1019.25 L3336.59 1002.81 L3350.3 992.416 L3333.11 992.056 L3327.47 975.832 Z\" fill=\"#add8e6\" fill-rule=\"evenodd\" fill-opacity=\"1\" stroke=\"#000000\" stroke-opacity=\"1\" stroke-width=\"2.4\"/>\n",
       "<path clip-path=\"url(#clip434)\" d=\"M3379.28 975.832 L3373.64 992.056 L3356.45 992.416 L3370.16 1002.81 L3365.17 1019.25 L3379.28 1009.43 L3393.39 1019.25 L3388.4 1002.81 L3402.1 992.416 L3384.92 992.056 L3379.28 975.832 Z\" fill=\"#add8e6\" fill-rule=\"evenodd\" fill-opacity=\"1\" stroke=\"#000000\" stroke-opacity=\"1\" stroke-width=\"2.4\"/>\n",
       "<path clip-path=\"url(#clip434)\" d=\"M3431.08 975.832 L3425.44 992.056 L3408.26 992.416 L3421.96 1002.81 L3416.97 1019.25 L3431.08 1009.43 L3445.19 1019.25 L3440.2 1002.81 L3453.91 992.416 L3436.72 992.056 L3431.08 975.832 Z\" fill=\"#add8e6\" fill-rule=\"evenodd\" fill-opacity=\"1\" stroke=\"#000000\" stroke-opacity=\"1\" stroke-width=\"2.4\"/>\n",
       "<path clip-path=\"url(#clip434)\" d=\"M3482.89 975.832 L3477.25 992.056 L3460.06 992.416 L3473.77 1002.81 L3468.77 1019.25 L3482.89 1009.43 L3497 1019.25 L3492.01 1002.81 L3505.71 992.416 L3488.53 992.056 L3482.89 975.832 Z\" fill=\"#add8e6\" fill-rule=\"evenodd\" fill-opacity=\"1\" stroke=\"#000000\" stroke-opacity=\"1\" stroke-width=\"2.4\"/>\n",
       "<path clip-path=\"url(#clip434)\" d=\"M3534.69 975.832 L3529.05 992.056 L3511.87 992.416 L3525.57 1002.81 L3520.58 1019.25 L3534.69 1009.43 L3548.8 1019.25 L3543.81 1002.81 L3557.52 992.416 L3540.33 992.056 L3534.69 975.832 Z\" fill=\"#add8e6\" fill-rule=\"evenodd\" fill-opacity=\"1\" stroke=\"#000000\" stroke-opacity=\"1\" stroke-width=\"2.4\"/>\n",
       "<path clip-path=\"url(#clip434)\" d=\"M3586.5 975.832 L3580.86 992.056 L3563.67 992.416 L3577.38 1002.81 L3572.38 1019.25 L3586.5 1009.43 L3600.61 1019.25 L3595.62 1002.81 L3609.32 992.416 L3592.14 992.056 L3586.5 975.832 Z\" fill=\"#add8e6\" fill-rule=\"evenodd\" fill-opacity=\"1\" stroke=\"#000000\" stroke-opacity=\"1\" stroke-width=\"2.4\"/>\n",
       "<circle clip-path=\"url(#clip434)\" cx=\"3638.3\" cy=\"999.832\" r=\"21\" fill=\"#add8e6\" fill-rule=\"evenodd\" fill-opacity=\"1\" stroke=\"#000000\" stroke-opacity=\"1\" stroke-width=\"2.4\"/>\n",
       "<circle clip-path=\"url(#clip434)\" cx=\"3690.11\" cy=\"999.832\" r=\"21\" fill=\"#add8e6\" fill-rule=\"evenodd\" fill-opacity=\"1\" stroke=\"#000000\" stroke-opacity=\"1\" stroke-width=\"2.4\"/>\n",
       "<circle clip-path=\"url(#clip434)\" cx=\"3741.91\" cy=\"999.832\" r=\"21\" fill=\"#add8e6\" fill-rule=\"evenodd\" fill-opacity=\"1\" stroke=\"#000000\" stroke-opacity=\"1\" stroke-width=\"2.4\"/>\n",
       "<circle clip-path=\"url(#clip434)\" cx=\"3793.72\" cy=\"999.832\" r=\"21\" fill=\"#add8e6\" fill-rule=\"evenodd\" fill-opacity=\"1\" stroke=\"#000000\" stroke-opacity=\"1\" stroke-width=\"2.4\"/>\n",
       "<circle clip-path=\"url(#clip434)\" cx=\"3845.52\" cy=\"999.832\" r=\"21\" fill=\"#add8e6\" fill-rule=\"evenodd\" fill-opacity=\"1\" stroke=\"#000000\" stroke-opacity=\"1\" stroke-width=\"2.4\"/>\n",
       "</svg>\n"
      ]
     },
     "execution_count": 27,
     "metadata": {},
     "output_type": "execute_result"
    }
   ],
   "source": [
    "highest_diversity = filter(row -> row[:has_converged] == 1,df) |> last\n",
    "_, results = experiment[highest_diversity.row]\n",
    "plot_results(results)"
   ]
  },
  {
   "cell_type": "markdown",
   "metadata": {},
   "source": [
    "## Varying neighborhood size and preference ratio"
   ]
  },
  {
   "cell_type": "code",
   "execution_count": 28,
   "metadata": {},
   "outputs": [],
   "source": [
    "experiment2 = [run_simulation(Dict(\"Stars\"=>35, \"Circle\"=>35), neighborhood_size=8, preference=0.5) for i in 1:500];\n",
    "df2 = get_metric.(experiment2) |> DataFrame\n",
    "rename!(df2, [\"frac_happy\", \"has_converged\", \"num_cycles\", \"score\"]);"
   ]
  },
  {
   "cell_type": "code",
   "execution_count": 29,
   "metadata": {},
   "outputs": [],
   "source": [
    "experiment3 = [run_simulation(Dict(\"Stars\"=>35, \"Circle\"=>35), neighborhood_size=4, preference=0.3) for i in 1:500];\n",
    "df3 = get_metric.(experiment3) |> DataFrame\n",
    "rename!(df3, [\"frac_happy\", \"has_converged\", \"num_cycles\", \"score\"]);"
   ]
  },
  {
   "cell_type": "code",
   "execution_count": 30,
   "metadata": {},
   "outputs": [
    {
     "data": {
      "text/html": [
       "<table class=\"data-frame\"><thead><tr><th></th><th>variable</th><th>mean</th><th>min</th><th>median</th><th>max</th><th>nunique</th><th>nmissing</th><th>eltype</th></tr><tr><th></th><th>Symbol</th><th>Float64</th><th>Real</th><th>Float64</th><th>Real</th><th>Nothing</th><th>Nothing</th><th>DataType</th></tr></thead><tbody><p>5 rows × 8 columns</p><tr><th>1</th><td>frac_happy</td><td>0.989257</td><td>0.914286</td><td>1.0</td><td>1.0</td><td></td><td></td><td>Float64</td></tr><tr><th>2</th><td>has_converged</td><td>0.566</td><td>0</td><td>1.0</td><td>1</td><td></td><td></td><td>Bool</td></tr><tr><th>3</th><td>num_cycles</td><td>2.462</td><td>1</td><td>2.0</td><td>5</td><td></td><td></td><td>Int64</td></tr><tr><th>4</th><td>score</td><td>48.2321</td><td>14.2857</td><td>50.2211</td><td>79.6871</td><td></td><td></td><td>Float64</td></tr><tr><th>5</th><td>row</td><td>250.5</td><td>1</td><td>250.5</td><td>500</td><td></td><td></td><td>Int64</td></tr></tbody></table>"
      ],
      "text/latex": [
       "\\begin{tabular}{r|cccccccc}\n",
       "\t& variable & mean & min & median & max & nunique & nmissing & eltype\\\\\n",
       "\t\\hline\n",
       "\t& Symbol & Float64 & Real & Float64 & Real & Nothing & Nothing & DataType\\\\\n",
       "\t\\hline\n",
       "\t1 & frac\\_happy & 0.989257 & 0.914286 & 1.0 & 1.0 &  &  & Float64 \\\\\n",
       "\t2 & has\\_converged & 0.566 & 0 & 1.0 & 1 &  &  & Bool \\\\\n",
       "\t3 & num\\_cycles & 2.462 & 1 & 2.0 & 5 &  &  & Int64 \\\\\n",
       "\t4 & score & 48.2321 & 14.2857 & 50.2211 & 79.6871 &  &  & Float64 \\\\\n",
       "\t5 & row & 250.5 & 1 & 250.5 & 500 &  &  & Int64 \\\\\n",
       "\\end{tabular}\n"
      ],
      "text/plain": [
       "5×8 DataFrame. Omitted printing of 2 columns\n",
       "│ Row │ variable      │ mean     │ min      │ median  │ max     │ nunique │\n",
       "│     │ \u001b[90mSymbol\u001b[39m        │ \u001b[90mFloat64\u001b[39m  │ \u001b[90mReal\u001b[39m     │ \u001b[90mFloat64\u001b[39m │ \u001b[90mReal\u001b[39m    │ \u001b[90mNothing\u001b[39m │\n",
       "├─────┼───────────────┼──────────┼──────────┼─────────┼─────────┼─────────┤\n",
       "│ 1   │ frac_happy    │ 0.989257 │ 0.914286 │ 1.0     │ 1.0     │         │\n",
       "│ 2   │ has_converged │ 0.566    │ 0        │ 1.0     │ 1       │         │\n",
       "│ 3   │ num_cycles    │ 2.462    │ 1        │ 2.0     │ 5       │         │\n",
       "│ 4   │ score         │ 48.2321  │ 14.2857  │ 50.2211 │ 79.6871 │         │\n",
       "│ 5   │ row           │ 250.5    │ 1        │ 250.5   │ 500     │         │"
      ]
     },
     "execution_count": 30,
     "metadata": {},
     "output_type": "execute_result"
    }
   ],
   "source": [
    "describe(df)"
   ]
  },
  {
   "cell_type": "code",
   "execution_count": 31,
   "metadata": {},
   "outputs": [
    {
     "data": {
      "text/html": [
       "<table class=\"data-frame\"><thead><tr><th></th><th>variable</th><th>mean</th><th>min</th><th>median</th><th>max</th><th>nunique</th><th>nmissing</th><th>eltype</th></tr><tr><th></th><th>Symbol</th><th>Float64</th><th>Real</th><th>Float64</th><th>Real</th><th>Nothing</th><th>Nothing</th><th>DataType</th></tr></thead><tbody><p>4 rows × 8 columns</p><tr><th>1</th><td>frac_happy</td><td>0.979657</td><td>0.885714</td><td>1.0</td><td>1.0</td><td></td><td></td><td>Float64</td></tr><tr><th>2</th><td>has_converged</td><td>0.504</td><td>0</td><td>1.0</td><td>1</td><td></td><td></td><td>Bool</td></tr><tr><th>3</th><td>num_cycles</td><td>3.156</td><td>1</td><td>3.0</td><td>6</td><td></td><td></td><td>Int64</td></tr><tr><th>4</th><td>score</td><td>25.6612</td><td>7.14286</td><td>28.5714</td><td>44.068</td><td></td><td></td><td>Float64</td></tr></tbody></table>"
      ],
      "text/latex": [
       "\\begin{tabular}{r|cccccccc}\n",
       "\t& variable & mean & min & median & max & nunique & nmissing & eltype\\\\\n",
       "\t\\hline\n",
       "\t& Symbol & Float64 & Real & Float64 & Real & Nothing & Nothing & DataType\\\\\n",
       "\t\\hline\n",
       "\t1 & frac\\_happy & 0.979657 & 0.885714 & 1.0 & 1.0 &  &  & Float64 \\\\\n",
       "\t2 & has\\_converged & 0.504 & 0 & 1.0 & 1 &  &  & Bool \\\\\n",
       "\t3 & num\\_cycles & 3.156 & 1 & 3.0 & 6 &  &  & Int64 \\\\\n",
       "\t4 & score & 25.6612 & 7.14286 & 28.5714 & 44.068 &  &  & Float64 \\\\\n",
       "\\end{tabular}\n"
      ],
      "text/plain": [
       "4×8 DataFrame. Omitted printing of 2 columns\n",
       "│ Row │ variable      │ mean     │ min      │ median  │ max    │ nunique │\n",
       "│     │ \u001b[90mSymbol\u001b[39m        │ \u001b[90mFloat64\u001b[39m  │ \u001b[90mReal\u001b[39m     │ \u001b[90mFloat64\u001b[39m │ \u001b[90mReal\u001b[39m   │ \u001b[90mNothing\u001b[39m │\n",
       "├─────┼───────────────┼──────────┼──────────┼─────────┼────────┼─────────┤\n",
       "│ 1   │ frac_happy    │ 0.979657 │ 0.885714 │ 1.0     │ 1.0    │         │\n",
       "│ 2   │ has_converged │ 0.504    │ 0        │ 1.0     │ 1      │         │\n",
       "│ 3   │ num_cycles    │ 3.156    │ 1        │ 3.0     │ 6      │         │\n",
       "│ 4   │ score         │ 25.6612  │ 7.14286  │ 28.5714 │ 44.068 │         │"
      ]
     },
     "execution_count": 31,
     "metadata": {},
     "output_type": "execute_result"
    }
   ],
   "source": [
    "describe(df2)"
   ]
  },
  {
   "cell_type": "code",
   "execution_count": 32,
   "metadata": {},
   "outputs": [
    {
     "data": {
      "text/html": [
       "<table class=\"data-frame\"><thead><tr><th></th><th>variable</th><th>mean</th><th>min</th><th>median</th><th>max</th><th>nunique</th><th>nmissing</th><th>eltype</th></tr><tr><th></th><th>Symbol</th><th>Float64</th><th>Real</th><th>Float64</th><th>Real</th><th>Nothing</th><th>Nothing</th><th>DataType</th></tr></thead><tbody><p>4 rows × 8 columns</p><tr><th>1</th><td>frac_happy</td><td>0.940486</td><td>0.828571</td><td>0.942857</td><td>1.0</td><td></td><td></td><td>Float64</td></tr><tr><th>2</th><td>has_converged</td><td>0.028</td><td>0</td><td>0.0</td><td>1</td><td></td><td></td><td>Bool</td></tr><tr><th>3</th><td>num_cycles</td><td>2.486</td><td>1</td><td>2.0</td><td>5</td><td></td><td></td><td>Int64</td></tr><tr><th>4</th><td>score</td><td>77.7775</td><td>51.7279</td><td>78.7466</td><td>95.7143</td><td></td><td></td><td>Float64</td></tr></tbody></table>"
      ],
      "text/latex": [
       "\\begin{tabular}{r|cccccccc}\n",
       "\t& variable & mean & min & median & max & nunique & nmissing & eltype\\\\\n",
       "\t\\hline\n",
       "\t& Symbol & Float64 & Real & Float64 & Real & Nothing & Nothing & DataType\\\\\n",
       "\t\\hline\n",
       "\t1 & frac\\_happy & 0.940486 & 0.828571 & 0.942857 & 1.0 &  &  & Float64 \\\\\n",
       "\t2 & has\\_converged & 0.028 & 0 & 0.0 & 1 &  &  & Bool \\\\\n",
       "\t3 & num\\_cycles & 2.486 & 1 & 2.0 & 5 &  &  & Int64 \\\\\n",
       "\t4 & score & 77.7775 & 51.7279 & 78.7466 & 95.7143 &  &  & Float64 \\\\\n",
       "\\end{tabular}\n"
      ],
      "text/plain": [
       "4×8 DataFrame. Omitted printing of 2 columns\n",
       "│ Row │ variable      │ mean     │ min      │ median   │ max     │ nunique │\n",
       "│     │ \u001b[90mSymbol\u001b[39m        │ \u001b[90mFloat64\u001b[39m  │ \u001b[90mReal\u001b[39m     │ \u001b[90mFloat64\u001b[39m  │ \u001b[90mReal\u001b[39m    │ \u001b[90mNothing\u001b[39m │\n",
       "├─────┼───────────────┼──────────┼──────────┼──────────┼─────────┼─────────┤\n",
       "│ 1   │ frac_happy    │ 0.940486 │ 0.828571 │ 0.942857 │ 1.0     │         │\n",
       "│ 2   │ has_converged │ 0.028    │ 0        │ 0.0      │ 1       │         │\n",
       "│ 3   │ num_cycles    │ 2.486    │ 1        │ 2.0      │ 5       │         │\n",
       "│ 4   │ score         │ 77.7775  │ 51.7279  │ 78.7466  │ 95.7143 │         │"
      ]
     },
     "execution_count": 32,
     "metadata": {},
     "output_type": "execute_result"
    }
   ],
   "source": [
    "describe(df3)"
   ]
  },
  {
   "cell_type": "code",
   "execution_count": 33,
   "metadata": {},
   "outputs": [
    {
     "data": {
      "image/svg+xml": [
       "<?xml version=\"1.0\" encoding=\"utf-8\"?>\n",
       "<svg xmlns=\"http://www.w3.org/2000/svg\" xmlns:xlink=\"http://www.w3.org/1999/xlink\" width=\"600\" height=\"400\" viewBox=\"0 0 2400 1600\">\n",
       "<defs>\n",
       "  <clipPath id=\"clip470\">\n",
       "    <rect x=\"0\" y=\"0\" width=\"2400\" height=\"1600\"/>\n",
       "  </clipPath>\n",
       "</defs>\n",
       "<path clip-path=\"url(#clip470)\" d=\"\n",
       "M0 1600 L2400 1600 L2400 0 L0 0  Z\n",
       "  \" fill=\"#ffffff\" fill-rule=\"evenodd\" fill-opacity=\"1\"/>\n",
       "<defs>\n",
       "  <clipPath id=\"clip471\">\n",
       "    <rect x=\"480\" y=\"0\" width=\"1681\" height=\"1600\"/>\n",
       "  </clipPath>\n",
       "</defs>\n",
       "<path clip-path=\"url(#clip470)\" d=\"\n",
       "M201.876 1423.18 L2352.76 1423.18 L2352.76 123.472 L201.876 123.472  Z\n",
       "  \" fill=\"#ffffff\" fill-rule=\"evenodd\" fill-opacity=\"1\"/>\n",
       "<defs>\n",
       "  <clipPath id=\"clip472\">\n",
       "    <rect x=\"201\" y=\"123\" width=\"2152\" height=\"1301\"/>\n",
       "  </clipPath>\n",
       "</defs>\n",
       "<polyline clip-path=\"url(#clip472)\" style=\"stroke:#000000; stroke-width:2; stroke-opacity:0.1; fill:none\" points=\"\n",
       "  234.346,1423.18 234.346,123.472 \n",
       "  \"/>\n",
       "<polyline clip-path=\"url(#clip472)\" style=\"stroke:#000000; stroke-width:2; stroke-opacity:0.1; fill:none\" points=\"\n",
       "  729.371,1423.18 729.371,123.472 \n",
       "  \"/>\n",
       "<polyline clip-path=\"url(#clip472)\" style=\"stroke:#000000; stroke-width:2; stroke-opacity:0.1; fill:none\" points=\"\n",
       "  1224.4,1423.18 1224.4,123.472 \n",
       "  \"/>\n",
       "<polyline clip-path=\"url(#clip472)\" style=\"stroke:#000000; stroke-width:2; stroke-opacity:0.1; fill:none\" points=\"\n",
       "  1719.42,1423.18 1719.42,123.472 \n",
       "  \"/>\n",
       "<polyline clip-path=\"url(#clip472)\" style=\"stroke:#000000; stroke-width:2; stroke-opacity:0.1; fill:none\" points=\"\n",
       "  2214.44,1423.18 2214.44,123.472 \n",
       "  \"/>\n",
       "<polyline clip-path=\"url(#clip472)\" style=\"stroke:#000000; stroke-width:2; stroke-opacity:0.1; fill:none\" points=\"\n",
       "  201.876,1386.4 2352.76,1386.4 \n",
       "  \"/>\n",
       "<polyline clip-path=\"url(#clip472)\" style=\"stroke:#000000; stroke-width:2; stroke-opacity:0.1; fill:none\" points=\"\n",
       "  201.876,1071.85 2352.76,1071.85 \n",
       "  \"/>\n",
       "<polyline clip-path=\"url(#clip472)\" style=\"stroke:#000000; stroke-width:2; stroke-opacity:0.1; fill:none\" points=\"\n",
       "  201.876,757.296 2352.76,757.296 \n",
       "  \"/>\n",
       "<polyline clip-path=\"url(#clip472)\" style=\"stroke:#000000; stroke-width:2; stroke-opacity:0.1; fill:none\" points=\"\n",
       "  201.876,442.745 2352.76,442.745 \n",
       "  \"/>\n",
       "<polyline clip-path=\"url(#clip472)\" style=\"stroke:#000000; stroke-width:2; stroke-opacity:0.1; fill:none\" points=\"\n",
       "  201.876,128.194 2352.76,128.194 \n",
       "  \"/>\n",
       "<polyline clip-path=\"url(#clip470)\" style=\"stroke:#000000; stroke-width:4; stroke-opacity:1; fill:none\" points=\"\n",
       "  201.876,1423.18 2352.76,1423.18 \n",
       "  \"/>\n",
       "<polyline clip-path=\"url(#clip470)\" style=\"stroke:#000000; stroke-width:4; stroke-opacity:1; fill:none\" points=\"\n",
       "  201.876,1423.18 201.876,123.472 \n",
       "  \"/>\n",
       "<polyline clip-path=\"url(#clip470)\" style=\"stroke:#000000; stroke-width:4; stroke-opacity:1; fill:none\" points=\"\n",
       "  234.346,1423.18 234.346,1407.58 \n",
       "  \"/>\n",
       "<polyline clip-path=\"url(#clip470)\" style=\"stroke:#000000; stroke-width:4; stroke-opacity:1; fill:none\" points=\"\n",
       "  729.371,1423.18 729.371,1407.58 \n",
       "  \"/>\n",
       "<polyline clip-path=\"url(#clip470)\" style=\"stroke:#000000; stroke-width:4; stroke-opacity:1; fill:none\" points=\"\n",
       "  1224.4,1423.18 1224.4,1407.58 \n",
       "  \"/>\n",
       "<polyline clip-path=\"url(#clip470)\" style=\"stroke:#000000; stroke-width:4; stroke-opacity:1; fill:none\" points=\"\n",
       "  1719.42,1423.18 1719.42,1407.58 \n",
       "  \"/>\n",
       "<polyline clip-path=\"url(#clip470)\" style=\"stroke:#000000; stroke-width:4; stroke-opacity:1; fill:none\" points=\"\n",
       "  2214.44,1423.18 2214.44,1407.58 \n",
       "  \"/>\n",
       "<polyline clip-path=\"url(#clip470)\" style=\"stroke:#000000; stroke-width:4; stroke-opacity:1; fill:none\" points=\"\n",
       "  201.876,1386.4 227.686,1386.4 \n",
       "  \"/>\n",
       "<polyline clip-path=\"url(#clip470)\" style=\"stroke:#000000; stroke-width:4; stroke-opacity:1; fill:none\" points=\"\n",
       "  201.876,1071.85 227.686,1071.85 \n",
       "  \"/>\n",
       "<polyline clip-path=\"url(#clip470)\" style=\"stroke:#000000; stroke-width:4; stroke-opacity:1; fill:none\" points=\"\n",
       "  201.876,757.296 227.686,757.296 \n",
       "  \"/>\n",
       "<polyline clip-path=\"url(#clip470)\" style=\"stroke:#000000; stroke-width:4; stroke-opacity:1; fill:none\" points=\"\n",
       "  201.876,442.745 227.686,442.745 \n",
       "  \"/>\n",
       "<polyline clip-path=\"url(#clip470)\" style=\"stroke:#000000; stroke-width:4; stroke-opacity:1; fill:none\" points=\"\n",
       "  201.876,128.194 227.686,128.194 \n",
       "  \"/>\n",
       "<path clip-path=\"url(#clip470)\" d=\"M 0 0 M234.346 1445.17 Q230.735 1445.17 228.906 1448.74 Q227.101 1452.28 227.101 1459.41 Q227.101 1466.51 228.906 1470.08 Q230.735 1473.62 234.346 1473.62 Q237.98 1473.62 239.786 1470.08 Q241.615 1466.51 241.615 1459.41 Q241.615 1452.28 239.786 1448.74 Q237.98 1445.17 234.346 1445.17 M234.346 1441.47 Q240.156 1441.47 243.212 1446.07 Q246.29 1450.66 246.29 1459.41 Q246.29 1468.13 243.212 1472.74 Q240.156 1477.32 234.346 1477.32 Q228.536 1477.32 225.457 1472.74 Q222.402 1468.13 222.402 1459.41 Q222.402 1450.66 225.457 1446.07 Q228.536 1441.47 234.346 1441.47 Z\" fill=\"#000000\" fill-rule=\"evenodd\" fill-opacity=\"1\" /><path clip-path=\"url(#clip470)\" d=\"M 0 0 M711.014 1472.72 L727.334 1472.72 L727.334 1476.65 L705.389 1476.65 L705.389 1472.72 Q708.051 1469.96 712.635 1465.33 Q717.241 1460.68 718.422 1459.34 Q720.667 1456.81 721.547 1455.08 Q722.449 1453.32 722.449 1451.63 Q722.449 1448.87 720.505 1447.14 Q718.584 1445.4 715.482 1445.4 Q713.283 1445.4 710.829 1446.17 Q708.398 1446.93 705.621 1448.48 L705.621 1443.76 Q708.445 1442.62 710.898 1442.05 Q713.352 1441.47 715.389 1441.47 Q720.759 1441.47 723.954 1444.15 Q727.148 1446.84 727.148 1451.33 Q727.148 1453.46 726.338 1455.38 Q725.551 1457.28 723.445 1459.87 Q722.866 1460.54 719.764 1463.76 Q716.662 1466.95 711.014 1472.72 Z\" fill=\"#000000\" fill-rule=\"evenodd\" fill-opacity=\"1\" /><path clip-path=\"url(#clip470)\" d=\"M 0 0 M732.449 1442.09 L750.806 1442.09 L750.806 1446.03 L736.732 1446.03 L736.732 1454.5 Q737.75 1454.15 738.769 1453.99 Q739.787 1453.8 740.806 1453.8 Q746.593 1453.8 749.972 1456.98 Q753.352 1460.15 753.352 1465.56 Q753.352 1471.14 749.88 1474.24 Q746.407 1477.32 740.088 1477.32 Q737.912 1477.32 735.644 1476.95 Q733.398 1476.58 730.991 1475.84 L730.991 1471.14 Q733.074 1472.28 735.296 1472.83 Q737.519 1473.39 739.995 1473.39 Q744 1473.39 746.338 1471.28 Q748.676 1469.18 748.676 1465.56 Q748.676 1461.95 746.338 1459.85 Q744 1457.74 739.995 1457.74 Q738.12 1457.74 736.245 1458.16 Q734.394 1458.57 732.449 1459.45 L732.449 1442.09 Z\" fill=\"#000000\" fill-rule=\"evenodd\" fill-opacity=\"1\" /><path clip-path=\"url(#clip470)\" d=\"M 0 0 M1201.17 1442.09 L1219.52 1442.09 L1219.52 1446.03 L1205.45 1446.03 L1205.45 1454.5 Q1206.47 1454.15 1207.49 1453.99 Q1208.5 1453.8 1209.52 1453.8 Q1215.31 1453.8 1218.69 1456.98 Q1222.07 1460.15 1222.07 1465.56 Q1222.07 1471.14 1218.6 1474.24 Q1215.12 1477.32 1208.8 1477.32 Q1206.63 1477.32 1204.36 1476.95 Q1202.12 1476.58 1199.71 1475.84 L1199.71 1471.14 Q1201.79 1472.28 1204.01 1472.83 Q1206.24 1473.39 1208.71 1473.39 Q1212.72 1473.39 1215.05 1471.28 Q1217.39 1469.18 1217.39 1465.56 Q1217.39 1461.95 1215.05 1459.85 Q1212.72 1457.74 1208.71 1457.74 Q1206.84 1457.74 1204.96 1458.16 Q1203.11 1458.57 1201.17 1459.45 L1201.17 1442.09 Z\" fill=\"#000000\" fill-rule=\"evenodd\" fill-opacity=\"1\" /><path clip-path=\"url(#clip470)\" d=\"M 0 0 M1237.14 1445.17 Q1233.53 1445.17 1231.7 1448.74 Q1229.89 1452.28 1229.89 1459.41 Q1229.89 1466.51 1231.7 1470.08 Q1233.53 1473.62 1237.14 1473.62 Q1240.77 1473.62 1242.58 1470.08 Q1244.41 1466.51 1244.41 1459.41 Q1244.41 1452.28 1242.58 1448.74 Q1240.77 1445.17 1237.14 1445.17 M1237.14 1441.47 Q1242.95 1441.47 1246 1446.07 Q1249.08 1450.66 1249.08 1459.41 Q1249.08 1468.13 1246 1472.74 Q1242.95 1477.32 1237.14 1477.32 Q1231.33 1477.32 1228.25 1472.74 Q1225.19 1468.13 1225.19 1459.41 Q1225.19 1450.66 1228.25 1446.07 Q1231.33 1441.47 1237.14 1441.47 Z\" fill=\"#000000\" fill-rule=\"evenodd\" fill-opacity=\"1\" /><path clip-path=\"url(#clip470)\" d=\"M 0 0 M1695.3 1442.09 L1717.52 1442.09 L1717.52 1444.08 L1704.98 1476.65 L1700.09 1476.65 L1711.9 1446.03 L1695.3 1446.03 L1695.3 1442.09 Z\" fill=\"#000000\" fill-rule=\"evenodd\" fill-opacity=\"1\" /><path clip-path=\"url(#clip470)\" d=\"M 0 0 M1722.64 1442.09 L1740.99 1442.09 L1740.99 1446.03 L1726.92 1446.03 L1726.92 1454.5 Q1727.94 1454.15 1728.96 1453.99 Q1729.98 1453.8 1730.99 1453.8 Q1736.78 1453.8 1740.16 1456.98 Q1743.54 1460.15 1743.54 1465.56 Q1743.54 1471.14 1740.07 1474.24 Q1736.6 1477.32 1730.28 1477.32 Q1728.1 1477.32 1725.83 1476.95 Q1723.59 1476.58 1721.18 1475.84 L1721.18 1471.14 Q1723.26 1472.28 1725.48 1472.83 Q1727.71 1473.39 1730.18 1473.39 Q1734.19 1473.39 1736.53 1471.28 Q1738.86 1469.18 1738.86 1465.56 Q1738.86 1461.95 1736.53 1459.85 Q1734.19 1457.74 1730.18 1457.74 Q1728.31 1457.74 1726.43 1458.16 Q1724.58 1458.57 1722.64 1459.45 L1722.64 1442.09 Z\" fill=\"#000000\" fill-rule=\"evenodd\" fill-opacity=\"1\" /><path clip-path=\"url(#clip470)\" d=\"M 0 0 M2177.81 1472.72 L2185.45 1472.72 L2185.45 1446.35 L2177.14 1448.02 L2177.14 1443.76 L2185.4 1442.09 L2190.08 1442.09 L2190.08 1472.72 L2197.72 1472.72 L2197.72 1476.65 L2177.81 1476.65 L2177.81 1472.72 Z\" fill=\"#000000\" fill-rule=\"evenodd\" fill-opacity=\"1\" /><path clip-path=\"url(#clip470)\" d=\"M 0 0 M2212.79 1445.17 Q2209.18 1445.17 2207.35 1448.74 Q2205.54 1452.28 2205.54 1459.41 Q2205.54 1466.51 2207.35 1470.08 Q2209.18 1473.62 2212.79 1473.62 Q2216.42 1473.62 2218.23 1470.08 Q2220.06 1466.51 2220.06 1459.41 Q2220.06 1452.28 2218.23 1448.74 Q2216.42 1445.17 2212.79 1445.17 M2212.79 1441.47 Q2218.6 1441.47 2221.65 1446.07 Q2224.73 1450.66 2224.73 1459.41 Q2224.73 1468.13 2221.65 1472.74 Q2218.6 1477.32 2212.79 1477.32 Q2206.98 1477.32 2203.9 1472.74 Q2200.84 1468.13 2200.84 1459.41 Q2200.84 1450.66 2203.9 1446.07 Q2206.98 1441.47 2212.79 1441.47 Z\" fill=\"#000000\" fill-rule=\"evenodd\" fill-opacity=\"1\" /><path clip-path=\"url(#clip470)\" d=\"M 0 0 M2239.8 1445.17 Q2236.19 1445.17 2234.36 1448.74 Q2232.56 1452.28 2232.56 1459.41 Q2232.56 1466.51 2234.36 1470.08 Q2236.19 1473.62 2239.8 1473.62 Q2243.44 1473.62 2245.24 1470.08 Q2247.07 1466.51 2247.07 1459.41 Q2247.07 1452.28 2245.24 1448.74 Q2243.44 1445.17 2239.8 1445.17 M2239.8 1441.47 Q2245.61 1441.47 2248.67 1446.07 Q2251.75 1450.66 2251.75 1459.41 Q2251.75 1468.13 2248.67 1472.74 Q2245.61 1477.32 2239.8 1477.32 Q2233.99 1477.32 2230.91 1472.74 Q2227.86 1468.13 2227.86 1459.41 Q2227.86 1450.66 2230.91 1446.07 Q2233.99 1441.47 2239.8 1441.47 Z\" fill=\"#000000\" fill-rule=\"evenodd\" fill-opacity=\"1\" /><path clip-path=\"url(#clip470)\" d=\"M 0 0 M74.9365 1372.2 Q71.3254 1372.2 69.4967 1375.76 Q67.6912 1379.3 67.6912 1386.43 Q67.6912 1393.54 69.4967 1397.1 Q71.3254 1400.65 74.9365 1400.65 Q78.5707 1400.65 80.3763 1397.1 Q82.205 1393.54 82.205 1386.43 Q82.205 1379.3 80.3763 1375.76 Q78.5707 1372.2 74.9365 1372.2 M74.9365 1368.49 Q80.7467 1368.49 83.8022 1373.1 Q86.8809 1377.68 86.8809 1386.43 Q86.8809 1395.16 83.8022 1399.77 Q80.7467 1404.35 74.9365 1404.35 Q69.1264 1404.35 66.0477 1399.77 Q62.9921 1395.16 62.9921 1386.43 Q62.9921 1377.68 66.0477 1373.1 Q69.1264 1368.49 74.9365 1368.49 Z\" fill=\"#000000\" fill-rule=\"evenodd\" fill-opacity=\"1\" /><path clip-path=\"url(#clip470)\" d=\"M 0 0 M91.9503 1397.8 L96.8345 1397.8 L96.8345 1403.68 L91.9503 1403.68 L91.9503 1397.8 Z\" fill=\"#000000\" fill-rule=\"evenodd\" fill-opacity=\"1\" /><path clip-path=\"url(#clip470)\" d=\"M 0 0 M111.904 1372.2 Q108.293 1372.2 106.464 1375.76 Q104.659 1379.3 104.659 1386.43 Q104.659 1393.54 106.464 1397.1 Q108.293 1400.65 111.904 1400.65 Q115.538 1400.65 117.344 1397.1 Q119.172 1393.54 119.172 1386.43 Q119.172 1379.3 117.344 1375.76 Q115.538 1372.2 111.904 1372.2 M111.904 1368.49 Q117.714 1368.49 120.77 1373.1 Q123.848 1377.68 123.848 1386.43 Q123.848 1395.16 120.77 1399.77 Q117.714 1404.35 111.904 1404.35 Q106.094 1404.35 103.015 1399.77 Q99.9595 1395.16 99.9595 1386.43 Q99.9595 1377.68 103.015 1373.1 Q106.094 1368.49 111.904 1368.49 Z\" fill=\"#000000\" fill-rule=\"evenodd\" fill-opacity=\"1\" /><path clip-path=\"url(#clip470)\" d=\"M 0 0 M138.918 1372.2 Q135.307 1372.2 133.478 1375.76 Q131.672 1379.3 131.672 1386.43 Q131.672 1393.54 133.478 1397.1 Q135.307 1400.65 138.918 1400.65 Q142.552 1400.65 144.357 1397.1 Q146.186 1393.54 146.186 1386.43 Q146.186 1379.3 144.357 1375.76 Q142.552 1372.2 138.918 1372.2 M138.918 1368.49 Q144.728 1368.49 147.783 1373.1 Q150.862 1377.68 150.862 1386.43 Q150.862 1395.16 147.783 1399.77 Q144.728 1404.35 138.918 1404.35 Q133.107 1404.35 130.029 1399.77 Q126.973 1395.16 126.973 1386.43 Q126.973 1377.68 130.029 1373.1 Q133.107 1368.49 138.918 1368.49 Z\" fill=\"#000000\" fill-rule=\"evenodd\" fill-opacity=\"1\" /><path clip-path=\"url(#clip470)\" d=\"M 0 0 M165.931 1372.2 Q162.32 1372.2 160.492 1375.76 Q158.686 1379.3 158.686 1386.43 Q158.686 1393.54 160.492 1397.1 Q162.32 1400.65 165.931 1400.65 Q169.566 1400.65 171.371 1397.1 Q173.2 1393.54 173.2 1386.43 Q173.2 1379.3 171.371 1375.76 Q169.566 1372.2 165.931 1372.2 M165.931 1368.49 Q171.742 1368.49 174.797 1373.1 Q177.876 1377.68 177.876 1386.43 Q177.876 1395.16 174.797 1399.77 Q171.742 1404.35 165.931 1404.35 Q160.121 1404.35 157.043 1399.77 Q153.987 1395.16 153.987 1386.43 Q153.987 1377.68 157.043 1373.1 Q160.121 1368.49 165.931 1368.49 Z\" fill=\"#000000\" fill-rule=\"evenodd\" fill-opacity=\"1\" /><path clip-path=\"url(#clip470)\" d=\"M 0 0 M77.5291 1057.65 Q73.918 1057.65 72.0893 1061.21 Q70.2838 1064.75 70.2838 1071.88 Q70.2838 1078.99 72.0893 1082.55 Q73.918 1086.09 77.5291 1086.09 Q81.1633 1086.09 82.9689 1082.55 Q84.7976 1078.99 84.7976 1071.88 Q84.7976 1064.75 82.9689 1061.21 Q81.1633 1057.65 77.5291 1057.65 M77.5291 1053.94 Q83.3392 1053.94 86.3948 1058.55 Q89.4735 1063.13 89.4735 1071.88 Q89.4735 1080.61 86.3948 1085.21 Q83.3392 1089.8 77.5291 1089.8 Q71.7189 1089.8 68.6402 1085.21 Q65.5847 1080.61 65.5847 1071.88 Q65.5847 1063.13 68.6402 1058.55 Q71.7189 1053.94 77.5291 1053.94 Z\" fill=\"#000000\" fill-rule=\"evenodd\" fill-opacity=\"1\" /><path clip-path=\"url(#clip470)\" d=\"M 0 0 M94.5429 1083.25 L99.4271 1083.25 L99.4271 1089.13 L94.5429 1089.13 L94.5429 1083.25 Z\" fill=\"#000000\" fill-rule=\"evenodd\" fill-opacity=\"1\" /><path clip-path=\"url(#clip470)\" d=\"M 0 0 M114.496 1057.65 Q110.885 1057.65 109.057 1061.21 Q107.251 1064.75 107.251 1071.88 Q107.251 1078.99 109.057 1082.55 Q110.885 1086.09 114.496 1086.09 Q118.131 1086.09 119.936 1082.55 Q121.765 1078.99 121.765 1071.88 Q121.765 1064.75 119.936 1061.21 Q118.131 1057.65 114.496 1057.65 M114.496 1053.94 Q120.307 1053.94 123.362 1058.55 Q126.441 1063.13 126.441 1071.88 Q126.441 1080.61 123.362 1085.21 Q120.307 1089.8 114.496 1089.8 Q108.686 1089.8 105.608 1085.21 Q102.552 1080.61 102.552 1071.88 Q102.552 1063.13 105.608 1058.55 Q108.686 1053.94 114.496 1053.94 Z\" fill=\"#000000\" fill-rule=\"evenodd\" fill-opacity=\"1\" /><path clip-path=\"url(#clip470)\" d=\"M 0 0 M135.538 1085.19 L151.857 1085.19 L151.857 1089.13 L129.913 1089.13 L129.913 1085.19 Q132.575 1082.44 137.158 1077.81 Q141.765 1073.15 142.945 1071.81 Q145.191 1069.29 146.07 1067.55 Q146.973 1065.79 146.973 1064.1 Q146.973 1061.35 145.029 1059.61 Q143.107 1057.88 140.006 1057.88 Q137.807 1057.88 135.353 1058.64 Q132.922 1059.4 130.145 1060.96 L130.145 1056.23 Q132.969 1055.1 135.422 1054.52 Q137.876 1053.94 139.913 1053.94 Q145.283 1053.94 148.478 1056.63 Q151.672 1059.31 151.672 1063.8 Q151.672 1065.93 150.862 1067.85 Q150.075 1069.75 147.969 1072.34 Q147.39 1073.02 144.288 1076.23 Q141.186 1079.43 135.538 1085.19 Z\" fill=\"#000000\" fill-rule=\"evenodd\" fill-opacity=\"1\" /><path clip-path=\"url(#clip470)\" d=\"M 0 0 M156.973 1054.57 L175.329 1054.57 L175.329 1058.5 L161.255 1058.5 L161.255 1066.97 Q162.274 1066.63 163.293 1066.46 Q164.311 1066.28 165.33 1066.28 Q171.117 1066.28 174.496 1069.45 Q177.876 1072.62 177.876 1078.04 Q177.876 1083.62 174.404 1086.72 Q170.931 1089.8 164.612 1089.8 Q162.436 1089.8 160.168 1089.43 Q157.922 1089.06 155.515 1088.32 L155.515 1083.62 Q157.598 1084.75 159.82 1085.31 Q162.043 1085.86 164.519 1085.86 Q168.524 1085.86 170.862 1083.76 Q173.2 1081.65 173.2 1078.04 Q173.2 1074.43 170.862 1072.32 Q168.524 1070.21 164.519 1070.21 Q162.644 1070.21 160.769 1070.63 Q158.918 1071.05 156.973 1071.93 L156.973 1054.57 Z\" fill=\"#000000\" fill-rule=\"evenodd\" fill-opacity=\"1\" /><path clip-path=\"url(#clip470)\" d=\"M 0 0 M75.9319 743.095 Q72.3208 743.095 70.4921 746.659 Q68.6865 750.201 68.6865 757.331 Q68.6865 764.437 70.4921 768.002 Q72.3208 771.544 75.9319 771.544 Q79.5661 771.544 81.3717 768.002 Q83.2004 764.437 83.2004 757.331 Q83.2004 750.201 81.3717 746.659 Q79.5661 743.095 75.9319 743.095 M75.9319 739.391 Q81.742 739.391 84.7976 743.997 Q87.8763 748.581 87.8763 757.331 Q87.8763 766.058 84.7976 770.664 Q81.742 775.247 75.9319 775.247 Q70.1217 775.247 67.043 770.664 Q63.9875 766.058 63.9875 757.331 Q63.9875 748.581 67.043 743.997 Q70.1217 739.391 75.9319 739.391 Z\" fill=\"#000000\" fill-rule=\"evenodd\" fill-opacity=\"1\" /><path clip-path=\"url(#clip470)\" d=\"M 0 0 M92.9457 768.696 L97.8299 768.696 L97.8299 774.576 L92.9457 774.576 L92.9457 768.696 Z\" fill=\"#000000\" fill-rule=\"evenodd\" fill-opacity=\"1\" /><path clip-path=\"url(#clip470)\" d=\"M 0 0 M112.899 743.095 Q109.288 743.095 107.459 746.659 Q105.654 750.201 105.654 757.331 Q105.654 764.437 107.459 768.002 Q109.288 771.544 112.899 771.544 Q116.534 771.544 118.339 768.002 Q120.168 764.437 120.168 757.331 Q120.168 750.201 118.339 746.659 Q116.534 743.095 112.899 743.095 M112.899 739.391 Q118.709 739.391 121.765 743.997 Q124.844 748.581 124.844 757.331 Q124.844 766.058 121.765 770.664 Q118.709 775.247 112.899 775.247 Q107.089 775.247 104.01 770.664 Q100.955 766.058 100.955 757.331 Q100.955 748.581 104.01 743.997 Q107.089 739.391 112.899 739.391 Z\" fill=\"#000000\" fill-rule=\"evenodd\" fill-opacity=\"1\" /><path clip-path=\"url(#clip470)\" d=\"M 0 0 M129.959 740.016 L148.316 740.016 L148.316 743.951 L134.242 743.951 L134.242 752.423 Q135.26 752.076 136.279 751.914 Q137.297 751.729 138.316 751.729 Q144.103 751.729 147.482 754.9 Q150.862 758.071 150.862 763.488 Q150.862 769.067 147.39 772.169 Q143.918 775.247 137.598 775.247 Q135.422 775.247 133.154 774.877 Q130.908 774.507 128.501 773.766 L128.501 769.067 Q130.584 770.201 132.807 770.757 Q135.029 771.312 137.506 771.312 Q141.51 771.312 143.848 769.206 Q146.186 767.099 146.186 763.488 Q146.186 759.877 143.848 757.771 Q141.51 755.664 137.506 755.664 Q135.631 755.664 133.756 756.081 Q131.904 756.497 129.959 757.377 L129.959 740.016 Z\" fill=\"#000000\" fill-rule=\"evenodd\" fill-opacity=\"1\" /><path clip-path=\"url(#clip470)\" d=\"M 0 0 M165.931 743.095 Q162.32 743.095 160.492 746.659 Q158.686 750.201 158.686 757.331 Q158.686 764.437 160.492 768.002 Q162.32 771.544 165.931 771.544 Q169.566 771.544 171.371 768.002 Q173.2 764.437 173.2 757.331 Q173.2 750.201 171.371 746.659 Q169.566 743.095 165.931 743.095 M165.931 739.391 Q171.742 739.391 174.797 743.997 Q177.876 748.581 177.876 757.331 Q177.876 766.058 174.797 770.664 Q171.742 775.247 165.931 775.247 Q160.121 775.247 157.043 770.664 Q153.987 766.058 153.987 757.331 Q153.987 748.581 157.043 743.997 Q160.121 739.391 165.931 739.391 Z\" fill=\"#000000\" fill-rule=\"evenodd\" fill-opacity=\"1\" /><path clip-path=\"url(#clip470)\" d=\"M 0 0 M76.8346 428.544 Q73.2236 428.544 71.3949 432.109 Q69.5893 435.65 69.5893 442.78 Q69.5893 449.886 71.3949 453.451 Q73.2236 456.993 76.8346 456.993 Q80.4689 456.993 82.2744 453.451 Q84.1031 449.886 84.1031 442.78 Q84.1031 435.65 82.2744 432.109 Q80.4689 428.544 76.8346 428.544 M76.8346 424.84 Q82.6448 424.84 85.7003 429.447 Q88.779 434.03 88.779 442.78 Q88.779 451.507 85.7003 456.113 Q82.6448 460.696 76.8346 460.696 Q71.0245 460.696 67.9458 456.113 Q64.8903 451.507 64.8903 442.78 Q64.8903 434.03 67.9458 429.447 Q71.0245 424.84 76.8346 424.84 Z\" fill=\"#000000\" fill-rule=\"evenodd\" fill-opacity=\"1\" /><path clip-path=\"url(#clip470)\" d=\"M 0 0 M93.8484 454.146 L98.7327 454.146 L98.7327 460.025 L93.8484 460.025 L93.8484 454.146 Z\" fill=\"#000000\" fill-rule=\"evenodd\" fill-opacity=\"1\" /><path clip-path=\"url(#clip470)\" d=\"M 0 0 M113.802 428.544 Q110.191 428.544 108.362 432.109 Q106.557 435.65 106.557 442.78 Q106.557 449.886 108.362 453.451 Q110.191 456.993 113.802 456.993 Q117.436 456.993 119.242 453.451 Q121.071 449.886 121.071 442.78 Q121.071 435.65 119.242 432.109 Q117.436 428.544 113.802 428.544 M113.802 424.84 Q119.612 424.84 122.668 429.447 Q125.746 434.03 125.746 442.78 Q125.746 451.507 122.668 456.113 Q119.612 460.696 113.802 460.696 Q107.992 460.696 104.913 456.113 Q101.858 451.507 101.858 442.78 Q101.858 434.03 104.913 429.447 Q107.992 424.84 113.802 424.84 Z\" fill=\"#000000\" fill-rule=\"evenodd\" fill-opacity=\"1\" /><path clip-path=\"url(#clip470)\" d=\"M 0 0 M129.635 425.465 L151.857 425.465 L151.857 427.456 L139.311 460.025 L134.427 460.025 L146.232 429.4 L129.635 429.4 L129.635 425.465 Z\" fill=\"#000000\" fill-rule=\"evenodd\" fill-opacity=\"1\" /><path clip-path=\"url(#clip470)\" d=\"M 0 0 M156.973 425.465 L175.329 425.465 L175.329 429.4 L161.255 429.4 L161.255 437.872 Q162.274 437.525 163.293 437.363 Q164.311 437.178 165.33 437.178 Q171.117 437.178 174.496 440.349 Q177.876 443.521 177.876 448.937 Q177.876 454.516 174.404 457.618 Q170.931 460.696 164.612 460.696 Q162.436 460.696 160.168 460.326 Q157.922 459.956 155.515 459.215 L155.515 454.516 Q157.598 455.65 159.82 456.206 Q162.043 456.761 164.519 456.761 Q168.524 456.761 170.862 454.655 Q173.2 452.548 173.2 448.937 Q173.2 445.326 170.862 443.22 Q168.524 441.113 164.519 441.113 Q162.644 441.113 160.769 441.53 Q158.918 441.947 156.973 442.826 L156.973 425.465 Z\" fill=\"#000000\" fill-rule=\"evenodd\" fill-opacity=\"1\" /><path clip-path=\"url(#clip470)\" d=\"M 0 0 M76.1634 113.993 Q72.5523 113.993 70.7236 117.558 Q68.918 121.099 68.918 128.229 Q68.918 135.335 70.7236 138.9 Q72.5523 142.442 76.1634 142.442 Q79.7976 142.442 81.6031 138.9 Q83.4318 135.335 83.4318 128.229 Q83.4318 121.099 81.6031 117.558 Q79.7976 113.993 76.1634 113.993 M76.1634 110.289 Q81.9735 110.289 85.029 114.896 Q88.1077 119.479 88.1077 128.229 Q88.1077 136.956 85.029 141.562 Q81.9735 146.146 76.1634 146.146 Q70.3532 146.146 67.2745 141.562 Q64.219 136.956 64.219 128.229 Q64.219 119.479 67.2745 114.896 Q70.3532 110.289 76.1634 110.289 Z\" fill=\"#000000\" fill-rule=\"evenodd\" fill-opacity=\"1\" /><path clip-path=\"url(#clip470)\" d=\"M 0 0 M93.1771 139.595 L98.0614 139.595 L98.0614 145.474 L93.1771 145.474 L93.1771 139.595 Z\" fill=\"#000000\" fill-rule=\"evenodd\" fill-opacity=\"1\" /><path clip-path=\"url(#clip470)\" d=\"M 0 0 M103.941 141.539 L111.58 141.539 L111.58 115.174 L103.27 116.84 L103.27 112.581 L111.534 110.914 L116.209 110.914 L116.209 141.539 L123.848 141.539 L123.848 145.474 L103.941 145.474 L103.941 141.539 Z\" fill=\"#000000\" fill-rule=\"evenodd\" fill-opacity=\"1\" /><path clip-path=\"url(#clip470)\" d=\"M 0 0 M138.918 113.993 Q135.307 113.993 133.478 117.558 Q131.672 121.099 131.672 128.229 Q131.672 135.335 133.478 138.9 Q135.307 142.442 138.918 142.442 Q142.552 142.442 144.357 138.9 Q146.186 135.335 146.186 128.229 Q146.186 121.099 144.357 117.558 Q142.552 113.993 138.918 113.993 M138.918 110.289 Q144.728 110.289 147.783 114.896 Q150.862 119.479 150.862 128.229 Q150.862 136.956 147.783 141.562 Q144.728 146.146 138.918 146.146 Q133.107 146.146 130.029 141.562 Q126.973 136.956 126.973 128.229 Q126.973 119.479 130.029 114.896 Q133.107 110.289 138.918 110.289 Z\" fill=\"#000000\" fill-rule=\"evenodd\" fill-opacity=\"1\" /><path clip-path=\"url(#clip470)\" d=\"M 0 0 M165.931 113.993 Q162.32 113.993 160.492 117.558 Q158.686 121.099 158.686 128.229 Q158.686 135.335 160.492 138.9 Q162.32 142.442 165.931 142.442 Q169.566 142.442 171.371 138.9 Q173.2 135.335 173.2 128.229 Q173.2 121.099 171.371 117.558 Q169.566 113.993 165.931 113.993 M165.931 110.289 Q171.742 110.289 174.797 114.896 Q177.876 119.479 177.876 128.229 Q177.876 136.956 174.797 141.562 Q171.742 146.146 165.931 146.146 Q160.121 146.146 157.043 141.562 Q153.987 136.956 153.987 128.229 Q153.987 119.479 157.043 114.896 Q160.121 110.289 165.931 110.289 Z\" fill=\"#000000\" fill-rule=\"evenodd\" fill-opacity=\"1\" /><path clip-path=\"url(#clip470)\" d=\"M 0 0 M283.771 18.8205 L283.771 65.8515 L293.655 65.8515 Q306.172 65.8515 311.965 60.1802 Q317.798 54.509 317.798 42.2752 Q317.798 30.1225 311.965 24.4918 Q306.172 18.8205 293.655 18.8205 L283.771 18.8205 M275.588 12.096 L292.399 12.096 Q309.98 12.096 318.204 19.4281 Q326.427 26.7198 326.427 42.2752 Q326.427 57.9117 318.163 65.2439 Q309.899 72.576 292.399 72.576 L275.588 72.576 L275.588 12.096 Z\" fill=\"#000000\" fill-rule=\"evenodd\" fill-opacity=\"1\" /><path clip-path=\"url(#clip470)\" d=\"M 0 0 M334.245 27.2059 L341.699 27.2059 L341.699 72.576 L334.245 72.576 L334.245 27.2059 M334.245 9.54393 L341.699 9.54393 L341.699 18.9825 L334.245 18.9825 L334.245 9.54393 Z\" fill=\"#000000\" fill-rule=\"evenodd\" fill-opacity=\"1\" /><path clip-path=\"url(#clip470)\" d=\"M 0 0 M344.17 27.2059 L352.069 27.2059 L366.247 65.2844 L380.425 27.2059 L388.325 27.2059 L371.311 72.576 L361.184 72.576 L344.17 27.2059 Z\" fill=\"#000000\" fill-rule=\"evenodd\" fill-opacity=\"1\" /><path clip-path=\"url(#clip470)\" d=\"M 0 0 M434.951 48.0275 L434.951 51.6733 L400.68 51.6733 Q401.166 59.3701 405.298 63.421 Q409.47 67.4314 416.884 67.4314 Q421.177 67.4314 425.188 66.3781 Q429.239 65.3249 433.209 63.2184 L433.209 70.267 Q429.198 71.9684 424.985 72.8596 Q420.772 73.7508 416.438 73.7508 Q405.582 73.7508 399.222 67.4314 Q392.902 61.1119 392.902 50.3365 Q392.902 39.1965 398.898 32.6746 Q404.933 26.1121 415.142 26.1121 Q424.297 26.1121 429.603 32.0264 Q434.951 37.9003 434.951 48.0275 M427.497 45.84 Q427.416 39.7232 424.054 36.0774 Q420.732 32.4315 415.223 32.4315 Q408.984 32.4315 405.217 35.9558 Q401.49 39.4801 400.923 45.8805 L427.497 45.84 Z\" fill=\"#000000\" fill-rule=\"evenodd\" fill-opacity=\"1\" /><path clip-path=\"url(#clip470)\" d=\"M 0 0 M469.059 34.1734 Q467.803 33.4443 466.305 33.1202 Q464.846 32.7556 463.064 32.7556 Q456.744 32.7556 453.342 36.8875 Q449.979 40.9789 449.979 48.6757 L449.979 72.576 L442.485 72.576 L442.485 27.2059 L449.979 27.2059 L449.979 34.2544 Q452.329 30.1225 456.096 28.1376 Q459.864 26.1121 465.251 26.1121 Q466.021 26.1121 466.953 26.2337 Q467.884 26.3147 469.019 26.5172 L469.059 34.1734 Z\" fill=\"#000000\" fill-rule=\"evenodd\" fill-opacity=\"1\" /><path clip-path=\"url(#clip470)\" d=\"M 0 0 M505.801 28.5427 L505.801 35.5912 Q502.641 33.9709 499.238 33.1607 Q495.836 32.3505 492.19 32.3505 Q486.64 32.3505 483.845 34.0519 Q481.09 35.7533 481.09 39.156 Q481.09 41.7486 483.075 43.2475 Q485.06 44.7058 491.056 46.0426 L493.608 46.6097 Q501.547 48.3111 504.869 51.4303 Q508.231 54.509 508.231 60.0587 Q508.231 66.3781 503.208 70.0644 Q498.226 73.7508 489.476 73.7508 Q485.83 73.7508 481.86 73.0216 Q477.931 72.3329 473.556 70.9151 L473.556 63.2184 Q477.688 65.3654 481.698 66.4591 Q485.708 67.5124 489.638 67.5124 Q494.904 67.5124 497.74 65.73 Q500.575 63.9071 500.575 60.6258 Q500.575 57.5877 498.509 55.9673 Q496.484 54.3469 489.557 52.8481 L486.964 52.2405 Q480.037 50.7821 476.958 47.7845 Q473.88 44.7463 473.88 39.4801 Q473.88 33.0797 478.417 29.5959 Q482.954 26.1121 491.299 26.1121 Q495.431 26.1121 499.076 26.7198 Q502.722 27.3274 505.801 28.5427 Z\" fill=\"#000000\" fill-rule=\"evenodd\" fill-opacity=\"1\" /><path clip-path=\"url(#clip470)\" d=\"M 0 0 M516.05 27.2059 L523.503 27.2059 L523.503 72.576 L516.05 72.576 L516.05 27.2059 M516.05 9.54393 L523.503 9.54393 L523.503 18.9825 L516.05 18.9825 L516.05 9.54393 Z\" fill=\"#000000\" fill-rule=\"evenodd\" fill-opacity=\"1\" /><path clip-path=\"url(#clip470)\" d=\"M 0 0 M538.694 14.324 L538.694 27.2059 L554.047 27.2059 L554.047 32.9987 L538.694 32.9987 L538.694 57.6282 Q538.694 63.1779 540.193 64.7578 Q541.732 66.3376 546.391 66.3376 L554.047 66.3376 L554.047 72.576 L546.391 72.576 Q537.763 72.576 534.481 69.3758 Q531.2 66.1351 531.2 57.6282 L531.2 32.9987 L525.731 32.9987 L525.731 27.2059 L531.2 27.2059 L531.2 14.324 L538.694 14.324 Z\" fill=\"#000000\" fill-rule=\"evenodd\" fill-opacity=\"1\" /><path clip-path=\"url(#clip470)\" d=\"M 0 0 M580.743 76.7889 Q577.583 84.8907 574.585 87.3618 Q571.588 89.8329 566.564 89.8329 L560.61 89.8329 L560.61 83.5945 L564.985 83.5945 Q568.063 83.5945 569.765 82.1361 Q571.466 80.6778 573.532 75.2496 L574.869 71.8468 L556.518 27.2059 L564.417 27.2059 L578.596 62.6918 L592.774 27.2059 L600.673 27.2059 L580.743 76.7889 Z\" fill=\"#000000\" fill-rule=\"evenodd\" fill-opacity=\"1\" /><path clip-path=\"url(#clip470)\" d=\"M 0 0 M671.442 14.0809 L671.442 22.0612 Q666.784 19.8332 662.652 18.7395 Q658.52 17.6457 654.672 17.6457 Q647.988 17.6457 644.342 20.2383 Q640.736 22.8309 640.736 27.611 Q640.736 31.6214 643.127 33.6873 Q645.557 35.7128 652.282 36.9686 L657.224 37.9813 Q666.379 39.7232 670.713 44.1387 Q675.088 48.5136 675.088 55.8863 Q675.088 64.6767 669.174 69.2137 Q663.3 73.7508 651.917 73.7508 Q647.623 73.7508 642.762 72.7785 Q637.941 71.8063 632.756 69.9024 L632.756 61.4765 Q637.739 64.2716 642.519 65.6895 Q647.299 67.1073 651.917 67.1073 Q658.925 67.1073 662.733 64.3527 Q666.541 61.598 666.541 56.4939 Q666.541 52.0379 663.786 49.5264 Q661.072 47.0148 654.834 45.759 L649.851 44.7868 Q640.696 42.9639 636.605 39.075 Q632.513 35.1862 632.513 28.2591 Q632.513 20.2383 638.144 15.6203 Q643.815 11.0023 653.74 11.0023 Q657.993 11.0023 662.409 11.7719 Q666.824 12.5416 671.442 14.0809 Z\" fill=\"#000000\" fill-rule=\"evenodd\" fill-opacity=\"1\" /><path clip-path=\"url(#clip470)\" d=\"M 0 0 M715.557 28.9478 L715.557 35.9153 Q712.397 34.1734 709.197 33.3227 Q706.037 32.4315 702.796 32.4315 Q695.545 32.4315 691.535 37.0496 Q687.524 41.6271 687.524 49.9314 Q687.524 58.2358 691.535 62.8538 Q695.545 67.4314 702.796 67.4314 Q706.037 67.4314 709.197 66.5807 Q712.397 65.6895 715.557 63.9476 L715.557 70.8341 Q712.437 72.2924 709.075 73.0216 Q705.754 73.7508 701.986 73.7508 Q691.737 73.7508 685.702 67.3098 Q679.666 60.8689 679.666 49.9314 Q679.666 38.832 685.742 32.472 Q691.859 26.1121 702.472 26.1121 Q705.916 26.1121 709.197 26.8413 Q712.478 27.5299 715.557 28.9478 Z\" fill=\"#000000\" fill-rule=\"evenodd\" fill-opacity=\"1\" /><path clip-path=\"url(#clip470)\" d=\"M 0 0 M740.956 32.4315 Q734.961 32.4315 731.477 37.1306 Q727.993 41.7891 727.993 49.9314 Q727.993 58.0738 731.436 62.7728 Q734.92 67.4314 740.956 67.4314 Q746.911 67.4314 750.394 62.7323 Q753.878 58.0333 753.878 49.9314 Q753.878 41.8701 750.394 37.1711 Q746.911 32.4315 740.956 32.4315 M740.956 26.1121 Q750.678 26.1121 756.228 32.4315 Q761.778 38.7509 761.778 49.9314 Q761.778 61.0714 756.228 67.4314 Q750.678 73.7508 740.956 73.7508 Q731.193 73.7508 725.643 67.4314 Q720.134 61.0714 720.134 49.9314 Q720.134 38.7509 725.643 32.4315 Q731.193 26.1121 740.956 26.1121 Z\" fill=\"#000000\" fill-rule=\"evenodd\" fill-opacity=\"1\" /><path clip-path=\"url(#clip470)\" d=\"M 0 0 M795.886 34.1734 Q794.63 33.4443 793.132 33.1202 Q791.673 32.7556 789.891 32.7556 Q783.571 32.7556 780.169 36.8875 Q776.806 40.9789 776.806 48.6757 L776.806 72.576 L769.312 72.576 L769.312 27.2059 L776.806 27.2059 L776.806 34.2544 Q779.156 30.1225 782.923 28.1376 Q786.691 26.1121 792.078 26.1121 Q792.848 26.1121 793.78 26.2337 Q794.711 26.3147 795.846 26.5172 L795.886 34.1734 Z\" fill=\"#000000\" fill-rule=\"evenodd\" fill-opacity=\"1\" /><path clip-path=\"url(#clip470)\" d=\"M 0 0 M840.689 48.0275 L840.689 51.6733 L806.418 51.6733 Q806.905 59.3701 811.037 63.421 Q815.209 67.4314 822.622 67.4314 Q826.916 67.4314 830.926 66.3781 Q834.977 65.3249 838.947 63.2184 L838.947 70.267 Q834.937 71.9684 830.724 72.8596 Q826.511 73.7508 822.176 73.7508 Q811.32 73.7508 804.96 67.4314 Q798.641 61.1119 798.641 50.3365 Q798.641 39.1965 804.636 32.6746 Q810.672 26.1121 820.88 26.1121 Q830.035 26.1121 835.342 32.0264 Q840.689 37.9003 840.689 48.0275 M833.235 45.84 Q833.154 39.7232 829.792 36.0774 Q826.47 32.4315 820.961 32.4315 Q814.723 32.4315 810.955 35.9558 Q807.229 39.4801 806.662 45.8805 L833.235 45.84 Z\" fill=\"#000000\" fill-rule=\"evenodd\" fill-opacity=\"1\" /><path clip-path=\"url(#clip470)\" d=\"M 0 0 M877.431 28.5427 L877.431 35.5912 Q874.271 33.9709 870.868 33.1607 Q867.466 32.3505 863.82 32.3505 Q858.27 32.3505 855.475 34.0519 Q852.72 35.7533 852.72 39.156 Q852.72 41.7486 854.705 43.2475 Q856.69 44.7058 862.686 46.0426 L865.238 46.6097 Q873.177 48.3111 876.499 51.4303 Q879.861 54.509 879.861 60.0587 Q879.861 66.3781 874.838 70.0644 Q869.856 73.7508 861.106 73.7508 Q857.46 73.7508 853.49 73.0216 Q849.561 72.3329 845.186 70.9151 L845.186 63.2184 Q849.318 65.3654 853.328 66.4591 Q857.338 67.5124 861.268 67.5124 Q866.534 67.5124 869.37 65.73 Q872.205 63.9071 872.205 60.6258 Q872.205 57.5877 870.139 55.9673 Q868.114 54.3469 861.187 52.8481 L858.594 52.2405 Q851.667 50.7821 848.588 47.7845 Q845.51 44.7463 845.51 39.4801 Q845.51 33.0797 850.047 29.5959 Q854.584 26.1121 862.929 26.1121 Q867.061 26.1121 870.706 26.7198 Q874.352 27.3274 877.431 28.5427 Z\" fill=\"#000000\" fill-rule=\"evenodd\" fill-opacity=\"1\" /><path clip-path=\"url(#clip470)\" d=\"M 0 0 M909.717 27.2059 L917.17 27.2059 L926.487 62.6108 L935.764 27.2059 L944.554 27.2059 L953.871 62.6108 L963.148 27.2059 L970.602 27.2059 L958.732 72.576 L949.942 72.576 L940.179 35.3887 L930.376 72.576 L921.586 72.576 L909.717 27.2059 Z\" fill=\"#000000\" fill-rule=\"evenodd\" fill-opacity=\"1\" /><path clip-path=\"url(#clip470)\" d=\"M 0 0 M978.42 27.2059 L985.874 27.2059 L985.874 72.576 L978.42 72.576 L978.42 27.2059 M978.42 9.54393 L985.874 9.54393 L985.874 18.9825 L978.42 18.9825 L978.42 9.54393 Z\" fill=\"#000000\" fill-rule=\"evenodd\" fill-opacity=\"1\" /><path clip-path=\"url(#clip470)\" d=\"M 0 0 M1001.06 14.324 L1001.06 27.2059 L1016.42 27.2059 L1016.42 32.9987 L1001.06 32.9987 L1001.06 57.6282 Q1001.06 63.1779 1002.56 64.7578 Q1004.1 66.3376 1008.76 66.3376 L1016.42 66.3376 L1016.42 72.576 L1008.76 72.576 Q1000.13 72.576 996.851 69.3758 Q993.57 66.1351 993.57 57.6282 L993.57 32.9987 L988.102 32.9987 L988.102 27.2059 L993.57 27.2059 L993.57 14.324 L1001.06 14.324 Z\" fill=\"#000000\" fill-rule=\"evenodd\" fill-opacity=\"1\" /><path clip-path=\"url(#clip470)\" d=\"M 0 0 M1061.95 45.1919 L1061.95 72.576 L1054.5 72.576 L1054.5 45.4349 Q1054.5 38.994 1051.98 35.7938 Q1049.47 32.5936 1044.45 32.5936 Q1038.41 32.5936 1034.93 36.4419 Q1031.45 40.2903 1031.45 46.9338 L1031.45 72.576 L1023.95 72.576 L1023.95 9.54393 L1031.45 9.54393 L1031.45 34.2544 Q1034.12 30.163 1037.73 28.1376 Q1041.37 26.1121 1046.11 26.1121 Q1053.93 26.1121 1057.94 30.9732 Q1061.95 35.7938 1061.95 45.1919 Z\" fill=\"#000000\" fill-rule=\"evenodd\" fill-opacity=\"1\" /><path clip-path=\"url(#clip470)\" d=\"M 0 0 M1112.06 72.576 L1088.97 12.096 L1097.52 12.096 L1116.68 63.0159 L1135.88 12.096 L1144.39 12.096 L1121.34 72.576 L1112.06 72.576 Z\" fill=\"#000000\" fill-rule=\"evenodd\" fill-opacity=\"1\" /><path clip-path=\"url(#clip470)\" d=\"M 0 0 M1166.38 49.7694 Q1157.35 49.7694 1153.86 51.8354 Q1150.38 53.9013 1150.38 58.8839 Q1150.38 62.8538 1152.97 65.2034 Q1155.61 67.5124 1160.1 67.5124 Q1166.3 67.5124 1170.03 63.1374 Q1173.79 58.7219 1173.79 51.4303 L1173.79 49.7694 L1166.38 49.7694 M1181.25 46.6907 L1181.25 72.576 L1173.79 72.576 L1173.79 65.6895 Q1171.24 69.8214 1167.44 71.8063 Q1163.63 73.7508 1158.12 73.7508 Q1151.15 73.7508 1147.02 69.8619 Q1142.93 65.9325 1142.93 59.3701 Q1142.93 51.7138 1148.03 47.825 Q1153.18 43.9361 1163.34 43.9361 L1173.79 43.9361 L1173.79 43.2069 Q1173.79 38.0623 1170.39 35.2672 Q1167.03 32.4315 1160.91 32.4315 Q1157.02 32.4315 1153.34 33.3632 Q1149.65 34.295 1146.25 36.1584 L1146.25 29.2718 Q1150.34 27.692 1154.19 26.9223 Q1158.04 26.1121 1161.68 26.1121 Q1171.53 26.1121 1176.39 31.2163 Q1181.25 36.3204 1181.25 46.6907 Z\" fill=\"#000000\" fill-rule=\"evenodd\" fill-opacity=\"1\" /><path clip-path=\"url(#clip470)\" d=\"M 0 0 M1215.36 34.1734 Q1214.1 33.4443 1212.6 33.1202 Q1211.14 32.7556 1209.36 32.7556 Q1203.04 32.7556 1199.64 36.8875 Q1196.28 40.9789 1196.28 48.6757 L1196.28 72.576 L1188.78 72.576 L1188.78 27.2059 L1196.28 27.2059 L1196.28 34.2544 Q1198.63 30.1225 1202.39 28.1376 Q1206.16 26.1121 1211.55 26.1121 Q1212.32 26.1121 1213.25 26.2337 Q1214.18 26.3147 1215.32 26.5172 L1215.36 34.1734 Z\" fill=\"#000000\" fill-rule=\"evenodd\" fill-opacity=\"1\" /><path clip-path=\"url(#clip470)\" d=\"M 0 0 M1242.05 76.7889 Q1238.89 84.8907 1235.9 87.3618 Q1232.9 89.8329 1227.87 89.8329 L1221.92 89.8329 L1221.92 83.5945 L1226.29 83.5945 Q1229.37 83.5945 1231.07 82.1361 Q1232.78 80.6778 1234.84 75.2496 L1236.18 71.8468 L1217.83 27.2059 L1225.73 27.2059 L1239.91 62.6918 L1254.08 27.2059 L1261.98 27.2059 L1242.05 76.7889 Z\" fill=\"#000000\" fill-rule=\"evenodd\" fill-opacity=\"1\" /><path clip-path=\"url(#clip470)\" d=\"M 0 0 M1269.8 27.2059 L1277.26 27.2059 L1277.26 72.576 L1269.8 72.576 L1269.8 27.2059 M1269.8 9.54393 L1277.26 9.54393 L1277.26 18.9825 L1269.8 18.9825 L1269.8 9.54393 Z\" fill=\"#000000\" fill-rule=\"evenodd\" fill-opacity=\"1\" /><path clip-path=\"url(#clip470)\" d=\"M 0 0 M1322.79 45.1919 L1322.79 72.576 L1315.33 72.576 L1315.33 45.4349 Q1315.33 38.994 1312.82 35.7938 Q1310.31 32.5936 1305.29 32.5936 Q1299.25 32.5936 1295.77 36.4419 Q1292.28 40.2903 1292.28 46.9338 L1292.28 72.576 L1284.79 72.576 L1284.79 27.2059 L1292.28 27.2059 L1292.28 34.2544 Q1294.96 30.163 1298.56 28.1376 Q1302.21 26.1121 1306.95 26.1121 Q1314.77 26.1121 1318.78 30.9732 Q1322.79 35.7938 1322.79 45.1919 Z\" fill=\"#000000\" fill-rule=\"evenodd\" fill-opacity=\"1\" /><path clip-path=\"url(#clip470)\" d=\"M 0 0 M1360.46 49.3643 Q1360.46 41.2625 1357.1 36.8065 Q1353.78 32.3505 1347.74 32.3505 Q1341.75 32.3505 1338.38 36.8065 Q1335.06 41.2625 1335.06 49.3643 Q1335.06 57.4256 1338.38 61.8816 Q1341.75 66.3376 1347.74 66.3376 Q1353.78 66.3376 1357.1 61.8816 Q1360.46 57.4256 1360.46 49.3643 M1367.91 66.9452 Q1367.91 78.5308 1362.77 84.1616 Q1357.63 89.8329 1347.01 89.8329 Q1343.08 89.8329 1339.6 89.2252 Q1336.11 88.6581 1332.83 87.4428 L1332.83 80.1917 Q1336.11 81.9741 1339.31 82.8248 Q1342.52 83.6755 1345.84 83.6755 Q1353.17 83.6755 1356.81 79.8271 Q1360.46 76.0193 1360.46 68.282 L1360.46 64.5957 Q1358.15 68.6061 1354.55 70.5911 Q1350.94 72.576 1345.92 72.576 Q1337.57 72.576 1332.47 66.2161 Q1327.36 59.8562 1327.36 49.3643 Q1327.36 38.832 1332.47 32.472 Q1337.57 26.1121 1345.92 26.1121 Q1350.94 26.1121 1354.55 28.0971 Q1358.15 30.082 1360.46 34.0924 L1360.46 27.2059 L1367.91 27.2059 L1367.91 66.9452 Z\" fill=\"#000000\" fill-rule=\"evenodd\" fill-opacity=\"1\" /><path clip-path=\"url(#clip470)\" d=\"M 0 0 M1402.43 12.096 L1413.45 12.096 L1440.26 62.6918 L1440.26 12.096 L1448.2 12.096 L1448.2 72.576 L1437.18 72.576 L1410.37 21.9802 L1410.37 72.576 L1402.43 72.576 L1402.43 12.096 Z\" fill=\"#000000\" fill-rule=\"evenodd\" fill-opacity=\"1\" /><path clip-path=\"url(#clip470)\" d=\"M 0 0 M1456.35 12.096 L1464.53 12.096 L1464.53 36.8875 L1494.26 36.8875 L1494.26 12.096 L1502.44 12.096 L1502.44 72.576 L1494.26 72.576 L1494.26 43.7741 L1464.53 43.7741 L1464.53 72.576 L1456.35 72.576 L1456.35 12.096 Z\" fill=\"#000000\" fill-rule=\"evenodd\" fill-opacity=\"1\" /><path clip-path=\"url(#clip470)\" d=\"M 0 0 M1573.21 14.0809 L1573.21 22.0612 Q1568.56 19.8332 1564.42 18.7395 Q1560.29 17.6457 1556.44 17.6457 Q1549.76 17.6457 1546.11 20.2383 Q1542.51 22.8309 1542.51 27.611 Q1542.51 31.6214 1544.9 33.6873 Q1547.33 35.7128 1554.05 36.9686 L1559 37.9813 Q1568.15 39.7232 1572.48 44.1387 Q1576.86 48.5136 1576.86 55.8863 Q1576.86 64.6767 1570.95 69.2137 Q1565.07 73.7508 1553.69 73.7508 Q1549.39 73.7508 1544.53 72.7785 Q1539.71 71.8063 1534.53 69.9024 L1534.53 61.4765 Q1539.51 64.2716 1544.29 65.6895 Q1549.07 67.1073 1553.69 67.1073 Q1560.7 67.1073 1564.5 64.3527 Q1568.31 61.598 1568.31 56.4939 Q1568.31 52.0379 1565.56 49.5264 Q1562.84 47.0148 1556.61 45.759 L1551.62 44.7868 Q1542.47 42.9639 1538.38 39.075 Q1534.28 35.1862 1534.28 28.2591 Q1534.28 20.2383 1539.92 15.6203 Q1545.59 11.0023 1555.51 11.0023 Q1559.77 11.0023 1564.18 11.7719 Q1568.6 12.5416 1573.21 14.0809 Z\" fill=\"#000000\" fill-rule=\"evenodd\" fill-opacity=\"1\" /><path clip-path=\"url(#clip470)\" d=\"M 0 0 M1584.68 27.2059 L1592.13 27.2059 L1592.13 72.576 L1584.68 72.576 L1584.68 27.2059 M1584.68 9.54393 L1592.13 9.54393 L1592.13 18.9825 L1584.68 18.9825 L1584.68 9.54393 Z\" fill=\"#000000\" fill-rule=\"evenodd\" fill-opacity=\"1\" /><path clip-path=\"url(#clip470)\" d=\"M 0 0 M1596.71 27.2059 L1632.11 27.2059 L1632.11 34.0114 L1604.08 66.6212 L1632.11 66.6212 L1632.11 72.576 L1595.7 72.576 L1595.7 65.7705 L1623.73 33.1607 L1596.71 33.1607 L1596.71 27.2059 Z\" fill=\"#000000\" fill-rule=\"evenodd\" fill-opacity=\"1\" /><path clip-path=\"url(#clip470)\" d=\"M 0 0 M1678.74 48.0275 L1678.74 51.6733 L1644.47 51.6733 Q1644.96 59.3701 1649.09 63.421 Q1653.26 67.4314 1660.67 67.4314 Q1664.97 67.4314 1668.98 66.3781 Q1673.03 65.3249 1677 63.2184 L1677 70.267 Q1672.99 71.9684 1668.77 72.8596 Q1664.56 73.7508 1660.23 73.7508 Q1649.37 73.7508 1643.01 67.4314 Q1636.69 61.1119 1636.69 50.3365 Q1636.69 39.1965 1642.69 32.6746 Q1648.72 26.1121 1658.93 26.1121 Q1668.09 26.1121 1673.39 32.0264 Q1678.74 37.9003 1678.74 48.0275 M1671.29 45.84 Q1671.21 39.7232 1667.84 36.0774 Q1664.52 32.4315 1659.01 32.4315 Q1652.77 32.4315 1649.01 35.9558 Q1645.28 39.4801 1644.71 45.8805 L1671.29 45.84 Z\" fill=\"#000000\" fill-rule=\"evenodd\" fill-opacity=\"1\" /><path clip-path=\"url(#clip470)\" d=\"M 0 0 M1733.55 49.7694 Q1724.52 49.7694 1721.03 51.8354 Q1717.55 53.9013 1717.55 58.8839 Q1717.55 62.8538 1720.14 65.2034 Q1722.77 67.5124 1727.27 67.5124 Q1733.47 67.5124 1737.19 63.1374 Q1740.96 58.7219 1740.96 51.4303 L1740.96 49.7694 L1733.55 49.7694 M1748.42 46.6907 L1748.42 72.576 L1740.96 72.576 L1740.96 65.6895 Q1738.41 69.8214 1734.6 71.8063 Q1730.79 73.7508 1725.29 73.7508 Q1718.32 73.7508 1714.19 69.8619 Q1710.09 65.9325 1710.09 59.3701 Q1710.09 51.7138 1715.2 47.825 Q1720.34 43.9361 1730.51 43.9361 L1740.96 43.9361 L1740.96 43.2069 Q1740.96 38.0623 1737.56 35.2672 Q1734.2 32.4315 1728.08 32.4315 Q1724.19 32.4315 1720.51 33.3632 Q1716.82 34.295 1713.42 36.1584 L1713.42 29.2718 Q1717.51 27.692 1721.36 26.9223 Q1725.2 26.1121 1728.85 26.1121 Q1738.69 26.1121 1743.55 31.2163 Q1748.42 36.3204 1748.42 46.6907 Z\" fill=\"#000000\" fill-rule=\"evenodd\" fill-opacity=\"1\" /><path clip-path=\"url(#clip470)\" d=\"M 0 0 M1793.95 45.1919 L1793.95 72.576 L1786.49 72.576 L1786.49 45.4349 Q1786.49 38.994 1783.98 35.7938 Q1781.47 32.5936 1776.45 32.5936 Q1770.41 32.5936 1766.93 36.4419 Q1763.44 40.2903 1763.44 46.9338 L1763.44 72.576 L1755.95 72.576 L1755.95 27.2059 L1763.44 27.2059 L1763.44 34.2544 Q1766.12 30.163 1769.72 28.1376 Q1773.37 26.1121 1778.11 26.1121 Q1785.93 26.1121 1789.94 30.9732 Q1793.95 35.7938 1793.95 45.1919 Z\" fill=\"#000000\" fill-rule=\"evenodd\" fill-opacity=\"1\" /><path clip-path=\"url(#clip470)\" d=\"M 0 0 M1831.62 34.0924 L1831.62 9.54393 L1839.07 9.54393 L1839.07 72.576 L1831.62 72.576 L1831.62 65.7705 Q1829.27 69.8214 1825.67 71.8063 Q1822.1 73.7508 1817.08 73.7508 Q1808.86 73.7508 1803.67 67.1883 Q1798.53 60.6258 1798.53 49.9314 Q1798.53 39.2371 1803.67 32.6746 Q1808.86 26.1121 1817.08 26.1121 Q1822.1 26.1121 1825.67 28.0971 Q1829.27 30.0415 1831.62 34.0924 M1806.22 49.9314 Q1806.22 58.1548 1809.58 62.8538 Q1812.99 67.5124 1818.9 67.5124 Q1824.82 67.5124 1828.22 62.8538 Q1831.62 58.1548 1831.62 49.9314 Q1831.62 41.7081 1828.22 37.0496 Q1824.82 32.3505 1818.9 32.3505 Q1812.99 32.3505 1809.58 37.0496 Q1806.22 41.7081 1806.22 49.9314 Z\" fill=\"#000000\" fill-rule=\"evenodd\" fill-opacity=\"1\" /><path clip-path=\"url(#clip470)\" d=\"M 0 0 M1881.77 18.8205 L1881.77 41.5461 L1892.06 41.5461 Q1897.77 41.5461 1900.89 38.5889 Q1904.01 35.6318 1904.01 30.163 Q1904.01 24.7348 1900.89 21.7777 Q1897.77 18.8205 1892.06 18.8205 L1881.77 18.8205 M1873.59 12.096 L1892.06 12.096 Q1902.23 12.096 1907.41 16.714 Q1912.64 21.2916 1912.64 30.163 Q1912.64 39.1155 1907.41 43.6931 Q1902.23 48.2706 1892.06 48.2706 L1881.77 48.2706 L1881.77 72.576 L1873.59 72.576 L1873.59 12.096 Z\" fill=\"#000000\" fill-rule=\"evenodd\" fill-opacity=\"1\" /><path clip-path=\"url(#clip470)\" d=\"M 0 0 M1945.29 34.1734 Q1944.03 33.4443 1942.54 33.1202 Q1941.08 32.7556 1939.29 32.7556 Q1932.97 32.7556 1929.57 36.8875 Q1926.21 40.9789 1926.21 48.6757 L1926.21 72.576 L1918.72 72.576 L1918.72 27.2059 L1926.21 27.2059 L1926.21 34.2544 Q1928.56 30.1225 1932.33 28.1376 Q1936.09 26.1121 1941.48 26.1121 Q1942.25 26.1121 1943.18 26.2337 Q1944.11 26.3147 1945.25 26.5172 L1945.29 34.1734 Z\" fill=\"#000000\" fill-rule=\"evenodd\" fill-opacity=\"1\" /><path clip-path=\"url(#clip470)\" d=\"M 0 0 M1990.09 48.0275 L1990.09 51.6733 L1955.82 51.6733 Q1956.31 59.3701 1960.44 63.421 Q1964.61 67.4314 1972.03 67.4314 Q1976.32 67.4314 1980.33 66.3781 Q1984.38 65.3249 1988.35 63.2184 L1988.35 70.267 Q1984.34 71.9684 1980.13 72.8596 Q1975.91 73.7508 1971.58 73.7508 Q1960.72 73.7508 1954.36 67.4314 Q1948.04 61.1119 1948.04 50.3365 Q1948.04 39.1965 1954.04 32.6746 Q1960.08 26.1121 1970.28 26.1121 Q1979.44 26.1121 1984.75 32.0264 Q1990.09 37.9003 1990.09 48.0275 M1982.64 45.84 Q1982.56 39.7232 1979.2 36.0774 Q1975.87 32.4315 1970.36 32.4315 Q1964.13 32.4315 1960.36 35.9558 Q1956.63 39.4801 1956.07 45.8805 L1982.64 45.84 Z\" fill=\"#000000\" fill-rule=\"evenodd\" fill-opacity=\"1\" /><path clip-path=\"url(#clip470)\" d=\"M 0 0 M2020.88 9.54393 L2020.88 15.7418 L2013.75 15.7418 Q2009.74 15.7418 2008.16 17.3622 Q2006.62 18.9825 2006.62 23.1955 L2006.62 27.2059 L2018.89 27.2059 L2018.89 32.9987 L2006.62 32.9987 L2006.62 72.576 L1999.13 72.576 L1999.13 32.9987 L1992 32.9987 L1992 27.2059 L1999.13 27.2059 L1999.13 24.0462 Q1999.13 16.471 2002.65 13.0277 Q2006.17 9.54393 2013.83 9.54393 L2020.88 9.54393 Z\" fill=\"#000000\" fill-rule=\"evenodd\" fill-opacity=\"1\" /><path clip-path=\"url(#clip470)\" d=\"M 0 0 M2067.51 48.0275 L2067.51 51.6733 L2033.23 51.6733 Q2033.72 59.3701 2037.85 63.421 Q2042.03 67.4314 2049.44 67.4314 Q2053.73 67.4314 2057.74 66.3781 Q2061.79 65.3249 2065.76 63.2184 L2065.76 70.267 Q2061.75 71.9684 2057.54 72.8596 Q2053.33 73.7508 2048.99 73.7508 Q2038.14 73.7508 2031.78 67.4314 Q2025.46 61.1119 2025.46 50.3365 Q2025.46 39.1965 2031.45 32.6746 Q2037.49 26.1121 2047.7 26.1121 Q2056.85 26.1121 2062.16 32.0264 Q2067.51 37.9003 2067.51 48.0275 M2060.05 45.84 Q2059.97 39.7232 2056.61 36.0774 Q2053.29 32.4315 2047.78 32.4315 Q2041.54 32.4315 2037.77 35.9558 Q2034.05 39.4801 2033.48 45.8805 L2060.05 45.84 Z\" fill=\"#000000\" fill-rule=\"evenodd\" fill-opacity=\"1\" /><path clip-path=\"url(#clip470)\" d=\"M 0 0 M2101.61 34.1734 Q2100.36 33.4443 2098.86 33.1202 Q2097.4 32.7556 2095.62 32.7556 Q2089.3 32.7556 2085.9 36.8875 Q2082.53 40.9789 2082.53 48.6757 L2082.53 72.576 L2075.04 72.576 L2075.04 27.2059 L2082.53 27.2059 L2082.53 34.2544 Q2084.88 30.1225 2088.65 28.1376 Q2092.42 26.1121 2097.81 26.1121 Q2098.58 26.1121 2099.51 26.2337 Q2100.44 26.3147 2101.57 26.5172 L2101.61 34.1734 Z\" fill=\"#000000\" fill-rule=\"evenodd\" fill-opacity=\"1\" /><path clip-path=\"url(#clip470)\" d=\"M 0 0 M2146.42 48.0275 L2146.42 51.6733 L2112.15 51.6733 Q2112.63 59.3701 2116.76 63.421 Q2120.94 67.4314 2128.35 67.4314 Q2132.64 67.4314 2136.65 66.3781 Q2140.71 65.3249 2144.68 63.2184 L2144.68 70.267 Q2140.66 71.9684 2136.45 72.8596 Q2132.24 73.7508 2127.9 73.7508 Q2117.05 73.7508 2110.69 67.4314 Q2104.37 61.1119 2104.37 50.3365 Q2104.37 39.1965 2110.36 32.6746 Q2116.4 26.1121 2126.61 26.1121 Q2135.76 26.1121 2141.07 32.0264 Q2146.42 37.9003 2146.42 48.0275 M2138.96 45.84 Q2138.88 39.7232 2135.52 36.0774 Q2132.2 32.4315 2126.69 32.4315 Q2120.45 32.4315 2116.68 35.9558 Q2112.96 39.4801 2112.39 45.8805 L2138.96 45.84 Z\" fill=\"#000000\" fill-rule=\"evenodd\" fill-opacity=\"1\" /><path clip-path=\"url(#clip470)\" d=\"M 0 0 M2191.95 45.1919 L2191.95 72.576 L2184.5 72.576 L2184.5 45.4349 Q2184.5 38.994 2181.98 35.7938 Q2179.47 32.5936 2174.45 32.5936 Q2168.41 32.5936 2164.93 36.4419 Q2161.45 40.2903 2161.45 46.9338 L2161.45 72.576 L2153.95 72.576 L2153.95 27.2059 L2161.45 27.2059 L2161.45 34.2544 Q2164.12 30.163 2167.72 28.1376 Q2171.37 26.1121 2176.11 26.1121 Q2183.93 26.1121 2187.94 30.9732 Q2191.95 35.7938 2191.95 45.1919 Z\" fill=\"#000000\" fill-rule=\"evenodd\" fill-opacity=\"1\" /><path clip-path=\"url(#clip470)\" d=\"M 0 0 M2232.42 28.9478 L2232.42 35.9153 Q2229.26 34.1734 2226.06 33.3227 Q2222.9 32.4315 2219.66 32.4315 Q2212.41 32.4315 2208.4 37.0496 Q2204.39 41.6271 2204.39 49.9314 Q2204.39 58.2358 2208.4 62.8538 Q2212.41 67.4314 2219.66 67.4314 Q2222.9 67.4314 2226.06 66.5807 Q2229.26 65.6895 2232.42 63.9476 L2232.42 70.8341 Q2229.3 72.2924 2225.94 73.0216 Q2222.61 73.7508 2218.85 73.7508 Q2208.6 73.7508 2202.56 67.3098 Q2196.53 60.8689 2196.53 49.9314 Q2196.53 38.832 2202.6 32.472 Q2208.72 26.1121 2219.33 26.1121 Q2222.78 26.1121 2226.06 26.8413 Q2229.34 27.5299 2232.42 28.9478 Z\" fill=\"#000000\" fill-rule=\"evenodd\" fill-opacity=\"1\" /><path clip-path=\"url(#clip470)\" d=\"M 0 0 M2279.04 48.0275 L2279.04 51.6733 L2244.77 51.6733 Q2245.26 59.3701 2249.39 63.421 Q2253.56 67.4314 2260.98 67.4314 Q2265.27 67.4314 2269.28 66.3781 Q2273.33 65.3249 2277.3 63.2184 L2277.3 70.267 Q2273.29 71.9684 2269.08 72.8596 Q2264.87 73.7508 2260.53 73.7508 Q2249.67 73.7508 2243.31 67.4314 Q2237 61.1119 2237 50.3365 Q2237 39.1965 2242.99 32.6746 Q2249.03 26.1121 2259.23 26.1121 Q2268.39 26.1121 2273.7 32.0264 Q2279.04 37.9003 2279.04 48.0275 M2271.59 45.84 Q2271.51 39.7232 2268.15 36.0774 Q2264.83 32.4315 2259.32 32.4315 Q2253.08 32.4315 2249.31 35.9558 Q2245.58 39.4801 2245.02 45.8805 L2271.59 45.84 Z\" fill=\"#000000\" fill-rule=\"evenodd\" fill-opacity=\"1\" /><path clip-path=\"url(#clip470)\" d=\"M 0 0 M1061.74 1513.81 L1061.74 1550.76 L1069.51 1550.76 Q1079.34 1550.76 1083.89 1546.3 Q1088.48 1541.85 1088.48 1532.24 Q1088.48 1522.69 1083.89 1518.26 Q1079.34 1513.81 1069.51 1513.81 L1061.74 1513.81 M1055.31 1508.52 L1068.52 1508.52 Q1082.33 1508.52 1088.8 1514.28 Q1095.26 1520.01 1095.26 1532.24 Q1095.26 1544.52 1088.76 1550.28 Q1082.27 1556.04 1068.52 1556.04 L1055.31 1556.04 L1055.31 1508.52 Z\" fill=\"#000000\" fill-rule=\"evenodd\" fill-opacity=\"1\" /><path clip-path=\"url(#clip470)\" d=\"M 0 0 M1101.4 1520.4 L1107.26 1520.4 L1107.26 1556.04 L1101.4 1556.04 L1101.4 1520.4 M1101.4 1506.52 L1107.26 1506.52 L1107.26 1513.93 L1101.4 1513.93 L1101.4 1506.52 Z\" fill=\"#000000\" fill-rule=\"evenodd\" fill-opacity=\"1\" /><path clip-path=\"url(#clip470)\" d=\"M 0 0 M1109.2 1520.4 L1115.4 1520.4 L1126.54 1550.31 L1137.68 1520.4 L1143.89 1520.4 L1130.52 1556.04 L1122.57 1556.04 L1109.2 1520.4 Z\" fill=\"#000000\" fill-rule=\"evenodd\" fill-opacity=\"1\" /><path clip-path=\"url(#clip470)\" d=\"M 0 0 M1180.53 1536.76 L1180.53 1539.62 L1153.6 1539.62 Q1153.98 1545.67 1157.23 1548.85 Q1160.51 1552 1166.33 1552 Q1169.7 1552 1172.85 1551.17 Q1176.04 1550.35 1179.16 1548.69 L1179.16 1554.23 Q1176.01 1555.57 1172.7 1556.27 Q1169.39 1556.97 1165.98 1556.97 Q1157.45 1556.97 1152.45 1552 Q1147.49 1547.04 1147.49 1538.57 Q1147.49 1529.82 1152.2 1524.69 Q1156.94 1519.54 1164.96 1519.54 Q1172.15 1519.54 1176.32 1524.18 Q1180.53 1528.8 1180.53 1536.76 M1174.67 1535.04 Q1174.61 1530.23 1171.96 1527.37 Q1169.35 1524.5 1165.02 1524.5 Q1160.12 1524.5 1157.16 1527.27 Q1154.23 1530.04 1153.79 1535.07 L1174.67 1535.04 Z\" fill=\"#000000\" fill-rule=\"evenodd\" fill-opacity=\"1\" /><path clip-path=\"url(#clip470)\" d=\"M 0 0 M1207.32 1525.87 Q1206.34 1525.3 1205.16 1525.04 Q1204.01 1524.76 1202.61 1524.76 Q1197.65 1524.76 1194.98 1528 Q1192.33 1531.22 1192.33 1537.27 L1192.33 1556.04 L1186.45 1556.04 L1186.45 1520.4 L1192.33 1520.4 L1192.33 1525.93 Q1194.18 1522.69 1197.14 1521.13 Q1200.1 1519.54 1204.33 1519.54 Q1204.94 1519.54 1205.67 1519.63 Q1206.4 1519.7 1207.29 1519.85 L1207.32 1525.87 Z\" fill=\"#000000\" fill-rule=\"evenodd\" fill-opacity=\"1\" /><path clip-path=\"url(#clip470)\" d=\"M 0 0 M1236.19 1521.45 L1236.19 1526.98 Q1233.71 1525.71 1231.04 1525.07 Q1228.36 1524.44 1225.5 1524.44 Q1221.14 1524.44 1218.94 1525.77 Q1216.78 1527.11 1216.78 1529.79 Q1216.78 1531.82 1218.34 1533 Q1219.9 1534.15 1224.61 1535.2 L1226.61 1535.64 Q1232.85 1536.98 1235.46 1539.43 Q1238.1 1541.85 1238.1 1546.21 Q1238.1 1551.17 1234.16 1554.07 Q1230.24 1556.97 1223.37 1556.97 Q1220.5 1556.97 1217.38 1556.39 Q1214.3 1555.85 1210.86 1554.74 L1210.86 1548.69 Q1214.1 1550.38 1217.26 1551.24 Q1220.41 1552.07 1223.49 1552.07 Q1227.63 1552.07 1229.86 1550.66 Q1232.09 1549.23 1232.09 1546.65 Q1232.09 1544.27 1230.46 1542.99 Q1228.87 1541.72 1223.43 1540.54 L1221.39 1540.07 Q1215.95 1538.92 1213.53 1536.56 Q1211.11 1534.18 1211.11 1530.04 Q1211.11 1525.01 1214.68 1522.27 Q1218.24 1519.54 1224.8 1519.54 Q1228.05 1519.54 1230.91 1520.01 Q1233.77 1520.49 1236.19 1521.45 Z\" fill=\"#000000\" fill-rule=\"evenodd\" fill-opacity=\"1\" /><path clip-path=\"url(#clip470)\" d=\"M 0 0 M1244.25 1520.4 L1250.1 1520.4 L1250.1 1556.04 L1244.25 1556.04 L1244.25 1520.4 M1244.25 1506.52 L1250.1 1506.52 L1250.1 1513.93 L1244.25 1513.93 L1244.25 1506.52 Z\" fill=\"#000000\" fill-rule=\"evenodd\" fill-opacity=\"1\" /><path clip-path=\"url(#clip470)\" d=\"M 0 0 M1262.04 1510.27 L1262.04 1520.4 L1274.1 1520.4 L1274.1 1524.95 L1262.04 1524.95 L1262.04 1544.3 Q1262.04 1548.66 1263.22 1549.9 Q1264.43 1551.14 1268.09 1551.14 L1274.1 1551.14 L1274.1 1556.04 L1268.09 1556.04 Q1261.31 1556.04 1258.73 1553.53 Q1256.15 1550.98 1256.15 1544.3 L1256.15 1524.95 L1251.85 1524.95 L1251.85 1520.4 L1256.15 1520.4 L1256.15 1510.27 L1262.04 1510.27 Z\" fill=\"#000000\" fill-rule=\"evenodd\" fill-opacity=\"1\" /><path clip-path=\"url(#clip470)\" d=\"M 0 0 M1295.08 1559.35 Q1292.59 1565.72 1290.24 1567.66 Q1287.88 1569.6 1283.94 1569.6 L1279.26 1569.6 L1279.26 1564.7 L1282.69 1564.7 Q1285.11 1564.7 1286.45 1563.56 Q1287.79 1562.41 1289.41 1558.14 L1290.46 1555.47 L1276.04 1520.4 L1282.25 1520.4 L1293.39 1548.28 L1304.53 1520.4 L1310.74 1520.4 L1295.08 1559.35 Z\" fill=\"#000000\" fill-rule=\"evenodd\" fill-opacity=\"1\" /><path clip-path=\"url(#clip470)\" d=\"M 0 0 M1366.34 1510.08 L1366.34 1516.35 Q1362.68 1514.6 1359.43 1513.74 Q1356.19 1512.88 1353.16 1512.88 Q1347.91 1512.88 1345.05 1514.92 Q1342.21 1516.96 1342.21 1520.71 Q1342.21 1523.87 1344.09 1525.49 Q1346 1527.08 1351.29 1528.07 L1355.17 1528.86 Q1362.36 1530.23 1365.77 1533.7 Q1369.2 1537.14 1369.2 1542.93 Q1369.2 1549.84 1364.56 1553.4 Q1359.94 1556.97 1351 1556.97 Q1347.63 1556.97 1343.81 1556.2 Q1340.02 1555.44 1335.94 1553.94 L1335.94 1547.32 Q1339.86 1549.52 1343.61 1550.63 Q1347.37 1551.75 1351 1551.75 Q1356.51 1551.75 1359.5 1549.58 Q1362.49 1547.42 1362.49 1543.41 Q1362.49 1539.91 1360.32 1537.93 Q1358.19 1535.96 1353.29 1534.97 L1349.38 1534.21 Q1342.18 1532.78 1338.97 1529.72 Q1335.75 1526.67 1335.75 1521.22 Q1335.75 1514.92 1340.18 1511.29 Q1344.63 1507.66 1352.43 1507.66 Q1355.77 1507.66 1359.24 1508.27 Q1362.71 1508.87 1366.34 1510.08 Z\" fill=\"#000000\" fill-rule=\"evenodd\" fill-opacity=\"1\" /><path clip-path=\"url(#clip470)\" d=\"M 0 0 M1401 1521.76 L1401 1527.24 Q1398.52 1525.87 1396 1525.2 Q1393.52 1524.5 1390.98 1524.5 Q1385.28 1524.5 1382.13 1528.13 Q1378.98 1531.73 1378.98 1538.25 Q1378.98 1544.78 1382.13 1548.4 Q1385.28 1552 1390.98 1552 Q1393.52 1552 1396 1551.33 Q1398.52 1550.63 1401 1549.26 L1401 1554.68 Q1398.55 1555.82 1395.91 1556.39 Q1393.3 1556.97 1390.34 1556.97 Q1382.29 1556.97 1377.54 1551.91 Q1372.8 1546.85 1372.8 1538.25 Q1372.8 1529.53 1377.58 1524.53 Q1382.38 1519.54 1390.72 1519.54 Q1393.43 1519.54 1396 1520.11 Q1398.58 1520.65 1401 1521.76 Z\" fill=\"#000000\" fill-rule=\"evenodd\" fill-opacity=\"1\" /><path clip-path=\"url(#clip470)\" d=\"M 0 0 M1420.96 1524.5 Q1416.25 1524.5 1413.51 1528.19 Q1410.77 1531.85 1410.77 1538.25 Q1410.77 1544.65 1413.48 1548.34 Q1416.22 1552 1420.96 1552 Q1425.64 1552 1428.37 1548.31 Q1431.11 1544.62 1431.11 1538.25 Q1431.11 1531.92 1428.37 1528.23 Q1425.64 1524.5 1420.96 1524.5 M1420.96 1519.54 Q1428.6 1519.54 1432.96 1524.5 Q1437.32 1529.47 1437.32 1538.25 Q1437.32 1547 1432.96 1552 Q1428.6 1556.97 1420.96 1556.97 Q1413.29 1556.97 1408.93 1552 Q1404.6 1547 1404.6 1538.25 Q1404.6 1529.47 1408.93 1524.5 Q1413.29 1519.54 1420.96 1519.54 Z\" fill=\"#000000\" fill-rule=\"evenodd\" fill-opacity=\"1\" /><path clip-path=\"url(#clip470)\" d=\"M 0 0 M1464.12 1525.87 Q1463.13 1525.3 1461.95 1525.04 Q1460.81 1524.76 1459.41 1524.76 Q1454.44 1524.76 1451.77 1528 Q1449.13 1531.22 1449.13 1537.27 L1449.13 1556.04 L1443.24 1556.04 L1443.24 1520.4 L1449.13 1520.4 L1449.13 1525.93 Q1450.97 1522.69 1453.93 1521.13 Q1456.89 1519.54 1461.13 1519.54 Q1461.73 1519.54 1462.46 1519.63 Q1463.19 1519.7 1464.09 1519.85 L1464.12 1525.87 Z\" fill=\"#000000\" fill-rule=\"evenodd\" fill-opacity=\"1\" /><path clip-path=\"url(#clip470)\" d=\"M 0 0 M1499.32 1536.76 L1499.32 1539.62 L1472.39 1539.62 Q1472.77 1545.67 1476.02 1548.85 Q1479.3 1552 1485.12 1552 Q1488.5 1552 1491.65 1551.17 Q1494.83 1550.35 1497.95 1548.69 L1497.95 1554.23 Q1494.8 1555.57 1491.49 1556.27 Q1488.18 1556.97 1484.77 1556.97 Q1476.24 1556.97 1471.25 1552 Q1466.28 1547.04 1466.28 1538.57 Q1466.28 1529.82 1470.99 1524.69 Q1475.73 1519.54 1483.76 1519.54 Q1490.95 1519.54 1495.12 1524.18 Q1499.32 1528.8 1499.32 1536.76 M1493.46 1535.04 Q1493.4 1530.23 1490.76 1527.37 Q1488.15 1524.5 1483.82 1524.5 Q1478.92 1524.5 1475.96 1527.27 Q1473.03 1530.04 1472.58 1535.07 L1493.46 1535.04 Z\" fill=\"#000000\" fill-rule=\"evenodd\" fill-opacity=\"1\" /><polyline clip-path=\"url(#clip472)\" style=\"stroke:#009af9; stroke-width:4; stroke-opacity:1; fill:none\" points=\"\n",
       "  306.469,1386.4 315.094,1386.39 323.72,1386.39 332.346,1386.39 340.971,1386.38 349.597,1386.37 358.223,1386.36 366.848,1386.33 375.474,1386.29 384.1,1386.24 \n",
       "  392.725,1386.16 401.351,1386.06 409.977,1385.92 418.602,1385.74 427.228,1385.51 435.854,1385.25 444.479,1384.94 453.105,1384.59 461.731,1384.22 470.356,1383.84 \n",
       "  478.982,1383.47 487.608,1383.12 496.233,1382.81 504.859,1382.56 513.485,1382.36 522.11,1382.21 530.736,1382.09 539.362,1381.97 547.987,1381.81 556.613,1381.57 \n",
       "  565.239,1381.21 573.864,1380.69 582.49,1379.98 591.116,1379.09 599.741,1378.03 608.367,1376.82 616.993,1375.51 625.618,1374.16 634.244,1372.83 642.87,1371.56 \n",
       "  651.495,1370.35 660.121,1369.18 668.747,1367.97 677.373,1366.59 685.998,1364.89 694.624,1362.64 703.25,1359.66 711.875,1355.76 720.501,1350.82 729.127,1344.79 \n",
       "  737.752,1337.77 746.378,1329.95 755.004,1321.65 763.629,1313.3 772.255,1305.36 780.881,1298.26 789.506,1292.35 798.132,1287.83 806.758,1284.66 815.383,1282.58 \n",
       "  824.009,1281.05 832.635,1279.37 841.26,1276.67 849.886,1272.07 858.512,1264.82 867.137,1254.38 875.763,1240.53 884.389,1223.5 893.014,1203.95 901.64,1182.94 \n",
       "  910.266,1161.81 918.891,1142.1 927.517,1125.26 936.143,1112.52 944.768,1104.65 953.394,1101.85 962.02,1103.67 970.645,1109.01 979.271,1116.25 987.897,1123.42 \n",
       "  996.522,1128.45 1005.15,1129.42 1013.77,1124.85 1022.4,1113.9 1031.02,1096.52 1039.65,1073.47 1048.28,1046.33 1056.9,1017.23 1065.53,988.676 1074.15,963.194 \n",
       "  1082.78,942.986 1091.4,929.628 1100.03,923.829 1108.66,925.304 1117.28,932.79 1125.91,944.191 1134.53,956.857 1143.16,967.946 1151.78,974.822 1160.41,975.443 \n",
       "  1169.04,968.667 1177.66,954.444 1186.29,933.857 1194.91,909.007 1203.54,882.746 1212.16,858.31 1220.79,838.886 1229.42,827.18 1238.04,825.057 1246.67,833.294 \n",
       "  1255.29,851.485 1263.92,878.115 1272.54,910.778 1281.17,946.508 1289.79,982.171 1298.42,1014.87 1307.05,1042.26 1315.67,1062.86 1324.3,1076.12 1332.92,1082.43 \n",
       "  1341.55,1083.03 1350.17,1079.77 1358.8,1074.8 1367.43,1070.3 1376.05,1068.19 1384.68,1069.87 1393.3,1076.08 1401.93,1086.86 1410.55,1101.57 1419.18,1119.06 \n",
       "  1427.81,1137.84 1436.43,1156.32 1445.06,1173.02 1453.68,1186.81 1462.31,1196.99 1470.93,1203.41 1479.56,1206.42 1488.19,1206.81 1496.81,1205.68 1505.44,1204.28 \n",
       "  1514.06,1203.8 1522.69,1205.27 1531.31,1209.4 1539.94,1216.52 1548.56,1226.6 1557.19,1239.24 1565.82,1253.79 1574.44,1269.42 1583.07,1285.3 1591.69,1300.62 \n",
       "  1600.32,1314.72 1608.94,1327.15 1617.57,1337.66 1626.2,1346.2 1634.82,1352.88 1643.45,1357.94 1652.07,1361.68 1660.7,1364.44 1669.32,1366.52 1677.95,1368.18 \n",
       "  1686.58,1369.64 1695.2,1371.01 1703.83,1372.38 1712.45,1373.75 1721.08,1375.11 1729.7,1376.41 1738.33,1377.6 1746.96,1378.66 1755.58,1379.55 1764.21,1380.26 \n",
       "  1772.83,1380.8 1781.46,1381.21 1790.08,1381.52 1798.71,1381.76 1807.33,1381.98 1815.96,1382.2 1824.59,1382.45 1833.21,1382.74 1841.84,1383.07 1850.46,1383.44 \n",
       "  1859.09,1383.82 1867.71,1384.21 1876.34,1384.58 1884.97,1384.93 1893.59,1385.24 1902.22,1385.51 1910.84,1385.74 1919.47,1385.92 1928.09,1386.06 1936.72,1386.16 \n",
       "  1945.35,1386.24 1953.97,1386.29 1962.6,1386.33 1971.22,1386.36 1979.85,1386.37 1988.47,1386.38 1997.1,1386.39 2005.73,1386.39 2014.35,1386.39 2022.98,1386.4 \n",
       "  \n",
       "  \"/>\n",
       "<polyline clip-path=\"url(#clip472)\" style=\"stroke:#e26f46; stroke-width:4; stroke-opacity:1; fill:none\" points=\"\n",
       "  262.75,1386.37 267.56,1386.35 272.37,1386.31 277.18,1386.23 281.99,1386.1 286.8,1385.89 291.611,1385.54 296.421,1385 301.231,1384.18 306.041,1382.99 \n",
       "  310.851,1381.3 315.661,1378.99 320.471,1375.93 325.282,1372.04 330.092,1367.25 334.902,1361.6 339.712,1355.18 344.522,1348.22 349.332,1341.02 354.142,1334.01 \n",
       "  358.953,1327.62 363.763,1322.33 368.573,1318.53 373.383,1316.56 378.193,1316.56 383.003,1318.54 387.813,1322.33 392.624,1327.61 397.434,1333.98 402.244,1340.94 \n",
       "  407.054,1348.04 411.864,1354.82 416.674,1360.92 421.484,1366.02 426.295,1369.87 431.105,1372.22 435.915,1372.85 440.725,1371.43 445.535,1367.57 450.345,1360.8 \n",
       "  455.155,1350.54 459.966,1336.2 464.776,1317.26 469.586,1293.36 474.396,1264.46 479.206,1230.97 484.016,1193.82 488.826,1154.54 493.637,1115.15 498.447,1078.08 \n",
       "  503.257,1045.91 508.067,1021.05 512.877,1005.52 517.687,1000.61 522.497,1006.72 527.308,1023.35 532.118,1049.09 536.928,1081.86 541.738,1119.19 546.548,1158.44 \n",
       "  551.358,1197.18 556.168,1233.26 560.979,1265.04 565.789,1291.28 570.599,1311.13 575.409,1323.93 580.219,1329.05 585.029,1325.72 589.839,1312.89 594.65,1289.25 \n",
       "  599.46,1253.27 604.27,1203.42 609.08,1138.46 613.89,1057.85 618.7,962.171 623.51,853.455 628.321,735.437 633.131,613.539 637.941,494.595 642.751,386.297 \n",
       "  647.561,296.41 652.371,231.869 657.181,197.901 661.992,197.325 666.802,230.167 671.612,293.662 676.422,382.627 681.232,490.159 686.042,608.503 690.852,729.941 \n",
       "  695.663,847.569 700.473,955.828 705.283,1050.76 710.093,1130 714.903,1192.48 719.713,1238.11 724.523,1267.26 729.334,1280.4 734.144,1277.79 738.954,1259.32 \n",
       "  743.764,1224.58 748.574,1173 753.384,1104.22 758.194,1018.53 763.005,917.305 767.815,803.352 772.625,681.121 777.435,556.65 782.245,437.225 787.055,330.767 \n",
       "  791.865,245.012 796.676,186.604 801.486,160.256 806.296,168.13 811.106,209.54 815.916,281.059 820.726,376.978 825.536,490.064 830.347,612.441 835.157,736.481 \n",
       "  839.967,855.531 844.777,964.412 849.587,1059.64 854.397,1139.35 859.207,1203.11 864.018,1251.45 868.828,1285.55 873.638,1306.79 878.448,1316.51 883.258,1315.78 \n",
       "  888.068,1305.44 892.878,1286.05 897.689,1258.16 902.499,1222.42 907.309,1179.83 912.119,1131.88 916.929,1080.69 921.739,1028.93 926.549,979.732 931.359,936.4 \n",
       "  936.17,902.095 940.98,879.46 945.79,870.302 950.6,875.355 955.41,894.186 960.22,925.26 965.03,966.142 969.841,1013.82 974.651,1065.05 979.461,1116.75 \n",
       "  984.271,1166.23 989.081,1211.45 993.891,1251.05 998.701,1284.36 1003.51,1311.3 1008.32,1332.2 1013.13,1347.68 1017.94,1358.49 1022.75,1365.36 1027.56,1368.96 \n",
       "  1032.37,1369.85 1037.18,1368.46 1041.99,1365.15 1046.8,1360.2 1051.61,1353.91 1056.42,1346.58 1061.23,1338.6 1066.04,1330.42 1070.85,1322.55 1075.66,1315.52 \n",
       "  1080.47,1309.86 1085.28,1305.98 1090.09,1304.21 1094.9,1304.68 1099.71,1307.35 1104.52,1312 1109.33,1318.27 1114.14,1325.69 1118.96,1333.76 1123.77,1341.99 \n",
       "  1128.58,1349.93 1133.39,1357.25 1138.2,1363.73 1143.01,1369.23 1147.82,1373.75 1152.63,1377.32 1157.44,1380.06 1162.25,1382.09 1167.06,1383.54 1171.87,1384.56 \n",
       "  1176.68,1385.24 1181.49,1385.69 1186.3,1385.98 1191.11,1386.15 1195.92,1386.26 1200.73,1386.32 1205.54,1386.36 1210.35,1386.37 1215.16,1386.38 1219.97,1386.38 \n",
       "  \n",
       "  \"/>\n",
       "<polyline clip-path=\"url(#clip472)\" style=\"stroke:#3da44d; stroke-width:4; stroke-opacity:1; fill:none\" points=\"\n",
       "  1096.31,1386.39 1102.32,1386.39 1108.33,1386.39 1114.33,1386.39 1120.34,1386.38 1126.35,1386.37 1132.36,1386.36 1138.36,1386.34 1144.37,1386.3 1150.38,1386.26 \n",
       "  1156.39,1386.19 1162.4,1386.1 1168.4,1385.97 1174.41,1385.81 1180.42,1385.59 1186.43,1385.33 1192.44,1385 1198.44,1384.61 1204.45,1384.15 1210.46,1383.61 \n",
       "  1216.47,1383.01 1222.48,1382.33 1228.48,1381.57 1234.49,1380.75 1240.5,1379.85 1246.51,1378.87 1252.52,1377.8 1258.52,1376.64 1264.53,1375.36 1270.54,1373.96 \n",
       "  1276.55,1372.42 1282.55,1370.73 1288.56,1368.9 1294.57,1366.92 1300.58,1364.81 1306.59,1362.6 1312.59,1360.33 1318.6,1358.03 1324.61,1355.76 1330.62,1353.56 \n",
       "  1336.63,1351.49 1342.63,1349.58 1348.64,1347.87 1354.65,1346.37 1360.66,1345.06 1366.67,1343.92 1372.67,1342.88 1378.68,1341.88 1384.69,1340.8 1390.7,1339.54 \n",
       "  1396.7,1337.97 1402.71,1335.97 1408.72,1333.42 1414.73,1330.24 1420.74,1326.36 1426.74,1321.75 1432.75,1316.4 1438.76,1310.37 1444.77,1303.72 1450.78,1296.57 \n",
       "  1456.78,1289.04 1462.79,1281.26 1468.8,1273.38 1474.81,1265.5 1480.82,1257.74 1486.82,1250.16 1492.83,1242.8 1498.84,1235.68 1504.85,1228.76 1510.85,1222 \n",
       "  1516.86,1215.34 1522.87,1208.7 1528.88,1202.02 1534.89,1195.23 1540.89,1188.26 1546.9,1181.08 1552.91,1173.65 1558.92,1165.92 1564.93,1157.87 1570.93,1149.46 \n",
       "  1576.94,1140.64 1582.95,1131.36 1588.96,1121.52 1594.97,1111.04 1600.97,1099.81 1606.98,1087.72 1612.99,1074.65 1619,1060.54 1625,1045.31 1631.01,1028.97 \n",
       "  1637.02,1011.58 1643.03,993.29 1649.04,974.31 1655.04,954.951 1661.05,935.592 1667.06,916.667 1673.07,898.643 1679.08,881.982 1685.08,867.108 1691.09,854.369 \n",
       "  1697.1,844.002 1703.11,836.11 1709.12,830.643 1715.12,827.403 1721.13,826.049 1727.14,826.135 1733.15,827.141 1739.16,828.523 1745.16,829.764 1751.17,830.419 \n",
       "  1757.18,830.155 1763.19,828.778 1769.19,826.243 1775.2,822.647 1781.21,818.21 1787.22,813.24 1793.23,808.089 1799.23,803.106 1805.24,798.599 1811.25,794.796 \n",
       "  1817.26,791.831 1823.27,789.738 1829.27,788.466 1835.28,787.904 1841.29,787.92 1847.3,788.4 1853.31,789.284 1859.31,790.593 1865.32,792.443 1871.33,795.042 \n",
       "  1877.34,798.669 1883.34,803.646 1889.35,810.294 1895.36,818.894 1901.37,829.652 1907.38,842.664 1913.38,857.906 1919.39,875.234 1925.4,894.391 1931.41,915.037 \n",
       "  1937.42,936.778 1943.42,959.199 1949.43,981.898 1955.44,1004.51 1961.45,1026.73 1967.46,1048.31 1973.46,1069.07 1979.47,1088.91 1985.48,1107.75 1991.49,1125.55 \n",
       "  1997.49,1142.32 2003.5,1158.06 2009.51,1172.79 2015.52,1186.54 2021.53,1199.33 2027.53,1211.23 2033.54,1222.28 2039.55,1232.59 2045.56,1242.23 2051.57,1251.33 \n",
       "  2057.57,1260 2063.58,1268.34 2069.59,1276.47 2075.6,1284.45 2081.61,1292.35 2087.61,1300.18 2093.62,1307.94 2099.63,1315.6 2105.64,1323.1 2111.64,1330.36 \n",
       "  2117.65,1337.31 2123.66,1343.88 2129.67,1350 2135.68,1355.61 2141.68,1360.68 2147.69,1365.19 2153.7,1369.13 2159.71,1372.53 2165.72,1375.41 2171.72,1377.81 \n",
       "  2177.73,1379.79 2183.74,1381.38 2189.75,1382.65 2195.76,1383.64 2201.76,1384.4 2207.77,1384.97 2213.78,1385.4 2219.79,1385.71 2225.8,1385.93 2231.8,1386.09 \n",
       "  2237.81,1386.19 2243.82,1386.27 2249.83,1386.31 2255.83,1386.35 2261.84,1386.37 2267.85,1386.38 2273.86,1386.39 2279.87,1386.39 2285.87,1386.39 2291.88,1386.39 \n",
       "  \n",
       "  \"/>\n",
       "<path clip-path=\"url(#clip470)\" d=\"\n",
       "M1675.02 448.912 L2280.76 448.912 L2280.76 206.992 L1675.02 206.992  Z\n",
       "  \" fill=\"#ffffff\" fill-rule=\"evenodd\" fill-opacity=\"1\"/>\n",
       "<polyline clip-path=\"url(#clip470)\" style=\"stroke:#000000; stroke-width:4; stroke-opacity:1; fill:none\" points=\"\n",
       "  1675.02,448.912 2280.76,448.912 2280.76,206.992 1675.02,206.992 1675.02,448.912 \n",
       "  \"/>\n",
       "<polyline clip-path=\"url(#clip470)\" style=\"stroke:#009af9; stroke-width:4; stroke-opacity:1; fill:none\" points=\"\n",
       "  1699.02,267.472 1843.02,267.472 \n",
       "  \"/>\n",
       "<path clip-path=\"url(#clip470)\" d=\"M 0 0 M1888.73 269.104 L1888.73 284.752 L1884.47 284.752 L1884.47 269.243 Q1884.47 265.562 1883.04 263.734 Q1881.6 261.905 1878.73 261.905 Q1875.28 261.905 1873.29 264.104 Q1871.3 266.303 1871.3 270.099 L1871.3 284.752 L1867.02 284.752 L1867.02 258.826 L1871.3 258.826 L1871.3 262.854 Q1872.83 260.516 1874.89 259.359 Q1876.97 258.201 1879.68 258.201 Q1884.15 258.201 1886.44 260.979 Q1888.73 263.734 1888.73 269.104 Z\" fill=\"#000000\" fill-rule=\"evenodd\" fill-opacity=\"1\" /><path clip-path=\"url(#clip470)\" d=\"M 0 0 M1914.75 269.104 L1914.75 284.752 L1910.49 284.752 L1910.49 269.243 Q1910.49 265.562 1909.05 263.734 Q1907.62 261.905 1904.75 261.905 Q1901.3 261.905 1899.31 264.104 Q1897.32 266.303 1897.32 270.099 L1897.32 284.752 L1893.04 284.752 L1893.04 248.734 L1897.32 248.734 L1897.32 262.854 Q1898.85 260.516 1900.91 259.359 Q1902.99 258.201 1905.7 258.201 Q1910.17 258.201 1912.46 260.979 Q1914.75 263.734 1914.75 269.104 Z\" fill=\"#000000\" fill-rule=\"evenodd\" fill-opacity=\"1\" /><path clip-path=\"url(#clip470)\" d=\"M 0 0 M1938.91 292.622 L1938.91 295.933 L1914.29 295.933 L1914.29 292.622 L1938.91 292.622 Z\" fill=\"#000000\" fill-rule=\"evenodd\" fill-opacity=\"1\" /><path clip-path=\"url(#clip470)\" d=\"M 0 0 M1959.91 259.59 L1959.91 263.618 Q1958.1 262.692 1956.16 262.229 Q1954.22 261.766 1952.13 261.766 Q1948.96 261.766 1947.36 262.738 Q1945.79 263.711 1945.79 265.655 Q1945.79 267.136 1946.92 267.993 Q1948.06 268.826 1951.48 269.59 L1952.94 269.914 Q1957.48 270.886 1959.38 272.669 Q1961.3 274.428 1961.3 277.599 Q1961.3 281.21 1958.43 283.317 Q1955.58 285.423 1950.58 285.423 Q1948.5 285.423 1946.23 285.007 Q1943.98 284.613 1941.48 283.803 L1941.48 279.405 Q1943.85 280.632 1946.14 281.257 Q1948.43 281.859 1950.67 281.859 Q1953.68 281.859 1955.3 280.84 Q1956.92 279.798 1956.92 277.923 Q1956.92 276.187 1955.74 275.261 Q1954.59 274.336 1950.63 273.479 L1949.15 273.132 Q1945.19 272.298 1943.43 270.586 Q1941.67 268.849 1941.67 265.84 Q1941.67 262.183 1944.26 260.192 Q1946.85 258.201 1951.62 258.201 Q1953.98 258.201 1956.07 258.549 Q1958.15 258.896 1959.91 259.59 Z\" fill=\"#000000\" fill-rule=\"evenodd\" fill-opacity=\"1\" /><path clip-path=\"url(#clip470)\" d=\"M 0 0 M1965.77 258.826 L1970.03 258.826 L1970.03 284.752 L1965.77 284.752 L1965.77 258.826 M1965.77 248.734 L1970.03 248.734 L1970.03 254.127 L1965.77 254.127 L1965.77 248.734 Z\" fill=\"#000000\" fill-rule=\"evenodd\" fill-opacity=\"1\" /><path clip-path=\"url(#clip470)\" d=\"M 0 0 M1972.64 258.826 L1992.87 258.826 L1992.87 262.715 L1976.85 281.349 L1992.87 281.349 L1992.87 284.752 L1972.06 284.752 L1972.06 280.863 L1988.08 262.229 L1972.64 262.229 L1972.64 258.826 Z\" fill=\"#000000\" fill-rule=\"evenodd\" fill-opacity=\"1\" /><path clip-path=\"url(#clip470)\" d=\"M 0 0 M2019.52 270.724 L2019.52 272.808 L1999.93 272.808 Q2000.21 277.206 2002.57 279.521 Q2004.96 281.812 2009.19 281.812 Q2011.65 281.812 2013.94 281.21 Q2016.25 280.609 2018.52 279.405 L2018.52 283.433 Q2016.23 284.405 2013.82 284.914 Q2011.41 285.423 2008.94 285.423 Q2002.73 285.423 1999.1 281.812 Q1995.49 278.201 1995.49 272.044 Q1995.49 265.678 1998.91 261.951 Q2002.36 258.201 2008.2 258.201 Q2013.43 258.201 2016.46 261.581 Q2019.52 264.937 2019.52 270.724 M2015.26 269.474 Q2015.21 265.979 2013.29 263.896 Q2011.39 261.812 2008.24 261.812 Q2004.68 261.812 2002.53 263.826 Q2000.4 265.84 2000.07 269.498 L2015.26 269.474 Z\" fill=\"#000000\" fill-rule=\"evenodd\" fill-opacity=\"1\" /><path clip-path=\"url(#clip470)\" d=\"M 0 0 M2024.54 263.224 L2054.22 263.224 L2054.22 267.113 L2024.54 267.113 L2024.54 263.224 M2024.54 272.669 L2054.22 272.669 L2054.22 276.604 L2024.54 276.604 L2024.54 272.669 Z\" fill=\"#000000\" fill-rule=\"evenodd\" fill-opacity=\"1\" /><path clip-path=\"url(#clip470)\" d=\"M 0 0 M2072.13 254.266 L2060.33 272.715 L2072.13 272.715 L2072.13 254.266 M2070.9 250.192 L2076.78 250.192 L2076.78 272.715 L2081.72 272.715 L2081.72 276.604 L2076.78 276.604 L2076.78 284.752 L2072.13 284.752 L2072.13 276.604 L2056.53 276.604 L2056.53 272.09 L2070.9 250.192 Z\" fill=\"#000000\" fill-rule=\"evenodd\" fill-opacity=\"1\" /><path clip-path=\"url(#clip470)\" d=\"M 0 0 M2087.27 278.873 L2092.15 278.873 L2092.15 282.854 L2088.36 290.261 L2085.37 290.261 L2087.27 282.854 L2087.27 278.873 Z\" fill=\"#000000\" fill-rule=\"evenodd\" fill-opacity=\"1\" /><path clip-path=\"url(#clip470)\" d=\"M 0 0 M2115.81 280.863 L2115.81 294.613 L2111.53 294.613 L2111.53 258.826 L2115.81 258.826 L2115.81 262.762 Q2117.15 260.447 2119.19 259.336 Q2121.25 258.201 2124.1 258.201 Q2128.82 258.201 2131.76 261.951 Q2134.72 265.701 2134.72 271.812 Q2134.72 277.923 2131.76 281.673 Q2128.82 285.423 2124.1 285.423 Q2121.25 285.423 2119.19 284.312 Q2117.15 283.178 2115.81 280.863 M2130.3 271.812 Q2130.3 267.113 2128.36 264.451 Q2126.44 261.766 2123.06 261.766 Q2119.68 261.766 2117.73 264.451 Q2115.81 267.113 2115.81 271.812 Q2115.81 276.511 2117.73 279.197 Q2119.68 281.859 2123.06 281.859 Q2126.44 281.859 2128.36 279.197 Q2130.3 276.511 2130.3 271.812 Z\" fill=\"#000000\" fill-rule=\"evenodd\" fill-opacity=\"1\" /><path clip-path=\"url(#clip470)\" d=\"M 0 0 M2139.75 263.224 L2169.42 263.224 L2169.42 267.113 L2139.75 267.113 L2139.75 263.224 M2139.75 272.669 L2169.42 272.669 L2169.42 276.604 L2139.75 276.604 L2139.75 272.669 Z\" fill=\"#000000\" fill-rule=\"evenodd\" fill-opacity=\"1\" /><path clip-path=\"url(#clip470)\" d=\"M 0 0 M2184.49 253.271 Q2180.88 253.271 2179.05 256.836 Q2177.25 260.377 2177.25 267.507 Q2177.25 274.613 2179.05 278.178 Q2180.88 281.72 2184.49 281.72 Q2188.13 281.72 2189.93 278.178 Q2191.76 274.613 2191.76 267.507 Q2191.76 260.377 2189.93 256.836 Q2188.13 253.271 2184.49 253.271 M2184.49 249.567 Q2190.3 249.567 2193.36 254.174 Q2196.44 258.757 2196.44 267.507 Q2196.44 276.234 2193.36 280.84 Q2190.3 285.423 2184.49 285.423 Q2178.68 285.423 2175.6 280.84 Q2172.55 276.234 2172.55 267.507 Q2172.55 258.757 2175.6 254.174 Q2178.68 249.567 2184.49 249.567 Z\" fill=\"#000000\" fill-rule=\"evenodd\" fill-opacity=\"1\" /><path clip-path=\"url(#clip470)\" d=\"M 0 0 M2201.51 278.873 L2206.39 278.873 L2206.39 284.752 L2201.51 284.752 L2201.51 278.873 Z\" fill=\"#000000\" fill-rule=\"evenodd\" fill-opacity=\"1\" /><path clip-path=\"url(#clip470)\" d=\"M 0 0 M2211.51 250.192 L2229.86 250.192 L2229.86 254.127 L2215.79 254.127 L2215.79 262.599 Q2216.81 262.252 2217.83 262.09 Q2218.84 261.905 2219.86 261.905 Q2225.65 261.905 2229.03 265.076 Q2232.41 268.248 2232.41 273.664 Q2232.41 279.243 2228.94 282.345 Q2225.46 285.423 2219.14 285.423 Q2216.97 285.423 2214.7 285.053 Q2212.46 284.683 2210.05 283.942 L2210.05 279.243 Q2212.13 280.377 2214.35 280.933 Q2216.58 281.488 2219.05 281.488 Q2223.06 281.488 2225.39 279.382 Q2227.73 277.275 2227.73 273.664 Q2227.73 270.053 2225.39 267.947 Q2223.06 265.84 2219.05 265.84 Q2217.18 265.84 2215.3 266.257 Q2213.45 266.674 2211.51 267.553 L2211.51 250.192 Z\" fill=\"#000000\" fill-rule=\"evenodd\" fill-opacity=\"1\" /><polyline clip-path=\"url(#clip470)\" style=\"stroke:#e26f46; stroke-width:4; stroke-opacity:1; fill:none\" points=\"\n",
       "  1699.02,327.952 1843.02,327.952 \n",
       "  \"/>\n",
       "<path clip-path=\"url(#clip470)\" d=\"M 0 0 M1888.73 329.584 L1888.73 345.232 L1884.47 345.232 L1884.47 329.723 Q1884.47 326.042 1883.04 324.214 Q1881.6 322.385 1878.73 322.385 Q1875.28 322.385 1873.29 324.584 Q1871.3 326.783 1871.3 330.579 L1871.3 345.232 L1867.02 345.232 L1867.02 319.306 L1871.3 319.306 L1871.3 323.334 Q1872.83 320.996 1874.89 319.839 Q1876.97 318.681 1879.68 318.681 Q1884.15 318.681 1886.44 321.459 Q1888.73 324.214 1888.73 329.584 Z\" fill=\"#000000\" fill-rule=\"evenodd\" fill-opacity=\"1\" /><path clip-path=\"url(#clip470)\" d=\"M 0 0 M1914.75 329.584 L1914.75 345.232 L1910.49 345.232 L1910.49 329.723 Q1910.49 326.042 1909.05 324.214 Q1907.62 322.385 1904.75 322.385 Q1901.3 322.385 1899.31 324.584 Q1897.32 326.783 1897.32 330.579 L1897.32 345.232 L1893.04 345.232 L1893.04 309.214 L1897.32 309.214 L1897.32 323.334 Q1898.85 320.996 1900.91 319.839 Q1902.99 318.681 1905.7 318.681 Q1910.17 318.681 1912.46 321.459 Q1914.75 324.214 1914.75 329.584 Z\" fill=\"#000000\" fill-rule=\"evenodd\" fill-opacity=\"1\" /><path clip-path=\"url(#clip470)\" d=\"M 0 0 M1938.91 353.102 L1938.91 356.413 L1914.29 356.413 L1914.29 353.102 L1938.91 353.102 Z\" fill=\"#000000\" fill-rule=\"evenodd\" fill-opacity=\"1\" /><path clip-path=\"url(#clip470)\" d=\"M 0 0 M1959.91 320.07 L1959.91 324.098 Q1958.1 323.172 1956.16 322.709 Q1954.22 322.246 1952.13 322.246 Q1948.96 322.246 1947.36 323.218 Q1945.79 324.191 1945.79 326.135 Q1945.79 327.616 1946.92 328.473 Q1948.06 329.306 1951.48 330.07 L1952.94 330.394 Q1957.48 331.366 1959.38 333.149 Q1961.3 334.908 1961.3 338.079 Q1961.3 341.69 1958.43 343.797 Q1955.58 345.903 1950.58 345.903 Q1948.5 345.903 1946.23 345.487 Q1943.98 345.093 1941.48 344.283 L1941.48 339.885 Q1943.85 341.112 1946.14 341.737 Q1948.43 342.339 1950.67 342.339 Q1953.68 342.339 1955.3 341.32 Q1956.92 340.278 1956.92 338.403 Q1956.92 336.667 1955.74 335.741 Q1954.59 334.816 1950.63 333.959 L1949.15 333.612 Q1945.19 332.778 1943.43 331.066 Q1941.67 329.329 1941.67 326.32 Q1941.67 322.663 1944.26 320.672 Q1946.85 318.681 1951.62 318.681 Q1953.98 318.681 1956.07 319.029 Q1958.15 319.376 1959.91 320.07 Z\" fill=\"#000000\" fill-rule=\"evenodd\" fill-opacity=\"1\" /><path clip-path=\"url(#clip470)\" d=\"M 0 0 M1965.77 319.306 L1970.03 319.306 L1970.03 345.232 L1965.77 345.232 L1965.77 319.306 M1965.77 309.214 L1970.03 309.214 L1970.03 314.607 L1965.77 314.607 L1965.77 309.214 Z\" fill=\"#000000\" fill-rule=\"evenodd\" fill-opacity=\"1\" /><path clip-path=\"url(#clip470)\" d=\"M 0 0 M1972.64 319.306 L1992.87 319.306 L1992.87 323.195 L1976.85 341.829 L1992.87 341.829 L1992.87 345.232 L1972.06 345.232 L1972.06 341.343 L1988.08 322.709 L1972.64 322.709 L1972.64 319.306 Z\" fill=\"#000000\" fill-rule=\"evenodd\" fill-opacity=\"1\" /><path clip-path=\"url(#clip470)\" d=\"M 0 0 M2019.52 331.204 L2019.52 333.288 L1999.93 333.288 Q2000.21 337.686 2002.57 340.001 Q2004.96 342.292 2009.19 342.292 Q2011.65 342.292 2013.94 341.69 Q2016.25 341.089 2018.52 339.885 L2018.52 343.913 Q2016.23 344.885 2013.82 345.394 Q2011.41 345.903 2008.94 345.903 Q2002.73 345.903 1999.1 342.292 Q1995.49 338.681 1995.49 332.524 Q1995.49 326.158 1998.91 322.431 Q2002.36 318.681 2008.2 318.681 Q2013.43 318.681 2016.46 322.061 Q2019.52 325.417 2019.52 331.204 M2015.26 329.954 Q2015.21 326.459 2013.29 324.376 Q2011.39 322.292 2008.24 322.292 Q2004.68 322.292 2002.53 324.306 Q2000.4 326.32 2000.07 329.978 L2015.26 329.954 Z\" fill=\"#000000\" fill-rule=\"evenodd\" fill-opacity=\"1\" /><path clip-path=\"url(#clip470)\" d=\"M 0 0 M2024.54 323.704 L2054.22 323.704 L2054.22 327.593 L2024.54 327.593 L2024.54 323.704 M2024.54 333.149 L2054.22 333.149 L2054.22 337.084 L2024.54 337.084 L2024.54 333.149 Z\" fill=\"#000000\" fill-rule=\"evenodd\" fill-opacity=\"1\" /><path clip-path=\"url(#clip470)\" d=\"M 0 0 M2069.28 328.82 Q2065.95 328.82 2064.03 330.603 Q2062.13 332.385 2062.13 335.51 Q2062.13 338.635 2064.03 340.417 Q2065.95 342.2 2069.28 342.2 Q2072.62 342.2 2074.54 340.417 Q2076.46 338.612 2076.46 335.51 Q2076.46 332.385 2074.54 330.603 Q2072.64 328.82 2069.28 328.82 M2064.61 326.829 Q2061.6 326.089 2059.91 324.029 Q2058.24 321.968 2058.24 319.005 Q2058.24 314.862 2061.18 312.455 Q2064.15 310.047 2069.28 310.047 Q2074.45 310.047 2077.39 312.455 Q2080.33 314.862 2080.33 319.005 Q2080.33 321.968 2078.64 324.029 Q2076.97 326.089 2073.98 326.829 Q2077.36 327.616 2079.24 329.908 Q2081.14 332.2 2081.14 335.51 Q2081.14 340.533 2078.06 343.218 Q2075 345.903 2069.28 345.903 Q2063.57 345.903 2060.49 343.218 Q2057.43 340.533 2057.43 335.51 Q2057.43 332.2 2059.33 329.908 Q2061.23 327.616 2064.61 326.829 M2062.9 319.445 Q2062.9 322.13 2064.56 323.635 Q2066.25 325.14 2069.28 325.14 Q2072.29 325.14 2073.98 323.635 Q2075.7 322.13 2075.7 319.445 Q2075.7 316.76 2073.98 315.255 Q2072.29 313.751 2069.28 313.751 Q2066.25 313.751 2064.56 315.255 Q2062.9 316.76 2062.9 319.445 Z\" fill=\"#000000\" fill-rule=\"evenodd\" fill-opacity=\"1\" /><path clip-path=\"url(#clip470)\" d=\"M 0 0 M2086.69 339.353 L2091.58 339.353 L2091.58 343.334 L2087.78 350.741 L2084.79 350.741 L2086.69 343.334 L2086.69 339.353 Z\" fill=\"#000000\" fill-rule=\"evenodd\" fill-opacity=\"1\" /><path clip-path=\"url(#clip470)\" d=\"M 0 0 M2115.23 341.343 L2115.23 355.093 L2110.95 355.093 L2110.95 319.306 L2115.23 319.306 L2115.23 323.242 Q2116.58 320.927 2118.61 319.816 Q2120.67 318.681 2123.52 318.681 Q2128.24 318.681 2131.18 322.431 Q2134.15 326.181 2134.15 332.292 Q2134.15 338.403 2131.18 342.153 Q2128.24 345.903 2123.52 345.903 Q2120.67 345.903 2118.61 344.792 Q2116.58 343.658 2115.23 341.343 M2129.72 332.292 Q2129.72 327.593 2127.78 324.931 Q2125.86 322.246 2122.48 322.246 Q2119.1 322.246 2117.15 324.931 Q2115.23 327.593 2115.23 332.292 Q2115.23 336.991 2117.15 339.677 Q2119.1 342.339 2122.48 342.339 Q2125.86 342.339 2127.78 339.677 Q2129.72 336.991 2129.72 332.292 Z\" fill=\"#000000\" fill-rule=\"evenodd\" fill-opacity=\"1\" /><path clip-path=\"url(#clip470)\" d=\"M 0 0 M2139.17 323.704 L2168.84 323.704 L2168.84 327.593 L2139.17 327.593 L2139.17 323.704 M2139.17 333.149 L2168.84 333.149 L2168.84 337.084 L2139.17 337.084 L2139.17 333.149 Z\" fill=\"#000000\" fill-rule=\"evenodd\" fill-opacity=\"1\" /><path clip-path=\"url(#clip470)\" d=\"M 0 0 M2183.91 313.751 Q2180.3 313.751 2178.47 317.316 Q2176.67 320.857 2176.67 327.987 Q2176.67 335.093 2178.47 338.658 Q2180.3 342.2 2183.91 342.2 Q2187.55 342.2 2189.35 338.658 Q2191.18 335.093 2191.18 327.987 Q2191.18 320.857 2189.35 317.316 Q2187.55 313.751 2183.91 313.751 M2183.91 310.047 Q2189.72 310.047 2192.78 314.654 Q2195.86 319.237 2195.86 327.987 Q2195.86 336.714 2192.78 341.32 Q2189.72 345.903 2183.91 345.903 Q2178.1 345.903 2175.02 341.32 Q2171.97 336.714 2171.97 327.987 Q2171.97 319.237 2175.02 314.654 Q2178.1 310.047 2183.91 310.047 Z\" fill=\"#000000\" fill-rule=\"evenodd\" fill-opacity=\"1\" /><path clip-path=\"url(#clip470)\" d=\"M 0 0 M2200.93 339.353 L2205.81 339.353 L2205.81 345.232 L2200.93 345.232 L2200.93 339.353 Z\" fill=\"#000000\" fill-rule=\"evenodd\" fill-opacity=\"1\" /><path clip-path=\"url(#clip470)\" d=\"M 0 0 M2210.93 310.672 L2229.28 310.672 L2229.28 314.607 L2215.21 314.607 L2215.21 323.079 Q2216.23 322.732 2217.25 322.57 Q2218.27 322.385 2219.28 322.385 Q2225.07 322.385 2228.45 325.556 Q2231.83 328.728 2231.83 334.144 Q2231.83 339.723 2228.36 342.825 Q2224.89 345.903 2218.57 345.903 Q2216.39 345.903 2214.12 345.533 Q2211.88 345.163 2209.47 344.422 L2209.47 339.723 Q2211.55 340.857 2213.77 341.413 Q2216 341.968 2218.47 341.968 Q2222.48 341.968 2224.82 339.862 Q2227.15 337.755 2227.15 334.144 Q2227.15 330.533 2224.82 328.427 Q2222.48 326.32 2218.47 326.32 Q2216.6 326.32 2214.72 326.737 Q2212.87 327.154 2210.93 328.033 L2210.93 310.672 Z\" fill=\"#000000\" fill-rule=\"evenodd\" fill-opacity=\"1\" /><polyline clip-path=\"url(#clip470)\" style=\"stroke:#3da44d; stroke-width:4; stroke-opacity:1; fill:none\" points=\"\n",
       "  1699.02,388.432 1843.02,388.432 \n",
       "  \"/>\n",
       "<path clip-path=\"url(#clip470)\" d=\"M 0 0 M1888.73 390.064 L1888.73 405.712 L1884.47 405.712 L1884.47 390.203 Q1884.47 386.522 1883.04 384.694 Q1881.6 382.865 1878.73 382.865 Q1875.28 382.865 1873.29 385.064 Q1871.3 387.263 1871.3 391.059 L1871.3 405.712 L1867.02 405.712 L1867.02 379.786 L1871.3 379.786 L1871.3 383.814 Q1872.83 381.476 1874.89 380.319 Q1876.97 379.161 1879.68 379.161 Q1884.15 379.161 1886.44 381.939 Q1888.73 384.694 1888.73 390.064 Z\" fill=\"#000000\" fill-rule=\"evenodd\" fill-opacity=\"1\" /><path clip-path=\"url(#clip470)\" d=\"M 0 0 M1914.75 390.064 L1914.75 405.712 L1910.49 405.712 L1910.49 390.203 Q1910.49 386.522 1909.05 384.694 Q1907.62 382.865 1904.75 382.865 Q1901.3 382.865 1899.31 385.064 Q1897.32 387.263 1897.32 391.059 L1897.32 405.712 L1893.04 405.712 L1893.04 369.694 L1897.32 369.694 L1897.32 383.814 Q1898.85 381.476 1900.91 380.319 Q1902.99 379.161 1905.7 379.161 Q1910.17 379.161 1912.46 381.939 Q1914.75 384.694 1914.75 390.064 Z\" fill=\"#000000\" fill-rule=\"evenodd\" fill-opacity=\"1\" /><path clip-path=\"url(#clip470)\" d=\"M 0 0 M1938.91 413.582 L1938.91 416.893 L1914.29 416.893 L1914.29 413.582 L1938.91 413.582 Z\" fill=\"#000000\" fill-rule=\"evenodd\" fill-opacity=\"1\" /><path clip-path=\"url(#clip470)\" d=\"M 0 0 M1959.91 380.55 L1959.91 384.578 Q1958.1 383.652 1956.16 383.189 Q1954.22 382.726 1952.13 382.726 Q1948.96 382.726 1947.36 383.698 Q1945.79 384.671 1945.79 386.615 Q1945.79 388.096 1946.92 388.953 Q1948.06 389.786 1951.48 390.55 L1952.94 390.874 Q1957.48 391.846 1959.38 393.629 Q1961.3 395.388 1961.3 398.559 Q1961.3 402.17 1958.43 404.277 Q1955.58 406.383 1950.58 406.383 Q1948.5 406.383 1946.23 405.967 Q1943.98 405.573 1941.48 404.763 L1941.48 400.365 Q1943.85 401.592 1946.14 402.217 Q1948.43 402.819 1950.67 402.819 Q1953.68 402.819 1955.3 401.8 Q1956.92 400.758 1956.92 398.883 Q1956.92 397.147 1955.74 396.221 Q1954.59 395.296 1950.63 394.439 L1949.15 394.092 Q1945.19 393.258 1943.43 391.546 Q1941.67 389.809 1941.67 386.8 Q1941.67 383.143 1944.26 381.152 Q1946.85 379.161 1951.62 379.161 Q1953.98 379.161 1956.07 379.509 Q1958.15 379.856 1959.91 380.55 Z\" fill=\"#000000\" fill-rule=\"evenodd\" fill-opacity=\"1\" /><path clip-path=\"url(#clip470)\" d=\"M 0 0 M1965.77 379.786 L1970.03 379.786 L1970.03 405.712 L1965.77 405.712 L1965.77 379.786 M1965.77 369.694 L1970.03 369.694 L1970.03 375.087 L1965.77 375.087 L1965.77 369.694 Z\" fill=\"#000000\" fill-rule=\"evenodd\" fill-opacity=\"1\" /><path clip-path=\"url(#clip470)\" d=\"M 0 0 M1972.64 379.786 L1992.87 379.786 L1992.87 383.675 L1976.85 402.309 L1992.87 402.309 L1992.87 405.712 L1972.06 405.712 L1972.06 401.823 L1988.08 383.189 L1972.64 383.189 L1972.64 379.786 Z\" fill=\"#000000\" fill-rule=\"evenodd\" fill-opacity=\"1\" /><path clip-path=\"url(#clip470)\" d=\"M 0 0 M2019.52 391.684 L2019.52 393.768 L1999.93 393.768 Q2000.21 398.166 2002.57 400.481 Q2004.96 402.772 2009.19 402.772 Q2011.65 402.772 2013.94 402.17 Q2016.25 401.569 2018.52 400.365 L2018.52 404.393 Q2016.23 405.365 2013.82 405.874 Q2011.41 406.383 2008.94 406.383 Q2002.73 406.383 1999.1 402.772 Q1995.49 399.161 1995.49 393.004 Q1995.49 386.638 1998.91 382.911 Q2002.36 379.161 2008.2 379.161 Q2013.43 379.161 2016.46 382.541 Q2019.52 385.897 2019.52 391.684 M2015.26 390.434 Q2015.21 386.939 2013.29 384.856 Q2011.39 382.772 2008.24 382.772 Q2004.68 382.772 2002.53 384.786 Q2000.4 386.8 2000.07 390.458 L2015.26 390.434 Z\" fill=\"#000000\" fill-rule=\"evenodd\" fill-opacity=\"1\" /><path clip-path=\"url(#clip470)\" d=\"M 0 0 M2024.54 384.184 L2054.22 384.184 L2054.22 388.073 L2024.54 388.073 L2024.54 384.184 M2024.54 393.629 L2054.22 393.629 L2054.22 397.564 L2024.54 397.564 L2024.54 393.629 Z\" fill=\"#000000\" fill-rule=\"evenodd\" fill-opacity=\"1\" /><path clip-path=\"url(#clip470)\" d=\"M 0 0 M2072.13 375.226 L2060.33 393.675 L2072.13 393.675 L2072.13 375.226 M2070.9 371.152 L2076.78 371.152 L2076.78 393.675 L2081.72 393.675 L2081.72 397.564 L2076.78 397.564 L2076.78 405.712 L2072.13 405.712 L2072.13 397.564 L2056.53 397.564 L2056.53 393.05 L2070.9 371.152 Z\" fill=\"#000000\" fill-rule=\"evenodd\" fill-opacity=\"1\" /><path clip-path=\"url(#clip470)\" d=\"M 0 0 M2087.27 399.833 L2092.15 399.833 L2092.15 403.814 L2088.36 411.221 L2085.37 411.221 L2087.27 403.814 L2087.27 399.833 Z\" fill=\"#000000\" fill-rule=\"evenodd\" fill-opacity=\"1\" /><path clip-path=\"url(#clip470)\" d=\"M 0 0 M2115.81 401.823 L2115.81 415.573 L2111.53 415.573 L2111.53 379.786 L2115.81 379.786 L2115.81 383.722 Q2117.15 381.407 2119.19 380.296 Q2121.25 379.161 2124.1 379.161 Q2128.82 379.161 2131.76 382.911 Q2134.72 386.661 2134.72 392.772 Q2134.72 398.883 2131.76 402.633 Q2128.82 406.383 2124.1 406.383 Q2121.25 406.383 2119.19 405.272 Q2117.15 404.138 2115.81 401.823 M2130.3 392.772 Q2130.3 388.073 2128.36 385.411 Q2126.44 382.726 2123.06 382.726 Q2119.68 382.726 2117.73 385.411 Q2115.81 388.073 2115.81 392.772 Q2115.81 397.471 2117.73 400.157 Q2119.68 402.819 2123.06 402.819 Q2126.44 402.819 2128.36 400.157 Q2130.3 397.471 2130.3 392.772 Z\" fill=\"#000000\" fill-rule=\"evenodd\" fill-opacity=\"1\" /><path clip-path=\"url(#clip470)\" d=\"M 0 0 M2139.75 384.184 L2169.42 384.184 L2169.42 388.073 L2139.75 388.073 L2139.75 384.184 M2139.75 393.629 L2169.42 393.629 L2169.42 397.564 L2139.75 397.564 L2139.75 393.629 Z\" fill=\"#000000\" fill-rule=\"evenodd\" fill-opacity=\"1\" /><path clip-path=\"url(#clip470)\" d=\"M 0 0 M2184.49 374.231 Q2180.88 374.231 2179.05 377.796 Q2177.25 381.337 2177.25 388.467 Q2177.25 395.573 2179.05 399.138 Q2180.88 402.68 2184.49 402.68 Q2188.13 402.68 2189.93 399.138 Q2191.76 395.573 2191.76 388.467 Q2191.76 381.337 2189.93 377.796 Q2188.13 374.231 2184.49 374.231 M2184.49 370.527 Q2190.3 370.527 2193.36 375.134 Q2196.44 379.717 2196.44 388.467 Q2196.44 397.194 2193.36 401.8 Q2190.3 406.383 2184.49 406.383 Q2178.68 406.383 2175.6 401.8 Q2172.55 397.194 2172.55 388.467 Q2172.55 379.717 2175.6 375.134 Q2178.68 370.527 2184.49 370.527 Z\" fill=\"#000000\" fill-rule=\"evenodd\" fill-opacity=\"1\" /><path clip-path=\"url(#clip470)\" d=\"M 0 0 M2201.51 399.833 L2206.39 399.833 L2206.39 405.712 L2201.51 405.712 L2201.51 399.833 Z\" fill=\"#000000\" fill-rule=\"evenodd\" fill-opacity=\"1\" /><path clip-path=\"url(#clip470)\" d=\"M 0 0 M2225.63 387.078 Q2228.98 387.796 2230.86 390.064 Q2232.76 392.333 2232.76 395.666 Q2232.76 400.782 2229.24 403.583 Q2225.72 406.383 2219.24 406.383 Q2217.06 406.383 2214.75 405.944 Q2212.46 405.527 2210 404.67 L2210 400.157 Q2211.95 401.291 2214.26 401.87 Q2216.58 402.448 2219.1 402.448 Q2223.5 402.448 2225.79 400.712 Q2228.1 398.976 2228.1 395.666 Q2228.1 392.61 2225.95 390.897 Q2223.82 389.161 2220 389.161 L2215.97 389.161 L2215.97 385.319 L2220.19 385.319 Q2223.64 385.319 2225.46 383.953 Q2227.29 382.564 2227.29 379.972 Q2227.29 377.31 2225.39 375.897 Q2223.52 374.462 2220 374.462 Q2218.08 374.462 2215.88 374.879 Q2213.68 375.296 2211.04 376.175 L2211.04 372.009 Q2213.71 371.268 2216.02 370.897 Q2218.36 370.527 2220.42 370.527 Q2225.74 370.527 2228.84 372.958 Q2231.95 375.365 2231.95 379.485 Q2231.95 382.356 2230.3 384.346 Q2228.66 386.314 2225.63 387.078 Z\" fill=\"#000000\" fill-rule=\"evenodd\" fill-opacity=\"1\" /></svg>\n"
      ]
     },
     "execution_count": 33,
     "metadata": {},
     "output_type": "execute_result"
    }
   ],
   "source": [
    "density(df.score, title=\"Diversity Scores with Varying NH Size and Preference\", xaxis=\"Diversity Score\", label=\"nh_size=4, p=0.5\")\n",
    "density!(df2.score, label=\"nh_size=8, p=0.5\")\n",
    "density!(df3.score, label=\"nh_size=4, p=0.3\")"
   ]
  },
  {
   "cell_type": "markdown",
   "metadata": {},
   "source": [
    "## Varying neighborhood composition"
   ]
  },
  {
   "cell_type": "code",
   "execution_count": 34,
   "metadata": {},
   "outputs": [],
   "source": [
    "experiment4 = [run_simulation(Dict(\"Stars\"=>50, \"Circle\"=>50), neighborhood_size=4, preference=0.5) for i in 1:500];\n",
    "df4 = get_metric.(experiment4) |> DataFrame\n",
    "rename!(df4, [\"frac_happy\", \"has_converged\", \"num_cycles\", \"score\"]);"
   ]
  },
  {
   "cell_type": "code",
   "execution_count": 35,
   "metadata": {},
   "outputs": [],
   "source": [
    "experiment5 = [run_simulation(Dict(\"Stars\"=>35, \"Circle\"=>65), neighborhood_size=4, preference=0.5) for i in 1:500];\n",
    "df5 = get_metric.(experiment5) |> DataFrame\n",
    "rename!(df5, [\"frac_happy\", \"has_converged\", \"num_cycles\", \"score\"]);"
   ]
  },
  {
   "cell_type": "code",
   "execution_count": 36,
   "metadata": {},
   "outputs": [],
   "source": [
    "experiment6 = [run_simulation(Dict(\"Stars\"=>20, \"Circle\"=>80), neighborhood_size=4, preference=0.5) for i in 1:500];\n",
    "df6 = get_metric.(experiment6) |> DataFrame\n",
    "rename!(df6, [\"frac_happy\", \"has_converged\", \"num_cycles\", \"score\"]);"
   ]
  },
  {
   "cell_type": "code",
   "execution_count": 37,
   "metadata": {},
   "outputs": [
    {
     "data": {
      "text/html": [
       "<table class=\"data-frame\"><thead><tr><th></th><th>variable</th><th>mean</th><th>min</th><th>median</th><th>max</th><th>nunique</th><th>nmissing</th><th>eltype</th></tr><tr><th></th><th>Symbol</th><th>Float64</th><th>Real</th><th>Float64</th><th>Real</th><th>Nothing</th><th>Nothing</th><th>DataType</th></tr></thead><tbody><p>4 rows × 8 columns</p><tr><th>1</th><td>frac_happy</td><td>0.9927</td><td>0.96</td><td>1.0</td><td>1.0</td><td></td><td></td><td>Float64</td></tr><tr><th>2</th><td>has_converged</td><td>0.57</td><td>0</td><td>1.0</td><td>1</td><td></td><td></td><td>Bool</td></tr><tr><th>3</th><td>num_cycles</td><td>2.512</td><td>1</td><td>2.0</td><td>5</td><td></td><td></td><td>Int64</td></tr><tr><th>4</th><td>score</td><td>66.4041</td><td>28.6224</td><td>65.415</td><td>101.748</td><td></td><td></td><td>Float64</td></tr></tbody></table>"
      ],
      "text/latex": [
       "\\begin{tabular}{r|cccccccc}\n",
       "\t& variable & mean & min & median & max & nunique & nmissing & eltype\\\\\n",
       "\t\\hline\n",
       "\t& Symbol & Float64 & Real & Float64 & Real & Nothing & Nothing & DataType\\\\\n",
       "\t\\hline\n",
       "\t1 & frac\\_happy & 0.9927 & 0.96 & 1.0 & 1.0 &  &  & Float64 \\\\\n",
       "\t2 & has\\_converged & 0.57 & 0 & 1.0 & 1 &  &  & Bool \\\\\n",
       "\t3 & num\\_cycles & 2.512 & 1 & 2.0 & 5 &  &  & Int64 \\\\\n",
       "\t4 & score & 66.4041 & 28.6224 & 65.415 & 101.748 &  &  & Float64 \\\\\n",
       "\\end{tabular}\n"
      ],
      "text/plain": [
       "4×8 DataFrame. Omitted printing of 2 columns\n",
       "│ Row │ variable      │ mean    │ min     │ median  │ max     │ nunique │\n",
       "│     │ \u001b[90mSymbol\u001b[39m        │ \u001b[90mFloat64\u001b[39m │ \u001b[90mReal\u001b[39m    │ \u001b[90mFloat64\u001b[39m │ \u001b[90mReal\u001b[39m    │ \u001b[90mNothing\u001b[39m │\n",
       "├─────┼───────────────┼─────────┼─────────┼─────────┼─────────┼─────────┤\n",
       "│ 1   │ frac_happy    │ 0.9927  │ 0.96    │ 1.0     │ 1.0     │         │\n",
       "│ 2   │ has_converged │ 0.57    │ 0       │ 1.0     │ 1       │         │\n",
       "│ 3   │ num_cycles    │ 2.512   │ 1       │ 2.0     │ 5       │         │\n",
       "│ 4   │ score         │ 66.4041 │ 28.6224 │ 65.415  │ 101.748 │         │"
      ]
     },
     "execution_count": 37,
     "metadata": {},
     "output_type": "execute_result"
    }
   ],
   "source": [
    "describe(df4)"
   ]
  },
  {
   "cell_type": "code",
   "execution_count": 38,
   "metadata": {},
   "outputs": [
    {
     "data": {
      "text/html": [
       "<table class=\"data-frame\"><thead><tr><th></th><th>variable</th><th>mean</th><th>min</th><th>median</th><th>max</th><th>nunique</th><th>nmissing</th><th>eltype</th></tr><tr><th></th><th>Symbol</th><th>Float64</th><th>Real</th><th>Float64</th><th>Real</th><th>Nothing</th><th>Nothing</th><th>DataType</th></tr></thead><tbody><p>4 rows × 8 columns</p><tr><th>1</th><td>frac_happy</td><td>0.99566</td><td>0.96</td><td>1.0</td><td>1.0</td><td></td><td></td><td>Float64</td></tr><tr><th>2</th><td>has_converged</td><td>0.72</td><td>0</td><td>1.0</td><td>1</td><td></td><td></td><td>Bool</td></tr><tr><th>3</th><td>num_cycles</td><td>2.15</td><td>1</td><td>2.0</td><td>5</td><td></td><td></td><td>Int64</td></tr><tr><th>4</th><td>score</td><td>50.854</td><td>21.4286</td><td>50.6054</td><td>79.7143</td><td></td><td></td><td>Float64</td></tr></tbody></table>"
      ],
      "text/latex": [
       "\\begin{tabular}{r|cccccccc}\n",
       "\t& variable & mean & min & median & max & nunique & nmissing & eltype\\\\\n",
       "\t\\hline\n",
       "\t& Symbol & Float64 & Real & Float64 & Real & Nothing & Nothing & DataType\\\\\n",
       "\t\\hline\n",
       "\t1 & frac\\_happy & 0.99566 & 0.96 & 1.0 & 1.0 &  &  & Float64 \\\\\n",
       "\t2 & has\\_converged & 0.72 & 0 & 1.0 & 1 &  &  & Bool \\\\\n",
       "\t3 & num\\_cycles & 2.15 & 1 & 2.0 & 5 &  &  & Int64 \\\\\n",
       "\t4 & score & 50.854 & 21.4286 & 50.6054 & 79.7143 &  &  & Float64 \\\\\n",
       "\\end{tabular}\n"
      ],
      "text/plain": [
       "4×8 DataFrame. Omitted printing of 2 columns\n",
       "│ Row │ variable      │ mean    │ min     │ median  │ max     │ nunique │\n",
       "│     │ \u001b[90mSymbol\u001b[39m        │ \u001b[90mFloat64\u001b[39m │ \u001b[90mReal\u001b[39m    │ \u001b[90mFloat64\u001b[39m │ \u001b[90mReal\u001b[39m    │ \u001b[90mNothing\u001b[39m │\n",
       "├─────┼───────────────┼─────────┼─────────┼─────────┼─────────┼─────────┤\n",
       "│ 1   │ frac_happy    │ 0.99566 │ 0.96    │ 1.0     │ 1.0     │         │\n",
       "│ 2   │ has_converged │ 0.72    │ 0       │ 1.0     │ 1       │         │\n",
       "│ 3   │ num_cycles    │ 2.15    │ 1       │ 2.0     │ 5       │         │\n",
       "│ 4   │ score         │ 50.854  │ 21.4286 │ 50.6054 │ 79.7143 │         │"
      ]
     },
     "execution_count": 38,
     "metadata": {},
     "output_type": "execute_result"
    }
   ],
   "source": [
    "describe(df5)"
   ]
  },
  {
   "cell_type": "code",
   "execution_count": 39,
   "metadata": {},
   "outputs": [
    {
     "data": {
      "text/html": [
       "<table class=\"data-frame\"><thead><tr><th></th><th>variable</th><th>mean</th><th>min</th><th>median</th><th>max</th><th>nunique</th><th>nmissing</th><th>eltype</th></tr><tr><th></th><th>Symbol</th><th>Float64</th><th>Real</th><th>Float64</th><th>Real</th><th>Nothing</th><th>Nothing</th><th>DataType</th></tr></thead><tbody><p>4 rows × 8 columns</p><tr><th>1</th><td>frac_happy</td><td>0.98818</td><td>0.8</td><td>1.0</td><td>1.0</td><td></td><td></td><td>Float64</td></tr><tr><th>2</th><td>has_converged</td><td>0.87</td><td>0</td><td>1.0</td><td>1</td><td></td><td></td><td>Bool</td></tr><tr><th>3</th><td>num_cycles</td><td>1.398</td><td>1</td><td>1.0</td><td>3</td><td></td><td></td><td>Int64</td></tr><tr><th>4</th><td>score</td><td>21.3991</td><td>7.14286</td><td>14.2857</td><td>80.0816</td><td></td><td></td><td>Float64</td></tr></tbody></table>"
      ],
      "text/latex": [
       "\\begin{tabular}{r|cccccccc}\n",
       "\t& variable & mean & min & median & max & nunique & nmissing & eltype\\\\\n",
       "\t\\hline\n",
       "\t& Symbol & Float64 & Real & Float64 & Real & Nothing & Nothing & DataType\\\\\n",
       "\t\\hline\n",
       "\t1 & frac\\_happy & 0.98818 & 0.8 & 1.0 & 1.0 &  &  & Float64 \\\\\n",
       "\t2 & has\\_converged & 0.87 & 0 & 1.0 & 1 &  &  & Bool \\\\\n",
       "\t3 & num\\_cycles & 1.398 & 1 & 1.0 & 3 &  &  & Int64 \\\\\n",
       "\t4 & score & 21.3991 & 7.14286 & 14.2857 & 80.0816 &  &  & Float64 \\\\\n",
       "\\end{tabular}\n"
      ],
      "text/plain": [
       "4×8 DataFrame. Omitted printing of 2 columns\n",
       "│ Row │ variable      │ mean    │ min     │ median  │ max     │ nunique │\n",
       "│     │ \u001b[90mSymbol\u001b[39m        │ \u001b[90mFloat64\u001b[39m │ \u001b[90mReal\u001b[39m    │ \u001b[90mFloat64\u001b[39m │ \u001b[90mReal\u001b[39m    │ \u001b[90mNothing\u001b[39m │\n",
       "├─────┼───────────────┼─────────┼─────────┼─────────┼─────────┼─────────┤\n",
       "│ 1   │ frac_happy    │ 0.98818 │ 0.8     │ 1.0     │ 1.0     │         │\n",
       "│ 2   │ has_converged │ 0.87    │ 0       │ 1.0     │ 1       │         │\n",
       "│ 3   │ num_cycles    │ 1.398   │ 1       │ 1.0     │ 3       │         │\n",
       "│ 4   │ score         │ 21.3991 │ 7.14286 │ 14.2857 │ 80.0816 │         │"
      ]
     },
     "execution_count": 39,
     "metadata": {},
     "output_type": "execute_result"
    }
   ],
   "source": [
    "describe(df6)"
   ]
  },
  {
   "cell_type": "code",
   "execution_count": 40,
   "metadata": {},
   "outputs": [
    {
     "data": {
      "image/svg+xml": [
       "<?xml version=\"1.0\" encoding=\"utf-8\"?>\n",
       "<svg xmlns=\"http://www.w3.org/2000/svg\" xmlns:xlink=\"http://www.w3.org/1999/xlink\" width=\"600\" height=\"400\" viewBox=\"0 0 2400 1600\">\n",
       "<defs>\n",
       "  <clipPath id=\"clip510\">\n",
       "    <rect x=\"0\" y=\"0\" width=\"2400\" height=\"1600\"/>\n",
       "  </clipPath>\n",
       "</defs>\n",
       "<path clip-path=\"url(#clip510)\" d=\"\n",
       "M0 1600 L2400 1600 L2400 0 L0 0  Z\n",
       "  \" fill=\"#ffffff\" fill-rule=\"evenodd\" fill-opacity=\"1\"/>\n",
       "<defs>\n",
       "  <clipPath id=\"clip511\">\n",
       "    <rect x=\"480\" y=\"0\" width=\"1681\" height=\"1600\"/>\n",
       "  </clipPath>\n",
       "</defs>\n",
       "<path clip-path=\"url(#clip510)\" d=\"\n",
       "M175.348 1423.18 L2352.76 1423.18 L2352.76 123.472 L175.348 123.472  Z\n",
       "  \" fill=\"#ffffff\" fill-rule=\"evenodd\" fill-opacity=\"1\"/>\n",
       "<defs>\n",
       "  <clipPath id=\"clip512\">\n",
       "    <rect x=\"175\" y=\"123\" width=\"2178\" height=\"1301\"/>\n",
       "  </clipPath>\n",
       "</defs>\n",
       "<polyline clip-path=\"url(#clip512)\" style=\"stroke:#000000; stroke-width:2; stroke-opacity:0.1; fill:none\" points=\"\n",
       "  305.869,1423.18 305.869,123.472 \n",
       "  \"/>\n",
       "<polyline clip-path=\"url(#clip512)\" style=\"stroke:#000000; stroke-width:2; stroke-opacity:0.1; fill:none\" points=\"\n",
       "  744.006,1423.18 744.006,123.472 \n",
       "  \"/>\n",
       "<polyline clip-path=\"url(#clip512)\" style=\"stroke:#000000; stroke-width:2; stroke-opacity:0.1; fill:none\" points=\"\n",
       "  1182.14,1423.18 1182.14,123.472 \n",
       "  \"/>\n",
       "<polyline clip-path=\"url(#clip512)\" style=\"stroke:#000000; stroke-width:2; stroke-opacity:0.1; fill:none\" points=\"\n",
       "  1620.28,1423.18 1620.28,123.472 \n",
       "  \"/>\n",
       "<polyline clip-path=\"url(#clip512)\" style=\"stroke:#000000; stroke-width:2; stroke-opacity:0.1; fill:none\" points=\"\n",
       "  2058.42,1423.18 2058.42,123.472 \n",
       "  \"/>\n",
       "<polyline clip-path=\"url(#clip512)\" style=\"stroke:#000000; stroke-width:2; stroke-opacity:0.1; fill:none\" points=\"\n",
       "  175.348,1386.4 2352.76,1386.4 \n",
       "  \"/>\n",
       "<polyline clip-path=\"url(#clip512)\" style=\"stroke:#000000; stroke-width:2; stroke-opacity:0.1; fill:none\" points=\"\n",
       "  175.348,1057.99 2352.76,1057.99 \n",
       "  \"/>\n",
       "<polyline clip-path=\"url(#clip512)\" style=\"stroke:#000000; stroke-width:2; stroke-opacity:0.1; fill:none\" points=\"\n",
       "  175.348,729.588 2352.76,729.588 \n",
       "  \"/>\n",
       "<polyline clip-path=\"url(#clip512)\" style=\"stroke:#000000; stroke-width:2; stroke-opacity:0.1; fill:none\" points=\"\n",
       "  175.348,401.184 2352.76,401.184 \n",
       "  \"/>\n",
       "<polyline clip-path=\"url(#clip510)\" style=\"stroke:#000000; stroke-width:4; stroke-opacity:1; fill:none\" points=\"\n",
       "  175.348,1423.18 2352.76,1423.18 \n",
       "  \"/>\n",
       "<polyline clip-path=\"url(#clip510)\" style=\"stroke:#000000; stroke-width:4; stroke-opacity:1; fill:none\" points=\"\n",
       "  175.348,1423.18 175.348,123.472 \n",
       "  \"/>\n",
       "<polyline clip-path=\"url(#clip510)\" style=\"stroke:#000000; stroke-width:4; stroke-opacity:1; fill:none\" points=\"\n",
       "  305.869,1423.18 305.869,1407.58 \n",
       "  \"/>\n",
       "<polyline clip-path=\"url(#clip510)\" style=\"stroke:#000000; stroke-width:4; stroke-opacity:1; fill:none\" points=\"\n",
       "  744.006,1423.18 744.006,1407.58 \n",
       "  \"/>\n",
       "<polyline clip-path=\"url(#clip510)\" style=\"stroke:#000000; stroke-width:4; stroke-opacity:1; fill:none\" points=\"\n",
       "  1182.14,1423.18 1182.14,1407.58 \n",
       "  \"/>\n",
       "<polyline clip-path=\"url(#clip510)\" style=\"stroke:#000000; stroke-width:4; stroke-opacity:1; fill:none\" points=\"\n",
       "  1620.28,1423.18 1620.28,1407.58 \n",
       "  \"/>\n",
       "<polyline clip-path=\"url(#clip510)\" style=\"stroke:#000000; stroke-width:4; stroke-opacity:1; fill:none\" points=\"\n",
       "  2058.42,1423.18 2058.42,1407.58 \n",
       "  \"/>\n",
       "<polyline clip-path=\"url(#clip510)\" style=\"stroke:#000000; stroke-width:4; stroke-opacity:1; fill:none\" points=\"\n",
       "  175.348,1386.4 201.477,1386.4 \n",
       "  \"/>\n",
       "<polyline clip-path=\"url(#clip510)\" style=\"stroke:#000000; stroke-width:4; stroke-opacity:1; fill:none\" points=\"\n",
       "  175.348,1057.99 201.477,1057.99 \n",
       "  \"/>\n",
       "<polyline clip-path=\"url(#clip510)\" style=\"stroke:#000000; stroke-width:4; stroke-opacity:1; fill:none\" points=\"\n",
       "  175.348,729.588 201.477,729.588 \n",
       "  \"/>\n",
       "<polyline clip-path=\"url(#clip510)\" style=\"stroke:#000000; stroke-width:4; stroke-opacity:1; fill:none\" points=\"\n",
       "  175.348,401.184 201.477,401.184 \n",
       "  \"/>\n",
       "<path clip-path=\"url(#clip510)\" d=\"M 0 0 M305.869 1445.17 Q302.258 1445.17 300.429 1448.74 Q298.623 1452.28 298.623 1459.41 Q298.623 1466.51 300.429 1470.08 Q302.258 1473.62 305.869 1473.62 Q309.503 1473.62 311.308 1470.08 Q313.137 1466.51 313.137 1459.41 Q313.137 1452.28 311.308 1448.74 Q309.503 1445.17 305.869 1445.17 M305.869 1441.47 Q311.679 1441.47 314.734 1446.07 Q317.813 1450.66 317.813 1459.41 Q317.813 1468.13 314.734 1472.74 Q311.679 1477.32 305.869 1477.32 Q300.059 1477.32 296.98 1472.74 Q293.924 1468.13 293.924 1459.41 Q293.924 1450.66 296.98 1446.07 Q300.059 1441.47 305.869 1441.47 Z\" fill=\"#000000\" fill-rule=\"evenodd\" fill-opacity=\"1\" /><path clip-path=\"url(#clip510)\" d=\"M 0 0 M725.65 1472.72 L741.969 1472.72 L741.969 1476.65 L720.025 1476.65 L720.025 1472.72 Q722.687 1469.96 727.27 1465.33 Q731.877 1460.68 733.057 1459.34 Q735.303 1456.81 736.182 1455.08 Q737.085 1453.32 737.085 1451.63 Q737.085 1448.87 735.141 1447.14 Q733.219 1445.4 730.117 1445.4 Q727.918 1445.4 725.465 1446.17 Q723.034 1446.93 720.256 1448.48 L720.256 1443.76 Q723.08 1442.62 725.534 1442.05 Q727.988 1441.47 730.025 1441.47 Q735.395 1441.47 738.59 1444.15 Q741.784 1446.84 741.784 1451.33 Q741.784 1453.46 740.974 1455.38 Q740.187 1457.28 738.08 1459.87 Q737.502 1460.54 734.4 1463.76 Q731.298 1466.95 725.65 1472.72 Z\" fill=\"#000000\" fill-rule=\"evenodd\" fill-opacity=\"1\" /><path clip-path=\"url(#clip510)\" d=\"M 0 0 M747.085 1442.09 L765.441 1442.09 L765.441 1446.03 L751.367 1446.03 L751.367 1454.5 Q752.386 1454.15 753.404 1453.99 Q754.423 1453.8 755.441 1453.8 Q761.228 1453.8 764.608 1456.98 Q767.988 1460.15 767.988 1465.56 Q767.988 1471.14 764.515 1474.24 Q761.043 1477.32 754.724 1477.32 Q752.548 1477.32 750.279 1476.95 Q748.034 1476.58 745.627 1475.84 L745.627 1471.14 Q747.71 1472.28 749.932 1472.83 Q752.154 1473.39 754.631 1473.39 Q758.636 1473.39 760.974 1471.28 Q763.312 1469.18 763.312 1465.56 Q763.312 1461.95 760.974 1459.85 Q758.636 1457.74 754.631 1457.74 Q752.756 1457.74 750.881 1458.16 Q749.029 1458.57 747.085 1459.45 L747.085 1442.09 Z\" fill=\"#000000\" fill-rule=\"evenodd\" fill-opacity=\"1\" /><path clip-path=\"url(#clip510)\" d=\"M 0 0 M1158.91 1442.09 L1177.27 1442.09 L1177.27 1446.03 L1163.2 1446.03 L1163.2 1454.5 Q1164.22 1454.15 1165.23 1453.99 Q1166.25 1453.8 1167.27 1453.8 Q1173.06 1453.8 1176.44 1456.98 Q1179.82 1460.15 1179.82 1465.56 Q1179.82 1471.14 1176.35 1474.24 Q1172.87 1477.32 1166.55 1477.32 Q1164.38 1477.32 1162.11 1476.95 Q1159.86 1476.58 1157.46 1475.84 L1157.46 1471.14 Q1159.54 1472.28 1161.76 1472.83 Q1163.98 1473.39 1166.46 1473.39 Q1170.47 1473.39 1172.8 1471.28 Q1175.14 1469.18 1175.14 1465.56 Q1175.14 1461.95 1172.8 1459.85 Q1170.47 1457.74 1166.46 1457.74 Q1164.59 1457.74 1162.71 1458.16 Q1160.86 1458.57 1158.91 1459.45 L1158.91 1442.09 Z\" fill=\"#000000\" fill-rule=\"evenodd\" fill-opacity=\"1\" /><path clip-path=\"url(#clip510)\" d=\"M 0 0 M1194.89 1445.17 Q1191.28 1445.17 1189.45 1448.74 Q1187.64 1452.28 1187.64 1459.41 Q1187.64 1466.51 1189.45 1470.08 Q1191.28 1473.62 1194.89 1473.62 Q1198.52 1473.62 1200.33 1470.08 Q1202.16 1466.51 1202.16 1459.41 Q1202.16 1452.28 1200.33 1448.74 Q1198.52 1445.17 1194.89 1445.17 M1194.89 1441.47 Q1200.7 1441.47 1203.75 1446.07 Q1206.83 1450.66 1206.83 1459.41 Q1206.83 1468.13 1203.75 1472.74 Q1200.7 1477.32 1194.89 1477.32 Q1189.08 1477.32 1186 1472.74 Q1182.94 1468.13 1182.94 1459.41 Q1182.94 1450.66 1186 1446.07 Q1189.08 1441.47 1194.89 1441.47 Z\" fill=\"#000000\" fill-rule=\"evenodd\" fill-opacity=\"1\" /><path clip-path=\"url(#clip510)\" d=\"M 0 0 M1596.16 1442.09 L1618.38 1442.09 L1618.38 1444.08 L1605.84 1476.65 L1600.95 1476.65 L1612.76 1446.03 L1596.16 1446.03 L1596.16 1442.09 Z\" fill=\"#000000\" fill-rule=\"evenodd\" fill-opacity=\"1\" /><path clip-path=\"url(#clip510)\" d=\"M 0 0 M1623.5 1442.09 L1641.86 1442.09 L1641.86 1446.03 L1627.78 1446.03 L1627.78 1454.5 Q1628.8 1454.15 1629.82 1453.99 Q1630.84 1453.8 1631.86 1453.8 Q1637.64 1453.8 1641.02 1456.98 Q1644.4 1460.15 1644.4 1465.56 Q1644.4 1471.14 1640.93 1474.24 Q1637.46 1477.32 1631.14 1477.32 Q1628.96 1477.32 1626.69 1476.95 Q1624.45 1476.58 1622.04 1475.84 L1622.04 1471.14 Q1624.12 1472.28 1626.35 1472.83 Q1628.57 1473.39 1631.05 1473.39 Q1635.05 1473.39 1637.39 1471.28 Q1639.73 1469.18 1639.73 1465.56 Q1639.73 1461.95 1637.39 1459.85 Q1635.05 1457.74 1631.05 1457.74 Q1629.17 1457.74 1627.3 1458.16 Q1625.44 1458.57 1623.5 1459.45 L1623.5 1442.09 Z\" fill=\"#000000\" fill-rule=\"evenodd\" fill-opacity=\"1\" /><path clip-path=\"url(#clip510)\" d=\"M 0 0 M2021.79 1472.72 L2029.43 1472.72 L2029.43 1446.35 L2021.12 1448.02 L2021.12 1443.76 L2029.38 1442.09 L2034.06 1442.09 L2034.06 1472.72 L2041.69 1472.72 L2041.69 1476.65 L2021.79 1476.65 L2021.79 1472.72 Z\" fill=\"#000000\" fill-rule=\"evenodd\" fill-opacity=\"1\" /><path clip-path=\"url(#clip510)\" d=\"M 0 0 M2056.76 1445.17 Q2053.15 1445.17 2051.32 1448.74 Q2049.52 1452.28 2049.52 1459.41 Q2049.52 1466.51 2051.32 1470.08 Q2053.15 1473.62 2056.76 1473.62 Q2060.4 1473.62 2062.2 1470.08 Q2064.03 1466.51 2064.03 1459.41 Q2064.03 1452.28 2062.2 1448.74 Q2060.4 1445.17 2056.76 1445.17 M2056.76 1441.47 Q2062.57 1441.47 2065.63 1446.07 Q2068.71 1450.66 2068.71 1459.41 Q2068.71 1468.13 2065.63 1472.74 Q2062.57 1477.32 2056.76 1477.32 Q2050.95 1477.32 2047.88 1472.74 Q2044.82 1468.13 2044.82 1459.41 Q2044.82 1450.66 2047.88 1446.07 Q2050.95 1441.47 2056.76 1441.47 Z\" fill=\"#000000\" fill-rule=\"evenodd\" fill-opacity=\"1\" /><path clip-path=\"url(#clip510)\" d=\"M 0 0 M2083.78 1445.17 Q2080.17 1445.17 2078.34 1448.74 Q2076.53 1452.28 2076.53 1459.41 Q2076.53 1466.51 2078.34 1470.08 Q2080.17 1473.62 2083.78 1473.62 Q2087.41 1473.62 2089.22 1470.08 Q2091.05 1466.51 2091.05 1459.41 Q2091.05 1452.28 2089.22 1448.74 Q2087.41 1445.17 2083.78 1445.17 M2083.78 1441.47 Q2089.59 1441.47 2092.64 1446.07 Q2095.72 1450.66 2095.72 1459.41 Q2095.72 1468.13 2092.64 1472.74 Q2089.59 1477.32 2083.78 1477.32 Q2077.97 1477.32 2074.89 1472.74 Q2071.83 1468.13 2071.83 1459.41 Q2071.83 1450.66 2074.89 1446.07 Q2077.97 1441.47 2083.78 1441.47 Z\" fill=\"#000000\" fill-rule=\"evenodd\" fill-opacity=\"1\" /><path clip-path=\"url(#clip510)\" d=\"M 0 0 M75.4226 1372.19 Q71.8115 1372.19 69.9828 1375.76 Q68.1773 1379.3 68.1773 1386.43 Q68.1773 1393.54 69.9828 1397.1 Q71.8115 1400.64 75.4226 1400.64 Q79.0569 1400.64 80.8624 1397.1 Q82.6911 1393.54 82.6911 1386.43 Q82.6911 1379.3 80.8624 1375.76 Q79.0569 1372.19 75.4226 1372.19 M75.4226 1368.49 Q81.2328 1368.49 84.2883 1373.1 Q87.367 1377.68 87.367 1386.43 Q87.367 1395.16 84.2883 1399.76 Q81.2328 1404.35 75.4226 1404.35 Q69.6125 1404.35 66.5338 1399.76 Q63.4782 1395.16 63.4782 1386.43 Q63.4782 1377.68 66.5338 1373.1 Q69.6125 1368.49 75.4226 1368.49 Z\" fill=\"#000000\" fill-rule=\"evenodd\" fill-opacity=\"1\" /><path clip-path=\"url(#clip510)\" d=\"M 0 0 M92.4364 1397.8 L97.3206 1397.8 L97.3206 1403.68 L92.4364 1403.68 L92.4364 1397.8 Z\" fill=\"#000000\" fill-rule=\"evenodd\" fill-opacity=\"1\" /><path clip-path=\"url(#clip510)\" d=\"M 0 0 M112.39 1372.19 Q108.779 1372.19 106.95 1375.76 Q105.145 1379.3 105.145 1386.43 Q105.145 1393.54 106.95 1397.1 Q108.779 1400.64 112.39 1400.64 Q116.024 1400.64 117.83 1397.1 Q119.658 1393.54 119.658 1386.43 Q119.658 1379.3 117.83 1375.76 Q116.024 1372.19 112.39 1372.19 M112.39 1368.49 Q118.2 1368.49 121.256 1373.1 Q124.334 1377.68 124.334 1386.43 Q124.334 1395.16 121.256 1399.76 Q118.2 1404.35 112.39 1404.35 Q106.58 1404.35 103.501 1399.76 Q100.446 1395.16 100.446 1386.43 Q100.446 1377.68 103.501 1373.1 Q106.58 1368.49 112.39 1368.49 Z\" fill=\"#000000\" fill-rule=\"evenodd\" fill-opacity=\"1\" /><path clip-path=\"url(#clip510)\" d=\"M 0 0 M139.404 1372.19 Q135.793 1372.19 133.964 1375.76 Q132.158 1379.3 132.158 1386.43 Q132.158 1393.54 133.964 1397.1 Q135.793 1400.64 139.404 1400.64 Q143.038 1400.64 144.844 1397.1 Q146.672 1393.54 146.672 1386.43 Q146.672 1379.3 144.844 1375.76 Q143.038 1372.19 139.404 1372.19 M139.404 1368.49 Q145.214 1368.49 148.269 1373.1 Q151.348 1377.68 151.348 1386.43 Q151.348 1395.16 148.269 1399.76 Q145.214 1404.35 139.404 1404.35 Q133.594 1404.35 130.515 1399.76 Q127.459 1395.16 127.459 1386.43 Q127.459 1377.68 130.515 1373.1 Q133.594 1368.49 139.404 1368.49 Z\" fill=\"#000000\" fill-rule=\"evenodd\" fill-opacity=\"1\" /><path clip-path=\"url(#clip510)\" d=\"M 0 0 M77.0198 1043.79 Q73.4087 1043.79 71.58 1047.36 Q69.7745 1050.9 69.7745 1058.03 Q69.7745 1065.13 71.58 1068.7 Q73.4087 1072.24 77.0198 1072.24 Q80.6541 1072.24 82.4596 1068.7 Q84.2883 1065.13 84.2883 1058.03 Q84.2883 1050.9 82.4596 1047.36 Q80.6541 1043.79 77.0198 1043.79 M77.0198 1040.09 Q82.83 1040.09 85.8855 1044.69 Q88.9642 1049.28 88.9642 1058.03 Q88.9642 1066.75 85.8855 1071.36 Q82.83 1075.94 77.0198 1075.94 Q71.2097 1075.94 68.131 1071.36 Q65.0754 1066.75 65.0754 1058.03 Q65.0754 1049.28 68.131 1044.69 Q71.2097 1040.09 77.0198 1040.09 Z\" fill=\"#000000\" fill-rule=\"evenodd\" fill-opacity=\"1\" /><path clip-path=\"url(#clip510)\" d=\"M 0 0 M94.0336 1069.39 L98.9179 1069.39 L98.9179 1075.27 L94.0336 1075.27 L94.0336 1069.39 Z\" fill=\"#000000\" fill-rule=\"evenodd\" fill-opacity=\"1\" /><path clip-path=\"url(#clip510)\" d=\"M 0 0 M113.987 1043.79 Q110.376 1043.79 108.547 1047.36 Q106.742 1050.9 106.742 1058.03 Q106.742 1065.13 108.547 1068.7 Q110.376 1072.24 113.987 1072.24 Q117.621 1072.24 119.427 1068.7 Q121.256 1065.13 121.256 1058.03 Q121.256 1050.9 119.427 1047.36 Q117.621 1043.79 113.987 1043.79 M113.987 1040.09 Q119.797 1040.09 122.853 1044.69 Q125.932 1049.28 125.932 1058.03 Q125.932 1066.75 122.853 1071.36 Q119.797 1075.94 113.987 1075.94 Q108.177 1075.94 105.098 1071.36 Q102.043 1066.75 102.043 1058.03 Q102.043 1049.28 105.098 1044.69 Q108.177 1040.09 113.987 1040.09 Z\" fill=\"#000000\" fill-rule=\"evenodd\" fill-opacity=\"1\" /><path clip-path=\"url(#clip510)\" d=\"M 0 0 M135.029 1071.34 L151.348 1071.34 L151.348 1075.27 L129.404 1075.27 L129.404 1071.34 Q132.066 1068.58 136.649 1063.95 Q141.256 1059.3 142.436 1057.96 Q144.682 1055.43 145.561 1053.7 Q146.464 1051.94 146.464 1050.25 Q146.464 1047.49 144.519 1045.76 Q142.598 1044.02 139.496 1044.02 Q137.297 1044.02 134.844 1044.79 Q132.413 1045.55 129.635 1047.1 L129.635 1042.38 Q132.459 1041.24 134.913 1040.67 Q137.367 1040.09 139.404 1040.09 Q144.774 1040.09 147.969 1042.77 Q151.163 1045.46 151.163 1049.95 Q151.163 1052.08 150.353 1054 Q149.566 1055.9 147.459 1058.49 Q146.881 1059.16 143.779 1062.38 Q140.677 1065.57 135.029 1071.34 Z\" fill=\"#000000\" fill-rule=\"evenodd\" fill-opacity=\"1\" /><path clip-path=\"url(#clip510)\" d=\"M 0 0 M74.9365 715.387 Q71.3254 715.387 69.4967 718.952 Q67.6912 722.493 67.6912 729.623 Q67.6912 736.729 69.4967 740.294 Q71.3254 743.836 74.9365 743.836 Q78.5707 743.836 80.3763 740.294 Q82.205 736.729 82.205 729.623 Q82.205 722.493 80.3763 718.952 Q78.5707 715.387 74.9365 715.387 M74.9365 711.683 Q80.7467 711.683 83.8022 716.29 Q86.8809 720.873 86.8809 729.623 Q86.8809 738.35 83.8022 742.956 Q80.7467 747.539 74.9365 747.539 Q69.1264 747.539 66.0477 742.956 Q62.9921 738.35 62.9921 729.623 Q62.9921 720.873 66.0477 716.29 Q69.1264 711.683 74.9365 711.683 Z\" fill=\"#000000\" fill-rule=\"evenodd\" fill-opacity=\"1\" /><path clip-path=\"url(#clip510)\" d=\"M 0 0 M91.9503 740.988 L96.8345 740.988 L96.8345 746.868 L91.9503 746.868 L91.9503 740.988 Z\" fill=\"#000000\" fill-rule=\"evenodd\" fill-opacity=\"1\" /><path clip-path=\"url(#clip510)\" d=\"M 0 0 M111.904 715.387 Q108.293 715.387 106.464 718.952 Q104.659 722.493 104.659 729.623 Q104.659 736.729 106.464 740.294 Q108.293 743.836 111.904 743.836 Q115.538 743.836 117.344 740.294 Q119.172 736.729 119.172 729.623 Q119.172 722.493 117.344 718.952 Q115.538 715.387 111.904 715.387 M111.904 711.683 Q117.714 711.683 120.77 716.29 Q123.848 720.873 123.848 729.623 Q123.848 738.35 120.77 742.956 Q117.714 747.539 111.904 747.539 Q106.094 747.539 103.015 742.956 Q99.9595 738.35 99.9595 729.623 Q99.9595 720.873 103.015 716.29 Q106.094 711.683 111.904 711.683 Z\" fill=\"#000000\" fill-rule=\"evenodd\" fill-opacity=\"1\" /><path clip-path=\"url(#clip510)\" d=\"M 0 0 M141.765 716.382 L129.959 734.831 L141.765 734.831 L141.765 716.382 M140.538 712.308 L146.418 712.308 L146.418 734.831 L151.348 734.831 L151.348 738.72 L146.418 738.72 L146.418 746.868 L141.765 746.868 L141.765 738.72 L126.163 738.72 L126.163 734.206 L140.538 712.308 Z\" fill=\"#000000\" fill-rule=\"evenodd\" fill-opacity=\"1\" /><path clip-path=\"url(#clip510)\" d=\"M 0 0 M75.2606 386.983 Q71.6495 386.983 69.8208 390.548 Q68.0152 394.089 68.0152 401.219 Q68.0152 408.325 69.8208 411.89 Q71.6495 415.432 75.2606 415.432 Q78.8948 415.432 80.7004 411.89 Q82.5291 408.325 82.5291 401.219 Q82.5291 394.089 80.7004 390.548 Q78.8948 386.983 75.2606 386.983 M75.2606 383.279 Q81.0707 383.279 84.1263 387.886 Q87.205 392.469 87.205 401.219 Q87.205 409.946 84.1263 414.552 Q81.0707 419.136 75.2606 419.136 Q69.4504 419.136 66.3717 414.552 Q63.3162 409.946 63.3162 401.219 Q63.3162 392.469 66.3717 387.886 Q69.4504 383.279 75.2606 383.279 Z\" fill=\"#000000\" fill-rule=\"evenodd\" fill-opacity=\"1\" /><path clip-path=\"url(#clip510)\" d=\"M 0 0 M92.2744 412.585 L97.1586 412.585 L97.1586 418.464 L92.2744 418.464 L92.2744 412.585 Z\" fill=\"#000000\" fill-rule=\"evenodd\" fill-opacity=\"1\" /><path clip-path=\"url(#clip510)\" d=\"M 0 0 M112.228 386.983 Q108.617 386.983 106.788 390.548 Q104.983 394.089 104.983 401.219 Q104.983 408.325 106.788 411.89 Q108.617 415.432 112.228 415.432 Q115.862 415.432 117.668 411.89 Q119.496 408.325 119.496 401.219 Q119.496 394.089 117.668 390.548 Q115.862 386.983 112.228 386.983 M112.228 383.279 Q118.038 383.279 121.094 387.886 Q124.172 392.469 124.172 401.219 Q124.172 409.946 121.094 414.552 Q118.038 419.136 112.228 419.136 Q106.418 419.136 103.339 414.552 Q100.284 409.946 100.284 401.219 Q100.284 392.469 103.339 387.886 Q106.418 383.279 112.228 383.279 Z\" fill=\"#000000\" fill-rule=\"evenodd\" fill-opacity=\"1\" /><path clip-path=\"url(#clip510)\" d=\"M 0 0 M139.82 399.321 Q136.672 399.321 134.82 401.474 Q132.992 403.626 132.992 407.376 Q132.992 411.103 134.82 413.279 Q136.672 415.432 139.82 415.432 Q142.969 415.432 144.797 413.279 Q146.649 411.103 146.649 407.376 Q146.649 403.626 144.797 401.474 Q142.969 399.321 139.82 399.321 M149.103 384.668 L149.103 388.927 Q147.344 388.094 145.538 387.654 Q143.756 387.214 141.996 387.214 Q137.367 387.214 134.913 390.339 Q132.482 393.464 132.135 399.784 Q133.501 397.77 135.561 396.705 Q137.621 395.617 140.098 395.617 Q145.306 395.617 148.316 398.788 Q151.348 401.937 151.348 407.376 Q151.348 412.7 148.2 415.918 Q145.052 419.136 139.82 419.136 Q133.825 419.136 130.654 414.552 Q127.483 409.946 127.483 401.219 Q127.483 393.025 131.371 388.163 Q135.26 383.279 141.811 383.279 Q143.57 383.279 145.353 383.626 Q147.158 383.974 149.103 384.668 Z\" fill=\"#000000\" fill-rule=\"evenodd\" fill-opacity=\"1\" /><path clip-path=\"url(#clip510)\" d=\"M 0 0 M401.918 18.8205 L401.918 65.8515 L411.803 65.8515 Q424.32 65.8515 430.113 60.1802 Q435.946 54.509 435.946 42.2752 Q435.946 30.1225 430.113 24.4918 Q424.32 18.8205 411.803 18.8205 L401.918 18.8205 M393.736 12.096 L410.547 12.096 Q428.128 12.096 436.351 19.4281 Q444.574 26.7198 444.574 42.2752 Q444.574 57.9117 436.311 65.2439 Q428.047 72.576 410.547 72.576 L393.736 72.576 L393.736 12.096 Z\" fill=\"#000000\" fill-rule=\"evenodd\" fill-opacity=\"1\" /><path clip-path=\"url(#clip510)\" d=\"M 0 0 M452.393 27.2059 L459.846 27.2059 L459.846 72.576 L452.393 72.576 L452.393 27.2059 M452.393 9.54393 L459.846 9.54393 L459.846 18.9825 L452.393 18.9825 L452.393 9.54393 Z\" fill=\"#000000\" fill-rule=\"evenodd\" fill-opacity=\"1\" /><path clip-path=\"url(#clip510)\" d=\"M 0 0 M462.317 27.2059 L470.217 27.2059 L484.395 65.2844 L498.573 27.2059 L506.472 27.2059 L489.458 72.576 L479.331 72.576 L462.317 27.2059 Z\" fill=\"#000000\" fill-rule=\"evenodd\" fill-opacity=\"1\" /><path clip-path=\"url(#clip510)\" d=\"M 0 0 M553.098 48.0275 L553.098 51.6733 L518.827 51.6733 Q519.314 59.3701 523.445 63.421 Q527.618 67.4314 535.031 67.4314 Q539.325 67.4314 543.335 66.3781 Q547.386 65.3249 551.356 63.2184 L551.356 70.267 Q547.346 71.9684 543.133 72.8596 Q538.92 73.7508 534.585 73.7508 Q523.729 73.7508 517.369 67.4314 Q511.05 61.1119 511.05 50.3365 Q511.05 39.1965 517.045 32.6746 Q523.081 26.1121 533.289 26.1121 Q542.444 26.1121 547.751 32.0264 Q553.098 37.9003 553.098 48.0275 M545.644 45.84 Q545.563 39.7232 542.201 36.0774 Q538.879 32.4315 533.37 32.4315 Q527.132 32.4315 523.364 35.9558 Q519.638 39.4801 519.07 45.8805 L545.644 45.84 Z\" fill=\"#000000\" fill-rule=\"evenodd\" fill-opacity=\"1\" /><path clip-path=\"url(#clip510)\" d=\"M 0 0 M587.207 34.1734 Q585.951 33.4443 584.452 33.1202 Q582.994 32.7556 581.211 32.7556 Q574.892 32.7556 571.489 36.8875 Q568.127 40.9789 568.127 48.6757 L568.127 72.576 L560.633 72.576 L560.633 27.2059 L568.127 27.2059 L568.127 34.2544 Q570.476 30.1225 574.244 28.1376 Q578.011 26.1121 583.399 26.1121 Q584.169 26.1121 585.1 26.2337 Q586.032 26.3147 587.166 26.5172 L587.207 34.1734 Z\" fill=\"#000000\" fill-rule=\"evenodd\" fill-opacity=\"1\" /><path clip-path=\"url(#clip510)\" d=\"M 0 0 M623.948 28.5427 L623.948 35.5912 Q620.789 33.9709 617.386 33.1607 Q613.983 32.3505 610.337 32.3505 Q604.788 32.3505 601.992 34.0519 Q599.238 35.7533 599.238 39.156 Q599.238 41.7486 601.223 43.2475 Q603.208 44.7058 609.203 46.0426 L611.755 46.6097 Q619.695 48.3111 623.017 51.4303 Q626.379 54.509 626.379 60.0587 Q626.379 66.3781 621.356 70.0644 Q616.373 73.7508 607.623 73.7508 Q603.977 73.7508 600.008 73.0216 Q596.078 72.3329 591.703 70.9151 L591.703 63.2184 Q595.835 65.3654 599.846 66.4591 Q603.856 67.5124 607.785 67.5124 Q613.051 67.5124 615.887 65.73 Q618.723 63.9071 618.723 60.6258 Q618.723 57.5877 616.657 55.9673 Q614.631 54.3469 607.704 52.8481 L605.112 52.2405 Q598.185 50.7821 595.106 47.7845 Q592.027 44.7463 592.027 39.4801 Q592.027 33.0797 596.564 29.5959 Q601.101 26.1121 609.446 26.1121 Q613.578 26.1121 617.224 26.7198 Q620.87 27.3274 623.948 28.5427 Z\" fill=\"#000000\" fill-rule=\"evenodd\" fill-opacity=\"1\" /><path clip-path=\"url(#clip510)\" d=\"M 0 0 M634.197 27.2059 L641.651 27.2059 L641.651 72.576 L634.197 72.576 L634.197 27.2059 M634.197 9.54393 L641.651 9.54393 L641.651 18.9825 L634.197 18.9825 L634.197 9.54393 Z\" fill=\"#000000\" fill-rule=\"evenodd\" fill-opacity=\"1\" /><path clip-path=\"url(#clip510)\" d=\"M 0 0 M656.842 14.324 L656.842 27.2059 L672.195 27.2059 L672.195 32.9987 L656.842 32.9987 L656.842 57.6282 Q656.842 63.1779 658.341 64.7578 Q659.88 66.3376 664.538 66.3376 L672.195 66.3376 L672.195 72.576 L664.538 72.576 Q655.91 72.576 652.629 69.3758 Q649.348 66.1351 649.348 57.6282 L649.348 32.9987 L643.879 32.9987 L643.879 27.2059 L649.348 27.2059 L649.348 14.324 L656.842 14.324 Z\" fill=\"#000000\" fill-rule=\"evenodd\" fill-opacity=\"1\" /><path clip-path=\"url(#clip510)\" d=\"M 0 0 M698.89 76.7889 Q695.73 84.8907 692.733 87.3618 Q689.735 89.8329 684.712 89.8329 L678.757 89.8329 L678.757 83.5945 L683.132 83.5945 Q686.211 83.5945 687.912 82.1361 Q689.614 80.6778 691.68 75.2496 L693.016 71.8468 L674.666 27.2059 L682.565 27.2059 L696.743 62.6918 L710.921 27.2059 L718.821 27.2059 L698.89 76.7889 Z\" fill=\"#000000\" fill-rule=\"evenodd\" fill-opacity=\"1\" /><path clip-path=\"url(#clip510)\" d=\"M 0 0 M789.59 14.0809 L789.59 22.0612 Q784.931 19.8332 780.799 18.7395 Q776.667 17.6457 772.819 17.6457 Q766.135 17.6457 762.489 20.2383 Q758.884 22.8309 758.884 27.611 Q758.884 31.6214 761.274 33.6873 Q763.705 35.7128 770.429 36.9686 L775.371 37.9813 Q784.526 39.7232 788.861 44.1387 Q793.236 48.5136 793.236 55.8863 Q793.236 64.6767 787.321 69.2137 Q781.448 73.7508 770.065 73.7508 Q765.771 73.7508 760.909 72.7785 Q756.089 71.8063 750.904 69.9024 L750.904 61.4765 Q755.886 64.2716 760.666 65.6895 Q765.446 67.1073 770.065 67.1073 Q777.073 67.1073 780.88 64.3527 Q784.688 61.598 784.688 56.4939 Q784.688 52.0379 781.934 49.5264 Q779.22 47.0148 772.981 45.759 L767.999 44.7868 Q758.844 42.9639 754.752 39.075 Q750.661 35.1862 750.661 28.2591 Q750.661 20.2383 756.291 15.6203 Q761.963 11.0023 771.887 11.0023 Q776.141 11.0023 780.556 11.7719 Q784.972 12.5416 789.59 14.0809 Z\" fill=\"#000000\" fill-rule=\"evenodd\" fill-opacity=\"1\" /><path clip-path=\"url(#clip510)\" d=\"M 0 0 M833.704 28.9478 L833.704 35.9153 Q830.545 34.1734 827.344 33.3227 Q824.185 32.4315 820.944 32.4315 Q813.693 32.4315 809.682 37.0496 Q805.672 41.6271 805.672 49.9314 Q805.672 58.2358 809.682 62.8538 Q813.693 67.4314 820.944 67.4314 Q824.185 67.4314 827.344 66.5807 Q830.545 65.6895 833.704 63.9476 L833.704 70.8341 Q830.585 72.2924 827.223 73.0216 Q823.901 73.7508 820.134 73.7508 Q809.885 73.7508 803.849 67.3098 Q797.813 60.8689 797.813 49.9314 Q797.813 38.832 803.89 32.472 Q810.006 26.1121 820.62 26.1121 Q824.063 26.1121 827.344 26.8413 Q830.626 27.5299 833.704 28.9478 Z\" fill=\"#000000\" fill-rule=\"evenodd\" fill-opacity=\"1\" /><path clip-path=\"url(#clip510)\" d=\"M 0 0 M859.103 32.4315 Q853.108 32.4315 849.624 37.1306 Q846.14 41.7891 846.14 49.9314 Q846.14 58.0738 849.584 62.7728 Q853.068 67.4314 859.103 67.4314 Q865.058 67.4314 868.542 62.7323 Q872.026 58.0333 872.026 49.9314 Q872.026 41.8701 868.542 37.1711 Q865.058 32.4315 859.103 32.4315 M859.103 26.1121 Q868.826 26.1121 874.375 32.4315 Q879.925 38.7509 879.925 49.9314 Q879.925 61.0714 874.375 67.4314 Q868.826 73.7508 859.103 73.7508 Q849.341 73.7508 843.791 67.4314 Q838.282 61.0714 838.282 49.9314 Q838.282 38.7509 843.791 32.4315 Q849.341 26.1121 859.103 26.1121 Z\" fill=\"#000000\" fill-rule=\"evenodd\" fill-opacity=\"1\" /><path clip-path=\"url(#clip510)\" d=\"M 0 0 M914.034 34.1734 Q912.778 33.4443 911.279 33.1202 Q909.821 32.7556 908.038 32.7556 Q901.719 32.7556 898.316 36.8875 Q894.954 40.9789 894.954 48.6757 L894.954 72.576 L887.46 72.576 L887.46 27.2059 L894.954 27.2059 L894.954 34.2544 Q897.303 30.1225 901.071 28.1376 Q904.838 26.1121 910.226 26.1121 Q910.995 26.1121 911.927 26.2337 Q912.859 26.3147 913.993 26.5172 L914.034 34.1734 Z\" fill=\"#000000\" fill-rule=\"evenodd\" fill-opacity=\"1\" /><path clip-path=\"url(#clip510)\" d=\"M 0 0 M958.837 48.0275 L958.837 51.6733 L924.566 51.6733 Q925.052 59.3701 929.184 63.421 Q933.356 67.4314 940.77 67.4314 Q945.064 67.4314 949.074 66.3781 Q953.125 65.3249 957.095 63.2184 L957.095 70.267 Q953.084 71.9684 948.871 72.8596 Q944.658 73.7508 940.324 73.7508 Q929.468 73.7508 923.108 67.4314 Q916.788 61.1119 916.788 50.3365 Q916.788 39.1965 922.784 32.6746 Q928.819 26.1121 939.028 26.1121 Q948.183 26.1121 953.489 32.0264 Q958.837 37.9003 958.837 48.0275 M951.383 45.84 Q951.302 39.7232 947.94 36.0774 Q944.618 32.4315 939.109 32.4315 Q932.87 32.4315 929.103 35.9558 Q925.376 39.4801 924.809 45.8805 L951.383 45.84 Z\" fill=\"#000000\" fill-rule=\"evenodd\" fill-opacity=\"1\" /><path clip-path=\"url(#clip510)\" d=\"M 0 0 M995.578 28.5427 L995.578 35.5912 Q992.419 33.9709 989.016 33.1607 Q985.613 32.3505 981.967 32.3505 Q976.418 32.3505 973.622 34.0519 Q970.868 35.7533 970.868 39.156 Q970.868 41.7486 972.853 43.2475 Q974.838 44.7058 980.833 46.0426 L983.385 46.6097 Q991.325 48.3111 994.647 51.4303 Q998.009 54.509 998.009 60.0587 Q998.009 66.3781 992.986 70.0644 Q988.003 73.7508 979.253 73.7508 Q975.607 73.7508 971.637 73.0216 Q967.708 72.3329 963.333 70.9151 L963.333 63.2184 Q967.465 65.3654 971.475 66.4591 Q975.486 67.5124 979.415 67.5124 Q984.681 67.5124 987.517 65.73 Q990.353 63.9071 990.353 60.6258 Q990.353 57.5877 988.287 55.9673 Q986.261 54.3469 979.334 52.8481 L976.742 52.2405 Q969.815 50.7821 966.736 47.7845 Q963.657 44.7463 963.657 39.4801 Q963.657 33.0797 968.194 29.5959 Q972.731 26.1121 981.076 26.1121 Q985.208 26.1121 988.854 26.7198 Q992.5 27.3274 995.578 28.5427 Z\" fill=\"#000000\" fill-rule=\"evenodd\" fill-opacity=\"1\" /><path clip-path=\"url(#clip510)\" d=\"M 0 0 M1027.86 27.2059 L1035.32 27.2059 L1044.63 62.6108 L1053.91 27.2059 L1062.7 27.2059 L1072.02 62.6108 L1081.3 27.2059 L1088.75 27.2059 L1076.88 72.576 L1068.09 72.576 L1058.33 35.3887 L1048.52 72.576 L1039.73 72.576 L1027.86 27.2059 Z\" fill=\"#000000\" fill-rule=\"evenodd\" fill-opacity=\"1\" /><path clip-path=\"url(#clip510)\" d=\"M 0 0 M1096.57 27.2059 L1104.02 27.2059 L1104.02 72.576 L1096.57 72.576 L1096.57 27.2059 M1096.57 9.54393 L1104.02 9.54393 L1104.02 18.9825 L1096.57 18.9825 L1096.57 9.54393 Z\" fill=\"#000000\" fill-rule=\"evenodd\" fill-opacity=\"1\" /><path clip-path=\"url(#clip510)\" d=\"M 0 0 M1119.21 14.324 L1119.21 27.2059 L1134.56 27.2059 L1134.56 32.9987 L1119.21 32.9987 L1119.21 57.6282 Q1119.21 63.1779 1120.71 64.7578 Q1122.25 66.3376 1126.91 66.3376 L1134.56 66.3376 L1134.56 72.576 L1126.91 72.576 Q1118.28 72.576 1115 69.3758 Q1111.72 66.1351 1111.72 57.6282 L1111.72 32.9987 L1106.25 32.9987 L1106.25 27.2059 L1111.72 27.2059 L1111.72 14.324 L1119.21 14.324 Z\" fill=\"#000000\" fill-rule=\"evenodd\" fill-opacity=\"1\" /><path clip-path=\"url(#clip510)\" d=\"M 0 0 M1180.1 45.1919 L1180.1 72.576 L1172.64 72.576 L1172.64 45.4349 Q1172.64 38.994 1170.13 35.7938 Q1167.62 32.5936 1162.6 32.5936 Q1156.56 32.5936 1153.08 36.4419 Q1149.59 40.2903 1149.59 46.9338 L1149.59 72.576 L1142.1 72.576 L1142.1 9.54393 L1149.59 9.54393 L1149.59 34.2544 Q1152.27 30.163 1155.87 28.1376 Q1159.52 26.1121 1164.26 26.1121 Q1172.08 26.1121 1176.09 30.9732 Q1180.1 35.7938 1180.1 45.1919 Z\" fill=\"#000000\" fill-rule=\"evenodd\" fill-opacity=\"1\" /><path clip-path=\"url(#clip510)\" d=\"M 0 0 M1230.21 72.576 L1207.12 12.096 L1215.66 12.096 L1234.82 63.0159 L1254.03 12.096 L1262.53 12.096 L1239.48 72.576 L1230.21 72.576 Z\" fill=\"#000000\" fill-rule=\"evenodd\" fill-opacity=\"1\" /><path clip-path=\"url(#clip510)\" d=\"M 0 0 M1284.53 49.7694 Q1275.5 49.7694 1272.01 51.8354 Q1268.53 53.9013 1268.53 58.8839 Q1268.53 62.8538 1271.12 65.2034 Q1273.75 67.5124 1278.25 67.5124 Q1284.45 67.5124 1288.18 63.1374 Q1291.94 58.7219 1291.94 51.4303 L1291.94 49.7694 L1284.53 49.7694 M1299.4 46.6907 L1299.4 72.576 L1291.94 72.576 L1291.94 65.6895 Q1289.39 69.8214 1285.58 71.8063 Q1281.77 73.7508 1276.27 73.7508 Q1269.3 73.7508 1265.17 69.8619 Q1261.07 65.9325 1261.07 59.3701 Q1261.07 51.7138 1266.18 47.825 Q1271.32 43.9361 1281.49 43.9361 L1291.94 43.9361 L1291.94 43.2069 Q1291.94 38.0623 1288.54 35.2672 Q1285.18 32.4315 1279.06 32.4315 Q1275.17 32.4315 1271.49 33.3632 Q1267.8 34.295 1264.4 36.1584 L1264.4 29.2718 Q1268.49 27.692 1272.34 26.9223 Q1276.18 26.1121 1279.83 26.1121 Q1289.67 26.1121 1294.54 31.2163 Q1299.4 36.3204 1299.4 46.6907 Z\" fill=\"#000000\" fill-rule=\"evenodd\" fill-opacity=\"1\" /><path clip-path=\"url(#clip510)\" d=\"M 0 0 M1333.5 34.1734 Q1332.25 33.4443 1330.75 33.1202 Q1329.29 32.7556 1327.51 32.7556 Q1321.19 32.7556 1317.79 36.8875 Q1314.43 40.9789 1314.43 48.6757 L1314.43 72.576 L1306.93 72.576 L1306.93 27.2059 L1314.43 27.2059 L1314.43 34.2544 Q1316.77 30.1225 1320.54 28.1376 Q1324.31 26.1121 1329.7 26.1121 Q1330.47 26.1121 1331.4 26.2337 Q1332.33 26.3147 1333.46 26.5172 L1333.5 34.1734 Z\" fill=\"#000000\" fill-rule=\"evenodd\" fill-opacity=\"1\" /><path clip-path=\"url(#clip510)\" d=\"M 0 0 M1360.2 76.7889 Q1357.04 84.8907 1354.04 87.3618 Q1351.05 89.8329 1346.02 89.8329 L1340.07 89.8329 L1340.07 83.5945 L1344.44 83.5945 Q1347.52 83.5945 1349.22 82.1361 Q1350.92 80.6778 1352.99 75.2496 L1354.33 71.8468 L1335.98 27.2059 L1343.88 27.2059 L1358.05 62.6918 L1372.23 27.2059 L1380.13 27.2059 L1360.2 76.7889 Z\" fill=\"#000000\" fill-rule=\"evenodd\" fill-opacity=\"1\" /><path clip-path=\"url(#clip510)\" d=\"M 0 0 M1387.95 27.2059 L1395.4 27.2059 L1395.4 72.576 L1387.95 72.576 L1387.95 27.2059 M1387.95 9.54393 L1395.4 9.54393 L1395.4 18.9825 L1387.95 18.9825 L1387.95 9.54393 Z\" fill=\"#000000\" fill-rule=\"evenodd\" fill-opacity=\"1\" /><path clip-path=\"url(#clip510)\" d=\"M 0 0 M1440.93 45.1919 L1440.93 72.576 L1433.48 72.576 L1433.48 45.4349 Q1433.48 38.994 1430.97 35.7938 Q1428.46 32.5936 1423.43 32.5936 Q1417.4 32.5936 1413.92 36.4419 Q1410.43 40.2903 1410.43 46.9338 L1410.43 72.576 L1402.94 72.576 L1402.94 27.2059 L1410.43 27.2059 L1410.43 34.2544 Q1413.11 30.163 1416.71 28.1376 Q1420.36 26.1121 1425.1 26.1121 Q1432.91 26.1121 1436.92 30.9732 Q1440.93 35.7938 1440.93 45.1919 Z\" fill=\"#000000\" fill-rule=\"evenodd\" fill-opacity=\"1\" /><path clip-path=\"url(#clip510)\" d=\"M 0 0 M1478.61 49.3643 Q1478.61 41.2625 1475.25 36.8065 Q1471.92 32.3505 1465.89 32.3505 Q1459.89 32.3505 1456.53 36.8065 Q1453.21 41.2625 1453.21 49.3643 Q1453.21 57.4256 1456.53 61.8816 Q1459.89 66.3376 1465.89 66.3376 Q1471.92 66.3376 1475.25 61.8816 Q1478.61 57.4256 1478.61 49.3643 M1486.06 66.9452 Q1486.06 78.5308 1480.92 84.1616 Q1475.77 89.8329 1465.16 89.8329 Q1461.23 89.8329 1457.75 89.2252 Q1454.26 88.6581 1450.98 87.4428 L1450.98 80.1917 Q1454.26 81.9741 1457.46 82.8248 Q1460.66 83.6755 1463.98 83.6755 Q1471.32 83.6755 1474.96 79.8271 Q1478.61 76.0193 1478.61 68.282 L1478.61 64.5957 Q1476.3 68.6061 1472.69 70.5911 Q1469.09 72.576 1464.07 72.576 Q1455.72 72.576 1450.62 66.2161 Q1445.51 59.8562 1445.51 49.3643 Q1445.51 38.832 1450.62 32.472 Q1455.72 26.1121 1464.07 26.1121 Q1469.09 26.1121 1472.69 28.0971 Q1476.3 30.082 1478.61 34.0924 L1478.61 27.2059 L1486.06 27.2059 L1486.06 66.9452 Z\" fill=\"#000000\" fill-rule=\"evenodd\" fill-opacity=\"1\" /><path clip-path=\"url(#clip510)\" d=\"M 0 0 M1528.76 18.8205 L1528.76 41.5461 L1539.05 41.5461 Q1544.76 41.5461 1547.88 38.5889 Q1551 35.6318 1551 30.163 Q1551 24.7348 1547.88 21.7777 Q1544.76 18.8205 1539.05 18.8205 L1528.76 18.8205 M1520.58 12.096 L1539.05 12.096 Q1549.22 12.096 1554.4 16.714 Q1559.63 21.2916 1559.63 30.163 Q1559.63 39.1155 1554.4 43.6931 Q1549.22 48.2706 1539.05 48.2706 L1528.76 48.2706 L1528.76 72.576 L1520.58 72.576 L1520.58 12.096 Z\" fill=\"#000000\" fill-rule=\"evenodd\" fill-opacity=\"1\" /><path clip-path=\"url(#clip510)\" d=\"M 0 0 M1582.07 32.4315 Q1576.07 32.4315 1572.59 37.1306 Q1569.11 41.7891 1569.11 49.9314 Q1569.11 58.0738 1572.55 62.7728 Q1576.03 67.4314 1582.07 67.4314 Q1588.02 67.4314 1591.51 62.7323 Q1594.99 58.0333 1594.99 49.9314 Q1594.99 41.8701 1591.51 37.1711 Q1588.02 32.4315 1582.07 32.4315 M1582.07 26.1121 Q1591.79 26.1121 1597.34 32.4315 Q1602.89 38.7509 1602.89 49.9314 Q1602.89 61.0714 1597.34 67.4314 Q1591.79 73.7508 1582.07 73.7508 Q1572.31 73.7508 1566.76 67.4314 Q1561.25 61.0714 1561.25 49.9314 Q1561.25 38.7509 1566.76 32.4315 Q1572.31 26.1121 1582.07 26.1121 Z\" fill=\"#000000\" fill-rule=\"evenodd\" fill-opacity=\"1\" /><path clip-path=\"url(#clip510)\" d=\"M 0 0 M1617.92 65.7705 L1617.92 89.8329 L1610.42 89.8329 L1610.42 27.2059 L1617.92 27.2059 L1617.92 34.0924 Q1620.27 30.0415 1623.83 28.0971 Q1627.44 26.1121 1632.42 26.1121 Q1640.68 26.1121 1645.83 32.6746 Q1651.01 39.2371 1651.01 49.9314 Q1651.01 60.6258 1645.83 67.1883 Q1640.68 73.7508 1632.42 73.7508 Q1627.44 73.7508 1623.83 71.8063 Q1620.27 69.8214 1617.92 65.7705 M1643.28 49.9314 Q1643.28 41.7081 1639.87 37.0496 Q1636.51 32.3505 1630.6 32.3505 Q1624.68 32.3505 1621.28 37.0496 Q1617.92 41.7081 1617.92 49.9314 Q1617.92 58.1548 1621.28 62.8538 Q1624.68 67.5124 1630.6 67.5124 Q1636.51 67.5124 1639.87 62.8538 Q1643.28 58.1548 1643.28 49.9314 Z\" fill=\"#000000\" fill-rule=\"evenodd\" fill-opacity=\"1\" /><path clip-path=\"url(#clip510)\" d=\"M 0 0 M1658.06 54.671 L1658.06 27.2059 L1665.52 27.2059 L1665.52 54.3874 Q1665.52 60.8284 1668.03 64.0691 Q1670.54 67.2693 1675.56 67.2693 Q1681.6 67.2693 1685.08 63.421 Q1688.61 59.5726 1688.61 52.9291 L1688.61 27.2059 L1696.06 27.2059 L1696.06 72.576 L1688.61 72.576 L1688.61 65.6084 Q1685.89 69.7404 1682.29 71.7658 Q1678.72 73.7508 1673.98 73.7508 Q1666.17 73.7508 1662.11 68.8897 Q1658.06 64.0286 1658.06 54.671 M1676.82 26.1121 L1676.82 26.1121 Z\" fill=\"#000000\" fill-rule=\"evenodd\" fill-opacity=\"1\" /><path clip-path=\"url(#clip510)\" d=\"M 0 0 M1703.88 9.54393 L1711.33 9.54393 L1711.33 72.576 L1703.88 72.576 L1703.88 9.54393 Z\" fill=\"#000000\" fill-rule=\"evenodd\" fill-opacity=\"1\" /><path clip-path=\"url(#clip510)\" d=\"M 0 0 M1739.77 49.7694 Q1730.74 49.7694 1727.25 51.8354 Q1723.77 53.9013 1723.77 58.8839 Q1723.77 62.8538 1726.36 65.2034 Q1728.99 67.5124 1733.49 67.5124 Q1739.69 67.5124 1743.42 63.1374 Q1747.18 58.7219 1747.18 51.4303 L1747.18 49.7694 L1739.77 49.7694 M1754.64 46.6907 L1754.64 72.576 L1747.18 72.576 L1747.18 65.6895 Q1744.63 69.8214 1740.82 71.8063 Q1737.02 73.7508 1731.51 73.7508 Q1724.54 73.7508 1720.41 69.8619 Q1716.32 65.9325 1716.32 59.3701 Q1716.32 51.7138 1721.42 47.825 Q1726.56 43.9361 1736.73 43.9361 L1747.18 43.9361 L1747.18 43.2069 Q1747.18 38.0623 1743.78 35.2672 Q1740.42 32.4315 1734.3 32.4315 Q1730.41 32.4315 1726.73 33.3632 Q1723.04 34.295 1719.64 36.1584 L1719.64 29.2718 Q1723.73 27.692 1727.58 26.9223 Q1731.43 26.1121 1735.07 26.1121 Q1744.91 26.1121 1749.78 31.2163 Q1754.64 36.3204 1754.64 46.6907 Z\" fill=\"#000000\" fill-rule=\"evenodd\" fill-opacity=\"1\" /><path clip-path=\"url(#clip510)\" d=\"M 0 0 M1769.83 14.324 L1769.83 27.2059 L1785.18 27.2059 L1785.18 32.9987 L1769.83 32.9987 L1769.83 57.6282 Q1769.83 63.1779 1771.33 64.7578 Q1772.87 66.3376 1777.52 66.3376 L1785.18 66.3376 L1785.18 72.576 L1777.52 72.576 Q1768.9 72.576 1765.61 69.3758 Q1762.33 66.1351 1762.33 57.6282 L1762.33 32.9987 L1756.86 32.9987 L1756.86 27.2059 L1762.33 27.2059 L1762.33 14.324 L1769.83 14.324 Z\" fill=\"#000000\" fill-rule=\"evenodd\" fill-opacity=\"1\" /><path clip-path=\"url(#clip510)\" d=\"M 0 0 M1793 27.2059 L1800.45 27.2059 L1800.45 72.576 L1793 72.576 L1793 27.2059 M1793 9.54393 L1800.45 9.54393 L1800.45 18.9825 L1793 18.9825 L1793 9.54393 Z\" fill=\"#000000\" fill-rule=\"evenodd\" fill-opacity=\"1\" /><path clip-path=\"url(#clip510)\" d=\"M 0 0 M1825.85 32.4315 Q1819.86 32.4315 1816.37 37.1306 Q1812.89 41.7891 1812.89 49.9314 Q1812.89 58.0738 1816.33 62.7728 Q1819.82 67.4314 1825.85 67.4314 Q1831.81 67.4314 1835.29 62.7323 Q1838.77 58.0333 1838.77 49.9314 Q1838.77 41.8701 1835.29 37.1711 Q1831.81 32.4315 1825.85 32.4315 M1825.85 26.1121 Q1835.57 26.1121 1841.12 32.4315 Q1846.67 38.7509 1846.67 49.9314 Q1846.67 61.0714 1841.12 67.4314 Q1835.57 73.7508 1825.85 73.7508 Q1816.09 73.7508 1810.54 67.4314 Q1805.03 61.0714 1805.03 49.9314 Q1805.03 38.7509 1810.54 32.4315 Q1816.09 26.1121 1825.85 26.1121 Z\" fill=\"#000000\" fill-rule=\"evenodd\" fill-opacity=\"1\" /><path clip-path=\"url(#clip510)\" d=\"M 0 0 M1892.21 45.1919 L1892.21 72.576 L1884.75 72.576 L1884.75 45.4349 Q1884.75 38.994 1882.24 35.7938 Q1879.73 32.5936 1874.71 32.5936 Q1868.67 32.5936 1865.19 36.4419 Q1861.7 40.2903 1861.7 46.9338 L1861.7 72.576 L1854.21 72.576 L1854.21 27.2059 L1861.7 27.2059 L1861.7 34.2544 Q1864.38 30.163 1867.98 28.1376 Q1871.63 26.1121 1876.37 26.1121 Q1884.18 26.1121 1888.2 30.9732 Q1892.21 35.7938 1892.21 45.1919 Z\" fill=\"#000000\" fill-rule=\"evenodd\" fill-opacity=\"1\" /><path clip-path=\"url(#clip510)\" d=\"M 0 0 M1962.97 14.0809 L1962.97 22.0612 Q1958.32 19.8332 1954.18 18.7395 Q1950.05 17.6457 1946.2 17.6457 Q1939.52 17.6457 1935.87 20.2383 Q1932.27 22.8309 1932.27 27.611 Q1932.27 31.6214 1934.66 33.6873 Q1937.09 35.7128 1943.81 36.9686 L1948.76 37.9813 Q1957.91 39.7232 1962.25 44.1387 Q1966.62 48.5136 1966.62 55.8863 Q1966.62 64.6767 1960.71 69.2137 Q1954.83 73.7508 1943.45 73.7508 Q1939.16 73.7508 1934.29 72.7785 Q1929.47 71.8063 1924.29 69.9024 L1924.29 61.4765 Q1929.27 64.2716 1934.05 65.6895 Q1938.83 67.1073 1943.45 67.1073 Q1950.46 67.1073 1954.27 64.3527 Q1958.07 61.598 1958.07 56.4939 Q1958.07 52.0379 1955.32 49.5264 Q1952.6 47.0148 1946.37 45.759 L1941.38 44.7868 Q1932.23 42.9639 1928.14 39.075 Q1924.05 35.1862 1924.05 28.2591 Q1924.05 20.2383 1929.68 15.6203 Q1935.35 11.0023 1945.27 11.0023 Q1949.53 11.0023 1953.94 11.7719 Q1958.36 12.5416 1962.97 14.0809 Z\" fill=\"#000000\" fill-rule=\"evenodd\" fill-opacity=\"1\" /><path clip-path=\"url(#clip510)\" d=\"M 0 0 M2012.15 45.1919 L2012.15 72.576 L2004.7 72.576 L2004.7 45.4349 Q2004.7 38.994 2002.19 35.7938 Q1999.68 32.5936 1994.65 32.5936 Q1988.62 32.5936 1985.13 36.4419 Q1981.65 40.2903 1981.65 46.9338 L1981.65 72.576 L1974.16 72.576 L1974.16 9.54393 L1981.65 9.54393 L1981.65 34.2544 Q1984.32 30.163 1987.93 28.1376 Q1991.57 26.1121 1996.31 26.1121 Q2004.13 26.1121 2008.14 30.9732 Q2012.15 35.7938 2012.15 45.1919 Z\" fill=\"#000000\" fill-rule=\"evenodd\" fill-opacity=\"1\" /><path clip-path=\"url(#clip510)\" d=\"M 0 0 M2040.59 49.7694 Q2031.56 49.7694 2028.07 51.8354 Q2024.59 53.9013 2024.59 58.8839 Q2024.59 62.8538 2027.18 65.2034 Q2029.81 67.5124 2034.31 67.5124 Q2040.51 67.5124 2044.24 63.1374 Q2048 58.7219 2048 51.4303 L2048 49.7694 L2040.59 49.7694 M2055.46 46.6907 L2055.46 72.576 L2048 72.576 L2048 65.6895 Q2045.45 69.8214 2041.64 71.8063 Q2037.84 73.7508 2032.33 73.7508 Q2025.36 73.7508 2021.23 69.8619 Q2017.14 65.9325 2017.14 59.3701 Q2017.14 51.7138 2022.24 47.825 Q2027.38 43.9361 2037.55 43.9361 L2048 43.9361 L2048 43.2069 Q2048 38.0623 2044.6 35.2672 Q2041.24 32.4315 2035.12 32.4315 Q2031.23 32.4315 2027.55 33.3632 Q2023.86 34.295 2020.46 36.1584 L2020.46 29.2718 Q2024.55 27.692 2028.4 26.9223 Q2032.25 26.1121 2035.89 26.1121 Q2045.73 26.1121 2050.6 31.2163 Q2055.46 36.3204 2055.46 46.6907 Z\" fill=\"#000000\" fill-rule=\"evenodd\" fill-opacity=\"1\" /><path clip-path=\"url(#clip510)\" d=\"M 0 0 M2089.57 34.1734 Q2088.31 33.4443 2086.81 33.1202 Q2085.35 32.7556 2083.57 32.7556 Q2077.25 32.7556 2073.85 36.8875 Q2070.49 40.9789 2070.49 48.6757 L2070.49 72.576 L2062.99 72.576 L2062.99 27.2059 L2070.49 27.2059 L2070.49 34.2544 Q2072.84 30.1225 2076.6 28.1376 Q2080.37 26.1121 2085.76 26.1121 Q2086.53 26.1121 2087.46 26.2337 Q2088.39 26.3147 2089.53 26.5172 L2089.57 34.1734 Z\" fill=\"#000000\" fill-rule=\"evenodd\" fill-opacity=\"1\" /><path clip-path=\"url(#clip510)\" d=\"M 0 0 M2134.37 48.0275 L2134.37 51.6733 L2100.1 51.6733 Q2100.58 59.3701 2104.72 63.421 Q2108.89 67.4314 2116.3 67.4314 Q2120.6 67.4314 2124.61 66.3781 Q2128.66 65.3249 2132.63 63.2184 L2132.63 70.267 Q2128.62 71.9684 2124.4 72.8596 Q2120.19 73.7508 2115.86 73.7508 Q2105 73.7508 2098.64 67.4314 Q2092.32 61.1119 2092.32 50.3365 Q2092.32 39.1965 2098.32 32.6746 Q2104.35 26.1121 2114.56 26.1121 Q2123.71 26.1121 2129.02 32.0264 Q2134.37 37.9003 2134.37 48.0275 M2126.91 45.84 Q2126.83 39.7232 2123.47 36.0774 Q2120.15 32.4315 2114.64 32.4315 Q2108.4 32.4315 2104.63 35.9558 Q2100.91 39.4801 2100.34 45.8805 L2126.91 45.84 Z\" fill=\"#000000\" fill-rule=\"evenodd\" fill-opacity=\"1\" /><path clip-path=\"url(#clip510)\" d=\"M 0 0 M1048.48 1513.81 L1048.48 1550.76 L1056.24 1550.76 Q1066.08 1550.76 1070.63 1546.3 Q1075.21 1541.85 1075.21 1532.24 Q1075.21 1522.69 1070.63 1518.26 Q1066.08 1513.81 1056.24 1513.81 L1048.48 1513.81 M1042.05 1508.52 L1055.26 1508.52 Q1069.07 1508.52 1075.53 1514.28 Q1081.99 1520.01 1081.99 1532.24 Q1081.99 1544.52 1075.5 1550.28 Q1069.01 1556.04 1055.26 1556.04 L1042.05 1556.04 L1042.05 1508.52 Z\" fill=\"#000000\" fill-rule=\"evenodd\" fill-opacity=\"1\" /><path clip-path=\"url(#clip510)\" d=\"M 0 0 M1088.14 1520.4 L1093.99 1520.4 L1093.99 1556.04 L1088.14 1556.04 L1088.14 1520.4 M1088.14 1506.52 L1093.99 1506.52 L1093.99 1513.93 L1088.14 1513.93 L1088.14 1506.52 Z\" fill=\"#000000\" fill-rule=\"evenodd\" fill-opacity=\"1\" /><path clip-path=\"url(#clip510)\" d=\"M 0 0 M1095.93 1520.4 L1102.14 1520.4 L1113.28 1550.31 L1124.42 1520.4 L1130.63 1520.4 L1117.26 1556.04 L1109.3 1556.04 L1095.93 1520.4 Z\" fill=\"#000000\" fill-rule=\"evenodd\" fill-opacity=\"1\" /><path clip-path=\"url(#clip510)\" d=\"M 0 0 M1167.26 1536.76 L1167.26 1539.62 L1140.33 1539.62 Q1140.72 1545.67 1143.96 1548.85 Q1147.24 1552 1153.07 1552 Q1156.44 1552 1159.59 1551.17 Q1162.77 1550.35 1165.89 1548.69 L1165.89 1554.23 Q1162.74 1555.57 1159.43 1556.27 Q1156.12 1556.97 1152.72 1556.97 Q1144.19 1556.97 1139.19 1552 Q1134.22 1547.04 1134.22 1538.57 Q1134.22 1529.82 1138.93 1524.69 Q1143.68 1519.54 1151.7 1519.54 Q1158.89 1519.54 1163.06 1524.18 Q1167.26 1528.8 1167.26 1536.76 M1161.41 1535.04 Q1161.34 1530.23 1158.7 1527.37 Q1156.09 1524.5 1151.76 1524.5 Q1146.86 1524.5 1143.9 1527.27 Q1140.97 1530.04 1140.53 1535.07 L1161.41 1535.04 Z\" fill=\"#000000\" fill-rule=\"evenodd\" fill-opacity=\"1\" /><path clip-path=\"url(#clip510)\" d=\"M 0 0 M1194.06 1525.87 Q1193.07 1525.3 1191.9 1525.04 Q1190.75 1524.76 1189.35 1524.76 Q1184.39 1524.76 1181.71 1528 Q1179.07 1531.22 1179.07 1537.27 L1179.07 1556.04 L1173.18 1556.04 L1173.18 1520.4 L1179.07 1520.4 L1179.07 1525.93 Q1180.92 1522.69 1183.88 1521.13 Q1186.84 1519.54 1191.07 1519.54 Q1191.67 1519.54 1192.41 1519.63 Q1193.14 1519.7 1194.03 1519.85 L1194.06 1525.87 Z\" fill=\"#000000\" fill-rule=\"evenodd\" fill-opacity=\"1\" /><path clip-path=\"url(#clip510)\" d=\"M 0 0 M1222.93 1521.45 L1222.93 1526.98 Q1220.45 1525.71 1217.77 1525.07 Q1215.1 1524.44 1212.24 1524.44 Q1207.87 1524.44 1205.68 1525.77 Q1203.51 1527.11 1203.51 1529.79 Q1203.51 1531.82 1205.07 1533 Q1206.63 1534.15 1211.34 1535.2 L1213.35 1535.64 Q1219.59 1536.98 1222.2 1539.43 Q1224.84 1541.85 1224.84 1546.21 Q1224.84 1551.17 1220.89 1554.07 Q1216.98 1556.97 1210.1 1556.97 Q1207.24 1556.97 1204.12 1556.39 Q1201.03 1555.85 1197.59 1554.74 L1197.59 1548.69 Q1200.84 1550.38 1203.99 1551.24 Q1207.14 1552.07 1210.23 1552.07 Q1214.37 1552.07 1216.6 1550.66 Q1218.82 1549.23 1218.82 1546.65 Q1218.82 1544.27 1217.2 1542.99 Q1215.61 1541.72 1210.17 1540.54 L1208.13 1540.07 Q1202.69 1538.92 1200.27 1536.56 Q1197.85 1534.18 1197.85 1530.04 Q1197.85 1525.01 1201.41 1522.27 Q1204.98 1519.54 1211.53 1519.54 Q1214.78 1519.54 1217.65 1520.01 Q1220.51 1520.49 1222.93 1521.45 Z\" fill=\"#000000\" fill-rule=\"evenodd\" fill-opacity=\"1\" /><path clip-path=\"url(#clip510)\" d=\"M 0 0 M1230.98 1520.4 L1236.84 1520.4 L1236.84 1556.04 L1230.98 1556.04 L1230.98 1520.4 M1230.98 1506.52 L1236.84 1506.52 L1236.84 1513.93 L1230.98 1513.93 L1230.98 1506.52 Z\" fill=\"#000000\" fill-rule=\"evenodd\" fill-opacity=\"1\" /><path clip-path=\"url(#clip510)\" d=\"M 0 0 M1248.77 1510.27 L1248.77 1520.4 L1260.84 1520.4 L1260.84 1524.95 L1248.77 1524.95 L1248.77 1544.3 Q1248.77 1548.66 1249.95 1549.9 Q1251.16 1551.14 1254.82 1551.14 L1260.84 1551.14 L1260.84 1556.04 L1254.82 1556.04 Q1248.04 1556.04 1245.46 1553.53 Q1242.89 1550.98 1242.89 1544.3 L1242.89 1524.95 L1238.59 1524.95 L1238.59 1520.4 L1242.89 1520.4 L1242.89 1510.27 L1248.77 1510.27 Z\" fill=\"#000000\" fill-rule=\"evenodd\" fill-opacity=\"1\" /><path clip-path=\"url(#clip510)\" d=\"M 0 0 M1281.81 1559.35 Q1279.33 1565.72 1276.97 1567.66 Q1274.62 1569.6 1270.67 1569.6 L1265.99 1569.6 L1265.99 1564.7 L1269.43 1564.7 Q1271.85 1564.7 1273.19 1563.56 Q1274.52 1562.41 1276.15 1558.14 L1277.2 1555.47 L1262.78 1520.4 L1268.99 1520.4 L1280.13 1548.28 L1291.27 1520.4 L1297.47 1520.4 L1281.81 1559.35 Z\" fill=\"#000000\" fill-rule=\"evenodd\" fill-opacity=\"1\" /><path clip-path=\"url(#clip510)\" d=\"M 0 0 M1353.08 1510.08 L1353.08 1516.35 Q1349.42 1514.6 1346.17 1513.74 Q1342.92 1512.88 1339.9 1512.88 Q1334.65 1512.88 1331.78 1514.92 Q1328.95 1516.96 1328.95 1520.71 Q1328.95 1523.87 1330.83 1525.49 Q1332.74 1527.08 1338.02 1528.07 L1341.9 1528.86 Q1349.1 1530.23 1352.5 1533.7 Q1355.94 1537.14 1355.94 1542.93 Q1355.94 1549.84 1351.29 1553.4 Q1346.68 1556.97 1337.74 1556.97 Q1334.36 1556.97 1330.54 1556.2 Q1326.75 1555.44 1322.68 1553.94 L1322.68 1547.32 Q1326.6 1549.52 1330.35 1550.63 Q1334.11 1551.75 1337.74 1551.75 Q1343.24 1551.75 1346.23 1549.58 Q1349.23 1547.42 1349.23 1543.41 Q1349.23 1539.91 1347.06 1537.93 Q1344.93 1535.96 1340.03 1534.97 L1336.11 1534.21 Q1328.92 1532.78 1325.7 1529.72 Q1322.49 1526.67 1322.49 1521.22 Q1322.49 1514.92 1326.91 1511.29 Q1331.37 1507.66 1339.17 1507.66 Q1342.51 1507.66 1345.98 1508.27 Q1349.45 1508.87 1353.08 1510.08 Z\" fill=\"#000000\" fill-rule=\"evenodd\" fill-opacity=\"1\" /><path clip-path=\"url(#clip510)\" d=\"M 0 0 M1387.74 1521.76 L1387.74 1527.24 Q1385.26 1525.87 1382.74 1525.2 Q1380.26 1524.5 1377.71 1524.5 Q1372.01 1524.5 1368.86 1528.13 Q1365.71 1531.73 1365.71 1538.25 Q1365.71 1544.78 1368.86 1548.4 Q1372.01 1552 1377.71 1552 Q1380.26 1552 1382.74 1551.33 Q1385.26 1550.63 1387.74 1549.26 L1387.74 1554.68 Q1385.29 1555.82 1382.65 1556.39 Q1380.04 1556.97 1377.08 1556.97 Q1369.02 1556.97 1364.28 1551.91 Q1359.54 1546.85 1359.54 1538.25 Q1359.54 1529.53 1364.31 1524.53 Q1369.12 1519.54 1377.46 1519.54 Q1380.16 1519.54 1382.74 1520.11 Q1385.32 1520.65 1387.74 1521.76 Z\" fill=\"#000000\" fill-rule=\"evenodd\" fill-opacity=\"1\" /><path clip-path=\"url(#clip510)\" d=\"M 0 0 M1407.69 1524.5 Q1402.98 1524.5 1400.25 1528.19 Q1397.51 1531.85 1397.51 1538.25 Q1397.51 1544.65 1400.21 1548.34 Q1402.95 1552 1407.69 1552 Q1412.37 1552 1415.11 1548.31 Q1417.85 1544.62 1417.85 1538.25 Q1417.85 1531.92 1415.11 1528.23 Q1412.37 1524.5 1407.69 1524.5 M1407.69 1519.54 Q1415.33 1519.54 1419.69 1524.5 Q1424.05 1529.47 1424.05 1538.25 Q1424.05 1547 1419.69 1552 Q1415.33 1556.97 1407.69 1556.97 Q1400.02 1556.97 1395.66 1552 Q1391.33 1547 1391.33 1538.25 Q1391.33 1529.47 1395.66 1524.5 Q1400.02 1519.54 1407.69 1519.54 Z\" fill=\"#000000\" fill-rule=\"evenodd\" fill-opacity=\"1\" /><path clip-path=\"url(#clip510)\" d=\"M 0 0 M1450.85 1525.87 Q1449.87 1525.3 1448.69 1525.04 Q1447.54 1524.76 1446.14 1524.76 Q1441.18 1524.76 1438.5 1528 Q1435.86 1531.22 1435.86 1537.27 L1435.86 1556.04 L1429.97 1556.04 L1429.97 1520.4 L1435.86 1520.4 L1435.86 1525.93 Q1437.71 1522.69 1440.67 1521.13 Q1443.63 1519.54 1447.86 1519.54 Q1448.47 1519.54 1449.2 1519.63 Q1449.93 1519.7 1450.82 1519.85 L1450.85 1525.87 Z\" fill=\"#000000\" fill-rule=\"evenodd\" fill-opacity=\"1\" /><path clip-path=\"url(#clip510)\" d=\"M 0 0 M1486.06 1536.76 L1486.06 1539.62 L1459.13 1539.62 Q1459.51 1545.67 1462.76 1548.85 Q1466.04 1552 1471.86 1552 Q1475.23 1552 1478.39 1551.17 Q1481.57 1550.35 1484.69 1548.69 L1484.69 1554.23 Q1481.54 1555.57 1478.23 1556.27 Q1474.92 1556.97 1471.51 1556.97 Q1462.98 1556.97 1457.98 1552 Q1453.02 1547.04 1453.02 1538.57 Q1453.02 1529.82 1457.73 1524.69 Q1462.47 1519.54 1470.49 1519.54 Q1477.69 1519.54 1481.85 1524.18 Q1486.06 1528.8 1486.06 1536.76 M1480.2 1535.04 Q1480.14 1530.23 1477.49 1527.37 Q1474.88 1524.5 1470.56 1524.5 Q1465.65 1524.5 1462.69 1527.27 Q1459.77 1530.04 1459.32 1535.07 L1480.2 1535.04 Z\" fill=\"#000000\" fill-rule=\"evenodd\" fill-opacity=\"1\" /><polyline clip-path=\"url(#clip512)\" style=\"stroke:#009af9; stroke-width:4; stroke-opacity:1; fill:none\" points=\"\n",
       "  605.419,1386.39 613.89,1386.39 622.361,1386.39 630.832,1386.38 639.303,1386.36 647.774,1386.34 656.245,1386.3 664.716,1386.24 673.187,1386.15 681.658,1386.01 \n",
       "  690.129,1385.82 698.599,1385.55 707.07,1385.2 715.541,1384.74 724.012,1384.17 732.483,1383.49 740.954,1382.69 749.425,1381.81 757.896,1380.86 766.367,1379.88 \n",
       "  774.838,1378.92 783.309,1378 791.78,1377.16 800.25,1376.4 808.721,1375.72 817.192,1375.06 825.663,1374.36 834.134,1373.54 842.605,1372.52 851.076,1371.22 \n",
       "  859.547,1369.58 868.018,1367.59 876.489,1365.29 884.96,1362.76 893.43,1360.12 901.901,1357.51 910.372,1355.08 918.843,1352.91 927.314,1351.06 935.785,1349.47 \n",
       "  944.256,1348.01 952.727,1346.46 961.198,1344.52 969.669,1341.9 978.14,1338.31 986.611,1333.58 995.081,1327.62 1003.55,1320.56 1012.02,1312.64 1020.49,1304.28 \n",
       "  1028.97,1296 1037.44,1288.33 1045.91,1281.73 1054.38,1276.53 1062.85,1272.83 1071.32,1270.47 1079.79,1269.07 1088.26,1268 1096.73,1266.55 1105.2,1264 \n",
       "  1113.67,1259.77 1122.15,1253.5 1130.62,1245.17 1139.09,1235.09 1147.56,1223.88 1156.03,1212.36 1164.5,1201.43 1172.97,1191.87 1181.44,1184.2 1189.91,1178.49 \n",
       "  1198.38,1174.39 1206.85,1171.03 1215.33,1167.19 1223.8,1161.48 1232.27,1152.51 1240.74,1139.21 1249.21,1121.03 1257.68,1098.09 1266.15,1071.27 1274.62,1042.12 \n",
       "  1283.09,1012.71 1291.56,985.318 1300.03,962.094 1308.51,944.717 1316.98,934.087 1325.45,930.141 1333.92,931.825 1342.39,937.217 1350.86,943.815 1359.33,948.931 \n",
       "  1367.8,950.132 1376.27,945.656 1384.74,934.727 1393.21,917.721 1401.69,896.134 1410.16,872.364 1418.63,849.336 1427.1,830.027 1435.57,816.975 1444.04,811.85 \n",
       "  1452.51,815.17 1460.98,826.206 1469.45,843.099 1477.92,863.168 1486.39,883.353 1494.87,900.722 1503.34,912.954 1511.81,918.71 1520.28,917.839 1528.75,911.383 \n",
       "  1537.22,901.375 1545.69,890.49 1554.16,881.58 1562.63,877.203 1571.1,879.208 1579.57,888.452 1588.05,904.686 1596.52,926.638 1604.99,952.249 1613.46,979.041 \n",
       "  1621.93,1004.53 1630.4,1026.61 1638.87,1043.89 1647.34,1055.84 1655.81,1062.84 1664.28,1066.03 1672.75,1067.11 1681.23,1067.98 1689.7,1070.43 1698.17,1075.84 \n",
       "  1706.64,1085.01 1715.11,1098.02 1723.58,1114.29 1732.05,1132.72 1740.52,1151.9 1748.99,1170.36 1757.46,1186.8 1765.93,1200.29 1774.41,1210.4 1782.88,1217.2 \n",
       "  1791.35,1221.22 1799.82,1223.33 1808.29,1224.57 1816.76,1225.98 1825.23,1228.42 1833.7,1232.48 1842.17,1238.4 1850.64,1246.09 1859.11,1255.17 1867.59,1265.08 \n",
       "  1876.06,1275.16 1884.53,1284.83 1893,1293.62 1901.47,1301.27 1909.94,1307.72 1918.41,1313.08 1926.88,1317.62 1935.35,1321.67 1943.82,1325.54 1952.29,1329.5 \n",
       "  1960.77,1333.69 1969.24,1338.16 1977.71,1342.84 1986.18,1347.56 1994.65,1352.14 2003.12,1356.37 2011.59,1360.09 2020.06,1363.2 2028.53,1365.65 2037,1367.48 \n",
       "  2045.47,1368.79 2053.95,1369.7 2062.42,1370.38 2070.89,1370.96 2079.36,1371.57 2087.83,1372.31 2096.3,1373.21 2104.77,1374.29 2113.24,1375.52 2121.71,1376.86 \n",
       "  2130.18,1378.23 2138.65,1379.59 2147.13,1380.87 2155.6,1382.03 2164.07,1383.03 2172.54,1383.87 2181.01,1384.56 2189.48,1385.09 2197.95,1385.49 2206.42,1385.79 \n",
       "  2214.89,1386 2223.36,1386.14 2231.83,1386.24 2240.31,1386.3 2248.78,1386.34 2257.25,1386.36 2265.72,1386.38 2274.19,1386.39 2282.66,1386.39 2291.13,1386.39 \n",
       "  \n",
       "  \"/>\n",
       "<polyline clip-path=\"url(#clip512)\" style=\"stroke:#e26f46; stroke-width:4; stroke-opacity:1; fill:none\" points=\"\n",
       "  494.958,1386.39 501.965,1386.39 508.972,1386.39 515.979,1386.39 522.986,1386.38 529.993,1386.37 537,1386.35 544.007,1386.33 551.014,1386.3 558.021,1386.24 \n",
       "  565.028,1386.17 572.035,1386.08 579.042,1385.95 586.049,1385.78 593.056,1385.57 600.063,1385.31 607.07,1385 614.077,1384.64 621.084,1384.24 628.091,1383.79 \n",
       "  635.098,1383.31 642.106,1382.82 649.113,1382.31 656.12,1381.8 663.127,1381.27 670.134,1380.72 677.141,1380.12 684.148,1379.4 691.155,1378.52 698.162,1377.37 \n",
       "  705.169,1375.86 712.176,1373.88 719.183,1371.33 726.19,1368.13 733.197,1364.21 740.204,1359.57 747.211,1354.26 754.218,1348.39 761.225,1342.13 768.232,1335.72 \n",
       "  775.239,1329.42 782.246,1323.51 789.253,1318.27 796.26,1313.88 803.268,1310.47 810.275,1308.03 817.282,1306.43 824.289,1305.39 831.296,1304.54 838.303,1303.38 \n",
       "  845.31,1301.41 852.317,1298.11 859.324,1293.06 866.331,1285.98 873.338,1276.76 880.345,1265.5 887.352,1252.55 894.359,1238.42 901.366,1223.8 908.373,1209.42 \n",
       "  915.38,1195.99 922.387,1184.08 929.394,1174 936.401,1165.74 943.408,1158.91 950.415,1152.71 957.423,1146.02 964.43,1137.45 971.437,1125.5 978.444,1108.78 \n",
       "  985.451,1086.13 992.458,1056.9 999.465,1021.04 1006.47,979.251 1013.48,932.97 1020.49,884.339 1027.49,836.034 1034.5,791.029 1041.51,752.3 1048.51,722.508 \n",
       "  1055.52,703.693 1062.53,697.025 1069.54,702.649 1076.54,719.644 1083.55,746.095 1090.56,779.293 1097.56,816.013 1104.57,852.852 1111.58,886.581 1118.58,914.473 \n",
       "  1125.59,934.561 1132.6,945.813 1139.61,948.191 1146.61,942.61 1153.62,930.785 1160.63,914.995 1167.63,897.793 1174.64,881.685 1181.65,868.828 1188.65,860.767 \n",
       "  1195.66,858.249 1202.67,861.145 1209.68,868.466 1216.68,878.5 1223.69,889.036 1230.7,897.655 1237.7,902.055 1244.71,900.363 1251.72,891.407 1258.73,874.902 \n",
       "  1265.73,851.535 1272.74,822.927 1279.75,791.491 1286.75,760.177 1293.76,732.158 1300.77,710.484 1307.77,697.746 1314.78,695.795 1321.79,705.55 1328.8,726.916 \n",
       "  1335.8,758.82 1342.81,799.347 1349.82,845.978 1356.82,895.861 1363.83,946.111 1370.84,994.088 1377.85,1037.62 1384.85,1075.15 1391.86,1105.85 1398.87,1129.54 \n",
       "  1405.87,1146.7 1412.88,1158.3 1419.89,1165.61 1426.89,1170.09 1433.9,1173.14 1440.91,1176.04 1447.92,1179.75 1454.92,1184.9 1461.93,1191.73 1468.94,1200.15 \n",
       "  1475.94,1209.77 1482.95,1220 1489.96,1230.16 1496.96,1239.57 1503.97,1247.65 1510.98,1254.01 1517.99,1258.47 1524.99,1261.11 1532,1262.2 1539.01,1262.2 \n",
       "  1546.01,1261.68 1553.02,1261.26 1560.03,1261.51 1567.04,1262.91 1574.04,1265.79 1581.05,1270.32 1588.06,1276.49 1595.06,1284.1 1602.07,1292.85 1609.08,1302.34 \n",
       "  1616.08,1312.15 1623.09,1321.85 1630.1,1331.06 1637.11,1339.5 1644.11,1346.96 1651.12,1353.34 1658.13,1358.63 1665.13,1362.9 1672.14,1366.26 1679.15,1368.88 \n",
       "  1686.16,1370.9 1693.16,1372.5 1700.17,1373.81 1707.18,1374.95 1714.18,1376 1721.19,1377.02 1728.2,1378.03 1735.2,1379.03 1742.21,1380.02 1749.22,1380.97 \n",
       "  1756.23,1381.87 1763.23,1382.7 1770.24,1383.44 1777.25,1384.08 1784.25,1384.62 1791.26,1385.06 1798.27,1385.42 1805.27,1385.69 1812.28,1385.9 1819.29,1386.06 \n",
       "  1826.3,1386.17 1833.3,1386.25 1840.31,1386.3 1847.32,1386.33 1854.32,1386.36 1861.33,1386.37 1868.34,1386.38 1875.35,1386.39 1882.35,1386.39 1889.36,1386.39 \n",
       "  \n",
       "  \"/>\n",
       "<polyline clip-path=\"url(#clip512)\" style=\"stroke:#3da44d; stroke-width:4; stroke-opacity:1; fill:none\" points=\"\n",
       "  236.973,1386.32 245.347,1386.25 253.721,1386.11 262.095,1385.88 270.469,1385.47 278.843,1384.78 287.217,1383.66 295.592,1381.92 303.966,1379.26 312.34,1375.37 \n",
       "  320.714,1369.84 329.088,1362.28 337.462,1352.28 345.836,1339.53 354.21,1323.87 362.584,1305.37 370.958,1284.35 379.332,1261.45 387.707,1237.51 396.081,1213.52 \n",
       "  404.455,1190.4 412.829,1168.78 421.203,1148.79 429.577,1129.8 437.951,1110.34 446.325,1088.06 454.699,1059.99 463.073,1022.81 471.448,973.43 479.822,909.583 \n",
       "  488.196,830.423 496.57,737.04 504.944,632.738 513.318,522.993 521.692,415.05 530.066,317.175 538.44,237.647 546.814,183.652 555.188,160.256 563.563,169.655 \n",
       "  571.937,210.833 580.311,279.699 588.685,369.682 597.059,472.656 605.433,580.046 613.807,683.905 622.181,777.801 630.555,857.394 638.929,920.641 647.304,967.654 \n",
       "  655.678,1000.27 664.052,1021.43 672.426,1034.54 680.8,1042.79 689.174,1048.69 697.548,1053.74 705.922,1058.38 714.296,1062.05 722.67,1063.55 731.044,1061.44 \n",
       "  739.419,1054.47 747.793,1041.97 756.167,1024.19 764.541,1002.36 772.915,978.655 781.289,955.9 789.663,937.196 798.037,925.458 806.411,922.966 814.785,931.034 \n",
       "  823.16,949.819 831.534,978.326 839.908,1014.59 848.282,1055.99 856.656,1099.61 865.03,1142.68 873.404,1182.82 881.778,1218.33 890.152,1248.21 898.526,1272.21 \n",
       "  906.9,1290.66 915.275,1304.31 923.649,1314.18 932.023,1321.32 940.397,1326.69 948.771,1331.07 957.145,1335.01 965.519,1338.81 973.893,1342.59 982.267,1346.29 \n",
       "  990.641,1349.8 999.015,1352.97 1007.39,1355.7 1015.76,1357.93 1024.14,1359.71 1032.51,1361.11 1040.89,1362.28 1049.26,1363.38 1057.63,1364.53 1066.01,1365.86 \n",
       "  1074.38,1367.41 1082.76,1369.19 1091.13,1371.16 1099.5,1373.23 1107.88,1375.32 1116.25,1377.33 1124.63,1379.18 1133,1380.82 1141.38,1382.21 1149.75,1383.34 \n",
       "  1158.12,1384.23 1166.5,1384.91 1174.87,1385.4 1183.25,1385.75 1191.62,1385.99 1199.99,1386.15 1208.37,1386.25 1216.74,1386.31 1225.12,1386.35 1233.49,1386.37 \n",
       "  1241.86,1386.38 1250.24,1386.39 1258.61,1386.39 1266.99,1386.39 1275.36,1386.39 1283.73,1386.4 1292.11,1386.4 1300.48,1386.4 1308.86,1386.4 1317.23,1386.4 \n",
       "  1325.61,1386.4 1333.98,1386.4 1342.35,1386.4 1350.73,1386.4 1359.1,1386.4 1367.48,1386.4 1375.85,1386.4 1384.22,1386.4 1392.6,1386.4 1400.97,1386.39 \n",
       "  1409.35,1386.39 1417.72,1386.39 1426.09,1386.39 1434.47,1386.38 1442.84,1386.36 1451.22,1386.33 1459.59,1386.28 1467.96,1386.19 1476.34,1386.05 1484.71,1385.82 \n",
       "  1493.09,1385.46 1501.46,1384.91 1509.84,1384.1 1518.21,1382.94 1526.58,1381.32 1534.96,1379.12 1543.33,1376.2 1551.71,1372.46 1560.08,1367.76 1568.45,1362.05 \n",
       "  1576.83,1355.28 1585.2,1347.5 1593.58,1338.81 1601.95,1329.43 1610.32,1319.63 1618.7,1309.8 1627.07,1300.38 1635.45,1291.84 1643.82,1284.65 1652.19,1279.26 \n",
       "  1660.57,1276.03 1668.94,1275.18 1677.32,1276.81 1685.69,1280.84 1694.07,1287.03 1702.44,1295.02 1710.81,1304.34 1719.19,1314.46 1727.56,1324.85 1735.94,1335.02 \n",
       "  1744.31,1344.56 1752.68,1353.18 1761.06,1360.69 1769.43,1367.01 1777.81,1372.15 1786.18,1376.2 1794.55,1379.28 1802.93,1381.57 1811.3,1383.2 1819.68,1384.34 \n",
       "  1828.05,1385.11 1836.42,1385.61 1844.8,1385.93 1853.17,1386.13 1861.55,1386.24 1869.92,1386.31 1878.3,1386.35 1886.67,1386.36 1895.04,1386.37 1903.42,1386.35 \n",
       "  \n",
       "  \"/>\n",
       "<path clip-path=\"url(#clip510)\" d=\"\n",
       "M1921.64 448.912 L2280.76 448.912 L2280.76 206.992 L1921.64 206.992  Z\n",
       "  \" fill=\"#ffffff\" fill-rule=\"evenodd\" fill-opacity=\"1\"/>\n",
       "<polyline clip-path=\"url(#clip510)\" style=\"stroke:#000000; stroke-width:4; stroke-opacity:1; fill:none\" points=\"\n",
       "  1921.64,448.912 2280.76,448.912 2280.76,206.992 1921.64,206.992 1921.64,448.912 \n",
       "  \"/>\n",
       "<polyline clip-path=\"url(#clip510)\" style=\"stroke:#009af9; stroke-width:4; stroke-opacity:1; fill:none\" points=\"\n",
       "  1945.64,267.472 2089.64,267.472 \n",
       "  \"/>\n",
       "<path clip-path=\"url(#clip510)\" d=\"M 0 0 M2115.09 250.192 L2133.45 250.192 L2133.45 254.127 L2119.38 254.127 L2119.38 262.599 Q2120.4 262.252 2121.41 262.09 Q2122.43 261.905 2123.45 261.905 Q2129.24 261.905 2132.62 265.076 Q2136 268.248 2136 273.664 Q2136 279.243 2132.52 282.345 Q2129.05 285.423 2122.73 285.423 Q2120.56 285.423 2118.29 285.053 Q2116.04 284.683 2113.64 283.942 L2113.64 279.243 Q2115.72 280.377 2117.94 280.933 Q2120.16 281.488 2122.64 281.488 Q2126.65 281.488 2128.98 279.382 Q2131.32 277.275 2131.32 273.664 Q2131.32 270.053 2128.98 267.947 Q2126.65 265.84 2122.64 265.84 Q2120.77 265.84 2118.89 266.257 Q2117.04 266.674 2115.09 267.553 L2115.09 250.192 Z\" fill=\"#000000\" fill-rule=\"evenodd\" fill-opacity=\"1\" /><path clip-path=\"url(#clip510)\" d=\"M 0 0 M2151.07 253.271 Q2147.46 253.271 2145.63 256.836 Q2143.82 260.377 2143.82 267.507 Q2143.82 274.613 2145.63 278.178 Q2147.46 281.72 2151.07 281.72 Q2154.7 281.72 2156.51 278.178 Q2158.34 274.613 2158.34 267.507 Q2158.34 260.377 2156.51 256.836 Q2154.7 253.271 2151.07 253.271 M2151.07 249.567 Q2156.88 249.567 2159.93 254.174 Q2163.01 258.757 2163.01 267.507 Q2163.01 276.234 2159.93 280.84 Q2156.88 285.423 2151.07 285.423 Q2145.26 285.423 2142.18 280.84 Q2139.12 276.234 2139.12 267.507 Q2139.12 258.757 2142.18 254.174 Q2145.26 249.567 2151.07 249.567 Z\" fill=\"#000000\" fill-rule=\"evenodd\" fill-opacity=\"1\" /><path clip-path=\"url(#clip510)\" d=\"M 0 0 M2175.05 250.192 L2178.98 250.192 L2166.95 289.15 L2163.01 289.15 L2175.05 250.192 Z\" fill=\"#000000\" fill-rule=\"evenodd\" fill-opacity=\"1\" /><path clip-path=\"url(#clip510)\" d=\"M 0 0 M2184.1 250.192 L2202.46 250.192 L2202.46 254.127 L2188.38 254.127 L2188.38 262.599 Q2189.4 262.252 2190.42 262.09 Q2191.44 261.905 2192.46 261.905 Q2198.24 261.905 2201.62 265.076 Q2205 268.248 2205 273.664 Q2205 279.243 2201.53 282.345 Q2198.06 285.423 2191.74 285.423 Q2189.56 285.423 2187.29 285.053 Q2185.05 284.683 2182.64 283.942 L2182.64 279.243 Q2184.72 280.377 2186.95 280.933 Q2189.17 281.488 2191.65 281.488 Q2195.65 281.488 2197.99 279.382 Q2200.33 277.275 2200.33 273.664 Q2200.33 270.053 2197.99 267.947 Q2195.65 265.84 2191.65 265.84 Q2189.77 265.84 2187.9 266.257 Q2186.04 266.674 2184.1 267.553 L2184.1 250.192 Z\" fill=\"#000000\" fill-rule=\"evenodd\" fill-opacity=\"1\" /><path clip-path=\"url(#clip510)\" d=\"M 0 0 M2220.07 253.271 Q2216.46 253.271 2214.63 256.836 Q2212.83 260.377 2212.83 267.507 Q2212.83 274.613 2214.63 278.178 Q2216.46 281.72 2220.07 281.72 Q2223.71 281.72 2225.51 278.178 Q2227.34 274.613 2227.34 267.507 Q2227.34 260.377 2225.51 256.836 Q2223.71 253.271 2220.07 253.271 M2220.07 249.567 Q2225.88 249.567 2228.94 254.174 Q2232.02 258.757 2232.02 267.507 Q2232.02 276.234 2228.94 280.84 Q2225.88 285.423 2220.07 285.423 Q2214.26 285.423 2211.18 280.84 Q2208.13 276.234 2208.13 267.507 Q2208.13 258.757 2211.18 254.174 Q2214.26 249.567 2220.07 249.567 Z\" fill=\"#000000\" fill-rule=\"evenodd\" fill-opacity=\"1\" /><polyline clip-path=\"url(#clip510)\" style=\"stroke:#e26f46; stroke-width:4; stroke-opacity:1; fill:none\" points=\"\n",
       "  1945.64,327.952 2089.64,327.952 \n",
       "  \"/>\n",
       "<path clip-path=\"url(#clip510)\" d=\"M 0 0 M2125.97 326.089 Q2122.83 326.089 2120.97 328.241 Q2119.15 330.394 2119.15 334.144 Q2119.15 337.871 2120.97 340.047 Q2122.83 342.2 2125.97 342.2 Q2129.12 342.2 2130.95 340.047 Q2132.8 337.871 2132.8 334.144 Q2132.8 330.394 2130.95 328.241 Q2129.12 326.089 2125.97 326.089 M2135.26 311.436 L2135.26 315.695 Q2133.5 314.862 2131.69 314.422 Q2129.91 313.982 2128.15 313.982 Q2123.52 313.982 2121.07 317.107 Q2118.64 320.232 2118.29 326.552 Q2119.65 324.538 2121.71 323.473 Q2123.78 322.385 2126.25 322.385 Q2131.46 322.385 2134.47 325.556 Q2137.5 328.704 2137.5 334.144 Q2137.5 339.468 2134.35 342.686 Q2131.21 345.903 2125.97 345.903 Q2119.98 345.903 2116.81 341.32 Q2113.64 336.714 2113.64 327.987 Q2113.64 319.792 2117.53 314.931 Q2121.41 310.047 2127.96 310.047 Q2129.72 310.047 2131.51 310.394 Q2133.31 310.742 2135.26 311.436 Z\" fill=\"#000000\" fill-rule=\"evenodd\" fill-opacity=\"1\" /><path clip-path=\"url(#clip510)\" d=\"M 0 0 M2142.62 310.672 L2160.97 310.672 L2160.97 314.607 L2146.9 314.607 L2146.9 323.079 Q2147.92 322.732 2148.94 322.57 Q2149.96 322.385 2150.97 322.385 Q2156.76 322.385 2160.14 325.556 Q2163.52 328.728 2163.52 334.144 Q2163.52 339.723 2160.05 342.825 Q2156.58 345.903 2150.26 345.903 Q2148.08 345.903 2145.81 345.533 Q2143.57 345.163 2141.16 344.422 L2141.16 339.723 Q2143.24 340.857 2145.46 341.413 Q2147.69 341.968 2150.16 341.968 Q2154.17 341.968 2156.51 339.862 Q2158.84 337.755 2158.84 334.144 Q2158.84 330.533 2156.51 328.427 Q2154.17 326.32 2150.16 326.32 Q2148.29 326.32 2146.41 326.737 Q2144.56 327.154 2142.62 328.033 L2142.62 310.672 Z\" fill=\"#000000\" fill-rule=\"evenodd\" fill-opacity=\"1\" /><path clip-path=\"url(#clip510)\" d=\"M 0 0 M2175.56 310.672 L2179.49 310.672 L2167.46 349.63 L2163.52 349.63 L2175.56 310.672 Z\" fill=\"#000000\" fill-rule=\"evenodd\" fill-opacity=\"1\" /><path clip-path=\"url(#clip510)\" d=\"M 0 0 M2198.73 326.598 Q2202.08 327.316 2203.96 329.584 Q2205.86 331.853 2205.86 335.186 Q2205.86 340.302 2202.34 343.103 Q2198.82 345.903 2192.34 345.903 Q2190.16 345.903 2187.85 345.464 Q2185.56 345.047 2183.1 344.19 L2183.1 339.677 Q2185.05 340.811 2187.36 341.39 Q2189.68 341.968 2192.2 341.968 Q2196.6 341.968 2198.89 340.232 Q2201.21 338.496 2201.21 335.186 Q2201.21 332.13 2199.05 330.417 Q2196.92 328.681 2193.1 328.681 L2189.08 328.681 L2189.08 324.839 L2193.29 324.839 Q2196.74 324.839 2198.57 323.473 Q2200.39 322.084 2200.39 319.492 Q2200.39 316.83 2198.5 315.417 Q2196.62 313.982 2193.1 313.982 Q2191.18 313.982 2188.98 314.399 Q2186.78 314.816 2184.15 315.695 L2184.15 311.529 Q2186.81 310.788 2189.12 310.417 Q2191.46 310.047 2193.52 310.047 Q2198.84 310.047 2201.95 312.478 Q2205.05 314.885 2205.05 319.005 Q2205.05 321.876 2203.4 323.866 Q2201.76 325.834 2198.73 326.598 Z\" fill=\"#000000\" fill-rule=\"evenodd\" fill-opacity=\"1\" /><path clip-path=\"url(#clip510)\" d=\"M 0 0 M2210.97 310.672 L2229.33 310.672 L2229.33 314.607 L2215.26 314.607 L2215.26 323.079 Q2216.27 322.732 2217.29 322.57 Q2218.31 322.385 2219.33 322.385 Q2225.12 322.385 2228.5 325.556 Q2231.88 328.728 2231.88 334.144 Q2231.88 339.723 2228.4 342.825 Q2224.93 345.903 2218.61 345.903 Q2216.44 345.903 2214.17 345.533 Q2211.92 345.163 2209.52 344.422 L2209.52 339.723 Q2211.6 340.857 2213.82 341.413 Q2216.04 341.968 2218.52 341.968 Q2222.52 341.968 2224.86 339.862 Q2227.2 337.755 2227.2 334.144 Q2227.2 330.533 2224.86 328.427 Q2222.52 326.32 2218.52 326.32 Q2216.64 326.32 2214.77 326.737 Q2212.92 327.154 2210.97 328.033 L2210.97 310.672 Z\" fill=\"#000000\" fill-rule=\"evenodd\" fill-opacity=\"1\" /><polyline clip-path=\"url(#clip510)\" style=\"stroke:#3da44d; stroke-width:4; stroke-opacity:1; fill:none\" points=\"\n",
       "  1945.64,388.432 2089.64,388.432 \n",
       "  \"/>\n",
       "<path clip-path=\"url(#clip510)\" d=\"M 0 0 M2125.49 389.3 Q2122.15 389.3 2120.23 391.083 Q2118.34 392.865 2118.34 395.99 Q2118.34 399.115 2120.23 400.897 Q2122.15 402.68 2125.49 402.68 Q2128.82 402.68 2130.74 400.897 Q2132.66 399.092 2132.66 395.99 Q2132.66 392.865 2130.74 391.083 Q2128.84 389.3 2125.49 389.3 M2120.81 387.309 Q2117.8 386.569 2116.11 384.509 Q2114.45 382.448 2114.45 379.485 Q2114.45 375.342 2117.39 372.935 Q2120.35 370.527 2125.49 370.527 Q2130.65 370.527 2133.59 372.935 Q2136.53 375.342 2136.53 379.485 Q2136.53 382.448 2134.84 384.509 Q2133.17 386.569 2130.19 387.309 Q2133.57 388.096 2135.44 390.388 Q2137.34 392.68 2137.34 395.99 Q2137.34 401.013 2134.26 403.698 Q2131.21 406.383 2125.49 406.383 Q2119.77 406.383 2116.69 403.698 Q2113.64 401.013 2113.64 395.99 Q2113.64 392.68 2115.53 390.388 Q2117.43 388.096 2120.81 387.309 M2119.1 379.925 Q2119.1 382.61 2120.77 384.115 Q2122.46 385.62 2125.49 385.62 Q2128.5 385.62 2130.19 384.115 Q2131.9 382.61 2131.9 379.925 Q2131.9 377.24 2130.19 375.735 Q2128.5 374.231 2125.49 374.231 Q2122.46 374.231 2120.77 375.735 Q2119.1 377.24 2119.1 379.925 Z\" fill=\"#000000\" fill-rule=\"evenodd\" fill-opacity=\"1\" /><path clip-path=\"url(#clip510)\" d=\"M 0 0 M2152.41 374.231 Q2148.8 374.231 2146.97 377.796 Q2145.16 381.337 2145.16 388.467 Q2145.16 395.573 2146.97 399.138 Q2148.8 402.68 2152.41 402.68 Q2156.04 402.68 2157.85 399.138 Q2159.68 395.573 2159.68 388.467 Q2159.68 381.337 2157.85 377.796 Q2156.04 374.231 2152.41 374.231 M2152.41 370.527 Q2158.22 370.527 2161.27 375.134 Q2164.35 379.717 2164.35 388.467 Q2164.35 397.194 2161.27 401.8 Q2158.22 406.383 2152.41 406.383 Q2146.6 406.383 2143.52 401.8 Q2140.46 397.194 2140.46 388.467 Q2140.46 379.717 2143.52 375.134 Q2146.6 370.527 2152.41 370.527 Z\" fill=\"#000000\" fill-rule=\"evenodd\" fill-opacity=\"1\" /><path clip-path=\"url(#clip510)\" d=\"M 0 0 M2176.39 371.152 L2180.33 371.152 L2168.29 410.11 L2164.35 410.11 L2176.39 371.152 Z\" fill=\"#000000\" fill-rule=\"evenodd\" fill-opacity=\"1\" /><path clip-path=\"url(#clip510)\" d=\"M 0 0 M2189.42 401.777 L2205.74 401.777 L2205.74 405.712 L2183.8 405.712 L2183.8 401.777 Q2186.46 399.022 2191.04 394.393 Q2195.65 389.74 2196.83 388.397 Q2199.08 385.874 2199.96 384.138 Q2200.86 382.379 2200.86 380.689 Q2200.86 377.934 2198.91 376.198 Q2196.99 374.462 2193.89 374.462 Q2191.69 374.462 2189.24 375.226 Q2186.81 375.99 2184.03 377.541 L2184.03 372.819 Q2186.85 371.685 2189.31 371.106 Q2191.76 370.527 2193.8 370.527 Q2199.17 370.527 2202.36 373.212 Q2205.56 375.897 2205.56 380.388 Q2205.56 382.518 2204.75 384.439 Q2203.96 386.337 2201.85 388.93 Q2201.27 389.601 2198.17 392.819 Q2195.07 396.013 2189.42 401.777 Z\" fill=\"#000000\" fill-rule=\"evenodd\" fill-opacity=\"1\" /><path clip-path=\"url(#clip510)\" d=\"M 0 0 M2220.81 374.231 Q2217.2 374.231 2215.37 377.796 Q2213.57 381.337 2213.57 388.467 Q2213.57 395.573 2215.37 399.138 Q2217.2 402.68 2220.81 402.68 Q2224.45 402.68 2226.25 399.138 Q2228.08 395.573 2228.08 388.467 Q2228.08 381.337 2226.25 377.796 Q2224.45 374.231 2220.81 374.231 M2220.81 370.527 Q2226.62 370.527 2229.68 375.134 Q2232.76 379.717 2232.76 388.467 Q2232.76 397.194 2229.68 401.8 Q2226.62 406.383 2220.81 406.383 Q2215 406.383 2211.92 401.8 Q2208.87 397.194 2208.87 388.467 Q2208.87 379.717 2211.92 375.134 Q2215 370.527 2220.81 370.527 Z\" fill=\"#000000\" fill-rule=\"evenodd\" fill-opacity=\"1\" /></svg>\n"
      ]
     },
     "execution_count": 40,
     "metadata": {},
     "output_type": "execute_result"
    }
   ],
   "source": [
    "density(df4.score, title=\"Diversity Scores with Varying Population Share\", xaxis=\"Diversity Score\", label=\"50/50\")\n",
    "density!(df5.score, label=\"65/35\")\n",
    "density!(df6.score, label=\"80/20\")"
   ]
  },
  {
   "cell_type": "markdown",
   "metadata": {},
   "source": [
    "## Restricted Movement"
   ]
  },
  {
   "cell_type": "code",
   "execution_count": 41,
   "metadata": {},
   "outputs": [
    {
     "data": {
      "text/plain": [
       "update! (generic function with 1 method)"
      ]
     },
     "execution_count": 41,
     "metadata": {},
     "output_type": "execute_result"
    }
   ],
   "source": [
    "# Modify the update function such that the search options is limited to nh.size / 2\n",
    "\n",
    "function update!(nh, agent_id)\n",
    "    # Choose nearest new locations until happy.\n",
    "    a = nh.agents[agent_id]\n",
    "    original_location = a.location\n",
    "    options = [i % 2 == 1 ? ceil(Int64, i/2) : ceil(Int64, -i/2) for i in 1:nh.size/2]\n",
    "    for i in options\n",
    "        attempt_location = original_location + i\n",
    "        if (0 < attempt_location <= nh.size)\n",
    "            # @show (original_location, attempt_location)\n",
    "            move_location!(nh, a, attempt_location)\n",
    "            if is_happy(nh, agent_id)\n",
    "                break\n",
    "            elseif (i==options[end])\n",
    "            # println(a, \" Unable to find a satisfactory location\")\n",
    "            else\n",
    "                # Revert\n",
    "                move_location!(nh, a, original_location)\n",
    "            end\n",
    "        end\n",
    "    end\n",
    "end"
   ]
  },
  {
   "cell_type": "code",
   "execution_count": 42,
   "metadata": {},
   "outputs": [],
   "source": [
    "experiment4r = [run_simulation(Dict(\"Stars\"=>50, \"Circle\"=>50), neighborhood_size=4, preference=0.5) for i in 1:500];\n",
    "df4r = get_metric.(experiment4r) |> DataFrame\n",
    "rename!(df4r, [\"frac_happy\", \"has_converged\", \"num_cycles\", \"score\"]);"
   ]
  },
  {
   "cell_type": "code",
   "execution_count": 43,
   "metadata": {},
   "outputs": [
    {
     "data": {
      "text/html": [
       "<table class=\"data-frame\"><thead><tr><th></th><th>variable</th><th>mean</th><th>min</th><th>median</th><th>max</th><th>nunique</th><th>nmissing</th><th>eltype</th></tr><tr><th></th><th>Symbol</th><th>Float64</th><th>Real</th><th>Float64</th><th>Real</th><th>Nothing</th><th>Nothing</th><th>DataType</th></tr></thead><tbody><p>4 rows × 8 columns</p><tr><th>1</th><td>frac_happy</td><td>0.99264</td><td>0.96</td><td>1.0</td><td>1.0</td><td></td><td></td><td>Float64</td></tr><tr><th>2</th><td>has_converged</td><td>0.574</td><td>0</td><td>1.0</td><td>1</td><td></td><td></td><td>Bool</td></tr><tr><th>3</th><td>num_cycles</td><td>2.51</td><td>1</td><td>2.0</td><td>5</td><td></td><td></td><td>Int64</td></tr><tr><th>4</th><td>score</td><td>67.3659</td><td>35.7143</td><td>65.3537</td><td>102.286</td><td></td><td></td><td>Float64</td></tr></tbody></table>"
      ],
      "text/latex": [
       "\\begin{tabular}{r|cccccccc}\n",
       "\t& variable & mean & min & median & max & nunique & nmissing & eltype\\\\\n",
       "\t\\hline\n",
       "\t& Symbol & Float64 & Real & Float64 & Real & Nothing & Nothing & DataType\\\\\n",
       "\t\\hline\n",
       "\t1 & frac\\_happy & 0.99264 & 0.96 & 1.0 & 1.0 &  &  & Float64 \\\\\n",
       "\t2 & has\\_converged & 0.574 & 0 & 1.0 & 1 &  &  & Bool \\\\\n",
       "\t3 & num\\_cycles & 2.51 & 1 & 2.0 & 5 &  &  & Int64 \\\\\n",
       "\t4 & score & 67.3659 & 35.7143 & 65.3537 & 102.286 &  &  & Float64 \\\\\n",
       "\\end{tabular}\n"
      ],
      "text/plain": [
       "4×8 DataFrame. Omitted printing of 2 columns\n",
       "│ Row │ variable      │ mean    │ min     │ median  │ max     │ nunique │\n",
       "│     │ \u001b[90mSymbol\u001b[39m        │ \u001b[90mFloat64\u001b[39m │ \u001b[90mReal\u001b[39m    │ \u001b[90mFloat64\u001b[39m │ \u001b[90mReal\u001b[39m    │ \u001b[90mNothing\u001b[39m │\n",
       "├─────┼───────────────┼─────────┼─────────┼─────────┼─────────┼─────────┤\n",
       "│ 1   │ frac_happy    │ 0.99264 │ 0.96    │ 1.0     │ 1.0     │         │\n",
       "│ 2   │ has_converged │ 0.574   │ 0       │ 1.0     │ 1       │         │\n",
       "│ 3   │ num_cycles    │ 2.51    │ 1       │ 2.0     │ 5       │         │\n",
       "│ 4   │ score         │ 67.3659 │ 35.7143 │ 65.3537 │ 102.286 │         │"
      ]
     },
     "execution_count": 43,
     "metadata": {},
     "output_type": "execute_result"
    }
   ],
   "source": [
    "describe(df4r)"
   ]
  },
  {
   "cell_type": "code",
   "execution_count": 44,
   "metadata": {},
   "outputs": [],
   "source": [
    "experiment6r = [run_simulation(Dict(\"Stars\"=>20, \"Circle\"=>80), neighborhood_size=4, preference=0.5) for i in 1:500];\n",
    "df6r = get_metric.(experiment6r) |> DataFrame\n",
    "rename!(df6r, [\"frac_happy\", \"has_converged\", \"num_cycles\", \"score\"]);"
   ]
  },
  {
   "cell_type": "code",
   "execution_count": 45,
   "metadata": {},
   "outputs": [
    {
     "data": {
      "text/html": [
       "<table class=\"data-frame\"><thead><tr><th></th><th>variable</th><th>mean</th><th>min</th><th>median</th><th>max</th><th>nunique</th><th>nmissing</th><th>eltype</th></tr><tr><th></th><th>Symbol</th><th>Float64</th><th>Real</th><th>Float64</th><th>Real</th><th>Nothing</th><th>Nothing</th><th>DataType</th></tr></thead><tbody><p>4 rows × 8 columns</p><tr><th>1</th><td>frac_happy</td><td>0.99166</td><td>0.93</td><td>1.0</td><td>1.0</td><td></td><td></td><td>Float64</td></tr><tr><th>2</th><td>has_converged</td><td>0.668</td><td>0</td><td>1.0</td><td>1</td><td></td><td></td><td>Bool</td></tr><tr><th>3</th><td>num_cycles</td><td>2.582</td><td>1</td><td>3.0</td><td>5</td><td></td><td></td><td>Int64</td></tr><tr><th>4</th><td>score</td><td>26.4624</td><td>7.14286</td><td>28.5714</td><td>47.5272</td><td></td><td></td><td>Float64</td></tr></tbody></table>"
      ],
      "text/latex": [
       "\\begin{tabular}{r|cccccccc}\n",
       "\t& variable & mean & min & median & max & nunique & nmissing & eltype\\\\\n",
       "\t\\hline\n",
       "\t& Symbol & Float64 & Real & Float64 & Real & Nothing & Nothing & DataType\\\\\n",
       "\t\\hline\n",
       "\t1 & frac\\_happy & 0.99166 & 0.93 & 1.0 & 1.0 &  &  & Float64 \\\\\n",
       "\t2 & has\\_converged & 0.668 & 0 & 1.0 & 1 &  &  & Bool \\\\\n",
       "\t3 & num\\_cycles & 2.582 & 1 & 3.0 & 5 &  &  & Int64 \\\\\n",
       "\t4 & score & 26.4624 & 7.14286 & 28.5714 & 47.5272 &  &  & Float64 \\\\\n",
       "\\end{tabular}\n"
      ],
      "text/plain": [
       "4×8 DataFrame. Omitted printing of 2 columns\n",
       "│ Row │ variable      │ mean    │ min     │ median  │ max     │ nunique │\n",
       "│     │ \u001b[90mSymbol\u001b[39m        │ \u001b[90mFloat64\u001b[39m │ \u001b[90mReal\u001b[39m    │ \u001b[90mFloat64\u001b[39m │ \u001b[90mReal\u001b[39m    │ \u001b[90mNothing\u001b[39m │\n",
       "├─────┼───────────────┼─────────┼─────────┼─────────┼─────────┼─────────┤\n",
       "│ 1   │ frac_happy    │ 0.99166 │ 0.93    │ 1.0     │ 1.0     │         │\n",
       "│ 2   │ has_converged │ 0.668   │ 0       │ 1.0     │ 1       │         │\n",
       "│ 3   │ num_cycles    │ 2.582   │ 1       │ 3.0     │ 5       │         │\n",
       "│ 4   │ score         │ 26.4624 │ 7.14286 │ 28.5714 │ 47.5272 │         │"
      ]
     },
     "execution_count": 45,
     "metadata": {},
     "output_type": "execute_result"
    }
   ],
   "source": [
    "describe(df6r)"
   ]
  }
 ],
 "metadata": {
  "kernelspec": {
   "display_name": "Julia 1.4.1",
   "language": "julia",
   "name": "julia-1.4"
  },
  "language_info": {
   "file_extension": ".jl",
   "mimetype": "application/julia",
   "name": "julia",
   "version": "1.4.1"
  }
 },
 "nbformat": 4,
 "nbformat_minor": 2
}
